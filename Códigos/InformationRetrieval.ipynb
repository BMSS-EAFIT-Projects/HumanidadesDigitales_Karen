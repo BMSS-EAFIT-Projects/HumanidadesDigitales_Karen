{
 "cells": [
  {
   "cell_type": "code",
   "execution_count": 23,
   "id": "9ba40f72",
   "metadata": {},
   "outputs": [],
   "source": [
    "import pandas as pd\n",
    "import numpy as np\n",
    "import re\n",
    "import os\n",
    "import time\n",
    "from tqdm import tqdm\n",
    "from sklearn.metrics.pairwise import cosine_similarity\n",
    "from sentence_transformers import SentenceTransformer\n",
    "import nltk\n",
    "import faiss"
   ]
  },
  {
   "cell_type": "code",
   "execution_count": 22,
   "id": "30e6219b",
   "metadata": {},
   "outputs": [
    {
     "name": "stdout",
     "output_type": "stream",
     "text": [
      "Collecting faiss-cpu\n",
      "  Downloading faiss_cpu-1.11.0.post1-cp312-cp312-win_amd64.whl.metadata (5.1 kB)\n",
      "Requirement already satisfied: numpy<3.0,>=1.25.0 in c:\\users\\karen\\anaconda3\\lib\\site-packages (from faiss-cpu) (1.26.4)\n",
      "Requirement already satisfied: packaging in c:\\users\\karen\\anaconda3\\lib\\site-packages (from faiss-cpu) (24.1)\n",
      "Downloading faiss_cpu-1.11.0.post1-cp312-cp312-win_amd64.whl (14.9 MB)\n",
      "   ---------------------------------------- 0.0/14.9 MB ? eta -:--:--\n",
      "   ---------------------------------------- 0.0/14.9 MB ? eta -:--:--\n",
      "   --- ------------------------------------ 1.3/14.9 MB 5.6 MB/s eta 0:00:03\n",
      "   ----- ---------------------------------- 2.1/14.9 MB 5.9 MB/s eta 0:00:03\n",
      "   ------- -------------------------------- 2.9/14.9 MB 4.4 MB/s eta 0:00:03\n",
      "   --------- ------------------------------ 3.4/14.9 MB 4.0 MB/s eta 0:00:03\n",
      "   ---------- ----------------------------- 3.9/14.9 MB 3.6 MB/s eta 0:00:04\n",
      "   ----------- ---------------------------- 4.5/14.9 MB 3.3 MB/s eta 0:00:04\n",
      "   ------------- -------------------------- 5.0/14.9 MB 3.3 MB/s eta 0:00:03\n",
      "   --------------- ------------------------ 5.8/14.9 MB 3.3 MB/s eta 0:00:03\n",
      "   ---------------- ----------------------- 6.3/14.9 MB 3.2 MB/s eta 0:00:03\n",
      "   ------------------ --------------------- 6.8/14.9 MB 3.2 MB/s eta 0:00:03\n",
      "   ------------------- -------------------- 7.1/14.9 MB 3.2 MB/s eta 0:00:03\n",
      "   --------------------- ------------------ 7.9/14.9 MB 3.0 MB/s eta 0:00:03\n",
      "   --------------------- ------------------ 8.1/14.9 MB 2.9 MB/s eta 0:00:03\n",
      "   ----------------------- ---------------- 8.9/14.9 MB 3.0 MB/s eta 0:00:03\n",
      "   ------------------------ --------------- 9.2/14.9 MB 2.8 MB/s eta 0:00:03\n",
      "   -------------------------- ------------- 9.7/14.9 MB 2.9 MB/s eta 0:00:02\n",
      "   ---------------------------- ----------- 10.5/14.9 MB 2.8 MB/s eta 0:00:02\n",
      "   ----------------------------- ---------- 11.0/14.9 MB 2.8 MB/s eta 0:00:02\n",
      "   ------------------------------- -------- 11.5/14.9 MB 2.8 MB/s eta 0:00:02\n",
      "   -------------------------------- ------- 12.1/14.9 MB 2.8 MB/s eta 0:00:02\n",
      "   --------------------------------- ------ 12.6/14.9 MB 2.8 MB/s eta 0:00:01\n",
      "   ----------------------------------- ---- 13.1/14.9 MB 2.8 MB/s eta 0:00:01\n",
      "   ------------------------------------ --- 13.6/14.9 MB 2.8 MB/s eta 0:00:01\n",
      "   ------------------------------------- -- 13.9/14.9 MB 2.7 MB/s eta 0:00:01\n",
      "   -------------------------------------- - 14.4/14.9 MB 2.7 MB/s eta 0:00:01\n",
      "   ---------------------------------------- 14.9/14.9 MB 2.7 MB/s eta 0:00:00\n",
      "Installing collected packages: faiss-cpu\n",
      "Successfully installed faiss-cpu-1.11.0.post1\n"
     ]
    }
   ],
   "source": [
    "!pip install faiss-cpu"
   ]
  },
  {
   "cell_type": "code",
   "execution_count": 15,
   "id": "76f15843",
   "metadata": {},
   "outputs": [
    {
     "name": "stdout",
     "output_type": "stream",
     "text": [
      " El volumen de la unidad C es OS\n",
      " El n�mero de serie del volumen es: 14C8-5E4E\n",
      "\n",
      " Directorio de c:\\Users\\karen\\Documents\\HumanidadesDigitales_git\\C�digos\n",
      "\n",
      "11/08/2025  00:08    <DIR>          .\n",
      "09/08/2025  16:05    <DIR>          ..\n",
      "09/08/2025  15:59    <DIR>          archivos_txt\n",
      "09/08/2025  16:07        28.552.361 archivos_txt.zip\n",
      "28/07/2025  00:18        30.437.819 columnas_procesadas.json\n",
      "09/08/2025  15:58        21.306.801 Corpus_completo.xlsx\n",
      "11/08/2025  05:41             5.983 InformationRetrieval.ipynb\n",
      "28/07/2025  16:52           122.055 lda_visualization.html\n",
      "28/07/2025  01:52        20.545.144 probs_bert.json\n",
      "28/07/2025  01:52       197.568.767 topic_model.pkl\n",
      "09/08/2025  16:07           211.212 topic_modeling.ipynb\n",
      "28/07/2025  01:52           116.254 topics_bert.json\n",
      "               9 archivos    298.866.396 bytes\n",
      "               3 dirs  862.397.616.128 bytes libres\n"
     ]
    }
   ],
   "source": [
    "ls"
   ]
  },
  {
   "cell_type": "code",
   "execution_count": 25,
   "id": "6ff168ae",
   "metadata": {},
   "outputs": [],
   "source": [
    "file_path = \"Corpus_completo.xlsx\"\n",
    "corpus_completo = pd.read_excel(file_path)\n"
   ]
  },
  {
   "cell_type": "code",
   "execution_count": 26,
   "id": "0b79075e",
   "metadata": {},
   "outputs": [],
   "source": [
    "# Formatear fechas\n",
    "\n",
    "meses = {\n",
    "    'enero': '01',\n",
    "    'febrero': '02',\n",
    "    'marzo': '03',\n",
    "    'abril': '04',\n",
    "    'mayo': '05',\n",
    "    'junio': '06',\n",
    "    'julio': '07',\n",
    "    'agosto': '08',\n",
    "    'septiembre': '09',\n",
    "    'octubre': '10',\n",
    "    'noviembre': '11',\n",
    "    'diciembre': '12'\n",
    "}\n",
    "\n",
    "def convertir_fecha(fecha_str):\n",
    "    partes = fecha_str.split(' de ')\n",
    "    dia = partes[0].zfill(2)  # Asegura 2 dígitos para días 1-9\n",
    "    mes = meses[partes[1]]\n",
    "    año = partes[2]\n",
    "    return f\"{dia}/{mes}/{año}\"  # Formato DD/MM/AAAA\n",
    "\n",
    "corpus_completo['Fecha_formateada'] = corpus_completo['Fecha'].apply(convertir_fecha)\n",
    "corpus_completo['Fecha_formateada'] = pd.to_datetime(corpus_completo['Fecha_formateada'], format='%d/%m/%Y', errors='coerce')"
   ]
  },
  {
   "cell_type": "code",
   "execution_count": 32,
   "id": "176830fb",
   "metadata": {},
   "outputs": [],
   "source": [
    "# Generar embeddings de textos\n",
    "modelo_embedding = SentenceTransformer('sentence-transformers/paraphrase-multilingual-mpnet-base-v2')\n"
   ]
  },
  {
   "cell_type": "code",
   "execution_count": 47,
   "id": "00aefd27",
   "metadata": {},
   "outputs": [],
   "source": [
    "textos = corpus_completo['Texto'][:100].astype(str).tolist()  \n",
    "embeddings = modelo_embedding.encode(textos, convert_to_tensor=False).astype('float32')\n"
   ]
  },
  {
   "cell_type": "code",
   "execution_count": 45,
   "id": "532cd0f4",
   "metadata": {},
   "outputs": [
    {
     "data": {
      "text/plain": [
       "['La Coalición Colombia \\x96Partido Alianza Verde, Polo Democrático Alternativo y Compromiso Ciudadano- presentó por fin a Sergio Fajardo como su candidato único a la Presidencia.\\n\\nFajardo diagnostica a Colombia como un país fracturado, indignado por la corrupción, despistado por no tener una agenda de desarrollo clara luego del boom minero energético, y \\x93desambientado\\x94 en referencia al manejo de los recursos ambientales ( http://sergiofajardo.co/ ).\\n\\nPromete un liderazgo hacia la reconciliación, una lucha intensa contra la corrupción y mejor educación como mecanismo para el fomento de una sociedad innovadora y emprendedora que pueda usar eficientemente sus capacidades. Reconoce abiertamente que la desigualdad -a nivel de las personas y de las regiones- es un obstáculo grande para una Colombia incluyente.\\n\\nLa energía y el énfasis de sus presentaciones sobre su visión del país inspiran y al mismo tiempo lo exponen, en ciertas ocasiones, a críticas por no presentar los detalles. En su más reciente entrevista en RCN Radio se vio contra las cuerdas. Tuvo que enfrentar acusaciones por su aparente tibieza y dio respuestas evasivas, en especial cuando se le preguntó si existía un acuerdo esencial con Jorge Enrique Robledo sobre el tema económico.\\n\\nEsto no debe, sin embargo, generar confusiones que lleven a caricaturizar a Fajardo con los sofismas tan apreciados por los promotores de la propaganda política vacía. Fajardo y su coalición han lanzado ya varias propuestas prácticas que incluso se convierten en dardos afilados que hieren los intereses de diversos grupos. Fajardo se ha atrevido a correr el riesgo de asumir un posible costo electoral que pocos asumen.\\n\\nManifestó su respeto a los acuerdos con las Farc. Anunció que no promete disminuciones de impuestos. Dijo que propenderá por una Dian fortalecida, pero no con el fin de justificar la promesa floja de que con un eventual recaudo más eficiente en el futuro se valida desde ya un desmonte de la carga tributaria. Cuestionó la más reciente reforma tributaria y descalificó su aparente tinte estructural. La base programática de su coalición plantea que propondrán una estructura de impuestos más progresiva -que ponga a pagar más a quienes más tienen- y el desmonte general de beneficios tributarios. Fajardo ha dicho que así como en su momento la sociedad colombiana asumió el impuesto para financiar la guerra tendrá que pagar ahora el impuesto para financiar la educación. En materia ambiental, promete, por ejemplo, instaurar una moratoria en la explotación tipo fracking . Y frente al álgido tema pensional, se ha mostrado a favor del aumento de la edad de jubilación como parte de una futura reforma. Nada tibio diría yo.\\n\\nPor supuesto, a este plan le faltan no uno sino dos hervores. Y tendrá que hervir en medio del frenetismo del sprint presidencial . Tienen que conectar y aterrizar las ideas para que el programa de gobierno de la coalición no quede débil y fracturado.\\n\\nMucho trabajo por delante para que Fajardo pueda hilar todos los cabos que, de quedar sueltos, pueden enredarle el camino en la fase de los debates. Mucho trabajo pedagógico por delante para convencer a un electorado que, por cuenta de la polarización, está acostumbrado a ver las cosas muy en blanco y negro.\\n\\nProfesor asociado de Economía y director de Investigación de la Pontificia Universidad Javeriana ( http://www.javeriana.edu.co/blogs/gonzalohernandez/ )',\n",
       " 'Las interpretaciones de la historia sirven como herramientas políticas. Siempre ha habido quien comprenda que las ideas que circulen sobre el pasado son armas poderosas, pues llegan al fondo del alma de muchos, que terminan por tomarlas como parte de sus creencias fundamentales. Por ese camino los recuentos históricos se confunden con el ser nacional y entran a formar parte de los valores que es preciso defender, inclusive con la vida.\\n\\nEl uso, y el abuso, de estas armas, se encuentran en el origen de guerras, y también de resentimientos fáciles de construir y difíciles de erradicar. Muchos han llegado a morir, convencidos de una u otra verdad sobre el pasado de su nación. Otros han aceptado de boca para afuera cambios de interpretación, pero lo han hecho por pragmatismo, sin que ello aminore una sensación interior de dolor.\\n\\nGriegos y eslavos, que comparten el sur de los Balcanes, han tenido a lo largo de muchos años, primero a raíz del desmonte del Imperio Otomano, y más tarde como consecuencia del desastre de la disolución de Yugoslavia, motivos suficientes para disentir respecto de sus fronteras, y también de su pasado. Al tiempo que les atan lazos tan fuertes como la versión ortodoxa de la cristiandad, les separan lecturas diferentes de la geografía y de la historia.\\n\\nExiste en particular una región que, por su ubicación y sus características, ha sido desde siempre punto de convergencia, o de paso, al servicio del comercio, de los intereses militares, de las corrientes religiosas y culturales, y del poder político: la hoy Macedonia yugoslava. Una de esas partes del mundo en las que se demuestra que hay fronteras permeables, que no pueden ser inamovibles por el simple hecho de que a los políticos o a los negociadores les haya parecido que deben ser de una u otra forma. Allí donde la sociedad y los movimientos de la historia se han encargado de que nada sea definitivo.\\n\\nEn esa región se ha podido sentir que Europa no termina en la orilla del Bósforo, y que el Asia cruza el estrecho y se mete en Europa hasta encontrarse con los eslavos y los helenos en el corazón de los Balcanes. Allí, el invento de unión de los eslavos del sur, obra del Mariscal Tito, tuvo éxito por varias décadas y mantuvo el mapa sin modificaciones, habitado por dos millones de personas, de las cuales la mayoría son eslavos de diferente procedencia y el resto albaneses, turcos y gitanos.\\n\\nEl problema internacional surgió cuando, ante el colapso del orden yugoslavo, una de las repúblicas federadas se convirtió en estado aparte, con el nombre de Macedonia, denominación que coincide con la de la región griega limítrofe, que tiene costa sobre el Mediterráneo, salida al mar soñada por los vecinos del norte y que aloja a la segunda ciudad de Grecia, Tesaloniki, epicentro de la vida contemporánea de la Macedonia histórica de Alejandro Magno, heredero de Filipo, cuya capital se ubicaba a pocos kilómetros, a los pies del monte Olimpo.\\n\\nEn gracia de discusión, y solamente como respetuoso ejemplo ilustrativo, es como si una desmembración de Panamá, por decir algo desde el Oriente del canal hasta la frontera con Colombia, pasara a llamarse \\x93República del Chocó\\x94. Fenómeno que podría producir en Colombia justificada preocupación por el eventual reclamo posterior del territorio y de la costa de nuestro Departamento del Chocó, que consideramos parte esencial de nuestro territorio nacional.\\n\\nLos griegos sintieron el surgimiento de la nueva república como una afrenta mayor. Por ello exigieron desde un principio el abandono del nombre y, en su defecto, que al menos se adoptara por propios y extraños la denominación de FYROM, esto es \\x93Former Yugoslavian Republic of Macedonia\\x94. Solamente de esa manera la nueva república pudo ser admitida en las Naciones Unidas.\\n\\nEntre tanto, las autoridades de Skopje, capital de la flamante nueva república, produjeron interpretaciones de la historia que llevarían a la conclusión de una supuesta naturaleza eslava de Alejandro Magno. Para inocular sus argumentos en el ánimo ciudadano, denominaron cuantos lugares y obras pudieron con el nombre mágico del conquistador de medio mundo antiguo, y adornaron con sus estatuas numerosos lugares públicos. Todo a partir de que, en la Grecia antigua, existieron siempre diferencias entre las Polis y grupos del mundo panhelénico, que vivieron una larga experiencia de amistad y confrontación, siempre dentro de denominadores comunes.\\n\\nGrecia se dedicó ahora a bloquear los pasos de la Macedonia yugoslava en todos los escenarios, y ha logrado impedir su ingreso a la OTAN y a la Unión Europea.También puso en práctica una política de inversiones destinada a manejar los hilos de la economía de su vecina del norte. Todo esto, naturalmente sobre la base de su propia interpretación de la historia, que reclama la \\x93helenidad\\x94 de Filipo, y de Alejandro Magno, y de su maestro Aristóteles, que no tenían por supuesto nada de eslavos y evidentemente hablaban lenguas helénicas.\\n\\nLa aparente insolubilidad del problema encuentra una luz de esperanza, como suele suceder, por el camino del trato directo de personas de buena voluntad. Los protagonistas son el nuevo Primer Ministro de FYROM, Zoran Zaev, nótese el nombre no griego, y el alcalde de Tesaloniki, Yannis Butaris, un empresario sin partido tradicional, cuya madre, griega, nació en la aldea de Krusevo, en región eslava, y que llegó a la alcaldía, entre otros, bajo el lema de \\x93Nuestro pasado es nuestro futuro\\x94.\\n\\nZaev aterrizó en el Aeropuerto Macedonia, esto es el de Tesaloniki, la capital de la provincia griega de Macedonia, donde lo recibió Butaris. Ambos pasaron la velada de cambio de año en una taberna de la ciudad, en términos privados, pero cada uno tuvo el cuidado de expresar la voluntad de trabajar para que se modifiquen las posiciones radicales sobre los nombres y se fortalezca una cooperación que es siempre una alternativa mejor que la de la confrontación.\\n\\nDel lado griego, la decisión no depende, por supuesto, del alcalde de la segunda ciudad del país, sino del gobierno nacional. En Atenas el asunto será siempre a otro precio, pues nadie quiere pasar a la historia como culpable de haber cedido en una materia de honor nacional de tanta importancia cultural e histórica. Pero la avanzada de Butaris, y la necesidad de que la Macedonia eslava entre al redil de la OTAN y de la Unión Europea, en lugar de lanzarse a los brazos de la madre Rusia, puede jugar un papel importante en la búsqueda de un arreglo.\\n\\nPara ello existe ya en Atenas el antecedente de una propuesta del antiguo Primer Ministro Konstantinos Mitsotakis, padre del actual jefe de la oposición centrista, quien en su momento propuso que la vecina fuese reconocida como Macedonia del Norte. Expresión que, a juzgar por la actitud abierta de Zaev, podría ser la clave de arreglo de un problema que por ahora fracciona la región y obliga a Grecia y a su vecina a mantener abierto un frente de crisis que a ninguna le conviene.\\n\\nUn feliz nuevo año para los lectores de esta columna.',\n",
       " 'La semana pasada Mario Vargas Llosa publicó una columna titulada El nacionalismo en Cataluña en el diario peruano La República.\\n\\nEn ella sostiene que además de ser una « ideología ultrareaccionaria que crea ficciones para tergiversar la historia », el nacionalismo también es un acto de fé, opuesto a cualquier creencia en « la libertad, la democracia y la civilización ». En resumidas cuentas, y guardadas las proporciones, la visión que el escritor ofrece en su columna es muy similar a la que Oscar Wilde resumió en la sentencia « el patriotismo es la virtud de los viciosos » (o de los deprabados).\\n\\nLa columna, y de forma general, todos los pronunciamientos del Nobel desde que tuvo lugar el referendo independentista, buscan probar la insensatez del separatismo catalán. Su opinión, como la de muchos otros Españoles, Catalanes o la de todos aquellos que se oponen a cualquier atisbo de sentimiento nacional en los Estados europeos, merece respeto. El problema es que su ataque a los independentistas justifica el nacionalismo español, con lo cual su visión crítica de ese \\x91acto de fé\\x92 opuesto a la \\x91democracia\\x92 pierde cualquier vigencia.\\n\\nComo suelen sostenerlo otros críticos del independentismo, para Vargas Llosa todo el problema se concentra en el nacionalismo catalán sin darle la más mínima importancia a la constitución de la nación española o a los problemas inherentes a su articulación política y territorial. Por eso él y muchos otros presentan al independentismo como un exabrupto, sin imaginar que el Estado español reposa sobre una pluralidad de soberanías regionales que pueden entrar en colisión. En una nación plural como la española, esas colisiones, sumadas a la legitimidad política de las regiones, pueden transformarse en reivindicaciones separatistas. La responsabilidad del independentismo es compartida por España y los Catalanes, y no el fruto de un mero capricho de estos últimos, como pretende presentarlo el escritor.\\n\\nTodas las dictaduras, nos dice Vargas Llosa, sean de izquierda o de derecha, han pretendido justificarse en argumentos nacionalistas. Así lo ejemplifican los casos de Fidel Castro, Hugo Chavez, Pinochet o Fujimori, a quienes el escritor califica de tiranuelos que fueron populares gracias al patrioterismo de los himnos y las banderas, pero cuyos gobiernos crearon baños de sangre y de cadaveres mientras se dedicaban a robar a la población. La referencia a la izquierda y a la derecha latinoamericanas busca asimilar el nacionalismo de las dictaduras con el nacionalismo catalán de los independentistas de derecha y de izquierda. Pero una vez mas, la comparación carece de validez. Primero, porque ninguno de los latinoamericanos mencionados afrontó movimientos separatistas de envergadura. Segundo, porque hasta el sol de hoy los independentistas catalanes no han respaldado la independencia con vías de hecho. Al asimilar el nacionalismo catalán con las dictaduras latinoamericanas, Vargas Llosa deja entender que un Estado catalán independiente se apoyará en un baño de sangre y estará minado por la corrupción. Se trata, pues, de una asimilación tendenciosa.\\n\\nCataluña, sostiene Vargas Llosa, jamás fue una colonia de España, y en esto estoy de acuerdo con él. Pero los dominios americanos de España tampoco lo fueron, aunque el sostenga que sí. En el lenguaje de los independendistas americanos del siglo XIX y de los independentistas catalanes de la actualidad, la situación \\x91colonial\\x92 aparece como un corolario de la tiranía, es decir, del ejercicio ilegítimo del poder de una parte sobre el todo. Se trata de un uso retórico para legitimar la separación que resurge cada vez que una nueva nación justifica ante el mundo una existencia independiente, y que desde luego puede tergiversar la historia.\\n\\nPero cualquier nacionalismo, incluso el español, tergiversa la historia e institucionaliza una manera de entender el pasado colectivo. Este es un pequeño detalle que el escritor ignora deliberadamente, pues al terminar de leer su columna es evidente que su problema no es realmente con el « nacionalismo » en general, sino sólo con el nacionalismo de los independentistas catalanes.\\n\\nAddendum. Este año mi miscelánea anual no aparecerá por el número limitado de comentarios de mis columnas. Le deseo a todos mis lectores, a Don Fidel Cano, y a todo el equipo de El Espectador un prospero y feliz año 2018.',\n",
       " 'Pudiera decirse, sin ser una verdad absoluta, o ni siquiera relativa, que una acumulación de tiempo, de esa que añeja vinos y aja pieles, proporciona la certeza de no sentir miedos. Se llega a una edad en la que ya no es factible ser atemorizado ni por presidentes ni por gentes sin cargos. Por nadie. Es, si se desea, una etapa de libertad, sin desvíos hacia las zalamerías ni a las concesiones por conveniencia.\\n\\nEl tiempo y sus diversas medidas pueden graduar en tranquilidades y arrojar por la borda prejuicios y los espejismos de la moda. Si se ha aprovechado el transcurrir de las horas, se llega a saber. ¿Qué? Tal vez acerca de lo necesario y esencial. El tiempo puede curar contra lo suntuario y otorgar una manera de medir las cosas, en justa medida.\\n\\nEl capitalismo (¿distintos son los tiempos en otros modos de producción?) consagró el tiempo al oro, a la plusvalía, a la búsqueda desmesurada de riquezas materiales. Puso a los más desvalidos a trabajar de sol a sol. Y aún más. Creo los relojes, las mediciones, los ritmos. Tornó a muchos en arandela, en parte de una serie infinita de fabricación de mercancías Y, con su perfeccionamiento, convirtió oficios y profesiones, en los que en su origen había asomos de pensamiento e imaginación, en simples tuercas y tornillos de una cadena productiva.\\n\\nEl tiempo de las fábricas, distinto al de las huertas, al de las aulas, llevó en un momento de lucidez a la rebelión. A los alzamientos para limitar las horas de encierro entre máquinas, y exigir tiempos para el descanso y la reflexión. Los Tres Ochos de los mártires de Chicago, y de otros mártires y héroes en otras coordenadas, racionalizó los turnos laborales.\\n\\nEl tiempo de lo sagrado, de la ritual, de los mitos y las ceremonias deíficas, el tiempo litúrgico, es, ¡claro!, distinto al de la profana producción. La modernidad tiene, entre sus distinciones, la de convertir al sujeto en una distribución temporal, distinta a la del bíblico Eclesiastés. Cuando el trabajo no permite pensar, ni abre compuertas hacia la crítica y a la formulación de juicios, entonces es parte de una enajenación.\\n\\nCuando alguien (y, como dicen físicos, poetas y filósofos, todos estamos hechos de tiempo) distingue con propiedad el \\x93antes\\x94, el \\x93después\\x94 y el \\x93todavía\\x94, se acerca a una suerte de dominio de la temporalidad, de la conciencia de ser. Ha conquistado la gracia de vivir. A lo León Felipe, se ganó la luz como se gana el pan.\\n\\n¿Cuál es el tiempo de Proust y cuál el de Cervantes? ¿Cuál el de las muchachas que hace años trabajaban en las fábricas? ¿Existe acaso independiente del hombre? ¿Es un constructo? Cuando se habla de esa especie de quimera que es el tiempo, los poetas nos abren caminos inesperados para su comprensión o, al menos, para una elucubración. ¿Cómo es el tiempo de los sueños? ¿Y cómo el de las borracheras?\\n\\nAl hablar del tiempo es por lo menos una sugestión necesaria volver a Borges: \\x93El tiempo es la sustancia de que estoy hecho. El tiempo es un río que me arrebata, pero yo soy el río; es un tigre que me destroza, pero yo soy el tigre; es un fuego que me consume, pero yo soy el fuego. El mundo, desgraciadamente, es real; yo, desgraciadamente, soy Borges\\x94. O a un pedacito de vals argentino: \\x93¡Portal donde la luna se aburrió esperando, / cedrón por donde el tiempo se perfuma / y pasa!\\x94.\\n\\nEl tiempo, como la vida, puede ser solo una ilusión. O ser una línea constante (¿finita? ¿infinita?), con la que nos hemos acostumbrado a medir, y creemos que cambia a punta de calendarios. Cada fin de año, cada comienzo, retornan las reflexiones sobre qué es el tiempo, y entonces es ineludible pensar en San Agustín: \\x93Si nadie me lo pregunta, lo sé; si me lo preguntan y quiero explicarlo, ya no lo sé.\\x94\\n\\nEn todo caso, vivir puede ser un oficio. O, como lo advierte Homero Expósito: \\x93vivir es cambiar, en cualquier foto vieja lo verás\\x94. Una inquietante sospecha de Cesare Pavese advierte que quien no duerme nunca, no envejecerá. Era solo un deseo infantil. Dormidos, despiertos, el tiempo pasa. El hombre pasa.\\n\\nNo es ningún dogma. Pero se llega a un tiempo en el cual solo se quiere tomar vino y hablar con las estrellas. No hay miedos y lo que digan los políticos no solo es de fácil refutación, sino que poco importa. Y al final, a lo Proust, se viaja de otra manera, no para buscar nuevos paisajes, sino para mirar con nuevos ojos. Aunque la presbicia y las cataratas no lo permitan. ¡Feliz año!',\n",
       " 'Lo mejor del encierro de Las Ventas fueron los bueyes colorados, flacos, con cornamenta hindú y rebeldes. Se notaba que hacía mucho tiempo no los sacaban al ruedo y al no ponerse de acuerdo nos brindaron un espectáculo pintoresco que calentó la plaza, provocó carcajadas y aplausos. Corrían y daban vueltas a su antojo. El más pequeño se le encampanó a un monosabio goyesco, el de la vara, y casi se la arranca... Esto hubiera sido la cereza del pastel.\\n\\nLo que vimos fue una becerrada descastada. No entiendo cómo un maestro de la categoría de Manzanares atraviesa el Atlántico y admite en el sorteo ese novillo que a duras penas llegaba a los tres años. Sin que siquiera le hubieran bajado los testículos, por no pedir los huevos. Indignante. En su segundo, de nombre Pamplonico, novillo de 448 kilos, nos mostró derroche de sabiduría, temple, mando. Unos naturales arriesgados, el novillo ya le había avisado que ese no era su pitón preferido, y desafortunadamente lo atropelló, espero que sin mayores consecuencias. Valiente, siguió la lidia. No tuvo suerte en el estoque y perdió el triunfo. Cali merece ver a Manzanares con un toro de verdad, con edad, trapío y casta.\\n\\nCayetano en su primero, Muñeco, estuvo sensacional con el capote. Después no tuvo toro. Suelto, mansurrón, peligroso. Se arriesgó... pero \\x93lo que no puede ser no puede ser, y además es imposible\\x94. En su segundo, Previsivo, también nos regaló lindas verónicas y con la muleta, valiente y porfiado, logró sacarle pases, uno a uno, al no toro. Obligándolo. Arriesgando. Música, una buena estocada y una oreja, que han debido ser dos. Bien por Cayetano. Bien por Curro Vázquez, su apoderado, que lo lleva por buen camino.\\n\\nValencia, después de seis años de novillero, al fin tomó la alternativa. Su primero fue el más pesado del lote, con 484 kilos, que derribó al caballo. Lances de muleta en los medios, al estilo Castella y con el mejor ejemplar de la mansada, logró pases corticos, mostrando ganas y valor. Muy certero con el estoque. El público, emocionado y con fervor patriótico desmesurado y folclórico, exigió dos orejas, que la presidencia le otorgó, tal vez contagiada de patria. Enorme error fue, puede perjudicar a este joven que se inicia como matador. Pero eso es Cali. Aplausos al toro.\\n\\nPundonoroso, César Rincón no puso la edad de los novillos. Sabía que la afición no se iba a tragar el cuento. Por lo menos se le abona el gesto.\\n\\nTarde que no tenía por qué \\x93mamarse\\x94 Cañaveralejo. Una veintiochada burda. Una novillada anunciada como corrida. Lidiadores de primera, desperdiciados. ¡Menos mal que no llovió!\\n\\nEl 29, el esperado mano a mano entre Enrique Ponce y Roca Rey. Dicen los sabios que los toros de las Ventas tienen edad, trapío y bravura. Prefiero creerlo. Otra decepción como la del 28 sería muy triste.\\n\\nCayetano y Manzanares en sus segundos, Valencia en su debut y los bueyes rebeldes valieron la tarde. Lo demás, ¡para olvidar!']"
      ]
     },
     "execution_count": 45,
     "metadata": {},
     "output_type": "execute_result"
    }
   ],
   "source": [
    "textos[:5]"
   ]
  },
  {
   "cell_type": "code",
   "execution_count": 48,
   "id": "38db8294",
   "metadata": {},
   "outputs": [],
   "source": [
    "# Crear índice FAISS\n",
    "indice = faiss.IndexFlatL2(embeddings.shape[1])\n",
    "indice.add(embeddings)"
   ]
  },
  {
   "cell_type": "code",
   "execution_count": 57,
   "id": "a62f9f95",
   "metadata": {},
   "outputs": [],
   "source": [
    "# Buscar texto similar a una consulta\n",
    "consulta = \"ciencia  y astronomía\"\n",
    "embedding_consulta = modelo_embedding.encode([consulta], convert_to_tensor=False).astype('float32')\n",
    "distancias, indices = indice.search(embedding_consulta, k=5)"
   ]
  },
  {
   "cell_type": "code",
   "execution_count": 58,
   "id": "808f361a",
   "metadata": {},
   "outputs": [
    {
     "data": {
      "text/plain": [
       "array([[8.151764, 8.541235, 8.653584, 9.070438, 9.205504]], dtype=float32)"
      ]
     },
     "execution_count": 58,
     "metadata": {},
     "output_type": "execute_result"
    }
   ],
   "source": [
    "distancias"
   ]
  },
  {
   "cell_type": "code",
   "execution_count": 55,
   "id": "72b5c5dd",
   "metadata": {},
   "outputs": [
    {
     "data": {
      "text/plain": [
       "array([49, 43, 84, 34, 36], dtype=int64)"
      ]
     },
     "execution_count": 55,
     "metadata": {},
     "output_type": "execute_result"
    }
   ],
   "source": [
    "indices[0]  # Índices de los textos más similares"
   ]
  },
  {
   "cell_type": "code",
   "execution_count": 59,
   "id": "fa625e19",
   "metadata": {},
   "outputs": [
    {
     "name": "stdout",
     "output_type": "stream",
     "text": [
      "Textos más similares:\n",
      "Índice: 34\n",
      "Texto:Luego del espirituoso período del cambio de año, se avecina el desierto. El puente festivo de Reyes será la última ocasión para dorar las pieles. Siguen dos meses opacos durante los cuales la política azotará como monotema. Ni un fin de semana alargado más, ninguna golosina.\n",
      "\n",
      "Como consolación para bobos, el calendario gregoriano previó que uno de esos dos meses fuera febrero, raquítico lapso de 28 días. Su brío no alcanza siquiera a completar la cifra reglamentaria. Sus cuatro semanas a duras penas coronan la aritmética del siete por cuatro.\n",
      "\n",
      "La estación final de este aburrimiento bimestral serán las elecciones del 11 de marzo, que dos semanas más tarde harán naufragar el ánimo bajo el manto morado de la semana santa.\n",
      "\n",
      "Así las cosas, a preparar los oídos para la mojiganga de los candidatos. Ninguno de ellos admitirá su rencor contra la paz, pues sus asesores de discursos ignoran cómo desconocer los tres mil muertos que hoy nadie llora porque gozan de salud nunca antes proyectada.\n",
      "\n",
      "Ni siquiera los que acuñaron la palabra del año, ´trizas´, la volverán a mentar. Están muy frescas las crónicas sobre los viajes turísticos al antiguo fortín de Caño Cristales o al cañón del río Duda con sus campamentos guerrilleros hechos esqueleto por la hierba. ¿Quién desconocería el cambio de 180 grados en la seguridad de estos vergeles?\n",
      "\n",
      "Los aspirantes a los cargos con $30 y más millones mensuales no arriesgarán sus contratos y puestos con los que aseguran una clientela de votantes vitalicios. Se comerán sus palabras de tiempos furiosos, fabricarán otros odios con tal de no dejar ir su buen compañero que es el miedo en el ambiente.\n",
      "\n",
      "Esta será la sed general durante los dos meses inminentes. El paso de desierto luego del vaporoso fin de año. Es preciso entonces atesorar la energía bebida en mares, montañas, praderas y ríos durante estas vacaciones cuando trabajar es un imposible físico-químico.\n",
      "\n",
      "Todo sabemos que habrá vida después de esta muerte. Que los cien años que sí duró el mal de las matanzas tuvieron que ser resistidos, no por un cuerpo aislado, sino por varias generaciones de víctimas que por fin tendrán su cuarto de hora. Que por más mafia incrustada en el nuevo Congreso, los días de la laceración están contados.\n",
      "\n",
      "Los dos meses ásperos que vienen después de los Reyes Magos serán la agonía de la bestia. La veremos estremecerse, utilizar los tamales, aguardiente y tejas de toda la vida. Pero esta tragedia será la comedia ante la que reirán las recientes cosechas de colombianos.\n",
      "\n",
      "No hay que perderse de este funeral. Por supuesto que los ganadores pensarán que triunfaron. Sin embargo a continuación temblarán sin explicarse de dónde sale esa maleza con espinas que amenaza con atarzanarles el cuello.\n",
      "\n",
      "Esta es una verdad que no se vierte en encuestas ni en los análisis de tantos politólogos acostumbrados a predecir con acierto los hechos que ya sucedieron. Es, por el contrario, un convencimiento enraizado en la más peligrosa de las pasiones, el deseo.\n",
      "\n",
      "[ ]\n",
      "Índice: 22\n",
      "Texto:Las celebraciones de año nuevo traen consigo un gran tinte de superstición. Están los que comen 12 uvas pidiendo un deseo por cada una, quienes pasean con maletas a media noche esperando viajar el resto del año, o quienes usan ropa interior amarilla esperando tener prosperidad. Durante estas fechas se hacen aún más populares los horóscopos pues son muchos los que quieren saber qué les augura el próximo año y qué tanto pueden intervenir en su suerte. Pero ¿cómo podemos pensar la astrología y su divulgación en los medios de comunicación después de un año que se caracterizó por denunciar las noticias falsas o pseudonoticias?\n",
      "\n",
      "El horóscopo, aunque suene extraño, es una de las secciones más leídas de la prensa escrita, si no la más. Son miles quienes quieren saber de qué manera los planetas se interponen o alinean en sus asuntos. Pero la proliferación de internet ha hecho que se haga uso de la astrología para pensar cualquier tipo de tema como, por ejemplo, la belleza, educación o manejo de estrés. Se ha denunciado además que noticias periodísticas citan a astrólogos famosos para informar o aconsejar a sus lectores. Pero, ¿qué tanta verdad hay en lo que dice el horóscopo? ¿Se podría hablar de esta pseudociencia como una noticia falsa?\n",
      "\n",
      "Aunque estas preguntas son difíciles de responder, lo cierto es que el horóscopo nos ayuda a pensar los límites de la razón y la forma como actúa la creencia en los seres humanos. Como lo afirma un artículo del NYTimes , no se tiene que realmente creer en la astrología para tomársela medianamente en serio. Por otro lado, los últimos estudios sobre fake news en EE.UU. muestran dos cosas. Primero, que no se leen tanto como creíamos, así que el asunto, aunque serio, no es de muerte, y dos, lo que ya sabemos: creemos lo que queremos creer.\n",
      "\n",
      "No se trata entonces de que las noticias falsas nos confundan, sino de que tenemos una predisposición a amañar el mundo para que se adapte a nuestro estado de ánimo, nuestras esperanzas y nuestras creencias. Vemos lo que queremos ver. Si nos toca una noticia falsa, bien, si nos toca una noticia real, bien también. Nada sugiere que el horóscopo sea cierto. Pocos en realidad se lo toman muy en enserio. Pero cada quien se lo toma algo en serio, según le convenga, para afirmarse o tranquilizarse o pensar que no todo está perdido. Y mientras tanto, los escritores de horóscopos siguen siendo de los mejores pagos en los medios de comunicación.\n",
      "Índice: 49\n",
      "Texto:La economía terminó el año dentro de la tendencia decreciente de los últimos tres años y medio. Las reticencias de las autoridades económicas a modificar los factores que causaron el retroceso no permiten esperar un cambio substancial. El país está abocado a crecer por debajo del producto mundial y de la tendencia histórica para sostener una concepción y un modelo que no ha operado adecuadamente en la mayor parte del mundo.\n",
      "\n",
      "La economía no revela síntomas de mejoría. La industria, la minería, la construcción y el comercio registran índices negativos; la agricultura es el único sector que muestra alguna recuperación, impulsado por las políticas de protección del anterior ministro. La desocupación se acentúa en forma acelerada y el empleo desciende con respecto al año anterior. El sector externo no ha logrado superar la revaluación de 10 años y la caída de los precios del petróleo.\n",
      "\n",
      "La caída persistente de Colombia en los últimos tres años no ha sido asimilada en los análisis y decisiones de los organismos nacionales e internacionales. Sin entrar a precisar los fracasos reiterados de las predicciones, confían en que en algún momento los desaciertos se corregirán por la ley del azar. La explicación está en la ineficacia del Banco de la República para mantener el balance entre el producto nacional y el gasto, y de la política en conjunto para mantener el balance de las cuentas externas. La baja de la tasa de interés de referencia no ha conseguido reducir la tasa del crédito y aumentar el volumen. La reducción de las importaciones no ha tenido una respuesta en la producción ni en las exportaciones; el ajuste se ha logrado mediante la contracción generalizada de la economía.\n",
      "\n",
      "La estructura descrita no se corrige sola. El principal obstáculo está en que quienes conformaron el Banco de la República y el libre comercio son los mismos llamados a corregir las deficiencias. Sus esfuerzos se concentran en salvar el modelo del naufragio. Lo grave es que desorientan a la opinión pública diciendo que no hay un camino distinto al de la ortodoxia.\n",
      "\n",
      "No advierten que los países desarrollados abandonaron el banco central autónomo hace mucho tiempo. Cuando le Reserva Federal y el Banco Central Europeo entendieron que las tasas mundiales de cero impedían el funcionamiento de los bancos centrales, acudieron al relajamiento cuantitativo, que no es otra cosa que la ampliación del déficit fiscal financiado con emisión monetaria. Y más, no ahorran esfuerzos para mejorar su posición externa por medio de los tipos de cambio, el desmonte a la tributación a las empresas y los TLC para desmembrar los productos.\n",
      "\n",
      "La economía ha llegado al punto de menor resistencia del modelo de autonomía del Banco de la República, austeridad fiscal y libre comercio. La economía opera con exceso de ahorro, déficit en cuenta corriente y déficit fiscal de 3,7 % del PIB, y crecimiento de la producción de 1,5 % y el empleo de cero. La política monetaria es ineficaz para reducir el exceso de ahorro y la política fiscal es limitada por el déficit en cuenta corriente, que es estructuralmente inamovible. De mantenerse esta estructura, el país quedaría expuesto durante otros seis años a tasas de crecimiento menores o cercanas al 2 %, con deterioro en la distribución del ingreso, lo que significaría un serio retroceso social. Quiérase o no, el país dispone de un plazo corto para modificar el modelo que le genera el estancamiento más largo del siglo. Como mínimo, se plantea adoptar un banco central que se coordine con el sistema fiscal, al igual que un marco de protección comercial, competitividad externa y política industrial que permita avanzar en una estructura productiva de mayor complejidad y demanda externa y configurar un superávit en cuenta corriente sin deprimir el salario.\n",
      "Índice: 57\n",
      "Texto:Añejas agoreras,\n",
      "\n",
      "Soy una enferma por el futuro y me gustaría que ustedes froten su bola de cristal y nos pronostiquen lo que pasará este año. ¿Es cierto que el calentamiento global (verdad, ¿y por qué llaman calentamiento a este frío tan berraco?) llegará al extremo de que les digamos lanudos a los costeños?\n",
      "\n",
      "Atentamente,\n",
      "\n",
      "Sibila de Tarot\n",
      "\n",
      "***\n",
      "\n",
      "Querida pitonisa,\n",
      "\n",
      "Por su letra vemos que en ortografía no adivina media. Nuestra bola de cristal está en el taller y no hemos podido conseguir el repuesto porque es de las antiguas de tubos. Pero aquí van las prediciones pa este año:\n",
      "\n",
      "-Con el regreso de la materia de Historia a los colegios, María Fernanda Cabal renuncia a la política y se mete de profesora.\n",
      "\n",
      "-Amparo Grisales apoya que se suba la edá de jubilación.\n",
      "\n",
      "-Cuando el candidato Iván Duque dice Mi vida es un libro abierto, Ordóñez se lo quema.\n",
      "\n",
      "-En Colombia comienzan a falsificar bitcoins ... Los hacen igualiticos.\n",
      "\n",
      "-Israel demanda a Palestina por abuso de confianza.\n",
      "\n",
      "-La tortilla se voltea y los hombres denuncian el acoso de las mujeres. El reputao periodista Juan Gossaín destapa que cuando Tola y Maruja trabajaron con él, le insinuaron que les mostrara el micrófono.\n",
      "\n",
      "-El Congreso de Estados Unidos aprueba privatizar el lanzamiento de la bomba tómica y ganan la licitación un hijo de Putin y el yerno de Tron.\n",
      "\n",
      "-Los tribunales dan vía libre a la revocatoria de Peñalosa cuando ya pa qué.\n",
      "\n",
      "-Fujimori hace gira internacional con su conferencia El poder curativo del indulto.\n",
      "\n",
      "-Los venezolanos muestran su sentido del humor y reeligen a Maduro.\n",
      "\n",
      "-La bancada cristiana del Congreso propone que las EPS ofrezcan misas de sanación.\n",
      "\n",
      "-Todas las fórmulas presidenciales ponen una mujer de vice: Duque-Martica, Fajardo-Claudia, De la Calle-Clara, Tirochenko -Imelda, Vargas Lleras-Viviane, Ordóñez-Madre Laura...\n",
      "\n",
      "-Pa evitar renuncias futuras, el candidato presidencial Petro se pone también él mismo de su fórmula vicepresidencial.\n",
      "\n",
      "-El presidente Fajardo se posesiona de bluyines y sin correa y su primera medida es prohibir que lo traten de doctor y que mejor le digan excelentísimo parce.\n",
      "\n",
      "-Un misil nuclear le estalla en las manos a Kim Jong-un. Santo remedio.\n",
      "\n",
      "-Los robots se apoderan de los empleos del mundo y todo marcha sobre ruedas hasta que se sindicalizan y protestan. La policía pierde su tiempo disparándoles agua, gases y bala.\n",
      "\n",
      "-Los líderes sociales de Colombia empiezan a vestir faldas pa que no los reconozcan.\n",
      "\n",
      "-Antes de entregar el cargo Santos viaja a recibir el Premio Guines al mandatario que sale con más baja popularidá. En la ceremonia lo abuchean.\n",
      "\n",
      "-Colombia juega la final del Mundial contra Rusia... Y vamos ganando, hasta que a Edwin Cardona le da por bailar casachó.\n",
      "\n",
      "-Revienta un escándalo nacional pior que Odebré, pero no lo decimos pa no interferir la investigación... de los gringos\n",
      "\n",
      "-Y una noticia muy galleta pa los niños de Colombia: los hermanos Rausch ganan la licitación del Programa de Alimentación Escolar.\n",
      "\n",
      "Tus tías que te quieren,\n",
      "\n",
      "Tola y Maruja\n",
      "\n",
      "Posdata: Quizque Uribe descoge sus candidatos con el método Tin marín de do pingüé, cúcara mácara....\n",
      "\n",
      "Payola: ¿A usté por qué le dicen Chucky?, le preguntan Tola y Maruja a Santos en su nuevo libro Sin agüeros, al pelo para vacaciones.\n",
      "Índice: 84\n",
      "Texto:Las ideas son vendedoras y pueden tener buenas intenciones, pero son, en últimas, paños de agua tibia que terminan depositando toda la responsabilidad en el instrumento y eximen al contexto.\n",
      "\n",
      "Dejar de ver noticieros de televisión o limitar el uso de redes sociales teniendo en cuenta la edad, como se ventila estos días, son recomendaciones que no obstante su tono de procuración, evaden el problema de fondo, aplazan el debate y búsqueda de soluciones, y además caen en el tono maniqueo que pretenden combatir.\n",
      "\n",
      "Aceptado el presupuesto de la pauperización de la información televisiva y la contaminación de contenidos que pasan por medios sociales digitales, no es coherente tratarlos como parias, y menos con el pretexto de la salud mental de los usuarios: primero porque son apenas caja de resonancia de problemas endémicos; segundo, porque no es justo generalizar con periodistas e informativos que tratan de hacer bien la tarea, y tercero, porque el tono prohibicionista suscita mayor interés.\n",
      "\n",
      "La acogida de la información audiovisual y digital amerita estrategias que involucren la participación de los usuarios, que conozcan sus prácticas, que interpelen a quienes producen información y que redunden en un incremento paulatino de la calidad de los contenidos, lejos de señalamientos moralistas y victimizaciones que reducen espacio a la reflexión.\n",
      "\n",
      "Redes y noticieros no forman parte de otro mundo o de realidades paralelas, sino del mismo y único que habitamos y que bien o mal representan. Por eso, como proponen autoridades y expertos ingleses, urge mejorar las competencias de seguridad, uso y comprensión de los medios desde edad temprana, a través de la denominada alfabetización especial con asiento en los currículos escolares y refuerzo en los hogares.\n",
      "\n",
      "No se trata de mirar, ni se puede, hacia otro lado. Esos medios están ahí y su presencia crece. Se requieren audiencias formadas, críticas y exigentes que en vez de huir en estampida tomen al toro por las astas.\n",
      "\n",
      "www.mariomorales.info y @marioemorales\n"
     ]
    }
   ],
   "source": [
    "#Resultados\n",
    "print(\"Textos más similares:\")\n",
    "for idx in indices[0]:\n",
    "    print(f\"Índice: {idx}\")\n",
    "    print(\"Texto:\" + textos[idx])\n"
   ]
  }
 ],
 "metadata": {
  "kernelspec": {
   "display_name": "base",
   "language": "python",
   "name": "python3"
  },
  "language_info": {
   "codemirror_mode": {
    "name": "ipython",
    "version": 3
   },
   "file_extension": ".py",
   "mimetype": "text/x-python",
   "name": "python",
   "nbconvert_exporter": "python",
   "pygments_lexer": "ipython3",
   "version": "3.12.7"
  }
 },
 "nbformat": 4,
 "nbformat_minor": 5
}
