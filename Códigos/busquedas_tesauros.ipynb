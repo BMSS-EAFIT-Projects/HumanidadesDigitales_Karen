{
 "cells": [
  {
   "cell_type": "markdown",
   "id": "2ea0e7d0",
   "metadata": {},
   "source": [
    "Pruebas sobre el dataset "
   ]
  },
  {
   "cell_type": "code",
   "execution_count": 26,
   "id": "a8997d13",
   "metadata": {},
   "outputs": [
    {
     "name": "stdout",
     "output_type": "stream",
     "text": [
      "Note: you may need to restart the kernel to use updated packages.\n"
     ]
    },
    {
     "name": "stderr",
     "output_type": "stream",
     "text": [
      "  error: subprocess-exited-with-error\n",
      "  \n",
      "  × Building wheel for annoy (pyproject.toml) did not run successfully.\n",
      "  │ exit code: 1\n",
      "  ╰─> [12 lines of output]\n",
      "      C:\\Users\\karen\\AppData\\Local\\Temp\\pip-build-env-xvucecg6\\overlay\\Lib\\site-packages\\setuptools\\_distutils\\dist.py:289: UserWarning: Unknown distribution option: 'tests_require'\n",
      "        warnings.warn(msg)\n",
      "      running bdist_wheel\n",
      "      running build\n",
      "      running build_py\n",
      "      creating build\\lib.win-amd64-cpython-312\\annoy\n",
      "      copying annoy\\__init__.py -> build\\lib.win-amd64-cpython-312\\annoy\n",
      "      copying annoy\\__init__.pyi -> build\\lib.win-amd64-cpython-312\\annoy\n",
      "      copying annoy\\py.typed -> build\\lib.win-amd64-cpython-312\\annoy\n",
      "      running build_ext\n",
      "      building 'annoy.annoylib' extension\n",
      "      error: Microsoft Visual C++ 14.0 or greater is required. Get it with \"Microsoft C++ Build Tools\": https://visualstudio.microsoft.com/visual-cpp-build-tools/\n",
      "      [end of output]\n",
      "  \n",
      "  note: This error originates from a subprocess, and is likely not a problem with pip.\n",
      "  ERROR: Failed building wheel for annoy\n",
      "ERROR: ERROR: Failed to build installable wheels for some pyproject.toml based projects (annoy)\n"
     ]
    }
   ],
   "source": [
    "%pip install --use-pep517 neofuzz --quiet\n",
    "#%pip install neofuzz --quiet"
   ]
  },
  {
   "cell_type": "code",
   "execution_count": 24,
   "id": "95b4da7a",
   "metadata": {},
   "outputs": [],
   "source": [
    "import pandas as pd"
   ]
  },
  {
   "cell_type": "markdown",
   "id": "9b3126d4",
   "metadata": {},
   "source": [
    "# Cargar Corpus y formatear fechas"
   ]
  },
  {
   "cell_type": "code",
   "execution_count": 9,
   "id": "256a0b3b",
   "metadata": {},
   "outputs": [
    {
     "data": {
      "text/html": [
       "<div>\n",
       "<style scoped>\n",
       "    .dataframe tbody tr th:only-of-type {\n",
       "        vertical-align: middle;\n",
       "    }\n",
       "\n",
       "    .dataframe tbody tr th {\n",
       "        vertical-align: top;\n",
       "    }\n",
       "\n",
       "    .dataframe thead th {\n",
       "        text-align: right;\n",
       "    }\n",
       "</style>\n",
       "<table border=\"1\" class=\"dataframe\">\n",
       "  <thead>\n",
       "    <tr style=\"text-align: right;\">\n",
       "      <th></th>\n",
       "      <th>Diario</th>\n",
       "      <th>Autor</th>\n",
       "      <th>Fecha</th>\n",
       "      <th>Título</th>\n",
       "      <th>Texto</th>\n",
       "      <th>Vínculo</th>\n",
       "      <th>ID</th>\n",
       "    </tr>\n",
       "  </thead>\n",
       "  <tbody>\n",
       "    <tr>\n",
       "      <th>0</th>\n",
       "      <td>El Espectador</td>\n",
       "      <td>Gonzalo Hernández</td>\n",
       "      <td>1 de enero de 2018</td>\n",
       "      <td>Fajardo: para nada tibio</td>\n",
       "      <td>La Coalición Colombia –Partido Alianza Verde, ...</td>\n",
       "      <td>https://web.archive.org/web/20180102104221/htt...</td>\n",
       "      <td>1</td>\n",
       "    </tr>\n",
       "    <tr>\n",
       "      <th>1</th>\n",
       "      <td>El Espectador</td>\n",
       "      <td>Eduardo Barajas Sandoval</td>\n",
       "      <td>1 de enero de 2018</td>\n",
       "      <td>Macedonia de Norte</td>\n",
       "      <td>Las interpretaciones de la historia sirven com...</td>\n",
       "      <td>https://web.archive.org/web/20180102104221/htt...</td>\n",
       "      <td>2</td>\n",
       "    </tr>\n",
       "    <tr>\n",
       "      <th>2</th>\n",
       "      <td>El Espectador</td>\n",
       "      <td>Daniel Emilio Rojas Castro</td>\n",
       "      <td>1 de enero de 2018</td>\n",
       "      <td>El nacionalismo según Vargas Llosa</td>\n",
       "      <td>La semana pasada Mario Vargas Llosa publicó un...</td>\n",
       "      <td>https://web.archive.org/web/20180102104221/htt...</td>\n",
       "      <td>3</td>\n",
       "    </tr>\n",
       "    <tr>\n",
       "      <th>3</th>\n",
       "      <td>El Espectador</td>\n",
       "      <td>Reinaldo Spitaletta</td>\n",
       "      <td>1 de enero de 2018</td>\n",
       "      <td>Tiempo sagrado, tiempo profano</td>\n",
       "      <td>Pudiera decirse, sin ser una verdad absoluta, ...</td>\n",
       "      <td>https://web.archive.org/web/20180102104221/htt...</td>\n",
       "      <td>4</td>\n",
       "    </tr>\n",
       "    <tr>\n",
       "      <th>4</th>\n",
       "      <td>El Espectador</td>\n",
       "      <td>Aura Lucía Mera</td>\n",
       "      <td>1 de enero de 2018</td>\n",
       "      <td>La rebelión de los bueyes</td>\n",
       "      <td>Lo mejor del encierro de Las Ventas fueron los...</td>\n",
       "      <td>https://web.archive.org/web/20180102104221/htt...</td>\n",
       "      <td>5</td>\n",
       "    </tr>\n",
       "  </tbody>\n",
       "</table>\n",
       "</div>"
      ],
      "text/plain": [
       "          Diario                       Autor               Fecha  \\\n",
       "0  El Espectador           Gonzalo Hernández  1 de enero de 2018   \n",
       "1  El Espectador    Eduardo Barajas Sandoval  1 de enero de 2018   \n",
       "2  El Espectador  Daniel Emilio Rojas Castro  1 de enero de 2018   \n",
       "3  El Espectador         Reinaldo Spitaletta  1 de enero de 2018   \n",
       "4  El Espectador             Aura Lucía Mera  1 de enero de 2018   \n",
       "\n",
       "                               Título  \\\n",
       "0            Fajardo: para nada tibio   \n",
       "1                  Macedonia de Norte   \n",
       "2  El nacionalismo según Vargas Llosa   \n",
       "3      Tiempo sagrado, tiempo profano   \n",
       "4           La rebelión de los bueyes   \n",
       "\n",
       "                                               Texto  \\\n",
       "0  La Coalición Colombia –Partido Alianza Verde, ...   \n",
       "1  Las interpretaciones de la historia sirven com...   \n",
       "2  La semana pasada Mario Vargas Llosa publicó un...   \n",
       "3  Pudiera decirse, sin ser una verdad absoluta, ...   \n",
       "4  Lo mejor del encierro de Las Ventas fueron los...   \n",
       "\n",
       "                                             Vínculo  ID  \n",
       "0  https://web.archive.org/web/20180102104221/htt...   1  \n",
       "1  https://web.archive.org/web/20180102104221/htt...   2  \n",
       "2  https://web.archive.org/web/20180102104221/htt...   3  \n",
       "3  https://web.archive.org/web/20180102104221/htt...   4  \n",
       "4  https://web.archive.org/web/20180102104221/htt...   5  "
      ]
     },
     "execution_count": 9,
     "metadata": {},
     "output_type": "execute_result"
    }
   ],
   "source": [
    "file_path = r\"C:\\Users\\karen\\Documents\\HumanidadesDigitales_git\\BDD_Corpus\\Corpus_completo_revisado.xlsx\"\n",
    "corpus_completo = pd.read_excel(file_path)\n",
    "\n",
    "corpus_completo.head()"
   ]
  },
  {
   "cell_type": "code",
   "execution_count": 10,
   "id": "96be4a72",
   "metadata": {},
   "outputs": [],
   "source": [
    "# Formatear fechas\n",
    "\n",
    "meses = {\n",
    "    'enero': '01',\n",
    "    'febrero': '02',\n",
    "    'marzo': '03',\n",
    "    'abril': '04',\n",
    "    'mayo': '05',\n",
    "    'junio': '06',\n",
    "    'julio': '07',\n",
    "    'agosto': '08',\n",
    "    'septiembre': '09',\n",
    "    'octubre': '10',\n",
    "    'noviembre': '11',\n",
    "    'diciembre': '12'\n",
    "}\n",
    "\n",
    "def convertir_fecha(fecha_str):\n",
    "    partes = fecha_str.split(' de ')\n",
    "    dia = partes[0].zfill(2)  # Asegura 2 dígitos para días 1-9\n",
    "    mes = meses[partes[1]]\n",
    "    año = partes[2]\n",
    "    return f\"{dia}/{mes}/{año}\"  # Formato DD/MM/AAAA\n",
    "\n",
    "corpus_completo['Fecha'] = corpus_completo['Fecha'].apply(convertir_fecha)\n",
    "corpus_completo['Fecha'] = pd.to_datetime(corpus_completo['Fecha'], format='%d/%m/%Y', errors='coerce')"
   ]
  },
  {
   "cell_type": "code",
   "execution_count": 7,
   "id": "aab4959b",
   "metadata": {},
   "outputs": [
    {
     "data": {
      "text/html": [
       "<div>\n",
       "<style scoped>\n",
       "    .dataframe tbody tr th:only-of-type {\n",
       "        vertical-align: middle;\n",
       "    }\n",
       "\n",
       "    .dataframe tbody tr th {\n",
       "        vertical-align: top;\n",
       "    }\n",
       "\n",
       "    .dataframe thead th {\n",
       "        text-align: right;\n",
       "    }\n",
       "</style>\n",
       "<table border=\"1\" class=\"dataframe\">\n",
       "  <thead>\n",
       "    <tr style=\"text-align: right;\">\n",
       "      <th></th>\n",
       "      <th>Diario</th>\n",
       "      <th>Autor</th>\n",
       "      <th>Fecha</th>\n",
       "      <th>Título</th>\n",
       "      <th>Texto</th>\n",
       "      <th>Vínculo</th>\n",
       "      <th>ID</th>\n",
       "    </tr>\n",
       "  </thead>\n",
       "  <tbody>\n",
       "    <tr>\n",
       "      <th>0</th>\n",
       "      <td>El Espectador</td>\n",
       "      <td>Gonzalo Hernández</td>\n",
       "      <td>2018-01-01</td>\n",
       "      <td>Fajardo: para nada tibio</td>\n",
       "      <td>La Coalición Colombia Partido Alianza Verde, ...</td>\n",
       "      <td>https://web.archive.org/web/20180102104221/htt...</td>\n",
       "      <td>1</td>\n",
       "    </tr>\n",
       "    <tr>\n",
       "      <th>1</th>\n",
       "      <td>El Espectador</td>\n",
       "      <td>Eduardo Barajas Sandoval</td>\n",
       "      <td>2018-01-01</td>\n",
       "      <td>Macedonia de Norte</td>\n",
       "      <td>Las interpretaciones de la historia sirven com...</td>\n",
       "      <td>https://web.archive.org/web/20180102104221/htt...</td>\n",
       "      <td>2</td>\n",
       "    </tr>\n",
       "    <tr>\n",
       "      <th>2</th>\n",
       "      <td>El Espectador</td>\n",
       "      <td>Daniel Emilio Rojas Castro</td>\n",
       "      <td>2018-01-01</td>\n",
       "      <td>El nacionalismo según Vargas Llosa</td>\n",
       "      <td>La semana pasada Mario Vargas Llosa publicó un...</td>\n",
       "      <td>https://web.archive.org/web/20180102104221/htt...</td>\n",
       "      <td>3</td>\n",
       "    </tr>\n",
       "    <tr>\n",
       "      <th>3</th>\n",
       "      <td>El Espectador</td>\n",
       "      <td>Reinaldo Spitaletta</td>\n",
       "      <td>2018-01-01</td>\n",
       "      <td>Tiempo sagrado, tiempo profano</td>\n",
       "      <td>Pudiera decirse, sin ser una verdad absoluta, ...</td>\n",
       "      <td>https://web.archive.org/web/20180102104221/htt...</td>\n",
       "      <td>4</td>\n",
       "    </tr>\n",
       "    <tr>\n",
       "      <th>4</th>\n",
       "      <td>El Espectador</td>\n",
       "      <td>Aura Lucía Mera</td>\n",
       "      <td>2018-01-01</td>\n",
       "      <td>La rebelión de los bueyes</td>\n",
       "      <td>Lo mejor del encierro de Las Ventas fueron los...</td>\n",
       "      <td>https://web.archive.org/web/20180102104221/htt...</td>\n",
       "      <td>5</td>\n",
       "    </tr>\n",
       "  </tbody>\n",
       "</table>\n",
       "</div>"
      ],
      "text/plain": [
       "          Diario                       Autor      Fecha  \\\n",
       "0  El Espectador           Gonzalo Hernández 2018-01-01   \n",
       "1  El Espectador    Eduardo Barajas Sandoval 2018-01-01   \n",
       "2  El Espectador  Daniel Emilio Rojas Castro 2018-01-01   \n",
       "3  El Espectador         Reinaldo Spitaletta 2018-01-01   \n",
       "4  El Espectador             Aura Lucía Mera 2018-01-01   \n",
       "\n",
       "                               Título  \\\n",
       "0            Fajardo: para nada tibio   \n",
       "1                  Macedonia de Norte   \n",
       "2  El nacionalismo según Vargas Llosa   \n",
       "3      Tiempo sagrado, tiempo profano   \n",
       "4           La rebelión de los bueyes   \n",
       "\n",
       "                                               Texto  \\\n",
       "0  La Coalición Colombia Partido Alianza Verde, ...   \n",
       "1  Las interpretaciones de la historia sirven com...   \n",
       "2  La semana pasada Mario Vargas Llosa publicó un...   \n",
       "3  Pudiera decirse, sin ser una verdad absoluta, ...   \n",
       "4  Lo mejor del encierro de Las Ventas fueron los...   \n",
       "\n",
       "                                             Vínculo  ID  \n",
       "0  https://web.archive.org/web/20180102104221/htt...   1  \n",
       "1  https://web.archive.org/web/20180102104221/htt...   2  \n",
       "2  https://web.archive.org/web/20180102104221/htt...   3  \n",
       "3  https://web.archive.org/web/20180102104221/htt...   4  \n",
       "4  https://web.archive.org/web/20180102104221/htt...   5  "
      ]
     },
     "execution_count": 7,
     "metadata": {},
     "output_type": "execute_result"
    }
   ],
   "source": [
    "corpus_completo.head()"
   ]
  },
  {
   "cell_type": "code",
   "execution_count": 15,
   "id": "84ae33b4",
   "metadata": {},
   "outputs": [],
   "source": [
    "prueba = corpus_completo['Texto'].iloc[0].split('\\n\\n')"
   ]
  },
  {
   "cell_type": "code",
   "execution_count": 17,
   "id": "f1612060",
   "metadata": {},
   "outputs": [
    {
     "data": {
      "text/plain": [
       "['La Coalición Colombia –Partido Alianza Verde, Polo Democrático Alternativo y Compromiso Ciudadano- presentó por fin a Sergio Fajardo como su candidato único a la Presidencia. ',\n",
       " 'Fajardo diagnostica a Colombia como un país fracturado, indignado por la corrupción, despistado por no tener una agenda de desarrollo clara luego del boom minero energético, y “desambientado” en referencia al manejo de los recursos ambientales (http://sergiofajardo.co/).',\n",
       " 'Promete un liderazgo hacia la reconciliación, una lucha intensa contra la corrupción y mejor educación como mecanismo para el fomento de una sociedad innovadora y emprendedora que pueda usar eficientemente sus capacidades. Reconoce abiertamente que la desigualdad -a nivel de las personas y de las regiones- es un obstáculo grande para una Colombia incluyente.',\n",
       " 'La energía y el énfasis de sus presentaciones sobre su visión del país inspiran y al mismo tiempo lo exponen, en ciertas ocasiones, a críticas por no presentar los detalles. En su más reciente entrevista en RCN Radio se vio contra las cuerdas. Tuvo que enfrentar acusaciones por su aparente tibieza y dio respuestas evasivas, en especial cuando se le preguntó si existía un acuerdo esencial con Jorge Enrique Robledo sobre el tema económico.',\n",
       " 'Esto no debe, sin embargo, generar confusiones que lleven a caricaturizar a Fajardo con los sofismas tan apreciados por los promotores de la propaganda política vacía. Fajardo y su coalición han lanzado ya varias propuestas prácticas que incluso se convierten en dardos afilados que hieren los intereses de diversos grupos. Fajardo se ha atrevido a correr el riesgo de asumir un posible costo electoral que pocos asumen.',\n",
       " 'Manifestó su respeto a los acuerdos con las Farc. Anunció que no promete disminuciones de impuestos. Dijo que propenderá por una Dian fortalecida, pero no con el fin de justificar la promesa floja de que con un eventual recaudo más eficiente en el futuro se valida desde ya un desmonte de la carga tributaria. Cuestionó la más reciente reforma tributaria y descalificó su aparente tinte estructural. La base programática de su coalición plantea que propondrán una estructura de impuestos más progresiva -que ponga a pagar más a quienes más tienen- y el desmonte general de beneficios tributarios. Fajardo ha dicho que así como en su momento la sociedad colombiana asumió el impuesto para financiar la guerra tendrá que pagar ahora el impuesto para financiar la educación. En materia ambiental, promete, por ejemplo, instaurar una moratoria en la explotación tipo fracking. Y frente al álgido tema pensional, se ha mostrado a favor del aumento de la edad de jubilación como parte de una futura reforma. Nada tibio diría yo.',\n",
       " 'Por supuesto, a este plan le faltan no uno sino dos hervores. Y tendrá que hervir en medio del frenetismo del sprint presidencial. Tienen que conectar y aterrizar las ideas para que el programa de gobierno de la coalición no quede débil y fracturado.',\n",
       " 'Mucho trabajo por delante para que Fajardo pueda hilar todos los cabos que, de quedar sueltos, pueden enredarle el camino en la fase de los debates. Mucho trabajo pedagógico por delante para convencer a un electorado que, por cuenta de la polarización, está acostumbrado a ver las cosas muy en blanco y negro.',\n",
       " 'Profesor asociado de Economía y director de Investigación de la Pontificia Universidad Javeriana (http://www.javeriana.edu.co/blogs/gonzalohernandez/)']"
      ]
     },
     "execution_count": 17,
     "metadata": {},
     "output_type": "execute_result"
    }
   ],
   "source": [
    "prueba"
   ]
  },
  {
   "cell_type": "code",
   "execution_count": 18,
   "id": "19601321",
   "metadata": {},
   "outputs": [
    {
     "ename": "ModuleNotFoundError",
     "evalue": "No module named 'neofuzz'",
     "output_type": "error",
     "traceback": [
      "\u001b[1;31m---------------------------------------------------------------------------\u001b[0m",
      "\u001b[1;31mModuleNotFoundError\u001b[0m                       Traceback (most recent call last)",
      "Cell \u001b[1;32mIn[18], line 1\u001b[0m\n\u001b[1;32m----> 1\u001b[0m \u001b[38;5;28;01mfrom\u001b[39;00m \u001b[38;5;21;01mneofuzz\u001b[39;00m \u001b[38;5;28;01mimport\u001b[39;00m char_ngram_process\n\u001b[0;32m      3\u001b[0m \u001b[38;5;66;03m# Some corpus of strings you want to search in.\u001b[39;00m\n\u001b[0;32m      4\u001b[0m options: List[\u001b[38;5;28mstr\u001b[39m] \u001b[38;5;241m=\u001b[39m prueba\n",
      "\u001b[1;31mModuleNotFoundError\u001b[0m: No module named 'neofuzz'"
     ]
    }
   ],
   "source": [
    "from neofuzz import char_ngram_process\n",
    "\n",
    "# Some corpus of strings you want to search in.\n",
    "options: List[str] = prueba\n",
    "\n",
    "# Create a process\n",
    "process = char_ngram_process()\n",
    "\n",
    "# Index the options, so that searches can be fast\n",
    "process.index(options)\n",
    "\n",
    "# Then you can use the process the same way as in TheFuzz\n",
    "process.extract(\"Sergio\", limit=10)"
   ]
  },
  {
   "cell_type": "markdown",
   "id": "8955bdfa",
   "metadata": {},
   "source": [
    "# Búsqueda exacta de  tesauros"
   ]
  },
  {
   "cell_type": "markdown",
   "id": "2a84c38d",
   "metadata": {},
   "source": [
    "## Prueba tokenización por párrafos"
   ]
  },
  {
   "cell_type": "code",
   "execution_count": null,
   "id": "0c30ef3f",
   "metadata": {},
   "outputs": [],
   "source": []
  },
  {
   "cell_type": "markdown",
   "id": "d5d69571",
   "metadata": {},
   "source": [
    "# Búsqueda semántica de tesauros"
   ]
  }
 ],
 "metadata": {
  "kernelspec": {
   "display_name": "base",
   "language": "python",
   "name": "python3"
  },
  "language_info": {
   "codemirror_mode": {
    "name": "ipython",
    "version": 3
   },
   "file_extension": ".py",
   "mimetype": "text/x-python",
   "name": "python",
   "nbconvert_exporter": "python",
   "pygments_lexer": "ipython3",
   "version": "3.12.7"
  }
 },
 "nbformat": 4,
 "nbformat_minor": 5
}
