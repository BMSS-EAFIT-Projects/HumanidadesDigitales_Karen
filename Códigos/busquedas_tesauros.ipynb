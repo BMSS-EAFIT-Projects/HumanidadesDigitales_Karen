{
 "cells": [
  {
   "cell_type": "markdown",
   "id": "2ea0e7d0",
   "metadata": {},
   "source": [
    "Pruebas sobre el dataset "
   ]
  },
  {
   "cell_type": "code",
   "execution_count": 1,
   "id": "95b4da7a",
   "metadata": {},
   "outputs": [],
   "source": [
    "import pandas as pd"
   ]
  },
  {
   "cell_type": "markdown",
   "id": "9b3126d4",
   "metadata": {},
   "source": [
    "# Cargar Corpus y formatear fechas"
   ]
  },
  {
   "cell_type": "code",
   "execution_count": 4,
   "id": "256a0b3b",
   "metadata": {},
   "outputs": [
    {
     "data": {
      "text/html": [
       "<div>\n",
       "<style scoped>\n",
       "    .dataframe tbody tr th:only-of-type {\n",
       "        vertical-align: middle;\n",
       "    }\n",
       "\n",
       "    .dataframe tbody tr th {\n",
       "        vertical-align: top;\n",
       "    }\n",
       "\n",
       "    .dataframe thead th {\n",
       "        text-align: right;\n",
       "    }\n",
       "</style>\n",
       "<table border=\"1\" class=\"dataframe\">\n",
       "  <thead>\n",
       "    <tr style=\"text-align: right;\">\n",
       "      <th></th>\n",
       "      <th>Diario</th>\n",
       "      <th>Autor</th>\n",
       "      <th>Fecha</th>\n",
       "      <th>Título</th>\n",
       "      <th>Texto</th>\n",
       "      <th>Vínculo</th>\n",
       "      <th>ID</th>\n",
       "    </tr>\n",
       "  </thead>\n",
       "  <tbody>\n",
       "    <tr>\n",
       "      <th>0</th>\n",
       "      <td>El Espectador</td>\n",
       "      <td>Gonzalo Hernández</td>\n",
       "      <td>1 de enero de 2018</td>\n",
       "      <td>Fajardo: para nada tibio</td>\n",
       "      <td>La Coalición Colombia Partido Alianza Verde, ...</td>\n",
       "      <td>https://web.archive.org/web/20180102104221/htt...</td>\n",
       "      <td>1</td>\n",
       "    </tr>\n",
       "    <tr>\n",
       "      <th>1</th>\n",
       "      <td>El Espectador</td>\n",
       "      <td>Eduardo Barajas Sandoval</td>\n",
       "      <td>1 de enero de 2018</td>\n",
       "      <td>Macedonia de Norte</td>\n",
       "      <td>Las interpretaciones de la historia sirven com...</td>\n",
       "      <td>https://web.archive.org/web/20180102104221/htt...</td>\n",
       "      <td>2</td>\n",
       "    </tr>\n",
       "    <tr>\n",
       "      <th>2</th>\n",
       "      <td>El Espectador</td>\n",
       "      <td>Daniel Emilio Rojas Castro</td>\n",
       "      <td>1 de enero de 2018</td>\n",
       "      <td>El nacionalismo según Vargas Llosa</td>\n",
       "      <td>La semana pasada Mario Vargas Llosa publicó un...</td>\n",
       "      <td>https://web.archive.org/web/20180102104221/htt...</td>\n",
       "      <td>3</td>\n",
       "    </tr>\n",
       "    <tr>\n",
       "      <th>3</th>\n",
       "      <td>El Espectador</td>\n",
       "      <td>Reinaldo Spitaletta</td>\n",
       "      <td>1 de enero de 2018</td>\n",
       "      <td>Tiempo sagrado, tiempo profano</td>\n",
       "      <td>Pudiera decirse, sin ser una verdad absoluta, ...</td>\n",
       "      <td>https://web.archive.org/web/20180102104221/htt...</td>\n",
       "      <td>4</td>\n",
       "    </tr>\n",
       "    <tr>\n",
       "      <th>4</th>\n",
       "      <td>El Espectador</td>\n",
       "      <td>Aura Lucía Mera</td>\n",
       "      <td>1 de enero de 2018</td>\n",
       "      <td>La rebelión de los bueyes</td>\n",
       "      <td>Lo mejor del encierro de Las Ventas fueron los...</td>\n",
       "      <td>https://web.archive.org/web/20180102104221/htt...</td>\n",
       "      <td>5</td>\n",
       "    </tr>\n",
       "  </tbody>\n",
       "</table>\n",
       "</div>"
      ],
      "text/plain": [
       "          Diario                       Autor               Fecha  \\\n",
       "0  El Espectador           Gonzalo Hernández  1 de enero de 2018   \n",
       "1  El Espectador    Eduardo Barajas Sandoval  1 de enero de 2018   \n",
       "2  El Espectador  Daniel Emilio Rojas Castro  1 de enero de 2018   \n",
       "3  El Espectador         Reinaldo Spitaletta  1 de enero de 2018   \n",
       "4  El Espectador             Aura Lucía Mera  1 de enero de 2018   \n",
       "\n",
       "                               Título  \\\n",
       "0            Fajardo: para nada tibio   \n",
       "1                  Macedonia de Norte   \n",
       "2  El nacionalismo según Vargas Llosa   \n",
       "3      Tiempo sagrado, tiempo profano   \n",
       "4           La rebelión de los bueyes   \n",
       "\n",
       "                                               Texto  \\\n",
       "0  La Coalición Colombia Partido Alianza Verde, ...   \n",
       "1  Las interpretaciones de la historia sirven com...   \n",
       "2  La semana pasada Mario Vargas Llosa publicó un...   \n",
       "3  Pudiera decirse, sin ser una verdad absoluta, ...   \n",
       "4  Lo mejor del encierro de Las Ventas fueron los...   \n",
       "\n",
       "                                             Vínculo  ID  \n",
       "0  https://web.archive.org/web/20180102104221/htt...   1  \n",
       "1  https://web.archive.org/web/20180102104221/htt...   2  \n",
       "2  https://web.archive.org/web/20180102104221/htt...   3  \n",
       "3  https://web.archive.org/web/20180102104221/htt...   4  \n",
       "4  https://web.archive.org/web/20180102104221/htt...   5  "
      ]
     },
     "execution_count": 4,
     "metadata": {},
     "output_type": "execute_result"
    }
   ],
   "source": [
    "file_path = \"Corpus_completo_revisado.xlsx\"\n",
    "corpus_completo = pd.read_excel(file_path)\n",
    "\n",
    "corpus_completo.head()"
   ]
  },
  {
   "cell_type": "markdown",
   "id": "8955bdfa",
   "metadata": {},
   "source": [
    "# Búsqueda exacta de  tesauros"
   ]
  },
  {
   "cell_type": "code",
   "execution_count": null,
   "id": "0c30ef3f",
   "metadata": {},
   "outputs": [],
   "source": []
  },
  {
   "cell_type": "markdown",
   "id": "d5d69571",
   "metadata": {},
   "source": [
    "# Búsqueda semántica de tesauros"
   ]
  }
 ],
 "metadata": {
  "kernelspec": {
   "display_name": "base",
   "language": "python",
   "name": "python3"
  },
  "language_info": {
   "codemirror_mode": {
    "name": "ipython",
    "version": 3
   },
   "file_extension": ".py",
   "mimetype": "text/x-python",
   "name": "python",
   "nbconvert_exporter": "python",
   "pygments_lexer": "ipython3",
   "version": "3.12.7"
  }
 },
 "nbformat": 4,
 "nbformat_minor": 5
}
