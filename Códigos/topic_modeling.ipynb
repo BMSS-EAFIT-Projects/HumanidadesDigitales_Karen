{
 "cells": [
  {
   "cell_type": "markdown",
   "id": "649f0efa",
   "metadata": {},
   "source": [
    "Fecha: Julio de 2025\n",
    "\n",
    "Se busca hacer análisis de frecuencias en las columnas de opinión por año, mes y periódico. E implementar modelado de tópicos. Primer método LDA."
   ]
  },
  {
   "cell_type": "markdown",
   "id": "6f63b7e6",
   "metadata": {},
   "source": [
    "# Librerias"
   ]
  },
  {
   "cell_type": "code",
   "execution_count": 1,
   "id": "cda8799e",
   "metadata": {},
   "outputs": [],
   "source": [
    "# Librerías\n",
    "import os\n",
    "import pandas as pd\n",
    "import numpy as np\n",
    "import matplotlib.pyplot as plt\n",
    "from sklearn.decomposition import LatentDirichletAllocation\n",
    "from sklearn.feature_extraction.text import CountVectorizer, TfidfVectorizer\n",
    "import re\n",
    "from spacy.lang.es.stop_words import STOP_WORDS\n",
    "import spacy\n",
    "import pyLDAvis\n",
    "import pyLDAvis.lda_model\n",
    "import json\n",
    "import pickle\n",
    "from datetime import datetime"
   ]
  },
  {
   "cell_type": "code",
   "execution_count": 2,
   "id": "21399b96",
   "metadata": {},
   "outputs": [],
   "source": [
    "# Ruta del directorio que contiene los archivos CSV\n",
    "folder_path = r'C:\\Users\\karen\\Documents\\HumanidadesDigitales_git\\BDD_Corpus\\BDD_CSV'\n"
   ]
  },
  {
   "cell_type": "code",
   "execution_count": 3,
   "id": "e4567fb7",
   "metadata": {},
   "outputs": [],
   "source": [
    "dataframes = []\n",
    "\n",
    "for archivo in os.listdir(folder_path):\n",
    "    if archivo.endswith('.csv'):\n",
    "        file_path = os.path.join(folder_path, archivo)        \n",
    "        try:\n",
    "            df = pd.read_csv(file_path, encoding='latin-1', sep=';')  \n",
    "            dataframes.append(df)\n",
    "        except Exception as e:\n",
    "            print(f'Error al procesar {file_path}: {e}')\n"
   ]
  },
  {
   "cell_type": "code",
   "execution_count": 4,
   "id": "78138bb7",
   "metadata": {},
   "outputs": [
    {
     "data": {
      "text/html": [
       "<div>\n",
       "<style scoped>\n",
       "    .dataframe tbody tr th:only-of-type {\n",
       "        vertical-align: middle;\n",
       "    }\n",
       "\n",
       "    .dataframe tbody tr th {\n",
       "        vertical-align: top;\n",
       "    }\n",
       "\n",
       "    .dataframe thead th {\n",
       "        text-align: right;\n",
       "    }\n",
       "</style>\n",
       "<table border=\"1\" class=\"dataframe\">\n",
       "  <thead>\n",
       "    <tr style=\"text-align: right;\">\n",
       "      <th></th>\n",
       "      <th>Diario</th>\n",
       "      <th>Autor</th>\n",
       "      <th>Fecha</th>\n",
       "      <th>Título</th>\n",
       "      <th>Texto</th>\n",
       "      <th>Vínculo</th>\n",
       "    </tr>\n",
       "  </thead>\n",
       "  <tbody>\n",
       "    <tr>\n",
       "      <th>0</th>\n",
       "      <td>El Espectador</td>\n",
       "      <td>Gonzalo Hernández</td>\n",
       "      <td>1 de enero de 2018</td>\n",
       "      <td>Fajardo: para nada tibio</td>\n",
       "      <td>La Coalición Colombia Partido Alianza Verde, ...</td>\n",
       "      <td>https://web.archive.org/web/20180102104221/htt...</td>\n",
       "    </tr>\n",
       "    <tr>\n",
       "      <th>1</th>\n",
       "      <td>El Espectador</td>\n",
       "      <td>Eduardo Barajas Sandoval</td>\n",
       "      <td>1 de enero de 2018</td>\n",
       "      <td>Macedonia de Norte</td>\n",
       "      <td>Las interpretaciones de la historia sirven com...</td>\n",
       "      <td>https://web.archive.org/web/20180102104221/htt...</td>\n",
       "    </tr>\n",
       "    <tr>\n",
       "      <th>2</th>\n",
       "      <td>El Espectador</td>\n",
       "      <td>Daniel Emilio Rojas Castro</td>\n",
       "      <td>1 de enero de 2018</td>\n",
       "      <td>El nacionalismo según Vargas Llosa</td>\n",
       "      <td>La semana pasada Mario Vargas Llosa publicó un...</td>\n",
       "      <td>https://web.archive.org/web/20180102104221/htt...</td>\n",
       "    </tr>\n",
       "    <tr>\n",
       "      <th>3</th>\n",
       "      <td>El Espectador</td>\n",
       "      <td>Reinaldo Spitaletta</td>\n",
       "      <td>1 de enero de 2018</td>\n",
       "      <td>Tiempo sagrado, tiempo profano</td>\n",
       "      <td>Pudiera decirse, sin ser una verdad absoluta, ...</td>\n",
       "      <td>https://web.archive.org/web/20180102104221/htt...</td>\n",
       "    </tr>\n",
       "    <tr>\n",
       "      <th>4</th>\n",
       "      <td>El Espectador</td>\n",
       "      <td>Aura Lucía Mera</td>\n",
       "      <td>1 de enero de 2018</td>\n",
       "      <td>La rebelión de los bueyes</td>\n",
       "      <td>Lo mejor del encierro de Las Ventas fueron los...</td>\n",
       "      <td>https://web.archive.org/web/20180102104221/htt...</td>\n",
       "    </tr>\n",
       "  </tbody>\n",
       "</table>\n",
       "</div>"
      ],
      "text/plain": [
       "          Diario                       Autor               Fecha  \\\n",
       "0  El Espectador           Gonzalo Hernández  1 de enero de 2018   \n",
       "1  El Espectador    Eduardo Barajas Sandoval  1 de enero de 2018   \n",
       "2  El Espectador  Daniel Emilio Rojas Castro  1 de enero de 2018   \n",
       "3  El Espectador         Reinaldo Spitaletta  1 de enero de 2018   \n",
       "4  El Espectador             Aura Lucía Mera  1 de enero de 2018   \n",
       "\n",
       "                               Título  \\\n",
       "0            Fajardo: para nada tibio   \n",
       "1                  Macedonia de Norte   \n",
       "2  El nacionalismo según Vargas Llosa   \n",
       "3      Tiempo sagrado, tiempo profano   \n",
       "4           La rebelión de los bueyes   \n",
       "\n",
       "                                               Texto  \\\n",
       "0  La Coalición Colombia Partido Alianza Verde, ...   \n",
       "1  Las interpretaciones de la historia sirven com...   \n",
       "2  La semana pasada Mario Vargas Llosa publicó un...   \n",
       "3  Pudiera decirse, sin ser una verdad absoluta, ...   \n",
       "4  Lo mejor del encierro de Las Ventas fueron los...   \n",
       "\n",
       "                                             Vínculo  \n",
       "0  https://web.archive.org/web/20180102104221/htt...  \n",
       "1  https://web.archive.org/web/20180102104221/htt...  \n",
       "2  https://web.archive.org/web/20180102104221/htt...  \n",
       "3  https://web.archive.org/web/20180102104221/htt...  \n",
       "4  https://web.archive.org/web/20180102104221/htt...  "
      ]
     },
     "execution_count": 4,
     "metadata": {},
     "output_type": "execute_result"
    }
   ],
   "source": [
    "# Concatenar todos los DataFrames en uno solo\n",
    "if dataframes:\n",
    "    corpus_completo = pd.concat(dataframes, ignore_index=True)\n",
    "\n",
    "corpus_completo.head()                                                                                                                              "
   ]
  },
  {
   "cell_type": "code",
   "execution_count": 5,
   "id": "5c97687c",
   "metadata": {},
   "outputs": [],
   "source": [
    "# Limpiar espacios en blanco al inicio y al final de las cadenas\n",
    "corpus_completo = corpus_completo.apply(lambda x: x.str.strip() if x.dtype == \"object\" else x)\n"
   ]
  },
  {
   "cell_type": "code",
   "execution_count": 6,
   "id": "5992720d",
   "metadata": {},
   "outputs": [],
   "source": [
    "# Formatear fechas\n",
    "\n",
    "meses = {\n",
    "    'enero': '01',\n",
    "    'febrero': '02',\n",
    "    'marzo': '03',\n",
    "    'abril': '04',\n",
    "    'mayo': '05',\n",
    "    'junio': '06',\n",
    "    'julio': '07',\n",
    "    'agosto': '08',\n",
    "    'septiembre': '09',\n",
    "    'octubre': '10',\n",
    "    'noviembre': '11',\n",
    "    'diciembre': '12'\n",
    "}\n",
    "\n",
    "def convertir_fecha(fecha_str):\n",
    "    partes = fecha_str.split(' de ')\n",
    "    dia = partes[0].zfill(2)  # Asegura 2 dígitos para días 1-9\n",
    "    mes = meses[partes[1]]\n",
    "    año = partes[2]\n",
    "    return f\"{dia}/{mes}/{año}\"  # Formato DD/MM/AAAA\n",
    "\n",
    "corpus_completo['Fecha_formateada'] = corpus_completo['Fecha'].apply(convertir_fecha)\n",
    "corpus_completo['Fecha_formateada'] = pd.to_datetime(corpus_completo['Fecha_formateada'], format='%d/%m/%Y', errors='coerce')"
   ]
  },
  {
   "cell_type": "markdown",
   "id": "61e51075",
   "metadata": {},
   "source": [
    "# Descripción Corpus"
   ]
  },
  {
   "cell_type": "code",
   "execution_count": 7,
   "id": "cc5b6e25",
   "metadata": {},
   "outputs": [
    {
     "data": {
      "text/html": [
       "<div>\n",
       "<style scoped>\n",
       "    .dataframe tbody tr th:only-of-type {\n",
       "        vertical-align: middle;\n",
       "    }\n",
       "\n",
       "    .dataframe tbody tr th {\n",
       "        vertical-align: top;\n",
       "    }\n",
       "\n",
       "    .dataframe thead th {\n",
       "        text-align: right;\n",
       "    }\n",
       "</style>\n",
       "<table border=\"1\" class=\"dataframe\">\n",
       "  <thead>\n",
       "    <tr style=\"text-align: right;\">\n",
       "      <th></th>\n",
       "      <th>Diario</th>\n",
       "      <th>Autor</th>\n",
       "      <th>Fecha</th>\n",
       "      <th>Título</th>\n",
       "      <th>Texto</th>\n",
       "      <th>Vínculo</th>\n",
       "      <th>Fecha_formateada</th>\n",
       "    </tr>\n",
       "  </thead>\n",
       "  <tbody>\n",
       "  </tbody>\n",
       "</table>\n",
       "</div>"
      ],
      "text/plain": [
       "Empty DataFrame\n",
       "Columns: [Diario, Autor, Fecha, Título, Texto, Vínculo, Fecha_formateada]\n",
       "Index: []"
      ]
     },
     "execution_count": 7,
     "metadata": {},
     "output_type": "execute_result"
    }
   ],
   "source": [
    "# filas que tienen fecha inválida\n",
    "fechas_invalidas = corpus_completo[corpus_completo['Fecha_formateada'].isna()]\n",
    "fechas_invalidas"
   ]
  },
  {
   "cell_type": "code",
   "execution_count": 8,
   "id": "03f38810",
   "metadata": {},
   "outputs": [],
   "source": [
    "autores = corpus_completo['Autor'].unique().tolist()"
   ]
  },
  {
   "cell_type": "code",
   "execution_count": 9,
   "id": "d7e96833",
   "metadata": {},
   "outputs": [
    {
     "data": {
      "text/plain": [
       "577"
      ]
     },
     "execution_count": 9,
     "metadata": {},
     "output_type": "execute_result"
    }
   ],
   "source": [
    "len(autores)"
   ]
  },
  {
   "cell_type": "code",
   "execution_count": 10,
   "id": "601d2904",
   "metadata": {},
   "outputs": [],
   "source": [
    "autores = sorted(autores)"
   ]
  },
  {
   "cell_type": "code",
   "execution_count": 11,
   "id": "a7f6b72c",
   "metadata": {},
   "outputs": [
    {
     "name": "stdout",
     "output_type": "stream",
     "text": [
      "['Abdón Espinosa Valderrama', 'Abel Veiga Copo', 'Adolfo León Atehortúa Cruz', 'Adolfo Meisel Roca', 'Adolfo Zableh Durán', 'Adriana Cooper', 'Adriana La Rotta', 'Adriana Noreña', 'Alberto Donadio', 'Alberto Galán', 'Alberto López de Mesa', 'Aldo Civico', 'Alejandro Alvarado', 'Alejandro Daly', 'Alejandro Peláez', 'Alejandro Reyes Posada', 'Alejandro Riveros González', 'Alejandro Tagliavini', 'Alexánder Cambero', 'Alfonso Carvajal', 'Alfonso Cuéllar', 'Alfonso Gómez Méndez', 'Alfonso Llano Escobar', 'Alfonso Sánchez Cadavid', 'Alfredo Molano Jimeno', 'Alister Ramírez Márquez', 'Allison Benson Hernandez', 'Allison Benson Hernández', 'Alonso Sánchez', 'Alpher Rojas C.', 'Alvaro Forero Tascón', 'Alvaro Jimenez', 'Amadeo Rodríguez Castilla', 'Ana Cristina Restrepo Jiménez', 'Ana Güezmes García', 'Ana Lucía Lenis', 'Ana Margarita González', 'Ana María Córdoba Barahona', 'Ana María Ramírez', 'Ana María Ruiz Perea', 'Ana Milena Muñoz de Gaviria', 'Andrea Aldana', 'Andrea Padilla Villarraga', 'Andrea Parra Triana', 'Andrés Aljure Saab', 'Andrés Candela', 'Andrés Escobar Uribe', 'Andrés Felipe Rodríguez Maldonado', 'Andrés Hoyos', 'Andrés Hurtado García', 'Andrés Marocco', 'Antonio Albiñana', 'Antonio Caballero', 'Antonio Casale', 'Antonio Zuleta González', 'Aníbal Gaviria Correa', 'Ariel Ávila', 'Arlene B. Tickner', 'Armando Montenegro', 'Armando Silva', 'Arturo  Charria', 'Arturo Charria', 'Arturo Guerrero', 'Augusto Solano Mejía', 'Augusto Trujillo Muñoz', 'Aura Lucía Mera', 'Aurelio Suárez Montoya', 'Beatriz Miranda', 'Beatriz Vanegas Athías', 'Bernardo Vargas Gibsone', 'Bjørn Lomborg', 'Brigitte Baptiste', 'Brigitte LG Baptiste', 'Bruce Mac Master', 'Camilo Camargo', 'Camilo Goelkel Medina', 'Camilo Herrera Mora', 'Camilo Sánchez Ortega', 'Carl Bildt', 'Carlos Alberto Leyva', 'Carlos Angulo Galvis', 'Carlos Caballero Argáez', 'Carlos Caicedo', 'Carlos Camargo Assis', 'Carlos Cante', 'Carlos Castillo Cardona', 'Carlos Enrique Moreno', 'Carlos Fernando Galán', 'Carlos Granés', 'Carlos Hernán Godoy Fajardo', 'Carlos Holmes Trujillo', 'Carlos Lozano Acosta', 'Carlos Villalba Bustillo', 'Carolina Botero Cabrera', 'Carolina Sanín', 'Carolina Soto', 'Cartas de los lectores', 'Catalina Martínez Coral', 'Catalina Ruiz-Navarro', 'Catalina Uribe', 'Catalina Uribe Rincón', 'Cecilia Balcázar', 'Cecilia López Montaño', 'Cecilia Orozco Tascón', 'Cecilia Rodríguez', 'Christian Cantor', 'Christoph Harnisch', 'Chucky García', 'Cindy Bautista Vásquez', 'Ciro Rodríguez Pinzón*', 'Clara  López Obregón', 'Clara López Obregon', 'Clara López Obregón', 'Claudia Bermúdez Vélez', 'Claudia Blum', 'Claudia Candela', 'Claudia Dangond-Gibsone', 'Claudia Morales', 'Claudia Palacios', 'Clemencia Carabalí Rodallega', 'Coalición de Acciones por el Cambio.', 'Columna del lector', 'Cristian Valencia', 'Cristina Esguerra Miranda', 'Cristina Vélez', 'Cristina de la Torre', 'Cristo García Tapia', 'César Ferrari', 'César Niño', 'César Rodríguez Garavito', 'Daniel Coronell', 'Daniel Emilio Rojas Castro', 'Daniel García-Peña', 'Daniel Mera Villamizar', 'Daniel Pacheco', 'Daniel Raisbeck', 'Daniel Samper Ospina', 'Danilo Arbilla', 'Danilo Rojas Betancourth', 'Dario Cujar Couttin', 'Darío Acevedo Carmona', 'Darío Cujar', 'Darío Hidalgo', 'David Brooks', 'David Escobar Gómez', 'David Leonhardt', 'David Yanovich', 'Dayana Blanco Acendra', 'Diana Castro Benetti', 'Diana Guarnizo', 'Diana Isabel Güiza Gómez', 'Diego Cancino', 'Diego Molano', 'Diego Santos', 'Dolly Montoya', 'Dolly Montoya Castaño', 'Dominique Moisi', 'Dora Glottman', 'Doña Gula', 'Edgardo José Maya', 'Eduardo Barajas Sandoval', 'Eduardo Behrentz', 'Eduardo Díaz Uribe', 'Eduardo Escobar', 'Eduardo Lora', 'Eduardo Posada Carbó', 'Eduardo Sarmiento', 'Efrén Martínez Ortiz', 'Elisabeth Ungar Bleier', 'Elly Hernández', 'Elsa Lucía Arango', 'Emilio Chala Saad', 'Enrique Aparicio', 'Enrique Gaviria Liévano', 'Enrique Santos Molano', 'Esteban Carlos Mejía', 'Esteban Piedrahita', 'Eva Joly', 'Fabio Martínez', 'Federico Gómez', 'Federico Gómez Lara', 'Felipe Jaramillo', 'Felipe Jánica', 'Felipe Muñoz Gómez', 'Felipe Restrepo Pombo', 'Felipe Zuleta Lleras', 'Fernando Araújo Vélez', 'Fernando Barbosa', 'Fernando Carrillo Flórez', 'Fernando Flórez', 'Fernando Galindo G.', 'Fernando Posada', 'Fernando Quiroz', 'Fernando Sánchez Torres', 'Flavia Santoro', 'Florence Thomas', 'Francisco Barbosa', 'Francisco Cajiao', 'Francisco Gutiérrez Sanín', 'Francisco Leal Buitrago', 'Gabriel Cifuentes Ghidini', 'Gabriel Silva Luján', 'Gazapera', 'Gazapera .', 'Germán Calderón España', 'Germán I. Andrade', 'Germán Manga', 'Germán Vargas G.', 'Germán Vargas Lleras', 'Gloria Alonso', 'Gloria Arias Nieto', 'Gloria Helena Rey', 'Gloria María Borrero', 'Gonzalo Castellanos', 'Gonzalo Hernández', 'Gonzalo Silva Rivas', 'Gral. Néstor Ramírez Mejía', 'Gregory Lobo', 'Guillermo Angulo', 'Guillermo González Uribe', 'Guillermo Maya', 'Guillermo Perry', 'Guillermo Puyana Ramos', 'Guillermo Rivera', 'Guillermo Santos Calderón', 'Guillermo Zuluaga', 'Gustavo Duncan', 'Gustavo Estrada', 'Gustavo Gallón', 'Gustavo Gómez Córdoba', 'Gustavo Páez Escobar', 'Gustavo Riveros Díaz', 'Harry Sasson', 'Heriberto Fiorillo', 'Hernando Gómez Buendía', 'Hernando Herrera Mercado', 'Hernando Roa Suárez', 'Hernando Yepes Arcila', 'Hernán González Rodríguez', 'Hernán Peláez Restrepo', 'Hernán Velandia Palomino', 'Historias en público', 'Hugo Acero Velásquez', 'Hugo Sabogal', 'Humberto de la Calle', 'Héctor Abad Faciolince', 'Héctor Pineda', 'Ignacio Mantilla', 'Ignacio Zuleta', 'Ignacio Zuleta Ll.', 'Ilma Cecilia Ariza de Ávila', 'Indalecio Dangond B.', 'Isabel Jaramillo', 'Isabel Segovia', 'Isabella Portilla', 'Iván Cepeda Castro', 'Iván Duque', 'Iván Mejía Álvarez', 'J J Ocampo', 'J. D. Torres Duarte', 'J. William Pearl', 'Jaime A. Fajardo Landaeta', 'Jaime Arocha', 'Jaime Castro', 'Jaime Laserna Serna', 'Jairo Gómez', 'Jairo Hernán Ortega', 'Javier Alexander Borda Diaz', 'Javier Borda Diaz', 'Javier Ortiz', 'Jeffrey D. Sachs', 'Jennifer Pedraza', 'Jesús Pérez González-Rubio', 'Jhon Jairo Losada Cubillos', 'Jineth Bedoya', 'Joaquín Botero', 'Joaquín Robles Zabala', 'Joaquín Vélez Navarro', 'John Mario González', 'John Petter Opdahl', 'John Sudarsky', 'Johnattan García Ruiz', 'Jorge Barraza', 'Jorge Bustamante', 'Jorge Eduardo Cock', 'Jorge Eduardo Espinosa', 'Jorge Gómez Pinilla', 'Jorge H. Botero', 'Jorge Hernando Nieto', 'Jorge Hernán Colmenares', 'Jorge Iván Cuervo R.', 'Jorge Iván Grisales Marín', 'Jorge Leyva Valenzuela', 'Jorge Tovar', 'Jose Manuel Restrepo', 'Joseph E. Stiglitz', 'José Alberto Peroza', 'José Antonio Llorente', 'José Antonio Ocampo', 'José Darwin Lenis Mejía', 'José Fernando Flórez', 'José Fernando Isaza', 'José Graziando da Silva', 'José Luis Ramírez León', 'José Manuel Acevedo', 'José Manuel Restrepo', 'José Miguel Alzate', 'José Miguel Orozco Muñoz', 'José Miguel Vivanco', 'José Roberto Acosta', 'Jotamario Arbeláez', 'Juan Carlos Botero', 'Juan Carlos Echeverry', 'Juan Carlos Gómez', 'Juan Carlos Holguín', 'Juan Carlos Matamoros López', 'Juan Carlos Mira', 'Juan Carlos Ortiz', 'Juan Carlos Pinzón', 'Juan Carlos Rincón Escalante', 'Juan David Ochoa', 'Juan David Zuloaga D.', 'Juan Esteban Constaín', 'Juan Felipe Carrillo Gáfaro', 'Juan Fernando Cristo', 'Juan Fernando Londoño', 'Juan Francisco Ortega', 'Juan Gabriel Gómez', 'Juan Horacio de Freitas De Sousa', 'Juan Lozano', 'Juan Manuel Charry Ureña', 'Juan Manuel Morales Calderón', 'Juan Manuel Ospina', 'Juan Manuel Palacios Luna', 'Juan Martín Caicedo Ferrer', 'Juan Pablo Calvás', 'Juan Pablo Córdoba Garcés', 'Juan Pablo Ruiz Soto', 'Juan Pablo Salazar', 'Juan Ramón Samper', 'Juan Sebastián Rozo', 'Juan carlos Ureta', 'Juana Téllez', 'Juanita Goebertus Estrada', 'Juliana Pungiluppi', 'Juliana Vargas', 'Juliana Vargas Leal', 'Julio Berdegue Silva Saravia', 'Julio Berdegué \\nElizabeth Coble', 'Julio Carrizosa Umaña', 'Julio César Londoño', 'Julio Londoño Paredes', 'Julián Alfredo Fernández', 'Julián Estrada Ochoa', 'Julián López de Mesa Samudio', 'Julián de Zubiría Samper', 'Kai Ambos', 'Kai Amos', 'La columna bicentenaria', 'Lariza Pizano', 'Laura Chinchilla', 'Laura Gil', 'Laura Rojas Aponte', 'Leonardo Fabio Martínez Pérez', 'Leopoldo Villar Borda', 'Leyner Mosquera', 'Lisandro Duque Naranjo', 'Lorenzo Acosta Valencia', 'Lorenzo Madrigal', 'Lucas Pombo', 'Lucy Nieto de Samper', 'Luis Alberto Ordóñez', 'Luis Camilo Osorio', 'Luis Carlos Reyes', 'Luis Carlos Villegas', 'Luis Carlos Vélez', 'Luis Carvajal Basto', 'Luis F. Samper', 'Luis Felipe Henao', 'Luis Fernando Ospina Vanegas', 'Luis Guillermo Ordóñez', 'Luis Guillermo Plata', 'Luis I. Sandoval M.', 'Luis Noé Ochoa', 'Madame Papita', 'Manue Guzmán Hennessey', 'Manuel Drezner', 'Manuel Guzmán Hennessey', 'Manuel Maiguashca', 'Manuel Rodríguez Becerra', 'Mar Candela', 'Marc Hofstetter', 'Marcela Abadía Cubillos', 'Marcela Sánchez Buitrago', 'Marcelo Caruso A.', 'Marco Sermoneta', 'Marco Tulio Gutiérrez Morad', 'Marcos Peckel', 'Marcos Silva', 'Margarita Cabello Blanco', 'Margarita Flórez', 'Margarita Pacheco', 'Margarita Posada', 'Margarita Rosa de Francisco', 'Mariana Garcés Córdoba', 'Mariana Jaramillo Thomas', 'Mariana Pinto Alvarez', 'Mario Fernando Prado', 'Mario Morales', 'Mario Méndez', 'Mario Valencia', 'Marius Dragomir', 'Mark Leonard', 'Marta Lucía Ramírez', 'Martha Senn', 'Martín Caparrós', 'Martín Jaramillo', 'Mary Louise Higgins', 'María A. García de la Torre', 'María Alejandra Medina Cartagena', 'María Antonieta Solórzano', 'María Claudia Espíndola', 'María Claudia García', 'María Emma Mejía', 'María Eugenia Rinaudo', 'María Fernanda Nossa', 'María Isabel Gómez', 'María Isabel Rueda', 'María Luisa Martínez Dibarboure', 'María Paula Saffon', 'María Piedad Villaveces', 'María Teresa Aya Smitmans', 'María Teresa Ronderos', 'María Victoria Angulo', 'María Ximena Dávila C.', 'Maureen Dowd', 'Mauricio Botero Caicedo', 'Mauricio Carradini', 'Mauricio Cárdenas Santamaría', 'Mauricio García Villegas', 'Mauricio González Cuervo', 'Mauricio Laurens - Cine al Ojo', 'Mauricio Lloreda', 'Mauricio Pombo', 'Mauricio Rodríguez', 'Mauricio Rodríguez Múnera', 'Mauricio Rubio', 'Mauricio Vargas', 'Melba Escobar', 'Michelle Arévalo Zuleta', 'Miguel Ceballos', 'Miguel Silva', 'Miguelángel Epeeyüi López-H.', 'Moisés Naím', 'Moisés Wasserman', 'Nancy Patricia Gutiérrez', 'Nelson Camilo Sánchez', 'Ngaire Woods', 'Nicholas D. Kristof', 'Nicholas Kristof - The New York Times', 'Nicolás Guillot', 'Nicolás Rodríguez', 'Nicolás Uribe Rueda', 'Nicolás Ávila Venegas', 'Nidia Quintero', 'Nilson Pinilla', 'Nohora Adriana Rodríguez Forero', 'Norman Mesa Lopera', 'Nouriel Roubini', 'Olga Lucía Barona', 'Oscar Guardiola-Rivera', 'Otros columnistas', 'Pablo Catatumbo', 'Pablo Felipe Robledo', 'Pablo Leyva', 'Pablo Navas', 'Pablo Ramírez Uribe', 'Pablo Zuloaga', 'Paola Ochoa', 'Para Serle Franco', 'Para serle franco', 'Pascual Gaviria', 'Patricia Lara Salive', 'Patricia Suárez', 'Paul Krugman', 'Paula Moreno', 'Pedro Javier Rojas Guevara', 'Pedro Shaio', 'Pedro Vaca', 'Pedro Viveros', 'Peter Singer', 'Piedad Bonnett', 'Plinio Apuleyo Mendoza', 'Poly Martínez', 'Poncho Rentería', 'Proyect Syndicate /\\xa0Richard N. Haass', 'Rafael Aubad l.', 'Rafael Guarín', 'Rafael Orduz', 'Ramiro Bejarano Guzmán', 'Ramiro Guzmán Arteaga', 'Ramsés Vargas Lamadrid', 'Raquel Coronell Uribe', 'Reinaldo Spitaletta', 'Renson Said', 'Renson Said Sepúlveda Vergara', 'Ricardo Bada', 'Ricardo Silva Romero', 'Rodrigo Janiot y Brian Winter', 'Rodrigo Lozano Vila', 'Rodrigo Uprimny', 'Rubén Mendoza', 'Rudolf Hommes', 'Saia Vergara Jaime', 'Salomón Kalmanovitz', 'Salud Hernández-Mora', 'Salvo Basile', 'Sandra Borda Guzmán', 'Santiago Gamboa', 'Santiago Montenegro', 'Santiago Vargas Acebedo', 'Santiago Villa', 'Sara Tufano', 'Saúl Franco', 'Saúl Hernández Bolívar', 'Sergio  Otálora Montenegro', 'Sergio Bueno', 'Sergio Clavijo', 'Sergio Muñoz Bata', 'Sergio Ocampo Madrid', 'Sergio Otálora Montenegro', 'Sergio Ramírez', 'Sonia Gómez Gómez', 'Soraya Constante', 'Sorayda Peguero', 'Stefano Farné', 'Sylvia Constaín', 'Tatiana Acevedo Guerrero', 'Thierry Ways', 'Thomas L. Friedman', 'Tola y Maruja', 'Una paz entre dos desinteresados', 'Uriel Ortiz Soto', 'Valentina Coccia', 'Vanessa Rosales A.', 'Vicky Turbay', 'Vivian Newman', 'Viviana Krsticevic', 'Vladdo', 'Víctor Corcoba Herrero', 'Víctor Manuel Muñoz Rodríguez', 'Víctor Manuel Ruiz', 'Víctor Muñoz', 'Víctor de Currea-Lugo', 'Waira Nina Jacanamijoy Mutumbajoy', 'Weildler Guerra', 'Werner Zitzmann', 'William Ospina', 'Women in Connection', 'Ximena Casas', 'Yesid Arteta', 'Yesid Reyes Alvarado', 'Yohir Akerman', 'Yoko Ruiz', 'Yolanda Reyes', 'Yolanda Ruiz', 'Yu Yongding', 'Álvaro Guillermo Rendón López', 'Álvaro Jiménez', 'Álvaro Restrepo', 'Ángela María Giraldo', 'Óscar A. Alfonso R', 'Óscar Alarcón', 'Óscar Domínguez Giraldo', 'Óscar Rodrigo Campo Hurtado', 'Óscar Sevillano', 'Óscar Sánchez']\n"
     ]
    }
   ],
   "source": [
    "print(autores)"
   ]
  },
  {
   "cell_type": "code",
   "execution_count": 12,
   "id": "9ef809f0",
   "metadata": {},
   "outputs": [
    {
     "data": {
      "text/plain": [
       "13342"
      ]
     },
     "execution_count": 12,
     "metadata": {},
     "output_type": "execute_result"
    }
   ],
   "source": [
    "# Contar columnas \n",
    "len(corpus_completo[(corpus_completo['Fecha_formateada'] < pd.to_datetime('2019-01-01'))])\n",
    "\n",
    "\n",
    "len(corpus_completo.query(\"Fecha_formateada < '2021-01-01' and Fecha_formateada > '2019-12-31' and Diario == 'El Tiempo'\"))\n",
    "len(corpus_completo.query(\"Fecha_formateada < '2020-01-01' and Fecha_formateada > '2018-12-31'\"))\n",
    "len(corpus_completo.query(\"Diario == 'El Espectador'\"))\n",
    "len(corpus_completo)\n"
   ]
  },
  {
   "cell_type": "code",
   "execution_count": 13,
   "id": "719fa79e",
   "metadata": {},
   "outputs": [
    {
     "data": {
      "text/plain": [
       "245"
      ]
     },
     "execution_count": 13,
     "metadata": {},
     "output_type": "execute_result"
    }
   ],
   "source": [
    "# Contar autores\n",
    "corpus_filtrado = corpus_completo.query(\"Fecha_formateada < '2020-01-01' and Fecha_formateada > '2018-12-31' and Diario == 'Semana'\")\n",
    "corpus_filtrado = corpus_completo.query(\"Fecha_formateada < '2021-01-01' and Fecha_formateada > '2019-12-31'\")\n",
    "corpus_filtrado = corpus_completo.query(\"Diario == 'El Tiempo'\")\n",
    "\n",
    "len(corpus_filtrado['Autor'].unique().tolist())"
   ]
  },
  {
   "cell_type": "code",
   "execution_count": 14,
   "id": "54f9880e",
   "metadata": {},
   "outputs": [],
   "source": [
    "# Contar palabras totales en la columna 'Texto'\n",
    "num_palabras = corpus_completo['Texto'].apply(lambda x: len(str(x).split()))"
   ]
  },
  {
   "cell_type": "code",
   "execution_count": 15,
   "id": "893aec2f",
   "metadata": {},
   "outputs": [
    {
     "data": {
      "text/plain": [
       "8376957"
      ]
     },
     "execution_count": 15,
     "metadata": {},
     "output_type": "execute_result"
    }
   ],
   "source": [
    "num_palabras.sum()"
   ]
  },
  {
   "cell_type": "code",
   "execution_count": 16,
   "id": "88827a38",
   "metadata": {},
   "outputs": [
    {
     "data": {
      "text/plain": [
       "count    13342.000000\n",
       "mean       627.863664\n",
       "std        210.554558\n",
       "min        128.000000\n",
       "25%        523.000000\n",
       "50%        590.000000\n",
       "75%        682.000000\n",
       "max       5223.000000\n",
       "Name: Texto, dtype: float64"
      ]
     },
     "execution_count": 16,
     "metadata": {},
     "output_type": "execute_result"
    }
   ],
   "source": [
    "num_palabras.describe()"
   ]
  },
  {
   "cell_type": "code",
   "execution_count": 17,
   "id": "19113e30",
   "metadata": {},
   "outputs": [
    {
     "data": {
      "text/html": [
       "<div>\n",
       "<style scoped>\n",
       "    .dataframe tbody tr th:only-of-type {\n",
       "        vertical-align: middle;\n",
       "    }\n",
       "\n",
       "    .dataframe tbody tr th {\n",
       "        vertical-align: top;\n",
       "    }\n",
       "\n",
       "    .dataframe thead th {\n",
       "        text-align: right;\n",
       "    }\n",
       "</style>\n",
       "<table border=\"1\" class=\"dataframe\">\n",
       "  <thead>\n",
       "    <tr style=\"text-align: right;\">\n",
       "      <th></th>\n",
       "      <th>count</th>\n",
       "      <th>mean</th>\n",
       "      <th>std</th>\n",
       "      <th>min</th>\n",
       "      <th>25%</th>\n",
       "      <th>50%</th>\n",
       "      <th>75%</th>\n",
       "      <th>max</th>\n",
       "    </tr>\n",
       "    <tr>\n",
       "      <th>Diario</th>\n",
       "      <th></th>\n",
       "      <th></th>\n",
       "      <th></th>\n",
       "      <th></th>\n",
       "      <th></th>\n",
       "      <th></th>\n",
       "      <th></th>\n",
       "      <th></th>\n",
       "    </tr>\n",
       "  </thead>\n",
       "  <tbody>\n",
       "    <tr>\n",
       "      <th>El Espectador</th>\n",
       "      <td>10519.0</td>\n",
       "      <td>613.876794</td>\n",
       "      <td>208.193068</td>\n",
       "      <td>153.0</td>\n",
       "      <td>516.00</td>\n",
       "      <td>574.0</td>\n",
       "      <td>666.0</td>\n",
       "      <td>5223.0</td>\n",
       "    </tr>\n",
       "    <tr>\n",
       "      <th>El Tiempo</th>\n",
       "      <td>2001.0</td>\n",
       "      <td>634.930535</td>\n",
       "      <td>157.632508</td>\n",
       "      <td>332.0</td>\n",
       "      <td>586.00</td>\n",
       "      <td>629.0</td>\n",
       "      <td>668.0</td>\n",
       "      <td>1813.0</td>\n",
       "    </tr>\n",
       "    <tr>\n",
       "      <th>Semana</th>\n",
       "      <td>822.0</td>\n",
       "      <td>789.648418</td>\n",
       "      <td>275.213383</td>\n",
       "      <td>128.0</td>\n",
       "      <td>608.25</td>\n",
       "      <td>736.0</td>\n",
       "      <td>936.0</td>\n",
       "      <td>2256.0</td>\n",
       "    </tr>\n",
       "  </tbody>\n",
       "</table>\n",
       "</div>"
      ],
      "text/plain": [
       "                 count        mean         std    min     25%    50%    75%  \\\n",
       "Diario                                                                        \n",
       "El Espectador  10519.0  613.876794  208.193068  153.0  516.00  574.0  666.0   \n",
       "El Tiempo       2001.0  634.930535  157.632508  332.0  586.00  629.0  668.0   \n",
       "Semana           822.0  789.648418  275.213383  128.0  608.25  736.0  936.0   \n",
       "\n",
       "                  max  \n",
       "Diario                 \n",
       "El Espectador  5223.0  \n",
       "El Tiempo      1813.0  \n",
       "Semana         2256.0  "
      ]
     },
     "execution_count": 17,
     "metadata": {},
     "output_type": "execute_result"
    }
   ],
   "source": [
    "num_palabras.groupby(corpus_completo['Diario']).describe()"
   ]
  },
  {
   "cell_type": "code",
   "execution_count": 18,
   "id": "8d8c805a",
   "metadata": {},
   "outputs": [],
   "source": [
    "# Contar palabras distintas en la columna 'Texto'\n",
    "texto_unido = ' '.join(corpus_completo['Texto'].dropna().astype(str).tolist())\n",
    "palabras_distintas = set(texto_unido.split())"
   ]
  },
  {
   "cell_type": "code",
   "execution_count": 19,
   "id": "bcea2751",
   "metadata": {},
   "outputs": [
    {
     "data": {
      "text/plain": [
       "336020"
      ]
     },
     "execution_count": 19,
     "metadata": {},
     "output_type": "execute_result"
    }
   ],
   "source": [
    "len(palabras_distintas)"
   ]
  },
  {
   "cell_type": "code",
   "execution_count": 20,
   "id": "e6484b07",
   "metadata": {},
   "outputs": [
    {
     "data": {
      "text/html": [
       "<div>\n",
       "<style scoped>\n",
       "    .dataframe tbody tr th:only-of-type {\n",
       "        vertical-align: middle;\n",
       "    }\n",
       "\n",
       "    .dataframe tbody tr th {\n",
       "        vertical-align: top;\n",
       "    }\n",
       "\n",
       "    .dataframe thead th {\n",
       "        text-align: right;\n",
       "    }\n",
       "</style>\n",
       "<table border=\"1\" class=\"dataframe\">\n",
       "  <thead>\n",
       "    <tr style=\"text-align: right;\">\n",
       "      <th></th>\n",
       "      <th>Diario</th>\n",
       "      <th>Autor</th>\n",
       "      <th>Fecha</th>\n",
       "      <th>Título</th>\n",
       "      <th>Texto</th>\n",
       "      <th>Vínculo</th>\n",
       "    </tr>\n",
       "    <tr>\n",
       "      <th>Fecha_formateada</th>\n",
       "      <th></th>\n",
       "      <th></th>\n",
       "      <th></th>\n",
       "      <th></th>\n",
       "      <th></th>\n",
       "      <th></th>\n",
       "    </tr>\n",
       "  </thead>\n",
       "  <tbody>\n",
       "    <tr>\n",
       "      <th>2018-01-31</th>\n",
       "      <td>533</td>\n",
       "      <td>533</td>\n",
       "      <td>533</td>\n",
       "      <td>533</td>\n",
       "      <td>533</td>\n",
       "      <td>533</td>\n",
       "    </tr>\n",
       "    <tr>\n",
       "      <th>2018-02-28</th>\n",
       "      <td>476</td>\n",
       "      <td>476</td>\n",
       "      <td>476</td>\n",
       "      <td>476</td>\n",
       "      <td>476</td>\n",
       "      <td>476</td>\n",
       "    </tr>\n",
       "    <tr>\n",
       "      <th>2018-03-31</th>\n",
       "      <td>453</td>\n",
       "      <td>453</td>\n",
       "      <td>453</td>\n",
       "      <td>453</td>\n",
       "      <td>453</td>\n",
       "      <td>453</td>\n",
       "    </tr>\n",
       "    <tr>\n",
       "      <th>2018-04-30</th>\n",
       "      <td>479</td>\n",
       "      <td>479</td>\n",
       "      <td>479</td>\n",
       "      <td>479</td>\n",
       "      <td>479</td>\n",
       "      <td>479</td>\n",
       "    </tr>\n",
       "    <tr>\n",
       "      <th>2018-05-31</th>\n",
       "      <td>558</td>\n",
       "      <td>558</td>\n",
       "      <td>558</td>\n",
       "      <td>558</td>\n",
       "      <td>558</td>\n",
       "      <td>558</td>\n",
       "    </tr>\n",
       "    <tr>\n",
       "      <th>2018-06-30</th>\n",
       "      <td>362</td>\n",
       "      <td>362</td>\n",
       "      <td>362</td>\n",
       "      <td>362</td>\n",
       "      <td>362</td>\n",
       "      <td>362</td>\n",
       "    </tr>\n",
       "    <tr>\n",
       "      <th>2018-07-31</th>\n",
       "      <td>284</td>\n",
       "      <td>284</td>\n",
       "      <td>284</td>\n",
       "      <td>284</td>\n",
       "      <td>284</td>\n",
       "      <td>284</td>\n",
       "    </tr>\n",
       "    <tr>\n",
       "      <th>2018-08-31</th>\n",
       "      <td>372</td>\n",
       "      <td>372</td>\n",
       "      <td>372</td>\n",
       "      <td>372</td>\n",
       "      <td>372</td>\n",
       "      <td>372</td>\n",
       "    </tr>\n",
       "    <tr>\n",
       "      <th>2018-09-30</th>\n",
       "      <td>409</td>\n",
       "      <td>409</td>\n",
       "      <td>409</td>\n",
       "      <td>409</td>\n",
       "      <td>409</td>\n",
       "      <td>409</td>\n",
       "    </tr>\n",
       "    <tr>\n",
       "      <th>2018-10-31</th>\n",
       "      <td>409</td>\n",
       "      <td>409</td>\n",
       "      <td>409</td>\n",
       "      <td>409</td>\n",
       "      <td>409</td>\n",
       "      <td>409</td>\n",
       "    </tr>\n",
       "    <tr>\n",
       "      <th>2018-11-30</th>\n",
       "      <td>455</td>\n",
       "      <td>455</td>\n",
       "      <td>455</td>\n",
       "      <td>455</td>\n",
       "      <td>455</td>\n",
       "      <td>455</td>\n",
       "    </tr>\n",
       "    <tr>\n",
       "      <th>2018-12-31</th>\n",
       "      <td>375</td>\n",
       "      <td>375</td>\n",
       "      <td>375</td>\n",
       "      <td>375</td>\n",
       "      <td>375</td>\n",
       "      <td>375</td>\n",
       "    </tr>\n",
       "    <tr>\n",
       "      <th>2019-01-31</th>\n",
       "      <td>290</td>\n",
       "      <td>290</td>\n",
       "      <td>290</td>\n",
       "      <td>290</td>\n",
       "      <td>290</td>\n",
       "      <td>289</td>\n",
       "    </tr>\n",
       "    <tr>\n",
       "      <th>2019-02-28</th>\n",
       "      <td>272</td>\n",
       "      <td>272</td>\n",
       "      <td>272</td>\n",
       "      <td>272</td>\n",
       "      <td>272</td>\n",
       "      <td>272</td>\n",
       "    </tr>\n",
       "    <tr>\n",
       "      <th>2019-03-31</th>\n",
       "      <td>306</td>\n",
       "      <td>306</td>\n",
       "      <td>306</td>\n",
       "      <td>306</td>\n",
       "      <td>306</td>\n",
       "      <td>306</td>\n",
       "    </tr>\n",
       "    <tr>\n",
       "      <th>2019-04-30</th>\n",
       "      <td>156</td>\n",
       "      <td>156</td>\n",
       "      <td>156</td>\n",
       "      <td>156</td>\n",
       "      <td>156</td>\n",
       "      <td>156</td>\n",
       "    </tr>\n",
       "    <tr>\n",
       "      <th>2019-05-31</th>\n",
       "      <td>351</td>\n",
       "      <td>351</td>\n",
       "      <td>351</td>\n",
       "      <td>351</td>\n",
       "      <td>351</td>\n",
       "      <td>351</td>\n",
       "    </tr>\n",
       "    <tr>\n",
       "      <th>2019-06-30</th>\n",
       "      <td>296</td>\n",
       "      <td>296</td>\n",
       "      <td>296</td>\n",
       "      <td>296</td>\n",
       "      <td>296</td>\n",
       "      <td>296</td>\n",
       "    </tr>\n",
       "    <tr>\n",
       "      <th>2019-07-31</th>\n",
       "      <td>362</td>\n",
       "      <td>362</td>\n",
       "      <td>362</td>\n",
       "      <td>362</td>\n",
       "      <td>362</td>\n",
       "      <td>362</td>\n",
       "    </tr>\n",
       "    <tr>\n",
       "      <th>2019-08-31</th>\n",
       "      <td>362</td>\n",
       "      <td>362</td>\n",
       "      <td>362</td>\n",
       "      <td>362</td>\n",
       "      <td>362</td>\n",
       "      <td>362</td>\n",
       "    </tr>\n",
       "    <tr>\n",
       "      <th>2019-09-30</th>\n",
       "      <td>271</td>\n",
       "      <td>271</td>\n",
       "      <td>271</td>\n",
       "      <td>271</td>\n",
       "      <td>271</td>\n",
       "      <td>271</td>\n",
       "    </tr>\n",
       "    <tr>\n",
       "      <th>2019-10-31</th>\n",
       "      <td>316</td>\n",
       "      <td>316</td>\n",
       "      <td>316</td>\n",
       "      <td>316</td>\n",
       "      <td>316</td>\n",
       "      <td>316</td>\n",
       "    </tr>\n",
       "    <tr>\n",
       "      <th>2019-11-30</th>\n",
       "      <td>343</td>\n",
       "      <td>343</td>\n",
       "      <td>343</td>\n",
       "      <td>343</td>\n",
       "      <td>343</td>\n",
       "      <td>343</td>\n",
       "    </tr>\n",
       "    <tr>\n",
       "      <th>2019-12-31</th>\n",
       "      <td>341</td>\n",
       "      <td>341</td>\n",
       "      <td>341</td>\n",
       "      <td>341</td>\n",
       "      <td>341</td>\n",
       "      <td>341</td>\n",
       "    </tr>\n",
       "    <tr>\n",
       "      <th>2020-01-31</th>\n",
       "      <td>310</td>\n",
       "      <td>310</td>\n",
       "      <td>310</td>\n",
       "      <td>310</td>\n",
       "      <td>310</td>\n",
       "      <td>310</td>\n",
       "    </tr>\n",
       "    <tr>\n",
       "      <th>2020-02-29</th>\n",
       "      <td>389</td>\n",
       "      <td>389</td>\n",
       "      <td>389</td>\n",
       "      <td>389</td>\n",
       "      <td>389</td>\n",
       "      <td>389</td>\n",
       "    </tr>\n",
       "    <tr>\n",
       "      <th>2020-03-31</th>\n",
       "      <td>440</td>\n",
       "      <td>440</td>\n",
       "      <td>440</td>\n",
       "      <td>440</td>\n",
       "      <td>440</td>\n",
       "      <td>440</td>\n",
       "    </tr>\n",
       "    <tr>\n",
       "      <th>2020-04-30</th>\n",
       "      <td>400</td>\n",
       "      <td>400</td>\n",
       "      <td>400</td>\n",
       "      <td>400</td>\n",
       "      <td>400</td>\n",
       "      <td>400</td>\n",
       "    </tr>\n",
       "    <tr>\n",
       "      <th>2020-05-31</th>\n",
       "      <td>405</td>\n",
       "      <td>405</td>\n",
       "      <td>405</td>\n",
       "      <td>405</td>\n",
       "      <td>405</td>\n",
       "      <td>405</td>\n",
       "    </tr>\n",
       "    <tr>\n",
       "      <th>2020-06-30</th>\n",
       "      <td>376</td>\n",
       "      <td>376</td>\n",
       "      <td>376</td>\n",
       "      <td>376</td>\n",
       "      <td>376</td>\n",
       "      <td>376</td>\n",
       "    </tr>\n",
       "    <tr>\n",
       "      <th>2020-07-31</th>\n",
       "      <td>375</td>\n",
       "      <td>375</td>\n",
       "      <td>375</td>\n",
       "      <td>375</td>\n",
       "      <td>375</td>\n",
       "      <td>375</td>\n",
       "    </tr>\n",
       "    <tr>\n",
       "      <th>2020-08-31</th>\n",
       "      <td>364</td>\n",
       "      <td>364</td>\n",
       "      <td>364</td>\n",
       "      <td>364</td>\n",
       "      <td>364</td>\n",
       "      <td>364</td>\n",
       "    </tr>\n",
       "    <tr>\n",
       "      <th>2020-09-30</th>\n",
       "      <td>352</td>\n",
       "      <td>352</td>\n",
       "      <td>352</td>\n",
       "      <td>352</td>\n",
       "      <td>352</td>\n",
       "      <td>352</td>\n",
       "    </tr>\n",
       "    <tr>\n",
       "      <th>2020-10-31</th>\n",
       "      <td>333</td>\n",
       "      <td>333</td>\n",
       "      <td>333</td>\n",
       "      <td>333</td>\n",
       "      <td>333</td>\n",
       "      <td>333</td>\n",
       "    </tr>\n",
       "    <tr>\n",
       "      <th>2020-11-30</th>\n",
       "      <td>400</td>\n",
       "      <td>400</td>\n",
       "      <td>400</td>\n",
       "      <td>400</td>\n",
       "      <td>400</td>\n",
       "      <td>400</td>\n",
       "    </tr>\n",
       "    <tr>\n",
       "      <th>2020-12-31</th>\n",
       "      <td>367</td>\n",
       "      <td>367</td>\n",
       "      <td>367</td>\n",
       "      <td>366</td>\n",
       "      <td>367</td>\n",
       "      <td>367</td>\n",
       "    </tr>\n",
       "  </tbody>\n",
       "</table>\n",
       "</div>"
      ],
      "text/plain": [
       "                  Diario  Autor  Fecha  Título  Texto  Vínculo\n",
       "Fecha_formateada                                              \n",
       "2018-01-31           533    533    533     533    533      533\n",
       "2018-02-28           476    476    476     476    476      476\n",
       "2018-03-31           453    453    453     453    453      453\n",
       "2018-04-30           479    479    479     479    479      479\n",
       "2018-05-31           558    558    558     558    558      558\n",
       "2018-06-30           362    362    362     362    362      362\n",
       "2018-07-31           284    284    284     284    284      284\n",
       "2018-08-31           372    372    372     372    372      372\n",
       "2018-09-30           409    409    409     409    409      409\n",
       "2018-10-31           409    409    409     409    409      409\n",
       "2018-11-30           455    455    455     455    455      455\n",
       "2018-12-31           375    375    375     375    375      375\n",
       "2019-01-31           290    290    290     290    290      289\n",
       "2019-02-28           272    272    272     272    272      272\n",
       "2019-03-31           306    306    306     306    306      306\n",
       "2019-04-30           156    156    156     156    156      156\n",
       "2019-05-31           351    351    351     351    351      351\n",
       "2019-06-30           296    296    296     296    296      296\n",
       "2019-07-31           362    362    362     362    362      362\n",
       "2019-08-31           362    362    362     362    362      362\n",
       "2019-09-30           271    271    271     271    271      271\n",
       "2019-10-31           316    316    316     316    316      316\n",
       "2019-11-30           343    343    343     343    343      343\n",
       "2019-12-31           341    341    341     341    341      341\n",
       "2020-01-31           310    310    310     310    310      310\n",
       "2020-02-29           389    389    389     389    389      389\n",
       "2020-03-31           440    440    440     440    440      440\n",
       "2020-04-30           400    400    400     400    400      400\n",
       "2020-05-31           405    405    405     405    405      405\n",
       "2020-06-30           376    376    376     376    376      376\n",
       "2020-07-31           375    375    375     375    375      375\n",
       "2020-08-31           364    364    364     364    364      364\n",
       "2020-09-30           352    352    352     352    352      352\n",
       "2020-10-31           333    333    333     333    333      333\n",
       "2020-11-30           400    400    400     400    400      400\n",
       "2020-12-31           367    367    367     366    367      367"
      ]
     },
     "execution_count": 20,
     "metadata": {},
     "output_type": "execute_result"
    }
   ],
   "source": [
    "corpus_completo.groupby(pd.Grouper(key='Fecha_formateada', axis=0, freq='ME')).count()\n"
   ]
  },
  {
   "cell_type": "code",
   "execution_count": 22,
   "id": "a0265f82",
   "metadata": {},
   "outputs": [
    {
     "data": {
      "text/html": [
       "<div>\n",
       "<style scoped>\n",
       "    .dataframe tbody tr th:only-of-type {\n",
       "        vertical-align: middle;\n",
       "    }\n",
       "\n",
       "    .dataframe tbody tr th {\n",
       "        vertical-align: top;\n",
       "    }\n",
       "\n",
       "    .dataframe thead th {\n",
       "        text-align: right;\n",
       "    }\n",
       "</style>\n",
       "<table border=\"1\" class=\"dataframe\">\n",
       "  <thead>\n",
       "    <tr style=\"text-align: right;\">\n",
       "      <th></th>\n",
       "      <th>Diario</th>\n",
       "      <th>Fecha</th>\n",
       "      <th>Título</th>\n",
       "      <th>Texto</th>\n",
       "      <th>Vínculo</th>\n",
       "      <th>Fecha_formateada</th>\n",
       "    </tr>\n",
       "    <tr>\n",
       "      <th>Autor</th>\n",
       "      <th></th>\n",
       "      <th></th>\n",
       "      <th></th>\n",
       "      <th></th>\n",
       "      <th></th>\n",
       "      <th></th>\n",
       "    </tr>\n",
       "  </thead>\n",
       "  <tbody>\n",
       "    <tr>\n",
       "      <th>Abdón Espinosa Valderrama</th>\n",
       "      <td>2</td>\n",
       "      <td>2</td>\n",
       "      <td>2</td>\n",
       "      <td>2</td>\n",
       "      <td>2</td>\n",
       "      <td>2</td>\n",
       "    </tr>\n",
       "    <tr>\n",
       "      <th>Abel Veiga Copo</th>\n",
       "      <td>5</td>\n",
       "      <td>5</td>\n",
       "      <td>5</td>\n",
       "      <td>5</td>\n",
       "      <td>5</td>\n",
       "      <td>5</td>\n",
       "    </tr>\n",
       "    <tr>\n",
       "      <th>Adolfo León Atehortúa Cruz</th>\n",
       "      <td>11</td>\n",
       "      <td>11</td>\n",
       "      <td>11</td>\n",
       "      <td>11</td>\n",
       "      <td>11</td>\n",
       "      <td>11</td>\n",
       "    </tr>\n",
       "    <tr>\n",
       "      <th>Adolfo Meisel Roca</th>\n",
       "      <td>37</td>\n",
       "      <td>37</td>\n",
       "      <td>37</td>\n",
       "      <td>37</td>\n",
       "      <td>37</td>\n",
       "      <td>37</td>\n",
       "    </tr>\n",
       "    <tr>\n",
       "      <th>Adolfo Zableh Durán</th>\n",
       "      <td>53</td>\n",
       "      <td>53</td>\n",
       "      <td>53</td>\n",
       "      <td>53</td>\n",
       "      <td>53</td>\n",
       "      <td>53</td>\n",
       "    </tr>\n",
       "    <tr>\n",
       "      <th>...</th>\n",
       "      <td>...</td>\n",
       "      <td>...</td>\n",
       "      <td>...</td>\n",
       "      <td>...</td>\n",
       "      <td>...</td>\n",
       "      <td>...</td>\n",
       "    </tr>\n",
       "    <tr>\n",
       "      <th>Óscar Alarcón</th>\n",
       "      <td>110</td>\n",
       "      <td>110</td>\n",
       "      <td>110</td>\n",
       "      <td>110</td>\n",
       "      <td>110</td>\n",
       "      <td>110</td>\n",
       "    </tr>\n",
       "    <tr>\n",
       "      <th>Óscar Domínguez Giraldo</th>\n",
       "      <td>21</td>\n",
       "      <td>21</td>\n",
       "      <td>21</td>\n",
       "      <td>21</td>\n",
       "      <td>21</td>\n",
       "      <td>21</td>\n",
       "    </tr>\n",
       "    <tr>\n",
       "      <th>Óscar Rodrigo Campo Hurtado</th>\n",
       "      <td>1</td>\n",
       "      <td>1</td>\n",
       "      <td>1</td>\n",
       "      <td>1</td>\n",
       "      <td>1</td>\n",
       "      <td>1</td>\n",
       "    </tr>\n",
       "    <tr>\n",
       "      <th>Óscar Sevillano</th>\n",
       "      <td>116</td>\n",
       "      <td>116</td>\n",
       "      <td>116</td>\n",
       "      <td>116</td>\n",
       "      <td>116</td>\n",
       "      <td>116</td>\n",
       "    </tr>\n",
       "    <tr>\n",
       "      <th>Óscar Sánchez</th>\n",
       "      <td>11</td>\n",
       "      <td>11</td>\n",
       "      <td>11</td>\n",
       "      <td>11</td>\n",
       "      <td>11</td>\n",
       "      <td>11</td>\n",
       "    </tr>\n",
       "  </tbody>\n",
       "</table>\n",
       "<p>577 rows × 6 columns</p>\n",
       "</div>"
      ],
      "text/plain": [
       "                             Diario  Fecha  Título  Texto  Vínculo  \\\n",
       "Autor                                                                \n",
       "Abdón Espinosa Valderrama         2      2       2      2        2   \n",
       "Abel Veiga Copo                   5      5       5      5        5   \n",
       "Adolfo León Atehortúa Cruz       11     11      11     11       11   \n",
       "Adolfo Meisel Roca               37     37      37     37       37   \n",
       "Adolfo Zableh Durán              53     53      53     53       53   \n",
       "...                             ...    ...     ...    ...      ...   \n",
       "Óscar Alarcón                   110    110     110    110      110   \n",
       "Óscar Domínguez Giraldo          21     21      21     21       21   \n",
       "Óscar Rodrigo Campo Hurtado       1      1       1      1        1   \n",
       "Óscar Sevillano                 116    116     116    116      116   \n",
       "Óscar Sánchez                    11     11      11     11       11   \n",
       "\n",
       "                             Fecha_formateada  \n",
       "Autor                                          \n",
       "Abdón Espinosa Valderrama                   2  \n",
       "Abel Veiga Copo                             5  \n",
       "Adolfo León Atehortúa Cruz                 11  \n",
       "Adolfo Meisel Roca                         37  \n",
       "Adolfo Zableh Durán                        53  \n",
       "...                                       ...  \n",
       "Óscar Alarcón                             110  \n",
       "Óscar Domínguez Giraldo                    21  \n",
       "Óscar Rodrigo Campo Hurtado                 1  \n",
       "Óscar Sevillano                           116  \n",
       "Óscar Sánchez                              11  \n",
       "\n",
       "[577 rows x 6 columns]"
      ]
     },
     "execution_count": 22,
     "metadata": {},
     "output_type": "execute_result"
    }
   ],
   "source": [
    "corpus_completo.groupby('Autor').count()"
   ]
  },
  {
   "cell_type": "code",
   "execution_count": null,
   "id": "574cdb2b",
   "metadata": {},
   "outputs": [
    {
     "data": {
      "text/plain": [
       "['hola', 'mundo.']"
      ]
     },
     "execution_count": 24,
     "metadata": {},
     "output_type": "execute_result"
    }
   ],
   "source": []
  },
  {
   "cell_type": "markdown",
   "id": "a3112c10",
   "metadata": {},
   "source": [
    "# Transformación a archivos txt"
   ]
  },
  {
   "cell_type": "code",
   "execution_count": 110,
   "id": "2971da91",
   "metadata": {},
   "outputs": [],
   "source": [
    "corpus = corpus_completo.drop('Fecha_formateada', axis=1)\n",
    "# Crear numeración de las filas\n",
    "corpus['ID'] = range(1, len(corpus) + 1)"
   ]
  },
  {
   "cell_type": "code",
   "execution_count": 111,
   "id": "dbf0103f",
   "metadata": {},
   "outputs": [
    {
     "name": "stderr",
     "output_type": "stream",
     "text": [
      "c:\\Users\\karen\\anaconda3\\Lib\\site-packages\\xlsxwriter\\workbook.py:124: DeprecationWarning: datetime.datetime.utcnow() is deprecated and scheduled for removal in a future version. Use timezone-aware objects to represent datetimes in UTC: datetime.datetime.now(datetime.UTC).\n",
      "  self.createtime = datetime.utcnow()\n",
      "c:\\Users\\karen\\anaconda3\\Lib\\site-packages\\xlsxwriter\\core.py:121: DeprecationWarning: datetime.datetime.utcnow() is deprecated and scheduled for removal in a future version. Use timezone-aware objects to represent datetimes in UTC: datetime.datetime.now(datetime.UTC).\n",
      "  date = self.properties.get(\"created\", datetime.utcnow())\n",
      "c:\\Users\\karen\\anaconda3\\Lib\\site-packages\\xlsxwriter\\core.py:138: DeprecationWarning: datetime.datetime.utcnow() is deprecated and scheduled for removal in a future version. Use timezone-aware objects to represent datetimes in UTC: datetime.datetime.now(datetime.UTC).\n",
      "  date = self.properties.get(\"created\", datetime.utcnow())\n"
     ]
    }
   ],
   "source": [
    "# Llevar dataframe a excel\n",
    "corpus.to_excel('Corpus_completo.xlsx', index=False)"
   ]
  },
  {
   "cell_type": "code",
   "execution_count": 114,
   "id": "7cfdd71c",
   "metadata": {},
   "outputs": [
    {
     "name": "stdout",
     "output_type": "stream",
     "text": [
      "Archivo guardado: archivos_txt\\13342_Semana.txt\n"
     ]
    }
   ],
   "source": [
    "# Nombre de la carpeta donde se guardarán los archivos\n",
    "carpeta_salida = \"archivos_txt\"\n",
    "\n",
    "# Crear la carpeta si no existe\n",
    "os.makedirs(carpeta_salida, exist_ok=True)\n",
    "\n",
    "\n",
    "for index, row in corpus.iterrows():\n",
    "    # Crear el nombre del archivo: \"ID_Diario.txt\"\n",
    "    fila = str(row['ID']).zfill(5) \n",
    "    nombre_archivo = f\"{fila}_{row['Diario']}.txt\"\n",
    "    \n",
    "    # Ruta completa del archivo (dentro de la carpeta)\n",
    "    ruta_archivo = os.path.join(carpeta_salida, nombre_archivo)\n",
    "    \n",
    "    # Contenido del archivo (aquí guardamos todas las columnas como texto separado por tabulaciones)\n",
    "    contenido = \"\\n\".join([str(row[col]) for col in ['ID', 'Diario','Título', 'Fecha', 'Autor', 'Texto']])\n",
    "    \n",
    "    # Escribir el archivo\n",
    "    with open(ruta_archivo, 'w', encoding='utf-8') as f:\n",
    "        f.write(contenido)\n",
    "    \n",
    "print(f\"Archivo guardado: {ruta_archivo}\")"
   ]
  },
  {
   "cell_type": "markdown",
   "id": "380805c2",
   "metadata": {},
   "source": [
    "# Preprocesamiento"
   ]
  },
  {
   "cell_type": "markdown",
   "id": "4e8cf86d",
   "metadata": {},
   "source": [
    "https://spacy.io/models/es"
   ]
  },
  {
   "cell_type": "code",
   "execution_count": 79,
   "id": "a6a8e6bf",
   "metadata": {},
   "outputs": [
    {
     "name": "stdout",
     "output_type": "stream",
     "text": [
      "Collecting es-core-news-md==3.8.0\n",
      "  Downloading https://github.com/explosion/spacy-models/releases/download/es_core_news_md-3.8.0/es_core_news_md-3.8.0-py3-none-any.whl (42.3 MB)\n",
      "     ---------------------------------------- 0.0/42.3 MB ? eta -:--:--\n",
      "     ---- ----------------------------------- 4.7/42.3 MB 35.7 MB/s eta 0:00:02\n",
      "     ------------------ -------------------- 20.4/42.3 MB 61.5 MB/s eta 0:00:01\n",
      "     --------------------------------------  41.4/42.3 MB 77.5 MB/s eta 0:00:01\n",
      "     --------------------------------------- 42.3/42.3 MB 69.0 MB/s eta 0:00:00\n",
      "Installing collected packages: es-core-news-md\n",
      "Successfully installed es-core-news-md-3.8.0\n",
      "\u001b[38;5;2m✔ Download and installation successful\u001b[0m\n",
      "You can now load the package via spacy.load('es_core_news_md')\n"
     ]
    }
   ],
   "source": [
    "!python -m spacy download es_core_news_md"
   ]
  },
  {
   "cell_type": "code",
   "execution_count": 55,
   "id": "956b1fbc",
   "metadata": {},
   "outputs": [],
   "source": [
    "# Preprocesamiento de los datos\n",
    "\n",
    "# Cargar modelo de lenguaje en español de Spacy, el modelo más pequeño\n",
    "#nlp = spacy.load(\"es_core_news_sm\")\n",
    "\n",
    "# Cargar modelo de lenguaje en español de Spacy, el modelo mediano\n",
    "nlp = spacy.load(\"es_core_news_md\")\n",
    "\n",
    "\n",
    "# Modelo que incluye transformers \n",
    "#nlp = spacy.load(\"es_dep_news_trf\")"
   ]
  },
  {
   "cell_type": "markdown",
   "id": "114002b8",
   "metadata": {},
   "source": [
    "## Función de preprocesamiento "
   ]
  },
  {
   "cell_type": "code",
   "execution_count": 56,
   "id": "42e6826b",
   "metadata": {},
   "outputs": [],
   "source": [
    "def preprocesar_texto(texto):\n",
    "    # Limpieza\n",
    "    texto = re.sub(r'http\\S+|www\\S+|https\\S+', '', texto, flags=re.MULTILINE) # eliminar URLs\n",
    "    texto = re.sub(r'\\S+@\\S+', '', texto) # eliminar correos electrónicos\n",
    "    texto = re.sub(r'[^\\w\\sáéíóúñÁÉÍÓÚÑ]', ' ', texto) # mantener solo caracteres alfanuméricos y acentos\n",
    "    \n",
    "    # Procesamiento con spaCy tokenizacion\n",
    "    doc = nlp(texto)\n",
    "    \n",
    "    # Lematización y filtrado\n",
    "    tokens = [\n",
    "        token.text for token in doc\n",
    "        if not token.is_punct \n",
    "        and not token.is_stop\n",
    "        and not token.is_space\n",
    "        and token.pos_ in ['NOUN', 'VERB', 'PROPN','ADJ', 'NUM']  # Tomar solo sustantivos, verbos, nombres propios, adjetivos y numerales\n",
    "        and len(token.lemma_) > 3  # Eliminar palabras muy cortas\n",
    "        and token.text.isalpha()  # Solo palabras alfabéticas\n",
    "    ]\n",
    "    \n",
    "    return \" \".join(tokens)"
   ]
  },
  {
   "cell_type": "code",
   "execution_count": 151,
   "id": "d05f877e",
   "metadata": {},
   "outputs": [
    {
     "name": "stdout",
     "output_type": "stream",
     "text": [
      "Collecting pyldavisNote: you may need to restart the kernel to use updated packages.\n",
      "\n",
      "  Using cached pyLDAvis-3.4.1-py3-none-any.whl.metadata (4.2 kB)\n",
      "Requirement already satisfied: numpy>=1.24.2 in c:\\users\\karen\\anaconda3\\lib\\site-packages (from pyldavis) (1.26.4)\n",
      "Requirement already satisfied: scipy in c:\\users\\karen\\anaconda3\\lib\\site-packages (from pyldavis) (1.11.4)\n",
      "Requirement already satisfied: pandas>=2.0.0 in c:\\users\\karen\\anaconda3\\lib\\site-packages (from pyldavis) (2.3.1)\n",
      "Requirement already satisfied: joblib>=1.2.0 in c:\\users\\karen\\anaconda3\\lib\\site-packages (from pyldavis) (1.4.2)\n",
      "Requirement already satisfied: jinja2 in c:\\users\\karen\\anaconda3\\lib\\site-packages (from pyldavis) (3.1.4)\n",
      "Requirement already satisfied: numexpr in c:\\users\\karen\\anaconda3\\lib\\site-packages (from pyldavis) (2.8.7)\n",
      "Requirement already satisfied: funcy in c:\\users\\karen\\anaconda3\\lib\\site-packages (from pyldavis) (2.0)\n",
      "Requirement already satisfied: scikit-learn>=1.0.0 in c:\\users\\karen\\anaconda3\\lib\\site-packages (from pyldavis) (1.7.1)\n",
      "Requirement already satisfied: gensim in c:\\users\\karen\\anaconda3\\lib\\site-packages (from pyldavis) (4.3.3)\n",
      "Requirement already satisfied: setuptools in c:\\users\\karen\\anaconda3\\lib\\site-packages (from pyldavis) (75.1.0)\n",
      "Requirement already satisfied: python-dateutil>=2.8.2 in c:\\users\\karen\\anaconda3\\lib\\site-packages (from pandas>=2.0.0->pyldavis) (2.9.0.post0)\n",
      "Requirement already satisfied: pytz>=2020.1 in c:\\users\\karen\\anaconda3\\lib\\site-packages (from pandas>=2.0.0->pyldavis) (2024.1)\n",
      "Requirement already satisfied: tzdata>=2022.7 in c:\\users\\karen\\anaconda3\\lib\\site-packages (from pandas>=2.0.0->pyldavis) (2023.3)\n",
      "Requirement already satisfied: threadpoolctl>=3.1.0 in c:\\users\\karen\\anaconda3\\lib\\site-packages (from scikit-learn>=1.0.0->pyldavis) (3.5.0)\n",
      "Requirement already satisfied: smart-open>=1.8.1 in c:\\users\\karen\\anaconda3\\lib\\site-packages (from gensim->pyldavis) (5.2.1)\n",
      "Requirement already satisfied: MarkupSafe>=2.0 in c:\\users\\karen\\anaconda3\\lib\\site-packages (from jinja2->pyldavis) (2.1.3)\n",
      "Requirement already satisfied: six>=1.5 in c:\\users\\karen\\anaconda3\\lib\\site-packages (from python-dateutil>=2.8.2->pandas>=2.0.0->pyldavis) (1.16.0)\n",
      "Using cached pyLDAvis-3.4.1-py3-none-any.whl (2.6 MB)\n",
      "Installing collected packages: pyldavis\n",
      "Successfully installed pyldavis-3.4.1\n"
     ]
    }
   ],
   "source": [
    "%pip install pyldavis"
   ]
  },
  {
   "cell_type": "markdown",
   "id": "439f0fe2",
   "metadata": {},
   "source": [
    "# Texto Completo LDA"
   ]
  },
  {
   "cell_type": "markdown",
   "id": "3cf3b64a",
   "metadata": {},
   "source": [
    "## Preprocesamiento y representación vectorial"
   ]
  },
  {
   "cell_type": "code",
   "execution_count": 7,
   "id": "ebecbd00",
   "metadata": {},
   "outputs": [
    {
     "name": "stdout",
     "output_type": "stream",
     "text": [
      "{'sí', 'tus', 'hago', 'qué', 'solos', 'tener', 'será', 'nuevo', 'podemos', 'son', 'estamos', 'queremos', 'va', 'podeis', 'eso', 'los', 'muchas', 'lleva', 'o', 'hicieron', 'qeu', 'tuyos', 'mediante', 'excepto', 'cuando', 'tenga', 'cualquier', 'este', 'diez', 'por', 'ésta', 'ésas', 'ellos', 'mismo', 'debe', 'deben', 'da', 'nada', 'está', 'cierto', 'bien', 'segundo', 'cuánta', 'nuestras', 'pasada', 'podrán', 'tendrán', 'peor', 'cuál', 'les', 'poco', 'parece', 'uno', 'tuvo', 'sin', 'expresó', 'nuestro', 'seis', 'aquel', 'tanto', 'saber', 'aquella', 'partir', 'tercera', 'podrían', 'así', 'ningunos', 'encuentra', 'habrá', 'consiguen', 'estaba', 'también', 'éstos', 'manera', 'podrá', 'usa', 'ahi', 'mucho', 'te', 'sólo', 'estas', 'tuya', 'soy', 'hacerlo', 'detras', 'sera', 'poner', 'mi', 'pues', 'tendrá', 'eran', 'fuimos', 'ahí', 'igual', 'existe', 'ésa', 'despacio', 'he', 'usas', 'cuáles', 'quedó', 'yo', 'ya', 'habia', 'todo', 'entre', 'respecto', 'fue', 'esa', 'primeros', 'dijo', 'siempre', 'ello', 'ellas', 'siguiente', 'él', 'manifestó', 'aqui', 'tiene', 'estuvo', 'somos', 'pronto', 'tuyo', 'haber', 'dias', 'dar', 'estaban', 'vosotros', 'tercero', 'señaló', 'ésos', 'cierta', 'posible', 'tres', 'suyo', 'además', 'nuevas', 'debido', 'haceis', 'sois', 'menudo', 'aunque', 'nosotras', 'cuenta', 'puedo', 'era', 'alli', 'después', 'algunos', 'mía', 'dieron', 'podrias', 'muchos', 'dio', 'paìs', 'poder', 'otros', 'ciertas', 'sé', 'durante', 'claro', 'que', 'una', 'mia', 'mencionó', 'al', 'luego', 'había', 'según', 'anterior', 'misma', 'habían', 'buen', 'ser', 'no', 'hablan', 'habla', 'mismas', 'todos', 'junto', 'todavía', 'dijeron', 'supuesto', 'pudo', 'vuestros', 'suya', 'tal', 'míos', 'aquéllas', 'dos', 'realizó', 'hecho', 'medio', 'estoy', 'de', 'dicen', 'contra', 'informo', 'diferente', 'once', 'primer', 'largo', 'modo', 'muy', 'sino', 'puede', 'repente', 'veces', 'esos', 'hacia', 'días', 'solas', 'tambien', 'mucha', 'enfrente', 'dan', 'lo', 'antes', 'aquélla', 'indicó', 'mio', 'varios', 'grande', 'conseguir', 'tú', 'cuatro', 'pesar', 'todas', 'quizá', 'tan', 'ningún', 'despues', 'siendo', 'las', 'dentro', 'tenía', 'e', 'esas', 'tenido', 'sabes', 'cuantos', 'sabemos', 'existen', 'están', 'acuerdo', 'trata', 'doce', 'aquí', 'aproximadamente', 'unos', 'alguno', 'arriba', 'haciendo', 'alrededor', 'verdadera', 'enseguida', 'solamente', 'hacemos', 'próximo', 'hubo', 'dónde', 'asi', 'ninguna', 'otras', 'primera', 'deprisa', 'podriamos', 'nueve', 'suyas', 'a', 'podría', 'segunda', 'atras', 'nuevos', 'sea', 'desde', 'mis', 'apenas', 'ella', 'realizado', 'hemos', 'quizas', 'uso', 'fuera', 'unas', 'estos', 'sabe', 'pocos', 'tu', 'creo', 'quienes', 'decir', 'dejó', 'ha', 'vuestro', 'encima', 'aun', 'cinco', 'pasado', 'del', 'como', 'se', 'ahora', 'cuánto', 'podria', 'adelante', 'consigo', 'próximos', 'éstas', 'estais', 'otra', 'algunas', 'informó', 'vais', 'bajo', 'eres', 'agregó', 'segun', 'quien', 'cuanto', 'delante', 'más', 'algo', 'diferentes', 'nuestra', 'realizar', 'demás', 'la', 'solo', 'propios', 'pueden', 'ese', 'parte', 'estar', 'cómo', 'debajo', 'vamos', 'aquello', 'entonces', 'aquellos', 'éste', 'hasta', 'hacer', 'le', 'todavia', 'vosotras', 'van', 'mías', 'estado', 'bastante', 'me', 'ademas', 'os', 'sola', 'siete', 'cada', 'incluso', 'grandes', 'alguna', 'quizás', 'nosotros', 'ése', 'cuantas', 'dia', 'cuanta', 'gran', 'consigues', 'haces', 'cuántos', 'eramos', 'poca', 'hay', 'conocer', 'propias', 'verdad', 'ver', 'allí', 'última', 'comentó', 'vaya', 'menos', 'cuántas', 'ocho', 'fueron', 'sus', 'hacen', 'mayor', 'han', 'aún', 'mias', 'buenos', 'último', 'serán', 'ni', 'mas', 'primero', 'pero', 'usan', 'ningunas', 'ustedes', 'haya', 'través', 'contigo', 'usted', 'ante', 'quiénes', 'varias', 'ninguno', 'ti', 'hace', 'últimos', 'porque', 'mientras', 'sido', 'tienen', 'verdadero', 'donde', 'temprano', 'tras', 'ambos', 'dado', 'vez', 'embargo', 'eras', 'fui', 'usamos', 'ciertos', 'conmigo', 'ultimo', 'aseguró', 'tuyas', 'mejor', 'final', 'nadie', 'saben', 'cual', 'demasiado', 'el', 'pocas', 'suyos', 'buenas', 'detrás', 'voy', 'sobre', 'hizo', 'para', 'añadió', 'cuales', 'aquellas', 'estados', 'nos', 'esto', 'mío', 'si', 'es', 'podrian', 'tenemos', 'buena', 'día', 'llegó', 'propia', 'algún', 'ir', 'últimas', 'considera', 'tarde', 'usais', 'conseguimos', 'con', 'mismos', 'quiere', 'dice', 'podriais', 'total', 'usar', 'estan', 'nueva', 'sean', 'mal', 'sería', 'quién', 'proximo', 'otro', 'en', 'pueda', 'un', 'su', 'dicho', 'fin', 'y', 'hoy', 'tengo', 'casi', 'sabeis', 'nuestros', 'u', 'aquél', 'nunca', 'sigue', 'vuestra', 'toda', 'teneis', 'llevar', 'propio', 'esta', 'cuándo', 'breve', 'estará', 'consideró', 'vuestras', 'bueno', 'aquéllos', 'afirmó', 'lado', 'mí', 'tampoco', 'consigue', 'quiza', 'salvo', 'explicó', 'mios'}\n"
     ]
    }
   ],
   "source": [
    "# Para ver las stopwords en español\n",
    "print(STOP_WORDS)"
   ]
  },
  {
   "cell_type": "code",
   "execution_count": 57,
   "id": "e9a36858",
   "metadata": {},
   "outputs": [],
   "source": [
    "# Añadir stopwords \n",
    "nlp.Defaults.stop_words |= {\"tola\",\"maruja\",\"gazapera\"}"
   ]
  },
  {
   "cell_type": "code",
   "execution_count": 65,
   "id": "dce7062b",
   "metadata": {},
   "outputs": [],
   "source": [
    "# Procesar los primeros 1000 textos de columnas, eliminando urls, stopwords del diccionario de Spacy y lematizando\n",
    "procesar = False\n",
    "if procesar:\n",
    "    columnas_procesadas = corpus_completo['Texto'].astype(str).apply(preprocesar_texto)\n"
   ]
  },
  {
   "cell_type": "code",
   "execution_count": 66,
   "id": "0ebc728b",
   "metadata": {},
   "outputs": [],
   "source": [
    "# Guardar en archivo JSON el texto procesado para evitar correrlo de nuevo\n",
    "with open('columnas_procesadas.json', 'w', encoding='utf-8') as f:\n",
    "    json.dump(columnas_procesadas.tolist(), f, ensure_ascii=False, indent=4)  "
   ]
  },
  {
   "cell_type": "code",
   "execution_count": 58,
   "id": "690553c0",
   "metadata": {},
   "outputs": [],
   "source": [
    "# Cargar el texto procesado desde el archivo JSON\n",
    "with open('columnas_procesadas.json', 'r', encoding='utf-8') as f:\n",
    "    columnas_procesadas = pd.Series(json.load(f))"
   ]
  },
  {
   "cell_type": "code",
   "execution_count": 59,
   "id": "4bdf8c62",
   "metadata": {},
   "outputs": [
    {
     "name": "stdout",
     "output_type": "stream",
     "text": [
      "count    13344.000000\n",
      "mean       252.886016\n",
      "std         90.060471\n",
      "min         53.000000\n",
      "25%        209.000000\n",
      "50%        237.000000\n",
      "75%        275.000000\n",
      "max       2259.000000\n",
      "dtype: float64\n"
     ]
    }
   ],
   "source": [
    "longitudes = columnas_procesadas.apply(lambda x: len(x.split()))\n",
    "\n",
    "print(longitudes.describe())"
   ]
  },
  {
   "cell_type": "code",
   "execution_count": 60,
   "id": "a97b628b",
   "metadata": {},
   "outputs": [],
   "source": [
    "def eliminar_bigrama(texto):\n",
    "    return texto.replace(\"email protected\", \"\")\n",
    "columnas_procesadas = columnas_procesadas.apply(eliminar_bigrama)"
   ]
  },
  {
   "cell_type": "markdown",
   "id": "9a9c9833",
   "metadata": {},
   "source": [
    "Para la representación se puede matriz término documento por frecuencia y matriz con ponderación tf-idf, consideraré los bigramas también.\n",
    "\n",
    "El parametro max_df indica ignorar palabras que aparecen en un porcentaje de documentos mayor al dado (ignorar palabras muy frecuentes). El min_df es la frecuencia mínima en documentos, para eliminar palabras muy raras."
   ]
  },
  {
   "cell_type": "code",
   "execution_count": 61,
   "id": "d5b2bd08",
   "metadata": {},
   "outputs": [],
   "source": [
    "tfidf_vectorizer = TfidfVectorizer(ngram_range=(2, 4), max_df=0.7, min_df=10, max_features=15000)\n",
    "matriz_columnas = tfidf_vectorizer.fit_transform(columnas_procesadas)"
   ]
  },
  {
   "cell_type": "code",
   "execution_count": 62,
   "id": "e732227d",
   "metadata": {},
   "outputs": [
    {
     "data": {
      "text/plain": [
       "(13344, 12845)"
      ]
     },
     "execution_count": 62,
     "metadata": {},
     "output_type": "execute_result"
    }
   ],
   "source": [
    "matriz_columnas.shape"
   ]
  },
  {
   "cell_type": "markdown",
   "id": "1e0403de",
   "metadata": {},
   "source": [
    "## Modelado Tópicos LDA\n",
    "https://nbviewer.org/github/bmabey/pyLDAvis/blob/master/notebooks/LDA%20model.ipynb#topic=0&lambda=1&term= Para visualizar"
   ]
  },
  {
   "cell_type": "code",
   "execution_count": 75,
   "id": "29d01b09",
   "metadata": {},
   "outputs": [],
   "source": [
    "# Función para mostrar los tópicos\n",
    "def mostrar_topicos(modelo, vectorizer, n_palabras=10):\n",
    "    palabras = vectorizer.get_feature_names_out()\n",
    "    for idx, topico in enumerate(modelo.components_):\n",
    "        print(f\"Tópico #{idx}:\")\n",
    "        print(\", \".join([palabras[i] for i in topico.argsort()[:-n_palabras - 1:-1]]))\n",
    "        print()"
   ]
  },
  {
   "cell_type": "code",
   "execution_count": 64,
   "id": "8bce32c1",
   "metadata": {},
   "outputs": [
    {
     "name": "stdout",
     "output_type": "stream",
     "text": [
      "Tópico #0:\n",
      "donald trump, casa blanca, presidente trump, guerra mundial, política exterior, presidente unidos, medios comunicación, reino unido, unión europea, corea norte\n",
      "\n",
      "Tópico #1:\n",
      "frutas verduras, santo domingo, real madrid, desarrollo personalidad, libre desarrollo, duras penas, libre desarrollo personalidad, teatro santo, teatro santo domingo, garcía lorca\n",
      "\n",
      "Tópico #2:\n",
      "iván duque, centro democrático, álvaro uribe, corte suprema, gustavo petro, vargas lleras, presidente duque, juan manuel, uribe vélez, juan manuel santos\n",
      "\n",
      "Tópico #3:\n",
      "medios comunicación, presidente duque, libertad expresión, dosis mínima, lleras restrepo, carlos lleras, juan pablo, libertad prensa, investigador dejusticia, dejusticia profesor\n",
      "\n",
      "Tópico #4:\n",
      "lópez obrador, memoria histórica, nacional memoria, centro nacional, centro nacional memoria, nacional memoria histórica, centro nacional memoria histórica, cambio climático, manuel lópez, manuel lópez obrador\n",
      "\n",
      "Tópico #5:\n",
      "líderes sociales, derechos humanos, conflicto armado, defensores derechos humanos, defensores derechos, asesinatos líderes, grupos armados, retorno inversión, asesinatos líderes sociales, vale pena\n",
      "\n",
      "Tópico #6:\n",
      "derechos humanos, conflicto armado, grupos armados, violencia sexual, naciones unidas, fuerza pública, corte constitucional, derecho internacional, cambio climático, guerra drogas\n",
      "\n",
      "Tópico #7:\n",
      "vicepresidenta marta lucía ramírez, vicepresidenta marta lucía, vicepresidenta marta, presidente duque, marta lucía, derechos humanos, líderes sociales, muro berlín, marta lucía ramírez, fuerzas armadas\n",
      "\n",
      "Tópico #8:\n",
      "néstor humberto, humberto martínez, néstor humberto martínez, fiscal general, garcía márquez, grupo aval, corte constitucional, millones pesos, gabriel garcía, martínez neira\n",
      "\n",
      "Tópico #9:\n",
      "américa latina, educación superior, gobierno nacional, salario mínimo, reforma tributaria, millones personas, crecimiento económico, banco república, cambio climático, presidente duque\n",
      "\n"
     ]
    }
   ],
   "source": [
    "# Modelado de tópicos con LDA\n",
    "lda = LatentDirichletAllocation(n_components=10, random_state=42)\n",
    "lda.fit(matriz_columnas)\n",
    "\n",
    "mostrar_topicos(lda, tfidf_vectorizer)"
   ]
  },
  {
   "cell_type": "code",
   "execution_count": 76,
   "id": "a3e978b8",
   "metadata": {},
   "outputs": [
    {
     "data": {
      "text/plain": [
       "True"
      ]
     },
     "execution_count": 76,
     "metadata": {},
     "output_type": "execute_result"
    }
   ],
   "source": [
    "vis_data = pyLDAvis.lda_model.prepare(lda, matriz_columnas, tfidf_vectorizer)\n",
    "\n",
    "# Guardar como HTML y abrir en navegador\n",
    "pyLDAvis.save_html(vis_data, 'lda_visualization.html')\n",
    "import webbrowser\n",
    "webbrowser.open('lda_visualization.html')"
   ]
  },
  {
   "cell_type": "markdown",
   "id": "d61ee3f6",
   "metadata": {},
   "source": [
    "## BERTopic\n",
    "\n",
    "https://maartengr.github.io/BERTopic/index.html#common Documentación del BERTopic\n",
    "\n",
    "https://huggingface.co/dccuchile/bert-base-spanish-wwm-uncased \n",
    "\n",
    "https://colab.research.google.com/drive/18arPPe50szvcCp_Y6xS56H2tY0m-RLqv?usp=sharing#scrollTo=VUNsYrCETNar  Colab con ejemplo de uso\n"
   ]
  },
  {
   "cell_type": "code",
   "execution_count": null,
   "id": "76e38e47",
   "metadata": {},
   "outputs": [],
   "source": [
    "%pip install bertopic"
   ]
  },
  {
   "cell_type": "code",
   "execution_count": null,
   "id": "e81d6e78",
   "metadata": {},
   "outputs": [
    {
     "name": "stdout",
     "output_type": "stream",
     "text": [
      "Collecting tf-keras\n",
      "  Downloading tf_keras-2.19.0-py3-none-any.whl.metadata (1.8 kB)\n",
      "Requirement already satisfied: tensorflow<2.20,>=2.19 in c:\\users\\karen\\anaconda3\\lib\\site-packages (from tf-keras) (2.19.0)\n",
      "Requirement already satisfied: absl-py>=1.0.0 in c:\\users\\karen\\anaconda3\\lib\\site-packages (from tensorflow<2.20,>=2.19->tf-keras) (2.2.2)\n",
      "Requirement already satisfied: astunparse>=1.6.0 in c:\\users\\karen\\anaconda3\\lib\\site-packages (from tensorflow<2.20,>=2.19->tf-keras) (1.6.3)\n",
      "Requirement already satisfied: flatbuffers>=24.3.25 in c:\\users\\karen\\anaconda3\\lib\\site-packages (from tensorflow<2.20,>=2.19->tf-keras) (25.2.10)\n",
      "Requirement already satisfied: gast!=0.5.0,!=0.5.1,!=0.5.2,>=0.2.1 in c:\\users\\karen\\anaconda3\\lib\\site-packages (from tensorflow<2.20,>=2.19->tf-keras) (0.6.0)\n",
      "Requirement already satisfied: google-pasta>=0.1.1 in c:\\users\\karen\\anaconda3\\lib\\site-packages (from tensorflow<2.20,>=2.19->tf-keras) (0.2.0)\n",
      "Requirement already satisfied: libclang>=13.0.0 in c:\\users\\karen\\anaconda3\\lib\\site-packages (from tensorflow<2.20,>=2.19->tf-keras) (18.1.1)\n",
      "Requirement already satisfied: opt-einsum>=2.3.2 in c:\\users\\karen\\anaconda3\\lib\\site-packages (from tensorflow<2.20,>=2.19->tf-keras) (3.4.0)\n",
      "Requirement already satisfied: packaging in c:\\users\\karen\\anaconda3\\lib\\site-packages (from tensorflow<2.20,>=2.19->tf-keras) (24.1)\n",
      "Requirement already satisfied: protobuf!=4.21.0,!=4.21.1,!=4.21.2,!=4.21.3,!=4.21.4,!=4.21.5,<6.0.0dev,>=3.20.3 in c:\\users\\karen\\anaconda3\\lib\\site-packages (from tensorflow<2.20,>=2.19->tf-keras) (4.25.3)\n",
      "Requirement already satisfied: requests<3,>=2.21.0 in c:\\users\\karen\\anaconda3\\lib\\site-packages (from tensorflow<2.20,>=2.19->tf-keras) (2.32.3)\n",
      "Requirement already satisfied: setuptools in c:\\users\\karen\\anaconda3\\lib\\site-packages (from tensorflow<2.20,>=2.19->tf-keras) (75.1.0)\n",
      "Requirement already satisfied: six>=1.12.0 in c:\\users\\karen\\anaconda3\\lib\\site-packages (from tensorflow<2.20,>=2.19->tf-keras) (1.16.0)\n",
      "Requirement already satisfied: termcolor>=1.1.0 in c:\\users\\karen\\anaconda3\\lib\\site-packages (from tensorflow<2.20,>=2.19->tf-keras) (3.1.0)\n",
      "Requirement already satisfied: typing-extensions>=3.6.6 in c:\\users\\karen\\anaconda3\\lib\\site-packages (from tensorflow<2.20,>=2.19->tf-keras) (4.13.2)\n",
      "Requirement already satisfied: wrapt>=1.11.0 in c:\\users\\karen\\anaconda3\\lib\\site-packages (from tensorflow<2.20,>=2.19->tf-keras) (1.14.1)\n",
      "Requirement already satisfied: grpcio<2.0,>=1.24.3 in c:\\users\\karen\\anaconda3\\lib\\site-packages (from tensorflow<2.20,>=2.19->tf-keras) (1.71.0)\n",
      "Requirement already satisfied: tensorboard~=2.19.0 in c:\\users\\karen\\anaconda3\\lib\\site-packages (from tensorflow<2.20,>=2.19->tf-keras) (2.19.0)\n",
      "Requirement already satisfied: keras>=3.5.0 in c:\\users\\karen\\anaconda3\\lib\\site-packages (from tensorflow<2.20,>=2.19->tf-keras) (3.10.0)\n",
      "Requirement already satisfied: numpy<2.2.0,>=1.26.0 in c:\\users\\karen\\anaconda3\\lib\\site-packages (from tensorflow<2.20,>=2.19->tf-keras) (1.26.4)\n",
      "Requirement already satisfied: h5py>=3.11.0 in c:\\users\\karen\\anaconda3\\lib\\site-packages (from tensorflow<2.20,>=2.19->tf-keras) (3.11.0)\n",
      "Requirement already satisfied: ml-dtypes<1.0.0,>=0.5.1 in c:\\users\\karen\\anaconda3\\lib\\site-packages (from tensorflow<2.20,>=2.19->tf-keras) (0.5.1)\n",
      "Requirement already satisfied: wheel<1.0,>=0.23.0 in c:\\users\\karen\\anaconda3\\lib\\site-packages (from astunparse>=1.6.0->tensorflow<2.20,>=2.19->tf-keras) (0.44.0)\n",
      "Requirement already satisfied: rich in c:\\users\\karen\\anaconda3\\lib\\site-packages (from keras>=3.5.0->tensorflow<2.20,>=2.19->tf-keras) (13.7.1)\n",
      "Requirement already satisfied: namex in c:\\users\\karen\\anaconda3\\lib\\site-packages (from keras>=3.5.0->tensorflow<2.20,>=2.19->tf-keras) (0.0.9)\n",
      "Requirement already satisfied: optree in c:\\users\\karen\\anaconda3\\lib\\site-packages (from keras>=3.5.0->tensorflow<2.20,>=2.19->tf-keras) (0.15.0)\n",
      "Requirement already satisfied: charset-normalizer<4,>=2 in c:\\users\\karen\\anaconda3\\lib\\site-packages (from requests<3,>=2.21.0->tensorflow<2.20,>=2.19->tf-keras) (3.4.2)\n",
      "Requirement already satisfied: idna<4,>=2.5 in c:\\users\\karen\\anaconda3\\lib\\site-packages (from requests<3,>=2.21.0->tensorflow<2.20,>=2.19->tf-keras) (3.10)\n",
      "Requirement already satisfied: urllib3<3,>=1.21.1 in c:\\users\\karen\\anaconda3\\lib\\site-packages (from requests<3,>=2.21.0->tensorflow<2.20,>=2.19->tf-keras) (1.26.20)\n",
      "Requirement already satisfied: certifi>=2017.4.17 in c:\\users\\karen\\anaconda3\\lib\\site-packages (from requests<3,>=2.21.0->tensorflow<2.20,>=2.19->tf-keras) (2025.4.26)\n",
      "Requirement already satisfied: markdown>=2.6.8 in c:\\users\\karen\\anaconda3\\lib\\site-packages (from tensorboard~=2.19.0->tensorflow<2.20,>=2.19->tf-keras) (3.4.1)\n",
      "Requirement already satisfied: tensorboard-data-server<0.8.0,>=0.7.0 in c:\\users\\karen\\anaconda3\\lib\\site-packages (from tensorboard~=2.19.0->tensorflow<2.20,>=2.19->tf-keras) (0.7.2)\n",
      "Requirement already satisfied: werkzeug>=1.0.1 in c:\\users\\karen\\anaconda3\\lib\\site-packages (from tensorboard~=2.19.0->tensorflow<2.20,>=2.19->tf-keras) (3.0.3)\n",
      "Requirement already satisfied: MarkupSafe>=2.1.1 in c:\\users\\karen\\anaconda3\\lib\\site-packages (from werkzeug>=1.0.1->tensorboard~=2.19.0->tensorflow<2.20,>=2.19->tf-keras) (2.1.3)\n",
      "Requirement already satisfied: markdown-it-py>=2.2.0 in c:\\users\\karen\\anaconda3\\lib\\site-packages (from rich->keras>=3.5.0->tensorflow<2.20,>=2.19->tf-keras) (2.2.0)\n",
      "Requirement already satisfied: pygments<3.0.0,>=2.13.0 in c:\\users\\karen\\anaconda3\\lib\\site-packages (from rich->keras>=3.5.0->tensorflow<2.20,>=2.19->tf-keras) (2.15.1)\n",
      "Requirement already satisfied: mdurl~=0.1 in c:\\users\\karen\\anaconda3\\lib\\site-packages (from markdown-it-py>=2.2.0->rich->keras>=3.5.0->tensorflow<2.20,>=2.19->tf-keras) (0.1.0)\n",
      "Downloading tf_keras-2.19.0-py3-none-any.whl (1.7 MB)\n",
      "   ---------------------------------------- 0.0/1.7 MB ? eta -:--:--\n",
      "   ---------------------------------------- 1.7/1.7 MB 18.8 MB/s eta 0:00:00\n",
      "Installing collected packages: tf-keras\n",
      "Successfully installed tf-keras-2.19.0\n",
      "Note: you may need to restart the kernel to use updated packages.\n",
      "WARNING:tensorflow:From c:\\Users\\karen\\anaconda3\\Lib\\site-packages\\tf_keras\\src\\losses.py:2976: The name tf.losses.sparse_softmax_cross_entropy is deprecated. Please use tf.compat.v1.losses.sparse_softmax_cross_entropy instead.\n",
      "\n"
     ]
    }
   ],
   "source": [
    "%pip install tf-keras"
   ]
  },
  {
   "cell_type": "code",
   "execution_count": 30,
   "id": "c1b3a508",
   "metadata": {},
   "outputs": [
    {
     "name": "stdout",
     "output_type": "stream",
     "text": [
      "Collecting hf_xet\n",
      "  Downloading hf_xet-1.1.5-cp37-abi3-win_amd64.whl.metadata (883 bytes)\n",
      "Downloading hf_xet-1.1.5-cp37-abi3-win_amd64.whl (2.7 MB)\n",
      "   ---------------------------------------- 0.0/2.7 MB ? eta -:--:--\n",
      "   ---------------------------------------- 2.7/2.7 MB 26.3 MB/s eta 0:00:00\n",
      "Installing collected packages: hf_xet\n",
      "Successfully installed hf_xet-1.1.5\n",
      "Note: you may need to restart the kernel to use updated packages.\n"
     ]
    }
   ],
   "source": [
    "%pip install hf_xet"
   ]
  },
  {
   "cell_type": "code",
   "execution_count": 43,
   "id": "1793dc4a",
   "metadata": {},
   "outputs": [
    {
     "name": "stdout",
     "output_type": "stream",
     "text": [
      "Requirement already satisfied: transformers in c:\\users\\karen\\anaconda3\\lib\\site-packages (4.51.3)\n",
      "Requirement already satisfied: filelock in c:\\users\\karen\\anaconda3\\lib\\site-packages (from transformers) (3.13.1)\n",
      "Requirement already satisfied: huggingface-hub<1.0,>=0.30.0 in c:\\users\\karen\\anaconda3\\lib\\site-packages (from transformers) (0.31.1)\n",
      "Requirement already satisfied: numpy>=1.17 in c:\\users\\karen\\anaconda3\\lib\\site-packages (from transformers) (1.26.4)\n",
      "Requirement already satisfied: packaging>=20.0 in c:\\users\\karen\\anaconda3\\lib\\site-packages (from transformers) (24.1)\n",
      "Requirement already satisfied: pyyaml>=5.1 in c:\\users\\karen\\anaconda3\\lib\\site-packages (from transformers) (6.0.1)\n",
      "Requirement already satisfied: regex!=2019.12.17 in c:\\users\\karen\\anaconda3\\lib\\site-packages (from transformers) (2024.9.11)\n",
      "Requirement already satisfied: requests in c:\\users\\karen\\anaconda3\\lib\\site-packages (from transformers) (2.32.3)\n",
      "Requirement already satisfied: tokenizers<0.22,>=0.21 in c:\\users\\karen\\anaconda3\\lib\\site-packages (from transformers) (0.21.1)\n",
      "Requirement already satisfied: safetensors>=0.4.3 in c:\\users\\karen\\anaconda3\\lib\\site-packages (from transformers) (0.5.3)\n",
      "Requirement already satisfied: tqdm>=4.27 in c:\\users\\karen\\anaconda3\\lib\\site-packages (from transformers) (4.67.1)\n",
      "Requirement already satisfied: fsspec>=2023.5.0 in c:\\users\\karen\\anaconda3\\lib\\site-packages (from huggingface-hub<1.0,>=0.30.0->transformers) (2024.6.1)\n",
      "Requirement already satisfied: typing-extensions>=3.7.4.3 in c:\\users\\karen\\anaconda3\\lib\\site-packages (from huggingface-hub<1.0,>=0.30.0->transformers) (4.13.2)\n",
      "Requirement already satisfied: colorama in c:\\users\\karen\\anaconda3\\lib\\site-packages (from tqdm>=4.27->transformers) (0.4.6)\n",
      "Requirement already satisfied: charset-normalizer<4,>=2 in c:\\users\\karen\\anaconda3\\lib\\site-packages (from requests->transformers) (3.4.2)\n",
      "Requirement already satisfied: idna<4,>=2.5 in c:\\users\\karen\\anaconda3\\lib\\site-packages (from requests->transformers) (3.10)\n",
      "Requirement already satisfied: urllib3<3,>=1.21.1 in c:\\users\\karen\\anaconda3\\lib\\site-packages (from requests->transformers) (1.26.20)\n",
      "Requirement already satisfied: certifi>=2017.4.17 in c:\\users\\karen\\anaconda3\\lib\\site-packages (from requests->transformers) (2025.4.26)\n",
      "Note: you may need to restart the kernel to use updated packages.\n"
     ]
    }
   ],
   "source": [
    "%pip install transformers"
   ]
  },
  {
   "cell_type": "code",
   "execution_count": 66,
   "id": "2e8023ca",
   "metadata": {},
   "outputs": [
    {
     "name": "stdout",
     "output_type": "stream",
     "text": [
      "WARNING:tensorflow:From c:\\Users\\karen\\anaconda3\\Lib\\site-packages\\tf_keras\\src\\losses.py:2976: The name tf.losses.sparse_softmax_cross_entropy is deprecated. Please use tf.compat.v1.losses.sparse_softmax_cross_entropy instead.\n",
      "\n"
     ]
    }
   ],
   "source": [
    "from bertopic import BERTopic\n",
    "from sentence_transformers import SentenceTransformer\n",
    "import torch\n",
    "from transformers import AutoTokenizer, AutoModelForMaskedLM\n",
    "from transformers import pipeline"
   ]
  },
  {
   "cell_type": "code",
   "execution_count": 67,
   "id": "4423cf8e",
   "metadata": {},
   "outputs": [],
   "source": [
    "sentence_model = AutoTokenizer.from_pretrained(\"dccuchile/bert-base-spanish-wwm-uncased\")"
   ]
  },
  {
   "cell_type": "code",
   "execution_count": 38,
   "id": "f0e1a82a",
   "metadata": {},
   "outputs": [],
   "source": [
    "topic_model = BERTopic(language=\"spanish\",\n",
    "    top_n_words=10,          # Palabras por tópico\n",
    "    min_topic_size=20,       # Tamaño mínimo del cluster\n",
    "    nr_topics=50,        # Número de tópicos\n",
    "    calculate_probabilities=True,\n",
    "    vectorizer_model=TfidfVectorizer(stop_words=list(STOP_WORDS)),\n",
    "    embedding_model= sentence_model \n",
    "    )"
   ]
  },
  {
   "cell_type": "markdown",
   "id": "83406d83",
   "metadata": {},
   "source": [
    "Tarda 11 minutos en correr."
   ]
  },
  {
   "cell_type": "code",
   "execution_count": 39,
   "id": "e584ab74",
   "metadata": {},
   "outputs": [],
   "source": [
    "texto_seleccionado = corpus_completo['Texto'].astype(str).tolist()\n",
    "#texto_seleccionado = columnas_procesadas\n",
    "\n",
    "CORRER = True\n",
    "if CORRER:\n",
    "    topics, probs = topic_model.fit_transform(texto_seleccionado)"
   ]
  },
  {
   "cell_type": "code",
   "execution_count": 44,
   "id": "355a541e",
   "metadata": {},
   "outputs": [],
   "source": [
    "# PRECAUCION AL CORRER ESTO\n",
    "# Guardar el modelo entrenado y su información\n",
    "with open('topics_bert.json', 'w', encoding='utf-8') as f:\n",
    "    json.dump(topics, f, ensure_ascii=False, indent=4)\n",
    "with open('probs_bert.json', 'w', encoding='utf-8') as f:\n",
    "    json.dump(probs.tolist(), f, ensure_ascii=False, indent=4)\n",
    "with open('topic_model.pkl', 'wb') as f:\n",
    "    pickle.dump(topic_model, f)"
   ]
  },
  {
   "cell_type": "code",
   "execution_count": 68,
   "id": "c6ead7f2",
   "metadata": {},
   "outputs": [],
   "source": [
    "# PRECAUCION AL CORRER ESTO\n",
    "# Leer modelo, probabilidades y tópicos\n",
    "with open('topics_bert.json', 'r', encoding='utf-8') as f:\n",
    "    topics = json.load(f) \n",
    "with open('probs_bert.json', 'r', encoding='utf-8') as f:\n",
    "    probs = json.load(f)\n",
    "with open('topic_model.pkl', 'rb') as f:\n",
    "    topic_model = pickle.load(f)"
   ]
  },
  {
   "cell_type": "code",
   "execution_count": 69,
   "id": "6bb2ccba",
   "metadata": {},
   "outputs": [
    {
     "data": {
      "text/html": [
       "<div>\n",
       "<style scoped>\n",
       "    .dataframe tbody tr th:only-of-type {\n",
       "        vertical-align: middle;\n",
       "    }\n",
       "\n",
       "    .dataframe tbody tr th {\n",
       "        vertical-align: top;\n",
       "    }\n",
       "\n",
       "    .dataframe thead th {\n",
       "        text-align: right;\n",
       "    }\n",
       "</style>\n",
       "<table border=\"1\" class=\"dataframe\">\n",
       "  <thead>\n",
       "    <tr style=\"text-align: right;\">\n",
       "      <th></th>\n",
       "      <th>Topic</th>\n",
       "      <th>Count</th>\n",
       "      <th>Name</th>\n",
       "      <th>Representation</th>\n",
       "      <th>Representative_Docs</th>\n",
       "    </tr>\n",
       "  </thead>\n",
       "  <tbody>\n",
       "    <tr>\n",
       "      <th>0</th>\n",
       "      <td>-1</td>\n",
       "      <td>7083</td>\n",
       "      <td>-1_país_colombia_gobierno_años</td>\n",
       "      <td>[país, colombia, gobierno, años, política, pre...</td>\n",
       "      <td>[Me parece que el doctor Vargas Lleras se vuel...</td>\n",
       "    </tr>\n",
       "    <tr>\n",
       "      <th>1</th>\n",
       "      <td>0</td>\n",
       "      <td>1219</td>\n",
       "      <td>0_economía_colombia_empresas_gobierno</td>\n",
       "      <td>[economía, colombia, empresas, gobierno, país,...</td>\n",
       "      <td>[La economía lleva cuatro años estancada. En e...</td>\n",
       "    </tr>\n",
       "    <tr>\n",
       "      <th>2</th>\n",
       "      <td>1</td>\n",
       "      <td>525</td>\n",
       "      <td>1_virus_coronavirus_pandemia_covid</td>\n",
       "      <td>[virus, coronavirus, pandemia, covid, salud, 1...</td>\n",
       "      <td>[En un hecho inédito para la humanidad, por pr...</td>\n",
       "    </tr>\n",
       "    <tr>\n",
       "      <th>3</th>\n",
       "      <td>2</td>\n",
       "      <td>358</td>\n",
       "      <td>2_vida_mundo_casa_años</td>\n",
       "      <td>[vida, mundo, casa, años, tiempo, amor, dios, ...</td>\n",
       "      <td>[¿Son entonces las mujeres culpables del maltr...</td>\n",
       "    </tr>\n",
       "    <tr>\n",
       "      <th>4</th>\n",
       "      <td>3</td>\n",
       "      <td>317</td>\n",
       "      <td>3_educación_universidad_estudiantes_universidades</td>\n",
       "      <td>[educación, universidad, estudiantes, universi...</td>\n",
       "      <td>[En el año 1993 el expresidente César Gaviria ...</td>\n",
       "    </tr>\n",
       "    <tr>\n",
       "      <th>5</th>\n",
       "      <td>4</td>\n",
       "      <td>291</td>\n",
       "      <td>4_colombia_presidente_gobierno_país</td>\n",
       "      <td>[colombia, presidente, gobierno, país, polític...</td>\n",
       "      <td>[Debo empezar esta columna diciendo que no soy...</td>\n",
       "    </tr>\n",
       "    <tr>\n",
       "      <th>6</th>\n",
       "      <td>5</td>\n",
       "      <td>281</td>\n",
       "      <td>5_paz_farc_santrich_guerrilla</td>\n",
       "      <td>[paz, farc, santrich, guerrilla, guerra, jep, ...</td>\n",
       "      <td>[El lunes el país vio atónito cómo el CTI capt...</td>\n",
       "    </tr>\n",
       "    <tr>\n",
       "      <th>7</th>\n",
       "      <td>6</td>\n",
       "      <td>235</td>\n",
       "      <td>6_fútbol_jugadores_gol_equipo</td>\n",
       "      <td>[fútbol, jugadores, gol, equipo, goles, equipo...</td>\n",
       "      <td>[La economía devastada, las fuerzas de ocupaci...</td>\n",
       "    </tr>\n",
       "    <tr>\n",
       "      <th>8</th>\n",
       "      <td>7</td>\n",
       "      <td>222</td>\n",
       "      <td>7_música_arte_musical_teatro</td>\n",
       "      <td>[música, arte, musical, teatro, festival, arti...</td>\n",
       "      <td>[El Ibagué Festival es un nuevo espacio cultur...</td>\n",
       "    </tr>\n",
       "    <tr>\n",
       "      <th>9</th>\n",
       "      <td>8</td>\n",
       "      <td>208</td>\n",
       "      <td>8_venezuela_maduro_guaidó_venezolano</td>\n",
       "      <td>[venezuela, maduro, guaidó, venezolano, chávez...</td>\n",
       "      <td>[Venezuela es tendencia en todos los medios na...</td>\n",
       "    </tr>\n",
       "    <tr>\n",
       "      <th>10</th>\n",
       "      <td>9</td>\n",
       "      <td>189</td>\n",
       "      <td>9_libros_libro_poeta_verso</td>\n",
       "      <td>[libros, libro, poeta, verso, poesía, literatu...</td>\n",
       "      <td>[El verso libre no es tan libre. Por su falta ...</td>\n",
       "    </tr>\n",
       "    <tr>\n",
       "      <th>11</th>\n",
       "      <td>10</td>\n",
       "      <td>151</td>\n",
       "      <td>10_fiscal_fiscalía_martínez_nhm</td>\n",
       "      <td>[fiscal, fiscalía, martínez, nhm, odebrecht, g...</td>\n",
       "      <td>[Supongamos que el video en el que aparece Pet...</td>\n",
       "    </tr>\n",
       "    <tr>\n",
       "      <th>12</th>\n",
       "      <td>11</td>\n",
       "      <td>151</td>\n",
       "      <td>11_internet_digital_información_datos</td>\n",
       "      <td>[internet, digital, información, datos, digita...</td>\n",
       "      <td>[Resulta difícil hacer seguimiento a la avalan...</td>\n",
       "    </tr>\n",
       "    <tr>\n",
       "      <th>13</th>\n",
       "      <td>12</td>\n",
       "      <td>149</td>\n",
       "      <td>12_buses_bogotá_ciudad_peñalosa</td>\n",
       "      <td>[buses, bogotá, ciudad, peñalosa, metro, trans...</td>\n",
       "      <td>[Mucho se ha discutido en estos días en Bogotá...</td>\n",
       "    </tr>\n",
       "    <tr>\n",
       "      <th>14</th>\n",
       "      <td>13</td>\n",
       "      <td>142</td>\n",
       "      <td>13_trump_biden_presidente_donald</td>\n",
       "      <td>[trump, biden, presidente, donald, sanders, un...</td>\n",
       "      <td>[MIAMI. El pronóstico es muy reservado para es...</td>\n",
       "    </tr>\n",
       "    <tr>\n",
       "      <th>15</th>\n",
       "      <td>14</td>\n",
       "      <td>131</td>\n",
       "      <td>14_mujeres_sexual_feminismo_sexo</td>\n",
       "      <td>[mujeres, sexual, feminismo, sexo, acoso, sexu...</td>\n",
       "      <td>[Este es otro de esos casos en que el acusado ...</td>\n",
       "    </tr>\n",
       "    <tr>\n",
       "      <th>16</th>\n",
       "      <td>15</td>\n",
       "      <td>115</td>\n",
       "      <td>15_presidente_duque_gobierno_uribe</td>\n",
       "      <td>[presidente, duque, gobierno, uribe, congreso,...</td>\n",
       "      <td>[La convocatoria hecha por el presidente Iván ...</td>\n",
       "    </tr>\n",
       "    <tr>\n",
       "      <th>17</th>\n",
       "      <td>16</td>\n",
       "      <td>114</td>\n",
       "      <td>16_petro_gustavo_fajardo_duque</td>\n",
       "      <td>[petro, gustavo, fajardo, duque, uribe, vuelta...</td>\n",
       "      <td>[Tras la divulgación, a fines del año pasado, ...</td>\n",
       "    </tr>\n",
       "    <tr>\n",
       "      <th>18</th>\n",
       "      <td>17</td>\n",
       "      <td>97</td>\n",
       "      <td>17_electoral_elecciones_cne_política</td>\n",
       "      <td>[electoral, elecciones, cne, política, elector...</td>\n",
       "      <td>[El asunto no es que un clan familiar tenga ta...</td>\n",
       "    </tr>\n",
       "    <tr>\n",
       "      <th>19</th>\n",
       "      <td>18</td>\n",
       "      <td>96</td>\n",
       "      <td>18_foto_fotos_fotografía_imágenes</td>\n",
       "      <td>[foto, fotos, fotografía, imágenes, fotografía...</td>\n",
       "      <td>[Un hombre bien parecido sonríe con pícara tim...</td>\n",
       "    </tr>\n",
       "    <tr>\n",
       "      <th>20</th>\n",
       "      <td>19</td>\n",
       "      <td>93</td>\n",
       "      <td>19_coca_glifosato_cocaína_cultivos</td>\n",
       "      <td>[coca, glifosato, cocaína, cultivos, drogas, n...</td>\n",
       "      <td>[Reacciones a mi columna anterior,  Quemas, d...</td>\n",
       "    </tr>\n",
       "    <tr>\n",
       "      <th>21</th>\n",
       "      <td>20</td>\n",
       "      <td>88</td>\n",
       "      <td>20_protesta_protestas_paro_manifestantes</td>\n",
       "      <td>[protesta, protestas, paro, manifestantes, flo...</td>\n",
       "      <td>[Siglos de protestas han permitido desarrollar...</td>\n",
       "    </tr>\n",
       "    <tr>\n",
       "      <th>22</th>\n",
       "      <td>21</td>\n",
       "      <td>73</td>\n",
       "      <td>21_justicia_corte_judicial_jep</td>\n",
       "      <td>[justicia, corte, judicial, jep, magistrados, ...</td>\n",
       "      <td>[Una reforma constitucional y una ley sanciona...</td>\n",
       "    </tr>\n",
       "    <tr>\n",
       "      <th>23</th>\n",
       "      <td>22</td>\n",
       "      <td>73</td>\n",
       "      <td>22_cocina_café_arroz_cafés</td>\n",
       "      <td>[cocina, café, arroz, cafés, plato, cocinar, p...</td>\n",
       "      <td>[La olla está sobre el fogón, los comensales s...</td>\n",
       "    </tr>\n",
       "    <tr>\n",
       "      <th>24</th>\n",
       "      <td>23</td>\n",
       "      <td>61</td>\n",
       "      <td>23_colombia_país_bogotá_ciclismo</td>\n",
       "      <td>[colombia, país, bogotá, ciclismo, matador, in...</td>\n",
       "      <td>[La crisis y la forma como martiriza a la mayo...</td>\n",
       "    </tr>\n",
       "    <tr>\n",
       "      <th>25</th>\n",
       "      <td>24</td>\n",
       "      <td>58</td>\n",
       "      <td>24_guerra_siria_fascismo_irán</td>\n",
       "      <td>[guerra, siria, fascismo, irán, asad, nuclear,...</td>\n",
       "      <td>[NUEVA YORK  Estados Unidos surgió de la Guer...</td>\n",
       "    </tr>\n",
       "    <tr>\n",
       "      <th>26</th>\n",
       "      <td>25</td>\n",
       "      <td>57</td>\n",
       "      <td>25_violencia_steinke_pág_judíos</td>\n",
       "      <td>[violencia, steinke, pág, judíos, gobierno, el...</td>\n",
       "      <td>[El exjefe paramilitar Salvatore Mancuso sigue...</td>\n",
       "    </tr>\n",
       "    <tr>\n",
       "      <th>27</th>\n",
       "      <td>26</td>\n",
       "      <td>55</td>\n",
       "      <td>26_china_hong_kong_xi</td>\n",
       "      <td>[china, hong, kong, xi, taiwán, chino, chinos,...</td>\n",
       "      <td>[¿Qué pasará cuando los censores chinos traten...</td>\n",
       "    </tr>\n",
       "    <tr>\n",
       "      <th>28</th>\n",
       "      <td>27</td>\n",
       "      <td>54</td>\n",
       "      <td>27_candidatos_petro_vuelta_fajardo</td>\n",
       "      <td>[candidatos, petro, vuelta, fajardo, centro, e...</td>\n",
       "      <td>[A poco más de una semana de la primera vuelta...</td>\n",
       "    </tr>\n",
       "    <tr>\n",
       "      <th>29</th>\n",
       "      <td>28</td>\n",
       "      <td>49</td>\n",
       "      <td>28_salim_historia_naipaul_mao</td>\n",
       "      <td>[salim, historia, naipaul, mao, áfrica, agn, g...</td>\n",
       "      <td>[Clíver Alcalá es un imprudente, oportunista, ...</td>\n",
       "    </tr>\n",
       "    <tr>\n",
       "      <th>30</th>\n",
       "      <td>29</td>\n",
       "      <td>47</td>\n",
       "      <td>29_pensiones_colpensiones_fondos_pensional</td>\n",
       "      <td>[pensiones, colpensiones, fondos, pensional, a...</td>\n",
       "      <td>[Las AFP insisten en el modelo chileno de poca...</td>\n",
       "    </tr>\n",
       "    <tr>\n",
       "      <th>31</th>\n",
       "      <td>30</td>\n",
       "      <td>46</td>\n",
       "      <td>30_delfines_taiji_ballenas_animales</td>\n",
       "      <td>[delfines, taiji, ballenas, animales, biarritz...</td>\n",
       "      <td>[El viento trajo las naves, las naves trajeron...</td>\n",
       "    </tr>\n",
       "    <tr>\n",
       "      <th>32</th>\n",
       "      <td>31</td>\n",
       "      <td>42</td>\n",
       "      <td>31_bolsonaro_brasil_lula_brasileños</td>\n",
       "      <td>[bolsonaro, brasil, lula, brasileños, jair, di...</td>\n",
       "      <td>[Lo previsto: ganó Jair Bolsonaro y el 1ro. de...</td>\n",
       "    </tr>\n",
       "    <tr>\n",
       "      <th>33</th>\n",
       "      <td>32</td>\n",
       "      <td>39</td>\n",
       "      <td>32_chile_piñera_chilenos_pinochet</td>\n",
       "      <td>[chile, piñera, chilenos, pinochet, allende, p...</td>\n",
       "      <td>[Un titular del periódico Financial Times sobr...</td>\n",
       "    </tr>\n",
       "    <tr>\n",
       "      <th>34</th>\n",
       "      <td>33</td>\n",
       "      <td>39</td>\n",
       "      <td>33_cuba_eln_castro_talibanes</td>\n",
       "      <td>[cuba, eln, castro, talibanes, protocolo, nego...</td>\n",
       "      <td>[El presidente Duque sabe muy bien lo que hace...</td>\n",
       "    </tr>\n",
       "    <tr>\n",
       "      <th>35</th>\n",
       "      <td>34</td>\n",
       "      <td>32</td>\n",
       "      <td>34_aborto_embarazo_abortos_mujeres</td>\n",
       "      <td>[aborto, embarazo, abortos, mujeres, causales,...</td>\n",
       "      <td>[En Colombia somos inmensamente afortunadas po...</td>\n",
       "    </tr>\n",
       "    <tr>\n",
       "      <th>36</th>\n",
       "      <td>35</td>\n",
       "      <td>31</td>\n",
       "      <td>35_coronell_columnista_revista_columnistas</td>\n",
       "      <td>[coronell, columnista, revista, columnistas, e...</td>\n",
       "      <td>[Al golpear la credibilidad de una de las poc...</td>\n",
       "    </tr>\n",
       "    <tr>\n",
       "      <th>37</th>\n",
       "      <td>36</td>\n",
       "      <td>30</td>\n",
       "      <td>36_aviación_aerolíneas_avianca_pasajeros</td>\n",
       "      <td>[aviación, aerolíneas, avianca, pasajeros, aér...</td>\n",
       "      <td>[Las dos aerolíneas más grandes de América Lat...</td>\n",
       "    </tr>\n",
       "    <tr>\n",
       "      <th>38</th>\n",
       "      <td>37</td>\n",
       "      <td>28</td>\n",
       "      <td>37_facebook_analytica_cambridge_zuckerberg</td>\n",
       "      <td>[facebook, analytica, cambridge, zuckerberg, u...</td>\n",
       "      <td>[El escándalo Cambridge Analytica confirma que...</td>\n",
       "    </tr>\n",
       "    <tr>\n",
       "      <th>39</th>\n",
       "      <td>38</td>\n",
       "      <td>28</td>\n",
       "      <td>38_ue_brexit_unión_europea</td>\n",
       "      <td>[ue, brexit, unión, europea, europa, irlanda, ...</td>\n",
       "      <td>[A medida que se aproxima la elección del Parl...</td>\n",
       "    </tr>\n",
       "    <tr>\n",
       "      <th>40</th>\n",
       "      <td>39</td>\n",
       "      <td>28</td>\n",
       "      <td>39_nobel_handke_premio_buarque</td>\n",
       "      <td>[nobel, handke, premio, buarque, keuschnig, la...</td>\n",
       "      <td>[Treinta y siete años atrás, García Márquez re...</td>\n",
       "    </tr>\n",
       "    <tr>\n",
       "      <th>41</th>\n",
       "      <td>40</td>\n",
       "      <td>27</td>\n",
       "      <td>40_religión_religiones_dios_cristianismo</td>\n",
       "      <td>[religión, religiones, dios, cristianismo, lai...</td>\n",
       "      <td>[Dos milenios han sido suficientes para compro...</td>\n",
       "    </tr>\n",
       "    <tr>\n",
       "      <th>42</th>\n",
       "      <td>41</td>\n",
       "      <td>27</td>\n",
       "      <td>41_dic_corte_coronel_derecho</td>\n",
       "      <td>[dic, corte, coronel, derecho, arias, cs, fg, ...</td>\n",
       "      <td>[Los abogados Alejandro Motta y Daniel Porras,...</td>\n",
       "    </tr>\n",
       "    <tr>\n",
       "      <th>43</th>\n",
       "      <td>42</td>\n",
       "      <td>26</td>\n",
       "      <td>42_subienda_palmitas_jerusalén_palmira</td>\n",
       "      <td>[subienda, palmitas, jerusalén, palmira, bocac...</td>\n",
       "      <td>[En algún momento, muchos siglos antes de Cris...</td>\n",
       "    </tr>\n",
       "    <tr>\n",
       "      <th>44</th>\n",
       "      <td>43</td>\n",
       "      <td>25</td>\n",
       "      <td>43_medimás_eps_cafesalud_ips</td>\n",
       "      <td>[medimás, eps, cafesalud, ips, salud, esimed, ...</td>\n",
       "      <td>[La maniobra financiera mediante la cual Medim...</td>\n",
       "    </tr>\n",
       "    <tr>\n",
       "      <th>45</th>\n",
       "      <td>44</td>\n",
       "      <td>24</td>\n",
       "      <td>44_bolívar_libertador_guayana_kennedy</td>\n",
       "      <td>[bolívar, libertador, guayana, kennedy, simón,...</td>\n",
       "      <td>[Hace 200 años el 15 de noviembre de 1819 mu...</td>\n",
       "    </tr>\n",
       "    <tr>\n",
       "      <th>46</th>\n",
       "      <td>45</td>\n",
       "      <td>24</td>\n",
       "      <td>45_femenino_meditación_lacydes_buda</td>\n",
       "      <td>[femenino, meditación, lacydes, buda, social, ...</td>\n",
       "      <td>[Según Maharishi Mahesh Yogi (1918-2008), el g...</td>\n",
       "    </tr>\n",
       "    <tr>\n",
       "      <th>47</th>\n",
       "      <td>46</td>\n",
       "      <td>24</td>\n",
       "      <td>46_amlo_obrador_méxico_pri</td>\n",
       "      <td>[amlo, obrador, méxico, pri, migrantes, lópez,...</td>\n",
       "      <td>[El presidente López Obrador (AMLO) solicitó a...</td>\n",
       "    </tr>\n",
       "    <tr>\n",
       "      <th>48</th>\n",
       "      <td>47</td>\n",
       "      <td>21</td>\n",
       "      <td>47_novela_poetas_leandro_poeta</td>\n",
       "      <td>[novela, poetas, leandro, poeta, conrad, carra...</td>\n",
       "      <td>[Por más de tres años viví acompañada del libr...</td>\n",
       "    </tr>\n",
       "    <tr>\n",
       "      <th>49</th>\n",
       "      <td>48</td>\n",
       "      <td>21</td>\n",
       "      <td>48_tola_pa_ivancito_tías</td>\n",
       "      <td>[tola, pa, ivancito, tías, ivancho, alicia, su...</td>\n",
       "      <td>[Hoy Tola y yo hicimos de recreacionistas pa e...</td>\n",
       "    </tr>\n",
       "  </tbody>\n",
       "</table>\n",
       "</div>"
      ],
      "text/plain": [
       "    Topic  Count                                               Name  \\\n",
       "0      -1   7083                     -1_país_colombia_gobierno_años   \n",
       "1       0   1219              0_economía_colombia_empresas_gobierno   \n",
       "2       1    525                 1_virus_coronavirus_pandemia_covid   \n",
       "3       2    358                             2_vida_mundo_casa_años   \n",
       "4       3    317  3_educación_universidad_estudiantes_universidades   \n",
       "5       4    291                4_colombia_presidente_gobierno_país   \n",
       "6       5    281                      5_paz_farc_santrich_guerrilla   \n",
       "7       6    235                      6_fútbol_jugadores_gol_equipo   \n",
       "8       7    222                       7_música_arte_musical_teatro   \n",
       "9       8    208               8_venezuela_maduro_guaidó_venezolano   \n",
       "10      9    189                         9_libros_libro_poeta_verso   \n",
       "11     10    151                    10_fiscal_fiscalía_martínez_nhm   \n",
       "12     11    151              11_internet_digital_información_datos   \n",
       "13     12    149                    12_buses_bogotá_ciudad_peñalosa   \n",
       "14     13    142                   13_trump_biden_presidente_donald   \n",
       "15     14    131                   14_mujeres_sexual_feminismo_sexo   \n",
       "16     15    115                 15_presidente_duque_gobierno_uribe   \n",
       "17     16    114                     16_petro_gustavo_fajardo_duque   \n",
       "18     17     97               17_electoral_elecciones_cne_política   \n",
       "19     18     96                  18_foto_fotos_fotografía_imágenes   \n",
       "20     19     93                 19_coca_glifosato_cocaína_cultivos   \n",
       "21     20     88           20_protesta_protestas_paro_manifestantes   \n",
       "22     21     73                     21_justicia_corte_judicial_jep   \n",
       "23     22     73                         22_cocina_café_arroz_cafés   \n",
       "24     23     61                   23_colombia_país_bogotá_ciclismo   \n",
       "25     24     58                      24_guerra_siria_fascismo_irán   \n",
       "26     25     57                    25_violencia_steinke_pág_judíos   \n",
       "27     26     55                              26_china_hong_kong_xi   \n",
       "28     27     54                 27_candidatos_petro_vuelta_fajardo   \n",
       "29     28     49                      28_salim_historia_naipaul_mao   \n",
       "30     29     47         29_pensiones_colpensiones_fondos_pensional   \n",
       "31     30     46                30_delfines_taiji_ballenas_animales   \n",
       "32     31     42                31_bolsonaro_brasil_lula_brasileños   \n",
       "33     32     39                  32_chile_piñera_chilenos_pinochet   \n",
       "34     33     39                       33_cuba_eln_castro_talibanes   \n",
       "35     34     32                 34_aborto_embarazo_abortos_mujeres   \n",
       "36     35     31         35_coronell_columnista_revista_columnistas   \n",
       "37     36     30           36_aviación_aerolíneas_avianca_pasajeros   \n",
       "38     37     28         37_facebook_analytica_cambridge_zuckerberg   \n",
       "39     38     28                         38_ue_brexit_unión_europea   \n",
       "40     39     28                     39_nobel_handke_premio_buarque   \n",
       "41     40     27           40_religión_religiones_dios_cristianismo   \n",
       "42     41     27                       41_dic_corte_coronel_derecho   \n",
       "43     42     26             42_subienda_palmitas_jerusalén_palmira   \n",
       "44     43     25                       43_medimás_eps_cafesalud_ips   \n",
       "45     44     24              44_bolívar_libertador_guayana_kennedy   \n",
       "46     45     24                45_femenino_meditación_lacydes_buda   \n",
       "47     46     24                         46_amlo_obrador_méxico_pri   \n",
       "48     47     21                     47_novela_poetas_leandro_poeta   \n",
       "49     48     21                           48_tola_pa_ivancito_tías   \n",
       "\n",
       "                                       Representation  \\\n",
       "0   [país, colombia, gobierno, años, política, pre...   \n",
       "1   [economía, colombia, empresas, gobierno, país,...   \n",
       "2   [virus, coronavirus, pandemia, covid, salud, 1...   \n",
       "3   [vida, mundo, casa, años, tiempo, amor, dios, ...   \n",
       "4   [educación, universidad, estudiantes, universi...   \n",
       "5   [colombia, presidente, gobierno, país, polític...   \n",
       "6   [paz, farc, santrich, guerrilla, guerra, jep, ...   \n",
       "7   [fútbol, jugadores, gol, equipo, goles, equipo...   \n",
       "8   [música, arte, musical, teatro, festival, arti...   \n",
       "9   [venezuela, maduro, guaidó, venezolano, chávez...   \n",
       "10  [libros, libro, poeta, verso, poesía, literatu...   \n",
       "11  [fiscal, fiscalía, martínez, nhm, odebrecht, g...   \n",
       "12  [internet, digital, información, datos, digita...   \n",
       "13  [buses, bogotá, ciudad, peñalosa, metro, trans...   \n",
       "14  [trump, biden, presidente, donald, sanders, un...   \n",
       "15  [mujeres, sexual, feminismo, sexo, acoso, sexu...   \n",
       "16  [presidente, duque, gobierno, uribe, congreso,...   \n",
       "17  [petro, gustavo, fajardo, duque, uribe, vuelta...   \n",
       "18  [electoral, elecciones, cne, política, elector...   \n",
       "19  [foto, fotos, fotografía, imágenes, fotografía...   \n",
       "20  [coca, glifosato, cocaína, cultivos, drogas, n...   \n",
       "21  [protesta, protestas, paro, manifestantes, flo...   \n",
       "22  [justicia, corte, judicial, jep, magistrados, ...   \n",
       "23  [cocina, café, arroz, cafés, plato, cocinar, p...   \n",
       "24  [colombia, país, bogotá, ciclismo, matador, in...   \n",
       "25  [guerra, siria, fascismo, irán, asad, nuclear,...   \n",
       "26  [violencia, steinke, pág, judíos, gobierno, el...   \n",
       "27  [china, hong, kong, xi, taiwán, chino, chinos,...   \n",
       "28  [candidatos, petro, vuelta, fajardo, centro, e...   \n",
       "29  [salim, historia, naipaul, mao, áfrica, agn, g...   \n",
       "30  [pensiones, colpensiones, fondos, pensional, a...   \n",
       "31  [delfines, taiji, ballenas, animales, biarritz...   \n",
       "32  [bolsonaro, brasil, lula, brasileños, jair, di...   \n",
       "33  [chile, piñera, chilenos, pinochet, allende, p...   \n",
       "34  [cuba, eln, castro, talibanes, protocolo, nego...   \n",
       "35  [aborto, embarazo, abortos, mujeres, causales,...   \n",
       "36  [coronell, columnista, revista, columnistas, e...   \n",
       "37  [aviación, aerolíneas, avianca, pasajeros, aér...   \n",
       "38  [facebook, analytica, cambridge, zuckerberg, u...   \n",
       "39  [ue, brexit, unión, europea, europa, irlanda, ...   \n",
       "40  [nobel, handke, premio, buarque, keuschnig, la...   \n",
       "41  [religión, religiones, dios, cristianismo, lai...   \n",
       "42  [dic, corte, coronel, derecho, arias, cs, fg, ...   \n",
       "43  [subienda, palmitas, jerusalén, palmira, bocac...   \n",
       "44  [medimás, eps, cafesalud, ips, salud, esimed, ...   \n",
       "45  [bolívar, libertador, guayana, kennedy, simón,...   \n",
       "46  [femenino, meditación, lacydes, buda, social, ...   \n",
       "47  [amlo, obrador, méxico, pri, migrantes, lópez,...   \n",
       "48  [novela, poetas, leandro, poeta, conrad, carra...   \n",
       "49  [tola, pa, ivancito, tías, ivancho, alicia, su...   \n",
       "\n",
       "                                  Representative_Docs  \n",
       "0   [Me parece que el doctor Vargas Lleras se vuel...  \n",
       "1   [La economía lleva cuatro años estancada. En e...  \n",
       "2   [En un hecho inédito para la humanidad, por pr...  \n",
       "3   [¿Son entonces las mujeres culpables del maltr...  \n",
       "4   [En el año 1993 el expresidente César Gaviria ...  \n",
       "5   [Debo empezar esta columna diciendo que no soy...  \n",
       "6   [El lunes el país vio atónito cómo el CTI capt...  \n",
       "7   [La economía devastada, las fuerzas de ocupaci...  \n",
       "8   [El Ibagué Festival es un nuevo espacio cultur...  \n",
       "9   [Venezuela es tendencia en todos los medios na...  \n",
       "10  [El verso libre no es tan libre. Por su falta ...  \n",
       "11  [Supongamos que el video en el que aparece Pet...  \n",
       "12  [Resulta difícil hacer seguimiento a la avalan...  \n",
       "13  [Mucho se ha discutido en estos días en Bogotá...  \n",
       "14  [MIAMI. El pronóstico es muy reservado para es...  \n",
       "15  [Este es otro de esos casos en que el acusado ...  \n",
       "16  [La convocatoria hecha por el presidente Iván ...  \n",
       "17  [Tras la divulgación, a fines del año pasado, ...  \n",
       "18  [El asunto no es que un clan familiar tenga ta...  \n",
       "19  [Un hombre bien parecido sonríe con pícara tim...  \n",
       "20  [Reacciones a mi columna anterior,  Quemas, d...  \n",
       "21  [Siglos de protestas han permitido desarrollar...  \n",
       "22  [Una reforma constitucional y una ley sanciona...  \n",
       "23  [La olla está sobre el fogón, los comensales s...  \n",
       "24  [La crisis y la forma como martiriza a la mayo...  \n",
       "25  [NUEVA YORK  Estados Unidos surgió de la Guer...  \n",
       "26  [El exjefe paramilitar Salvatore Mancuso sigue...  \n",
       "27  [¿Qué pasará cuando los censores chinos traten...  \n",
       "28  [A poco más de una semana de la primera vuelta...  \n",
       "29  [Clíver Alcalá es un imprudente, oportunista, ...  \n",
       "30  [Las AFP insisten en el modelo chileno de poca...  \n",
       "31  [El viento trajo las naves, las naves trajeron...  \n",
       "32  [Lo previsto: ganó Jair Bolsonaro y el 1ro. de...  \n",
       "33  [Un titular del periódico Financial Times sobr...  \n",
       "34  [El presidente Duque sabe muy bien lo que hace...  \n",
       "35  [En Colombia somos inmensamente afortunadas po...  \n",
       "36  [Al golpear la credibilidad de una de las poc...  \n",
       "37  [Las dos aerolíneas más grandes de América Lat...  \n",
       "38  [El escándalo Cambridge Analytica confirma que...  \n",
       "39  [A medida que se aproxima la elección del Parl...  \n",
       "40  [Treinta y siete años atrás, García Márquez re...  \n",
       "41  [Dos milenios han sido suficientes para compro...  \n",
       "42  [Los abogados Alejandro Motta y Daniel Porras,...  \n",
       "43  [En algún momento, muchos siglos antes de Cris...  \n",
       "44  [La maniobra financiera mediante la cual Medim...  \n",
       "45  [Hace 200 años el 15 de noviembre de 1819 mu...  \n",
       "46  [Según Maharishi Mahesh Yogi (1918-2008), el g...  \n",
       "47  [El presidente López Obrador (AMLO) solicitó a...  \n",
       "48  [Por más de tres años viví acompañada del libr...  \n",
       "49  [Hoy Tola y yo hicimos de recreacionistas pa e...  "
      ]
     },
     "execution_count": 69,
     "metadata": {},
     "output_type": "execute_result"
    }
   ],
   "source": [
    "topic_model.get_topic_info()\n"
   ]
  },
  {
   "cell_type": "code",
   "execution_count": 70,
   "id": "5ef9e897",
   "metadata": {},
   "outputs": [
    {
     "data": {
      "text/plain": [
       "[('vida', 0.008060417730403812),\n",
       " ('mundo', 0.0050532043486178424),\n",
       " ('casa', 0.004723487294607641),\n",
       " ('años', 0.004512426428302214),\n",
       " ('tiempo', 0.00434080702148459),\n",
       " ('amor', 0.004197519672360857),\n",
       " ('dios', 0.004037030287553795),\n",
       " ('cosas', 0.00395077303627431),\n",
       " ('gente', 0.003872026684822089),\n",
       " ('alguien', 0.0038632782375553607)]"
      ]
     },
     "execution_count": 70,
     "metadata": {},
     "output_type": "execute_result"
    }
   ],
   "source": [
    "topic_model.get_topic(2)"
   ]
  },
  {
   "cell_type": "code",
   "execution_count": 71,
   "id": "6be51394",
   "metadata": {},
   "outputs": [
    {
     "data": {
      "text/plain": [
       "['¿Son entonces las mujeres culpables del maltrato por no denunciar? ¡No, señores!. Sin lugar a dudas el 100 por ciento de la culpa recae sobre nosotros, los hombres. Los hombres que las tenemos muertas del miedo viviendo en un país que ocupa el puesto 14 en el mundo entre los países con más víctimas de ese flagelo.\\n\\nFaltaban unos diez minutos para que mi reloj marcara las ocho de la noche. Días antes, me había ofrecido a cocinar un arroz de mariscos para la familia de mi novia en la cena del 31 de diciembre. Aun cuando aprendí esa receta de mi madre, y me la sé de memoria, quise bañarme y vestirme con tiempo para hacer lo mío sin afán, y lograr que el plato estuviera a la altura de las expectativas de mis suegros.\\n\\nSalí del cuarto ya vestido y perfumado para dirigirme a la cocina de la casa en donde estábamos hospedados. Apenas empezaba a caminar hacia allá, cuando los ladridos estruendosos de unos perros de la propiedad de al lado me hicieron detener la marcha pensando que algo extraño sucedía. Me acerqué a un muro de concreto de no más de un metro que dividía los inmuebles, del que nacía una reja y una enredadera que me permitían ver lo que pasaba pero me impedían cruzar al otro lado. A los pocos segundos, se hizo evidente la razón de los ladridos.\\n\\nEn un principio oí solamente una voz masculina con tono de reclamo, pero no lograba descifrar las palabras. Sin embargo, la cosa escaló rápidamente y esa voz distante se convirtió en un grito que se oía a kilómetros. Fue entonces cuando entendí que estaba siendo testigo, en mis narices, de un caso de violencia contra una mujer. Vi a través de la reja a un hombre corpulento y en evidente estado de embriaguez que estrujaba y zarandeaba a su novia, mientras le gritaba a centímetros de la cara ¿dónde estabas desgraciada?, ¿tú qué hacías con él?, ¿tú qué hacías con él?\\x94. La mujer, petrificada, trataba de explicarle que ella no estaba con nadie, que todo era un efecto de su avanzada borrachera.\\n\\nActo seguido, el bárbaro exclamó: \\x93¡Maldita perra, tú no sabes en la que te metiste, te voy a matar, te voy a romper la cara, te voy a picar, a ti y tu familia malnacida\\x94. La mujer, que ante la rabia del hombre no vio otra salida, trató de darle la espalda y correr hacia la casa para buscar refugio, pero fracasó en el intento. Este alcanzó a agarrarla del cuello de su camisa gris de rayas rojas y empezó a pegarle por la espalda con todas sus fuerzas y con los puños bien cerrados. La intensidad de los golpes se incrementaba con cada puñetazo.\\n\\nTodo esto sucedió en algo menos de un minuto. Mientras veía lo que pasaba, sin poder cruzar la cerca y sin manera de intervenir, saqué mi celular para llamar a la Policía y reportar lo sucedido, teniendo la certeza de que lograría con mi testimonio la captura del maltratador. Al tiempo que esperaba en la línea, el cuidandero de la casa, un nativo de la zona, me reclamaba y replicaba: \\x93¿Pero usted qué hace llamando a la Policía, hermano?, ¿para qué se mete en eso?, eso fue que le montó cachos, ese es problema de ellos y es normal que le dé duro\\x94.\\n\\nBajé entonces unos metros a la carretera para indicarle a la moto, cuando llegara, los detalles de lo que había visto y el lugar de lo sucedido. Al cabo de unos diez o quince minutos llegó la Policía y entró al caserío. Subí corriendo a poner la oreja contra el muro para tratar de oír lo que pasaba. Para mi sorpresa, la mujer no quiso salir de la casa, negó lo sucedido a los agentes, y fue ella misma quien se encargó de echarlos a los gritos del lugar. \\x93A mí nadie me está pegando, no sean sapos y déjenlo tranquilo\\x94.\\n\\nSalieron el par de patrulleros del lugar y vinieron a hablar conmigo para explicarme que el caso se les salía de las manos. No podía yo creer que luego de haber visto a pocos metros semejante barbarie, las leyes de mi país no me dejaran hacer nada. Al otro día, con la ayuda y la diligencia de la Fiscalía, pude buscar otro camino y abrir una investigación para lograr algún día que castiguen a este cobarde despiadado.\\n\\nLes cuento hoy esta historia, pues considero que es una fiel representación del funcionamiento de la violencia contra las mujeres. El \\x93macho\\x94 les pega, las maltrata, las insulta, las intimida y las amenaza, al punto de que ellas mismas, sumidas en el más que entendible miedo, lo encubren, lo defienden y hasta lo justifican.\\n\\n¿Son entonces las mujeres culpables del maltrato por no denunciar? ¡No, señores!. Sin lugar a dudas el 100 por ciento de la culpa recae sobre nosotros, los hombres. Los hombres que las tenemos muertas del miedo viviendo en un país que ocupa el puesto 14 en el mundo entre los países con más víctimas de ese flagelo. Los hombres que matamos a una mujer cada dos o tres días. Los hombres que les pegamos a 116 mujeres cada día. Los hombres responsables de que 7 de cada 10 mujeres colombianas hayan sido víctimas de maltrato. Los hombres colombianos que agredimos a una mujer cada 12 minutos. Los hombres que violamos 42 niñas al día. Los hombres en el Congreso que decidieron quedarse en la casa el día que la senadora Claudia López quiso dar este debate\\x85\\n\\n\\nComo hago siempre antes de escribir una columna, me puse a investigar sobre las cifras y el contexto pertinente. En ese ejercicio me di cuenta de que la inmensa mayoría de las noticias sobre el tema fueron publicadas entre el 22 y el 27 de noviembre. ¿La razón? el 25 de ese mes se celebra el día de la no violencia contra la mujer. Pero señores, ¿y el resto de año qué? Esta tragedia deja más víctimas que el conflicto armado, que los robos, que la inseguridad, que las bandas criminales, que la coca, que todo. ¿Qué tiene que pasar para que le demos la atención que se merece? ¿Que maten o violen a la mamá o a las hermanas de los congresistas? ¡Despertemos, por Dios!',\n",
       " 'Recuerdo que la esperé muchos días con orgullo para darle la noticia de que ya había cumplido cinco años.\\n\\nTenía que ser alguien muy importante en mi vida para que yo de niño tuviera esa ansiedad. También recuerdo que en alguna Navidad de mi infancia me interesó menos cuál sería mi regalo que la pregunta de si Gina iba a tener el suyo. En esos tiempos el Dios recién nacido se acordaba siempre de los niños pero no parecía saber que había que dar regalos a los adultos. Y yo le habría dado mi regalo con gusto.\\n\\nAhora ha muerto a los 98 años, y a esa edad las personas mueren inocentes como si fueran niños, dejando un dolor transparente como una lágrima. Su vida no fue fácil, era la mayor de una familia numerosa, de la que mi madre era la menor de las hermanas, ya era adulta cuando éramos niños, y a medida que los mayores morían ella iba quedando como el testimonio de que hubo otro mundo, un mundo de los campos, lento, dulce, abnegado, capaz de un amor casi sin límites.\\n\\nCuentan en mi familia que de niña, cuando veía crecer los nubarrones sobre el cañón del Guarinó, entraba a la cocina, llenaba de ceniza un platón grande, y salía al patio de su casa de la cordillera a trazar cruces de ceniza en el suelo, para desviar las tempestades. Tenían que ser muy poderosas y amenazantes las tempestades de esos tiempos, y mucho el desamparo de las casitas en el flanco de abismos de la montaña, para que una niña de diez años improvisara aquel ritual, mientras las mujeres corrían por los cuartos cubriendo con telas los espejos para que no atrajeran a los rayos.\\n\\nParece imposible que alguien que no tuvo nunca hijos de su carne haya criado tantos niños, y haya muerto rodeada de tantos nietos. En esta época que deja de lado a los ancianos y los abandona, consiguió con su amor envejecer rodeada de gratitud y de cuidados. Ella, que no tuvo nunca de joven fiestas de cumpleaños, tuvo al final de su vida más fiestas y serenatas que muchos otros. Recordaba, cerca ya de cumplir un siglo, las lecciones de geografía que había recibido en su infancia, los versos patrióticos que enseñaban en las escuelas de los años 20, las canciones que habían arrullado su mocedad.\\n\\nMi tía Clemencia, que tiene 97, y que es la bondad misma, me dijo esta semana hablándome de su hermana mayor que Dios sin duda iba a acordarse de ella. Es la antigua manera de decir que después de una buena vida es justa y necesaria la buena muerte, y que bien al final Dios da el morir como alivio y como premio. Haber llegado casi a los 100 años en un país tan peligroso es como una señal misteriosa que no acabamos de interpretar. Verla sonreír y oírla cantar, como oír cantar a mi padre cumplidos los 90 cuando sabíamos que había cantado desde los diez, que dios le había concedido 80 años de guitarra y canciones, sólo puede ser motivo de una sonriente gratitud. Borges escribió: \\x93Qué importa nuestra desdicha si hubo en la tierra alguien que se dijo feliz\\x94. Casi podríamos añadir: qué importan la maldad, la crueldad, la violencia, la infamia, si alguien probó alguna vez una vida de amor, si alguien fue capaz de demostrar, ante la tierra y el cielo, que es posible vivir sin malignidad, afrontando lo adverso con entereza y con sencillez. Un solo ejemplo basta para demostrar que es posible.\\n\\nAsí: ¿cómo entristecerse por un hecho que prueba que el mundo puede ser un lugar generoso y cordial? \\x93Con la primera gota de lluvia murió el verano\\x94, escribió Odysseas Elytis. Un solo justo puede salvar a la ciudad más malvada. Y hay doctrinas que afirman que unos cuantos seres silenciosos y anónimos son los que sostienen el mundo. Que es falsa toda nuestra idea de la celebridad, del poder, de la importancia: que lo único que de verdad justifica al mundo y lo salva son los seres sin historia, porque son los que permiten explicarnos la historia.\\n\\nGina pertenecía de tal manera a otro tiempo, que los muertos la visitaban, y enviaban mensajes con ella. Leía los sueños como parte eficiente de la realidad, poblada de seres que se comunican misteriosamente con nosotros. Uno de sus nietos fue desaparecido en las duras encrucijadas de nuestra violencia. Ella lo amaba y se negó por años a aceptar que hubiera muerto. Un día me dijo con serenidad que la noche anterior él había venido y le había dicho que era verdad, que estaba muerto, y sólo a partir de ese momento lo creyó y lo aceptó. También cuando murió uno de mis tíos abuelos, que tenía su edad, lo vio aparecer varias veces en distintos sitios hasta que tuvo que decirle: \\x93Si yo hice algo indebido, perdóneme, y si usted me debe algo a mí, yo se lo perdono. Ya puede descansar\\x94.\\n\\nSólo después recordó que muchos años antes, ese tío le había regalado una novilla enferma, a la que ella había curado con paciencia, y que después, cuando la vio sana, el tío la vendió sin darle ninguna explicación. Esa era la causa de las apariciones, y bastó que ella pronunciara esa fórmula para que él no apareciera más, para que pudiera descansar. Recuerdo estas cosas porque hay una sabiduría en ese modo de ajustar con visiones y sueños las deudas del recuerdo, de despejar el alma de reproches y ofensas.\\n\\nAllá, muchos se alegrarán con su llegada. Aquí, verla descansar será suficiente consuelo para quienes tanto la amaron, para Esperanza, para Marina y Óscar, para Matilde, Sandra y Diana, para sus hermanos Clemencia y Liborio, para sus sobrinos, sus nietos y sus biznietos.\\n\\nAyer la vi por última vez, y sentí que desde el fondo de su sueño me escuchaba y me saludaba. Me habría gustado cantarle una canción, pero pedí que le pusieran música, porque ese era el alimento que necesitaba. Ella supo, como nadie, ser la madre de los que la perdieron temprano, y aunque parecía no tener nada, daba riqueza a manos llenas. No se quejó jamás de la vida, y a todos nos ayudó a vivir. Fue la gran tejedora, la que cosía de nuevo lo que la vida iba rompiendo. Era un ser mágico, y la longevidad sin amargura fue su recompensa.\\n\\nOtra cosa me dicen: que era cierto. Que las nubes se desviaban, que la niña sabía de verdad hacer que se apartaran las tempestades.',\n",
       " 'Dentro de toda la mugre que este pueblo resiste sin apenas quejarse, así le rompan las promesas de campaña en la cara, no más subir al cargo, buscaba afanosamente algo por rescatar al final del año, para hacerle frente a la depresión de estos 100 años de retroceso que hemos vivido con el nuevo gobierno. La única esperanza que encontré fue la lucha titánica que dieron los estudiantes. Cara como un ojo de la cara. Barata o nula para nuestros gobernantes, como un ojo de la cara ajeno, de cualquiera, de un estudiante, de un súbdito.\\n\\n¡Vivan los estudiantes! La única esperanza, la única luz y mecha de fin de año. Y que sigan viviendo, y que sigan molestos porque sabemos que la palabra de este Gobierno no dura sino el afán de apagar el incendio: así sea con sangre.\\n\\nPero empezó el año y las estadísticas empeoraban. A este país que le enseñaron a la brava y aprendió reclinado en su ignorancia que pensar en el bien común es un error; que llevar una camiseta en contra de la guerra es una razón para darle muerte al portador. Que la diferencia se aniquila, no importa si hay que inventarse los muertos y disfrazarlos de lo que toque, no importa que haya que exterminar un partido entero, un movimiento ciudadano, miles\\x85 cada tantas pocas horas un líder social muerto. \\x93Líder social\\x94 son dos palabras que huelen feo, fastidian, se leen en Colombia como quien decodifica con palabras un mosquito insoportable en el oído: que cada líder y sus familias antes más bien agradezcan que no lo mataron antes.\\n\\nMientras toda nuestra casta idiota de jefes políticos arma una cortina de humo con Venezuela, como ya lo han hecho con cortinas de bombas, y se inventa un concierto para recolectar fondos para darle al país al que los mismos organizadores del concierto han bloqueado (una pantomima que ni la Cruz Roja o la ONU han recomendado), mientras tanto, el país se cae. No importa el hambre ni el desastre del Chocó o la Guajira, ni nuestras decenas de miles de caídos en la calle al disparo de la indiferencia. No importa que desaparezcan los ríos, ni que construyan represas-bombas-de-tiempo, ni que se caigan los puentes, ni el cianuro que se les suministra a los testigos con la misma facilidad con que saben quién activó un carro bomba a la pocas horas de reventado, con nueva modalidad de mártir criollo en átomos, siguiendo la tradición de una justicia efectiva, rápida, maravillosa: la misma facilidad la del discurso público, tan diferente del privado: en público, señoras, en privado, \\x93esto es una coima, marica\\x94. Y esa casta acompañada de otra, mucho más pudiente pero peor de ignorante: artistas del lado de la verdad, supuestamente: quisiera ver al tal Maloma, o a cualquiera de esas estrellas criollas del concierto, cantándole a nuestros niños muertos de hambre, a los líderes asesinados, a las mujeres reprimidas, a las comunidades discriminadas, a los territorios usurpados, a los desplazados errantes. No. Ahora nos dirigen desde afuera los dolores, como si se nos olvidara que acá nos sobran pestes: no se necesita del , ni , ni ninguna ola maravillosa de afuera, cuando acá tenemos todos los ríos revueltos, dentro. Cuando no secos.\\n\\nEn otro punto de Colombia, casi al tiempo, se celebraba un fiesta frenética de cuatro días, regida fundamentalmente por la vida. Y por las semillas que combatan desde ya la ignorancia en los más pequeños y en los más aislados. Había un desfile casi chamánico de ideas, de cantos, de música, de baile, de trance. Muchas de las voces que deciden no agotarse estaban allá. Retando a la muerte con risa, con ritmo, con poesía, con dolor solidario. Empezando por la gran líder en contra de Hidroituango Isabel Cristina Zuleta y de ahí hacia abajo la pirámide de amor, de resistencia, de fuerza, se erigía. Sucedió en Piedecuesta. Ella y decenas de decenas de músicos, cineastas, escritores, pensadores: olorosísimos líderes sociales, lejos de esa casta arriba mentada. Artistas también, pero mirando antes adentro: a la casa.\\n\\nLo que ha logrado el gran músico, y poeta radical, y gran amigo del que lo conozca como amigo, y celebrador de la vida, y mente aguda como pocas, Edson Velandia (junto a su esposa, la también música y también líder y activista la Negra Adriana Lizcano, su familia, el resto de junta directiva, la gran Sandy Morales, Ana Trujillo y Doménico di Marco y su pueblo), con el Festival de la Tigra, Piedecuesta Ruge 2019, no es clasificable. Estuve presentando una película mía y dando una charla, y en lugar de correr en cuanto hacemos lo pactado como nos enseñan a los del cine, opté por quedarme a hacer registro gráfico, y por ahí derecho en mi cabeza auditivo, y anímico, y eufórico y rábico. Me quedé a atestiguar la magia que desde que frecuento he sentido en Piedecuesta: ese hervidero de ánimos, de talento, de locura, de extremos políticos. Ahí sucedió este festival, ya en su tercera edición.\\n\\nCuatro días de euforia del amor por las ideas, y del amor por la idea de que no hay desamor posible que desaliente a los que no somos capaces de tragarnos un país como el que nos quieren embutir a la brava. Pero no fue una fiesta de llanto ni de quejas. Fue una celebración entera de la vida. Edson, que en cualquier país decente que se amara a sí mismo sería un símbolo de la poesía, de la resistencia, de la risa, sería un símbolo de querer una vida digna, sería nuestra Violeta Parra, con su magia y su sinceridad se trajo a un ejército de inconformes que querían antes que nada lucir y desgarrar sus causas: sublimarlas con dinamita de cada talento. No importaba que hubiera paga o no, ahí queríamos estar todos. Cada paso del festival era una pequeña danza revolucionara y un manifiesto: como este año tuvo un premio público por convocatoria para ser hecho, NO SE COBRÓ NINGUNA ENTRADA para nada ni nadie. Si eso salía de un premio público es que ya lo pagó la gente, aclaró a alguien Velandia: \\x93No se le puede cobrar a la gente dos veces\\x94. Hubo una urna al revés: quien quería al final de cada evento se acercaba a dar lo que quisiera. Y el que no, pues no.\\n\\nUna sola programación, nada en paralelo, quitaba lugar a cualquier duda y también las celebraba todas. Íbamos como una Iglesia de la Rebeldía del parque al teatro y del teatro al parque. Y tocaron de todo para todos: en las mañanas, cine y charlas con títulos sugerentes como \\x93De guitarras eléctricas e hidroeléctricas\\x94 o \\x93Fracking y shopping\\x94, por nombrar un par, en donde se pasaba del arte al arte de la subsistencia en este moridero, al arte de la protesta, de organizarse para exigir derechos, dignidad alimentaria, cuidado sagrado del agua y de los ríos\\x85 a la misma hora en las veredas lejanas, barrios inaccesibles, poblaciones aisladas cercanas, llegaban a domicilio ideas, artistas, obras: abono, remedio\\x85 de nuevo abajo empezaban las actividades de la tarde en el teatro, lleno, que incluían cine silente de archivo santandereano no hace mucho descubierto y con hallazgos hasta de los años 20, musicalizado en vivo; lecturas dramáticas de literatura santandereana con música en vivo, con banda en vivo, dirigida por Sebastián Rozo alguna; o ensambles entre la banda del pueblo y un genio como Toño Arnedo. Y en la plaza todas las locuras mezcladas: las maravillosas y rebeldes Polikarpa y sus Viciosas, los mismos Velandia y la Tigra, Los Pirañas. Propuestas radicales en ejecución y en ideas: pero también hubo música andina de vanguardia, vallenato, metal, punk, electrónica, hip-hop, carranga: había alimento para todos. Y del bueno. Del que anima el baile y el baile del corazón el cabeza. Yo lo atestiguaba todo frenéticamente con la cámara, junto a los sistemas de sonido, y la carga era brutal, bestial: la aparición de artistas que en cualquier país serían protegidos y venerados como la increíble La Muchacha, de voz potente y preciosa y de ideas potentes y preciosas: lirismo, desastre, precisión; o Alejo García, o el León Pardo: todos artistas ignorados por la masa de los medios masivos\\x85 seguramente artistas indispensables en cualquier país en el que hubieran nacido que no fuera este. Este país odia a sus poetas, en este país nadie es poeta en su tierra. Cada músico, cada pensador es un volcán, lo fue esos días y lo es: son volcanes atorados por un sistema informativo que no solo los condena sino los menosprecia. Poesía escasa en los grandes medios, sí: pero cada vez más abundante, y más colorida, y más ardorosa, circula por cielos y cañerías distintos, imposibles de controlar en estos tiempos.\\n\\nTodas las caras de ilusión se mezclaron. Todas las formas de amar el arte y la música, todos los estratos, todas las clases sociales, todas las edades, todas las formas de conocimiento culto y popular (que no son antítesis como nos enseñan). Los gustos opuestos conviviendo en el mismo parque, a todo volumen y a todo pulmón, esperando su turno, su oportunidad para expresarse. Baile, locura, genio. Cuando acababan los conciertos, el centro que desde siempre ha recibido a los músicos y otras formas de expresión y pensamiento en Piedecuesta, Kussi-huayra, siempre estrenando sede pero conservando un espíritu de fuego, impecable, recibía un aluvión de gente y de músicos, y empezaba la descarga, la borrasca de improvisaciones, los , el baile poseyendo el ánimo. Y cuando debía cerrar por ley Kussi-hayra, ya estaba abierta el alma de la calle de par en par, otro par de centenares seguía hipnotizando al pueblo, a la gente, a los espíritus, con músicas cíclicas que obligaban a cerrar los ojos, a desbordarse, en mi caso a disparar la cámara con los movimientos del corazón: disparé miles de veces como única manera de participar con un patrón rítmico de lo que hacían los músicos, en improvisaciones maravillosas hasta de 20 minutos: percusiones enfermizas, dementes, sanadoras, pitos del más allá, mientras un bruja maravillosa esperaba que abrieran un café internet para renunciar por esta vía a un trabajo de mierda en una ciudad distante, en un oficio distante. En mi caso, en cambio, era imposible renunciar al registro con todas las ondas atravesándome, todos los sonidos, todos los ruidos, todos los abrazos, como a tantos otros: una especie de . No había agotamiento: había trance. Había ideas, había locura desbordada, indignación, rabia, potencia e impotencia, vida: los imanes del corazón de cada uno a toda atracción, a toda marcha y todo contenido en lo único capaz de resistirlo: amor, esperanza.\\n\\nYa nos lo han robado todo por generaciones. Ya no tenemos nada que perder. Lo pediremos a fuerza de versos, a la fuerza de las notas, a la fuerza de los gritos, a la fuerza que toque, pero ya, como demostraron los estudiantes, no va a ser tan fácil. Podrán secar un río, con su soberbia y su ignorancia: pero somos miles de ríos dispuestos a morir en el intento, encaminados en agua pura y sangre hacia el mar de la libertad, del amor. No van a pasar. Acá fuimos todos estudiantes de un salón abierto en el parque, en el teatro\\x85 Hay cosas y amarguras que no lograrán escalar el muro de nuestra fiesta, de la vida. Y todo esto se sentía allá, al pie de la cuesta. Gracias a esta tierra delirante, y a toda la mitología que la habita, la que conozco y la que no. Gracias a los músicos, a las ideas, a la noche, al clima manso que nos abrazó. Gracias a Velandia, a su criterio, a su alma generosa que de regalo recibe la generosidad de vuelta de todos los convocados o autoconvocados que queremos simplemente estar allá, en esta danza de la vida, estos pocos días, reuniendo fuerza de tantas heroínas y guerreros, para enfrentar el resto, descolorido y enfermo al que quieren someternos.']"
      ]
     },
     "execution_count": 71,
     "metadata": {},
     "output_type": "execute_result"
    }
   ],
   "source": [
    "topic_model.representative_docs_[2]"
   ]
  },
  {
   "cell_type": "code",
   "execution_count": 72,
   "id": "a9665f9c",
   "metadata": {},
   "outputs": [
    {
     "data": {
      "application/vnd.plotly.v1+json": {
       "config": {
        "plotlyServerURL": "https://plot.ly"
       },
       "data": [
        {
         "alignmentgroup": "True",
         "customdata": [
          [
           [
            "economía",
            "colombia",
            "empresas",
            "gobierno",
            "país",
            "crecimiento",
            "millones",
            "desarrollo",
            "productividad",
            "banco"
           ]
          ]
         ],
         "hovertemplate": "Palabras Clave=0_economía_colombia_empresas_gobierno<br>Topic=%{x}<br>N° Columnas=%{y}<br>Representation=%{customdata[0]}<extra></extra>",
         "legendgroup": "0_economía_colombia_empresas_gobierno",
         "marker": {
          "color": "#636efa",
          "pattern": {
           "shape": ""
          }
         },
         "name": "0_economía_colombia_empresas_gobierno",
         "offsetgroup": "0_economía_colombia_empresas_gobierno",
         "orientation": "v",
         "showlegend": true,
         "textposition": "auto",
         "type": "bar",
         "x": [
          0
         ],
         "xaxis": "x",
         "y": [
          1219
         ],
         "yaxis": "y"
        },
        {
         "alignmentgroup": "True",
         "customdata": [
          [
           [
            "virus",
            "coronavirus",
            "pandemia",
            "covid",
            "salud",
            "19",
            "cuarentena",
            "vacuna",
            "contagio",
            "crisis"
           ]
          ]
         ],
         "hovertemplate": "Palabras Clave=1_virus_coronavirus_pandemia_covid<br>Topic=%{x}<br>N° Columnas=%{y}<br>Representation=%{customdata[0]}<extra></extra>",
         "legendgroup": "1_virus_coronavirus_pandemia_covid",
         "marker": {
          "color": "#EF553B",
          "pattern": {
           "shape": ""
          }
         },
         "name": "1_virus_coronavirus_pandemia_covid",
         "offsetgroup": "1_virus_coronavirus_pandemia_covid",
         "orientation": "v",
         "showlegend": true,
         "textposition": "auto",
         "type": "bar",
         "x": [
          1
         ],
         "xaxis": "x",
         "y": [
          525
         ],
         "yaxis": "y"
        },
        {
         "alignmentgroup": "True",
         "customdata": [
          [
           [
            "vida",
            "mundo",
            "casa",
            "años",
            "tiempo",
            "amor",
            "dios",
            "cosas",
            "gente",
            "alguien"
           ]
          ]
         ],
         "hovertemplate": "Palabras Clave=2_vida_mundo_casa_años<br>Topic=%{x}<br>N° Columnas=%{y}<br>Representation=%{customdata[0]}<extra></extra>",
         "legendgroup": "2_vida_mundo_casa_años",
         "marker": {
          "color": "#00cc96",
          "pattern": {
           "shape": ""
          }
         },
         "name": "2_vida_mundo_casa_años",
         "offsetgroup": "2_vida_mundo_casa_años",
         "orientation": "v",
         "showlegend": true,
         "textposition": "auto",
         "type": "bar",
         "x": [
          2
         ],
         "xaxis": "x",
         "y": [
          358
         ],
         "yaxis": "y"
        },
        {
         "alignmentgroup": "True",
         "customdata": [
          [
           [
            "educación",
            "universidad",
            "estudiantes",
            "universidades",
            "superior",
            "calidad",
            "docentes",
            "nacional",
            "formación",
            "profesores"
           ]
          ]
         ],
         "hovertemplate": "Palabras Clave=3_educación_universidad_estudiantes_universidades<br>Topic=%{x}<br>N° Columnas=%{y}<br>Representation=%{customdata[0]}<extra></extra>",
         "legendgroup": "3_educación_universidad_estudiantes_universidades",
         "marker": {
          "color": "#ab63fa",
          "pattern": {
           "shape": ""
          }
         },
         "name": "3_educación_universidad_estudiantes_universidades",
         "offsetgroup": "3_educación_universidad_estudiantes_universidades",
         "orientation": "v",
         "showlegend": true,
         "textposition": "auto",
         "type": "bar",
         "x": [
          3
         ],
         "xaxis": "x",
         "y": [
          317
         ],
         "yaxis": "y"
        },
        {
         "alignmentgroup": "True",
         "customdata": [
          [
           [
            "colombia",
            "presidente",
            "gobierno",
            "país",
            "política",
            "duque",
            "uribe",
            "político",
            "colombianos",
            "santos"
           ]
          ]
         ],
         "hovertemplate": "Palabras Clave=4_colombia_presidente_gobierno_país<br>Topic=%{x}<br>N° Columnas=%{y}<br>Representation=%{customdata[0]}<extra></extra>",
         "legendgroup": "4_colombia_presidente_gobierno_país",
         "marker": {
          "color": "#FFA15A",
          "pattern": {
           "shape": ""
          }
         },
         "name": "4_colombia_presidente_gobierno_país",
         "offsetgroup": "4_colombia_presidente_gobierno_país",
         "orientation": "v",
         "showlegend": true,
         "textposition": "auto",
         "type": "bar",
         "x": [
          4
         ],
         "xaxis": "x",
         "y": [
          291
         ],
         "yaxis": "y"
        },
        {
         "alignmentgroup": "True",
         "customdata": [
          [
           [
            "paz",
            "farc",
            "santrich",
            "guerrilla",
            "guerra",
            "jep",
            "eln",
            "proceso",
            "gobierno",
            "conflicto"
           ]
          ]
         ],
         "hovertemplate": "Palabras Clave=5_paz_farc_santrich_guerrilla<br>Topic=%{x}<br>N° Columnas=%{y}<br>Representation=%{customdata[0]}<extra></extra>",
         "legendgroup": "5_paz_farc_santrich_guerrilla",
         "marker": {
          "color": "#19d3f3",
          "pattern": {
           "shape": ""
          }
         },
         "name": "5_paz_farc_santrich_guerrilla",
         "offsetgroup": "5_paz_farc_santrich_guerrilla",
         "orientation": "v",
         "showlegend": true,
         "textposition": "auto",
         "type": "bar",
         "x": [
          5
         ],
         "xaxis": "x",
         "y": [
          281
         ],
         "yaxis": "y"
        },
        {
         "alignmentgroup": "True",
         "customdata": [
          [
           [
            "fútbol",
            "jugadores",
            "gol",
            "equipo",
            "goles",
            "equipos",
            "copa",
            "torneo",
            "bayern",
            "selección"
           ]
          ]
         ],
         "hovertemplate": "Palabras Clave=6_fútbol_jugadores_gol_equipo<br>Topic=%{x}<br>N° Columnas=%{y}<br>Representation=%{customdata[0]}<extra></extra>",
         "legendgroup": "6_fútbol_jugadores_gol_equipo",
         "marker": {
          "color": "#FF6692",
          "pattern": {
           "shape": ""
          }
         },
         "name": "6_fútbol_jugadores_gol_equipo",
         "offsetgroup": "6_fútbol_jugadores_gol_equipo",
         "orientation": "v",
         "showlegend": true,
         "textposition": "auto",
         "type": "bar",
         "x": [
          6
         ],
         "xaxis": "x",
         "y": [
          235
         ],
         "yaxis": "y"
        },
        {
         "alignmentgroup": "True",
         "customdata": [
          [
           [
            "música",
            "arte",
            "musical",
            "teatro",
            "festival",
            "artista",
            "artistas",
            "ópera",
            "beethoven",
            "obra"
           ]
          ]
         ],
         "hovertemplate": "Palabras Clave=7_música_arte_musical_teatro<br>Topic=%{x}<br>N° Columnas=%{y}<br>Representation=%{customdata[0]}<extra></extra>",
         "legendgroup": "7_música_arte_musical_teatro",
         "marker": {
          "color": "#B6E880",
          "pattern": {
           "shape": ""
          }
         },
         "name": "7_música_arte_musical_teatro",
         "offsetgroup": "7_música_arte_musical_teatro",
         "orientation": "v",
         "showlegend": true,
         "textposition": "auto",
         "type": "bar",
         "x": [
          7
         ],
         "xaxis": "x",
         "y": [
          222
         ],
         "yaxis": "y"
        },
        {
         "alignmentgroup": "True",
         "customdata": [
          [
           [
            "venezuela",
            "maduro",
            "guaidó",
            "venezolano",
            "chávez",
            "venezolanos",
            "ortega",
            "país",
            "régimen",
            "nicaragua"
           ]
          ]
         ],
         "hovertemplate": "Palabras Clave=8_venezuela_maduro_guaidó_venezolano<br>Topic=%{x}<br>N° Columnas=%{y}<br>Representation=%{customdata[0]}<extra></extra>",
         "legendgroup": "8_venezuela_maduro_guaidó_venezolano",
         "marker": {
          "color": "#FF97FF",
          "pattern": {
           "shape": ""
          }
         },
         "name": "8_venezuela_maduro_guaidó_venezolano",
         "offsetgroup": "8_venezuela_maduro_guaidó_venezolano",
         "orientation": "v",
         "showlegend": true,
         "textposition": "auto",
         "type": "bar",
         "x": [
          8
         ],
         "xaxis": "x",
         "y": [
          208
         ],
         "yaxis": "y"
        },
        {
         "alignmentgroup": "True",
         "customdata": [
          [
           [
            "libros",
            "libro",
            "poeta",
            "verso",
            "poesía",
            "literatura",
            "vida",
            "poema",
            "novela",
            "poemas"
           ]
          ]
         ],
         "hovertemplate": "Palabras Clave=9_libros_libro_poeta_verso<br>Topic=%{x}<br>N° Columnas=%{y}<br>Representation=%{customdata[0]}<extra></extra>",
         "legendgroup": "9_libros_libro_poeta_verso",
         "marker": {
          "color": "#FECB52",
          "pattern": {
           "shape": ""
          }
         },
         "name": "9_libros_libro_poeta_verso",
         "offsetgroup": "9_libros_libro_poeta_verso",
         "orientation": "v",
         "showlegend": true,
         "textposition": "auto",
         "type": "bar",
         "x": [
          9
         ],
         "xaxis": "x",
         "y": [
          189
         ],
         "yaxis": "y"
        },
        {
         "alignmentgroup": "True",
         "customdata": [
          [
           [
            "fiscal",
            "fiscalía",
            "martínez",
            "nhm",
            "odebrecht",
            "general",
            "néstor",
            "barbosa",
            "hoc",
            "justicia"
           ]
          ]
         ],
         "hovertemplate": "Palabras Clave=10_fiscal_fiscalía_martínez_nhm<br>Topic=%{x}<br>N° Columnas=%{y}<br>Representation=%{customdata[0]}<extra></extra>",
         "legendgroup": "10_fiscal_fiscalía_martínez_nhm",
         "marker": {
          "color": "#636efa",
          "pattern": {
           "shape": ""
          }
         },
         "name": "10_fiscal_fiscalía_martínez_nhm",
         "offsetgroup": "10_fiscal_fiscalía_martínez_nhm",
         "orientation": "v",
         "showlegend": true,
         "textposition": "auto",
         "type": "bar",
         "x": [
          10
         ],
         "xaxis": "x",
         "y": [
          151
         ],
         "yaxis": "y"
        },
        {
         "alignmentgroup": "True",
         "customdata": [
          [
           [
            "internet",
            "digital",
            "información",
            "datos",
            "digitales",
            "empresas",
            "tic",
            "crc",
            "amazon",
            "redes"
           ]
          ]
         ],
         "hovertemplate": "Palabras Clave=11_internet_digital_información_datos<br>Topic=%{x}<br>N° Columnas=%{y}<br>Representation=%{customdata[0]}<extra></extra>",
         "legendgroup": "11_internet_digital_información_datos",
         "marker": {
          "color": "#EF553B",
          "pattern": {
           "shape": ""
          }
         },
         "name": "11_internet_digital_información_datos",
         "offsetgroup": "11_internet_digital_información_datos",
         "orientation": "v",
         "showlegend": true,
         "textposition": "auto",
         "type": "bar",
         "x": [
          11
         ],
         "xaxis": "x",
         "y": [
          151
         ],
         "yaxis": "y"
        },
        {
         "alignmentgroup": "True",
         "customdata": [
          [
           [
            "buses",
            "bogotá",
            "ciudad",
            "peñalosa",
            "metro",
            "transmilenio",
            "transporte",
            "eléctricos",
            "diésel",
            "bogotanos"
           ]
          ]
         ],
         "hovertemplate": "Palabras Clave=12_buses_bogotá_ciudad_peñalosa<br>Topic=%{x}<br>N° Columnas=%{y}<br>Representation=%{customdata[0]}<extra></extra>",
         "legendgroup": "12_buses_bogotá_ciudad_peñalosa",
         "marker": {
          "color": "#00cc96",
          "pattern": {
           "shape": ""
          }
         },
         "name": "12_buses_bogotá_ciudad_peñalosa",
         "offsetgroup": "12_buses_bogotá_ciudad_peñalosa",
         "orientation": "v",
         "showlegend": true,
         "textposition": "auto",
         "type": "bar",
         "x": [
          12
         ],
         "xaxis": "x",
         "y": [
          149
         ],
         "yaxis": "y"
        },
        {
         "alignmentgroup": "True",
         "customdata": [
          [
           [
            "trump",
            "biden",
            "presidente",
            "donald",
            "sanders",
            "unidos",
            "demócratas",
            "demócrata",
            "republicanos",
            "obama"
           ]
          ]
         ],
         "hovertemplate": "Palabras Clave=13_trump_biden_presidente_donald<br>Topic=%{x}<br>N° Columnas=%{y}<br>Representation=%{customdata[0]}<extra></extra>",
         "legendgroup": "13_trump_biden_presidente_donald",
         "marker": {
          "color": "#ab63fa",
          "pattern": {
           "shape": ""
          }
         },
         "name": "13_trump_biden_presidente_donald",
         "offsetgroup": "13_trump_biden_presidente_donald",
         "orientation": "v",
         "showlegend": true,
         "textposition": "auto",
         "type": "bar",
         "x": [
          13
         ],
         "xaxis": "x",
         "y": [
          142
         ],
         "yaxis": "y"
        },
        {
         "alignmentgroup": "True",
         "customdata": [
          [
           [
            "mujeres",
            "sexual",
            "feminismo",
            "sexo",
            "acoso",
            "sexuales",
            "hombres",
            "mujer",
            "feministas",
            "feminista"
           ]
          ]
         ],
         "hovertemplate": "Palabras Clave=14_mujeres_sexual_feminismo_sexo<br>Topic=%{x}<br>N° Columnas=%{y}<br>Representation=%{customdata[0]}<extra></extra>",
         "legendgroup": "14_mujeres_sexual_feminismo_sexo",
         "marker": {
          "color": "#FFA15A",
          "pattern": {
           "shape": ""
          }
         },
         "name": "14_mujeres_sexual_feminismo_sexo",
         "offsetgroup": "14_mujeres_sexual_feminismo_sexo",
         "orientation": "v",
         "showlegend": true,
         "textposition": "auto",
         "type": "bar",
         "x": [
          14
         ],
         "xaxis": "x",
         "y": [
          131
         ],
         "yaxis": "y"
        },
        {
         "alignmentgroup": "True",
         "customdata": [
          [
           [
            "presidente",
            "duque",
            "gobierno",
            "uribe",
            "congreso",
            "país",
            "gobernabilidad",
            "mermelada",
            "política",
            "partido"
           ]
          ]
         ],
         "hovertemplate": "Palabras Clave=15_presidente_duque_gobierno_uribe<br>Topic=%{x}<br>N° Columnas=%{y}<br>Representation=%{customdata[0]}<extra></extra>",
         "legendgroup": "15_presidente_duque_gobierno_uribe",
         "marker": {
          "color": "#19d3f3",
          "pattern": {
           "shape": ""
          }
         },
         "name": "15_presidente_duque_gobierno_uribe",
         "offsetgroup": "15_presidente_duque_gobierno_uribe",
         "orientation": "v",
         "showlegend": true,
         "textposition": "auto",
         "type": "bar",
         "x": [
          15
         ],
         "xaxis": "x",
         "y": [
          115
         ],
         "yaxis": "y"
        },
        {
         "alignmentgroup": "True",
         "customdata": [
          [
           [
            "petro",
            "gustavo",
            "fajardo",
            "duque",
            "uribe",
            "vuelta",
            "votos",
            "candidato",
            "calle",
            "voto"
           ]
          ]
         ],
         "hovertemplate": "Palabras Clave=16_petro_gustavo_fajardo_duque<br>Topic=%{x}<br>N° Columnas=%{y}<br>Representation=%{customdata[0]}<extra></extra>",
         "legendgroup": "16_petro_gustavo_fajardo_duque",
         "marker": {
          "color": "#FF6692",
          "pattern": {
           "shape": ""
          }
         },
         "name": "16_petro_gustavo_fajardo_duque",
         "offsetgroup": "16_petro_gustavo_fajardo_duque",
         "orientation": "v",
         "showlegend": true,
         "textposition": "auto",
         "type": "bar",
         "x": [
          16
         ],
         "xaxis": "x",
         "y": [
          114
         ],
         "yaxis": "y"
        },
        {
         "alignmentgroup": "True",
         "customdata": [
          [
           [
            "electoral",
            "elecciones",
            "cne",
            "política",
            "electorales",
            "partidos",
            "voto",
            "uribe",
            "político",
            "partido"
           ]
          ]
         ],
         "hovertemplate": "Palabras Clave=17_electoral_elecciones_cne_política<br>Topic=%{x}<br>N° Columnas=%{y}<br>Representation=%{customdata[0]}<extra></extra>",
         "legendgroup": "17_electoral_elecciones_cne_política",
         "marker": {
          "color": "#B6E880",
          "pattern": {
           "shape": ""
          }
         },
         "name": "17_electoral_elecciones_cne_política",
         "offsetgroup": "17_electoral_elecciones_cne_política",
         "orientation": "v",
         "showlegend": true,
         "textposition": "auto",
         "type": "bar",
         "x": [
          17
         ],
         "xaxis": "x",
         "y": [
          97
         ],
         "yaxis": "y"
        },
        {
         "alignmentgroup": "True",
         "customdata": [
          [
           [
            "foto",
            "fotos",
            "fotografía",
            "imágenes",
            "fotografías",
            "imagen",
            "mujeres",
            "epstein",
            "visual",
            "villoro"
           ]
          ]
         ],
         "hovertemplate": "Palabras Clave=18_foto_fotos_fotografía_imágenes<br>Topic=%{x}<br>N° Columnas=%{y}<br>Representation=%{customdata[0]}<extra></extra>",
         "legendgroup": "18_foto_fotos_fotografía_imágenes",
         "marker": {
          "color": "#FF97FF",
          "pattern": {
           "shape": ""
          }
         },
         "name": "18_foto_fotos_fotografía_imágenes",
         "offsetgroup": "18_foto_fotos_fotografía_imágenes",
         "orientation": "v",
         "showlegend": true,
         "textposition": "auto",
         "type": "bar",
         "x": [
          18
         ],
         "xaxis": "x",
         "y": [
          96
         ],
         "yaxis": "y"
        },
        {
         "alignmentgroup": "True",
         "customdata": [
          [
           [
            "coca",
            "glifosato",
            "cocaína",
            "cultivos",
            "drogas",
            "narcotráfico",
            "hectáreas",
            "marihuana",
            "aspersión",
            "erradicación"
           ]
          ]
         ],
         "hovertemplate": "Palabras Clave=19_coca_glifosato_cocaína_cultivos<br>Topic=%{x}<br>N° Columnas=%{y}<br>Representation=%{customdata[0]}<extra></extra>",
         "legendgroup": "19_coca_glifosato_cocaína_cultivos",
         "marker": {
          "color": "#FECB52",
          "pattern": {
           "shape": ""
          }
         },
         "name": "19_coca_glifosato_cocaína_cultivos",
         "offsetgroup": "19_coca_glifosato_cocaína_cultivos",
         "orientation": "v",
         "showlegend": true,
         "textposition": "auto",
         "type": "bar",
         "x": [
          19
         ],
         "xaxis": "x",
         "y": [
          93
         ],
         "yaxis": "y"
        },
        {
         "alignmentgroup": "True",
         "customdata": [
          [
           [
            "protesta",
            "protestas",
            "paro",
            "manifestantes",
            "floyd",
            "negros",
            "gobierno",
            "marchas",
            "policía",
            "derechos"
           ]
          ]
         ],
         "hovertemplate": "Palabras Clave=20_protesta_protestas_paro_manifestantes<br>Topic=%{x}<br>N° Columnas=%{y}<br>Representation=%{customdata[0]}<extra></extra>",
         "legendgroup": "20_protesta_protestas_paro_manifestantes",
         "marker": {
          "color": "#636efa",
          "pattern": {
           "shape": ""
          }
         },
         "name": "20_protesta_protestas_paro_manifestantes",
         "offsetgroup": "20_protesta_protestas_paro_manifestantes",
         "orientation": "v",
         "showlegend": true,
         "textposition": "auto",
         "type": "bar",
         "x": [
          20
         ],
         "xaxis": "x",
         "y": [
          88
         ],
         "yaxis": "y"
        },
        {
         "alignmentgroup": "True",
         "customdata": [
          [
           [
            "justicia",
            "corte",
            "judicial",
            "jep",
            "magistrados",
            "jueces",
            "penal",
            "constitucional",
            "sala",
            "uribe"
           ]
          ]
         ],
         "hovertemplate": "Palabras Clave=21_justicia_corte_judicial_jep<br>Topic=%{x}<br>N° Columnas=%{y}<br>Representation=%{customdata[0]}<extra></extra>",
         "legendgroup": "21_justicia_corte_judicial_jep",
         "marker": {
          "color": "#EF553B",
          "pattern": {
           "shape": ""
          }
         },
         "name": "21_justicia_corte_judicial_jep",
         "offsetgroup": "21_justicia_corte_judicial_jep",
         "orientation": "v",
         "showlegend": true,
         "textposition": "auto",
         "type": "bar",
         "x": [
          21
         ],
         "xaxis": "x",
         "y": [
          73
         ],
         "yaxis": "y"
        },
        {
         "alignmentgroup": "True",
         "customdata": [
          [
           [
            "cocina",
            "café",
            "arroz",
            "cafés",
            "plato",
            "cocinar",
            "platos",
            "chef",
            "sabores",
            "restaurantes"
           ]
          ]
         ],
         "hovertemplate": "Palabras Clave=22_cocina_café_arroz_cafés<br>Topic=%{x}<br>N° Columnas=%{y}<br>Representation=%{customdata[0]}<extra></extra>",
         "legendgroup": "22_cocina_café_arroz_cafés",
         "marker": {
          "color": "#00cc96",
          "pattern": {
           "shape": ""
          }
         },
         "name": "22_cocina_café_arroz_cafés",
         "offsetgroup": "22_cocina_café_arroz_cafés",
         "orientation": "v",
         "showlegend": true,
         "textposition": "auto",
         "type": "bar",
         "x": [
          22
         ],
         "xaxis": "x",
         "y": [
          73
         ],
         "yaxis": "y"
        },
        {
         "alignmentgroup": "True",
         "customdata": [
          [
           [
            "colombia",
            "país",
            "bogotá",
            "ciclismo",
            "matador",
            "inpec",
            "alejandra",
            "colombianos",
            "ciudad",
            "semáforo"
           ]
          ]
         ],
         "hovertemplate": "Palabras Clave=23_colombia_país_bogotá_ciclismo<br>Topic=%{x}<br>N° Columnas=%{y}<br>Representation=%{customdata[0]}<extra></extra>",
         "legendgroup": "23_colombia_país_bogotá_ciclismo",
         "marker": {
          "color": "#ab63fa",
          "pattern": {
           "shape": ""
          }
         },
         "name": "23_colombia_país_bogotá_ciclismo",
         "offsetgroup": "23_colombia_país_bogotá_ciclismo",
         "orientation": "v",
         "showlegend": true,
         "textposition": "auto",
         "type": "bar",
         "x": [
          23
         ],
         "xaxis": "x",
         "y": [
          61
         ],
         "yaxis": "y"
        },
        {
         "alignmentgroup": "True",
         "customdata": [
          [
           [
            "guerra",
            "siria",
            "fascismo",
            "irán",
            "asad",
            "nuclear",
            "hitler",
            "unidos",
            "kim",
            "rusia"
           ]
          ]
         ],
         "hovertemplate": "Palabras Clave=24_guerra_siria_fascismo_irán<br>Topic=%{x}<br>N° Columnas=%{y}<br>Representation=%{customdata[0]}<extra></extra>",
         "legendgroup": "24_guerra_siria_fascismo_irán",
         "marker": {
          "color": "#FFA15A",
          "pattern": {
           "shape": ""
          }
         },
         "name": "24_guerra_siria_fascismo_irán",
         "offsetgroup": "24_guerra_siria_fascismo_irán",
         "orientation": "v",
         "showlegend": true,
         "textposition": "auto",
         "type": "bar",
         "x": [
          24
         ],
         "xaxis": "x",
         "y": [
          58
         ],
         "yaxis": "y"
        },
        {
         "alignmentgroup": "True",
         "customdata": [
          [
           [
            "violencia",
            "steinke",
            "pág",
            "judíos",
            "gobierno",
            "eln",
            "kerner",
            "farc",
            "cese",
            "paz"
           ]
          ]
         ],
         "hovertemplate": "Palabras Clave=25_violencia_steinke_pág_judíos<br>Topic=%{x}<br>N° Columnas=%{y}<br>Representation=%{customdata[0]}<extra></extra>",
         "legendgroup": "25_violencia_steinke_pág_judíos",
         "marker": {
          "color": "#19d3f3",
          "pattern": {
           "shape": ""
          }
         },
         "name": "25_violencia_steinke_pág_judíos",
         "offsetgroup": "25_violencia_steinke_pág_judíos",
         "orientation": "v",
         "showlegend": true,
         "textposition": "auto",
         "type": "bar",
         "x": [
          25
         ],
         "xaxis": "x",
         "y": [
          57
         ],
         "yaxis": "y"
        },
        {
         "alignmentgroup": "True",
         "customdata": [
          [
           [
            "china",
            "hong",
            "kong",
            "xi",
            "taiwán",
            "chino",
            "chinos",
            "unidos",
            "beijing",
            "jinping"
           ]
          ]
         ],
         "hovertemplate": "Palabras Clave=26_china_hong_kong_xi<br>Topic=%{x}<br>N° Columnas=%{y}<br>Representation=%{customdata[0]}<extra></extra>",
         "legendgroup": "26_china_hong_kong_xi",
         "marker": {
          "color": "#FF6692",
          "pattern": {
           "shape": ""
          }
         },
         "name": "26_china_hong_kong_xi",
         "offsetgroup": "26_china_hong_kong_xi",
         "orientation": "v",
         "showlegend": true,
         "textposition": "auto",
         "type": "bar",
         "x": [
          26
         ],
         "xaxis": "x",
         "y": [
          55
         ],
         "yaxis": "y"
        },
        {
         "alignmentgroup": "True",
         "customdata": [
          [
           [
            "candidatos",
            "petro",
            "vuelta",
            "fajardo",
            "centro",
            "encuestas",
            "candidato",
            "voto",
            "duque",
            "votos"
           ]
          ]
         ],
         "hovertemplate": "Palabras Clave=27_candidatos_petro_vuelta_fajardo<br>Topic=%{x}<br>N° Columnas=%{y}<br>Representation=%{customdata[0]}<extra></extra>",
         "legendgroup": "27_candidatos_petro_vuelta_fajardo",
         "marker": {
          "color": "#B6E880",
          "pattern": {
           "shape": ""
          }
         },
         "name": "27_candidatos_petro_vuelta_fajardo",
         "offsetgroup": "27_candidatos_petro_vuelta_fajardo",
         "orientation": "v",
         "showlegend": true,
         "textposition": "auto",
         "type": "bar",
         "x": [
          27
         ],
         "xaxis": "x",
         "y": [
          54
         ],
         "yaxis": "y"
        },
        {
         "alignmentgroup": "True",
         "customdata": [
          [
           [
            "salim",
            "historia",
            "naipaul",
            "mao",
            "áfrica",
            "agn",
            "guerra",
            "miranda",
            "valdivia",
            "europa"
           ]
          ]
         ],
         "hovertemplate": "Palabras Clave=28_salim_historia_naipaul_mao<br>Topic=%{x}<br>N° Columnas=%{y}<br>Representation=%{customdata[0]}<extra></extra>",
         "legendgroup": "28_salim_historia_naipaul_mao",
         "marker": {
          "color": "#FF97FF",
          "pattern": {
           "shape": ""
          }
         },
         "name": "28_salim_historia_naipaul_mao",
         "offsetgroup": "28_salim_historia_naipaul_mao",
         "orientation": "v",
         "showlegend": true,
         "textposition": "auto",
         "type": "bar",
         "x": [
          28
         ],
         "xaxis": "x",
         "y": [
          49
         ],
         "yaxis": "y"
        },
        {
         "alignmentgroup": "True",
         "customdata": [
          [
           [
            "pensiones",
            "colpensiones",
            "fondos",
            "pensional",
            "afp",
            "sistema",
            "ahorro",
            "pensión",
            "afiliados",
            "privados"
           ]
          ]
         ],
         "hovertemplate": "Palabras Clave=29_pensiones_colpensiones_fondos_pensional<br>Topic=%{x}<br>N° Columnas=%{y}<br>Representation=%{customdata[0]}<extra></extra>",
         "legendgroup": "29_pensiones_colpensiones_fondos_pensional",
         "marker": {
          "color": "#FECB52",
          "pattern": {
           "shape": ""
          }
         },
         "name": "29_pensiones_colpensiones_fondos_pensional",
         "offsetgroup": "29_pensiones_colpensiones_fondos_pensional",
         "orientation": "v",
         "showlegend": true,
         "textposition": "auto",
         "type": "bar",
         "x": [
          29
         ],
         "xaxis": "x",
         "y": [
          47
         ],
         "yaxis": "y"
        },
        {
         "alignmentgroup": "True",
         "customdata": [
          [
           [
            "delfines",
            "taiji",
            "ballenas",
            "animales",
            "biarritz",
            "japón",
            "mamíferos",
            "bioparque",
            "cacerías",
            "cetáceos"
           ]
          ]
         ],
         "hovertemplate": "Palabras Clave=30_delfines_taiji_ballenas_animales<br>Topic=%{x}<br>N° Columnas=%{y}<br>Representation=%{customdata[0]}<extra></extra>",
         "legendgroup": "30_delfines_taiji_ballenas_animales",
         "marker": {
          "color": "#636efa",
          "pattern": {
           "shape": ""
          }
         },
         "name": "30_delfines_taiji_ballenas_animales",
         "offsetgroup": "30_delfines_taiji_ballenas_animales",
         "orientation": "v",
         "showlegend": true,
         "textposition": "auto",
         "type": "bar",
         "x": [
          30
         ],
         "xaxis": "x",
         "y": [
          46
         ],
         "yaxis": "y"
        },
        {
         "alignmentgroup": "True",
         "customdata": [
          [
           [
            "bolsonaro",
            "brasil",
            "lula",
            "brasileños",
            "jair",
            "dilma",
            "brasileño",
            "amazonia",
            "brasileña",
            "pt"
           ]
          ]
         ],
         "hovertemplate": "Palabras Clave=31_bolsonaro_brasil_lula_brasileños<br>Topic=%{x}<br>N° Columnas=%{y}<br>Representation=%{customdata[0]}<extra></extra>",
         "legendgroup": "31_bolsonaro_brasil_lula_brasileños",
         "marker": {
          "color": "#EF553B",
          "pattern": {
           "shape": ""
          }
         },
         "name": "31_bolsonaro_brasil_lula_brasileños",
         "offsetgroup": "31_bolsonaro_brasil_lula_brasileños",
         "orientation": "v",
         "showlegend": true,
         "textposition": "auto",
         "type": "bar",
         "x": [
          31
         ],
         "xaxis": "x",
         "y": [
          42
         ],
         "yaxis": "y"
        },
        {
         "alignmentgroup": "True",
         "customdata": [
          [
           [
            "chile",
            "piñera",
            "chilenos",
            "pinochet",
            "allende",
            "protestas",
            "democracia",
            "social",
            "apec",
            "ampuero"
           ]
          ]
         ],
         "hovertemplate": "Palabras Clave=32_chile_piñera_chilenos_pinochet<br>Topic=%{x}<br>N° Columnas=%{y}<br>Representation=%{customdata[0]}<extra></extra>",
         "legendgroup": "32_chile_piñera_chilenos_pinochet",
         "marker": {
          "color": "#00cc96",
          "pattern": {
           "shape": ""
          }
         },
         "name": "32_chile_piñera_chilenos_pinochet",
         "offsetgroup": "32_chile_piñera_chilenos_pinochet",
         "orientation": "v",
         "showlegend": true,
         "textposition": "auto",
         "type": "bar",
         "x": [
          32
         ],
         "xaxis": "x",
         "y": [
          39
         ],
         "yaxis": "y"
        },
        {
         "alignmentgroup": "True",
         "customdata": [
          [
           [
            "cuba",
            "eln",
            "castro",
            "talibanes",
            "protocolo",
            "negociadores",
            "cubano",
            "fidel",
            "cubanos",
            "gobierno"
           ]
          ]
         ],
         "hovertemplate": "Palabras Clave=33_cuba_eln_castro_talibanes<br>Topic=%{x}<br>N° Columnas=%{y}<br>Representation=%{customdata[0]}<extra></extra>",
         "legendgroup": "33_cuba_eln_castro_talibanes",
         "marker": {
          "color": "#ab63fa",
          "pattern": {
           "shape": ""
          }
         },
         "name": "33_cuba_eln_castro_talibanes",
         "offsetgroup": "33_cuba_eln_castro_talibanes",
         "orientation": "v",
         "showlegend": true,
         "textposition": "auto",
         "type": "bar",
         "x": [
          33
         ],
         "xaxis": "x",
         "y": [
          39
         ],
         "yaxis": "y"
        },
        {
         "alignmentgroup": "True",
         "customdata": [
          [
           [
            "aborto",
            "embarazo",
            "abortos",
            "mujeres",
            "causales",
            "abortar",
            "mujer",
            "derecho",
            "salud",
            "feto"
           ]
          ]
         ],
         "hovertemplate": "Palabras Clave=34_aborto_embarazo_abortos_mujeres<br>Topic=%{x}<br>N° Columnas=%{y}<br>Representation=%{customdata[0]}<extra></extra>",
         "legendgroup": "34_aborto_embarazo_abortos_mujeres",
         "marker": {
          "color": "#FFA15A",
          "pattern": {
           "shape": ""
          }
         },
         "name": "34_aborto_embarazo_abortos_mujeres",
         "offsetgroup": "34_aborto_embarazo_abortos_mujeres",
         "orientation": "v",
         "showlegend": true,
         "textposition": "auto",
         "type": "bar",
         "x": [
          34
         ],
         "xaxis": "x",
         "y": [
          32
         ],
         "yaxis": "y"
        },
        {
         "alignmentgroup": "True",
         "customdata": [
          [
           [
            "coronell",
            "columnista",
            "revista",
            "columnistas",
            "editorial",
            "columna",
            "daniel",
            "gamoneda",
            "medios",
            "lectores"
           ]
          ]
         ],
         "hovertemplate": "Palabras Clave=35_coronell_columnista_revista_columnistas<br>Topic=%{x}<br>N° Columnas=%{y}<br>Representation=%{customdata[0]}<extra></extra>",
         "legendgroup": "35_coronell_columnista_revista_columnistas",
         "marker": {
          "color": "#19d3f3",
          "pattern": {
           "shape": ""
          }
         },
         "name": "35_coronell_columnista_revista_columnistas",
         "offsetgroup": "35_coronell_columnista_revista_columnistas",
         "orientation": "v",
         "showlegend": true,
         "textposition": "auto",
         "type": "bar",
         "x": [
          35
         ],
         "xaxis": "x",
         "y": [
          31
         ],
         "yaxis": "y"
        },
        {
         "alignmentgroup": "True",
         "customdata": [
          [
           [
            "aviación",
            "aerolíneas",
            "avianca",
            "pasajeros",
            "aéreo",
            "aerolínea",
            "aeropuerto",
            "vuelos",
            "aeronave",
            "efromovich"
           ]
          ]
         ],
         "hovertemplate": "Palabras Clave=36_aviación_aerolíneas_avianca_pasajeros<br>Topic=%{x}<br>N° Columnas=%{y}<br>Representation=%{customdata[0]}<extra></extra>",
         "legendgroup": "36_aviación_aerolíneas_avianca_pasajeros",
         "marker": {
          "color": "#FF6692",
          "pattern": {
           "shape": ""
          }
         },
         "name": "36_aviación_aerolíneas_avianca_pasajeros",
         "offsetgroup": "36_aviación_aerolíneas_avianca_pasajeros",
         "orientation": "v",
         "showlegend": true,
         "textposition": "auto",
         "type": "bar",
         "x": [
          36
         ],
         "xaxis": "x",
         "y": [
          30
         ],
         "yaxis": "y"
        },
        {
         "alignmentgroup": "True",
         "customdata": [
          [
           [
            "facebook",
            "analytica",
            "cambridge",
            "zuckerberg",
            "usuarios",
            "privacidad",
            "datos",
            "redes",
            "red",
            "información"
           ]
          ]
         ],
         "hovertemplate": "Palabras Clave=37_facebook_analytica_cambridge_zuckerberg<br>Topic=%{x}<br>N° Columnas=%{y}<br>Representation=%{customdata[0]}<extra></extra>",
         "legendgroup": "37_facebook_analytica_cambridge_zuckerberg",
         "marker": {
          "color": "#B6E880",
          "pattern": {
           "shape": ""
          }
         },
         "name": "37_facebook_analytica_cambridge_zuckerberg",
         "offsetgroup": "37_facebook_analytica_cambridge_zuckerberg",
         "orientation": "v",
         "showlegend": true,
         "textposition": "auto",
         "type": "bar",
         "x": [
          37
         ],
         "xaxis": "x",
         "y": [
          28
         ],
         "yaxis": "y"
        },
        {
         "alignmentgroup": "True",
         "customdata": [
          [
           [
            "ue",
            "brexit",
            "unión",
            "europea",
            "europa",
            "irlanda",
            "europeo",
            "parlamento",
            "unido",
            "johnson"
           ]
          ]
         ],
         "hovertemplate": "Palabras Clave=38_ue_brexit_unión_europea<br>Topic=%{x}<br>N° Columnas=%{y}<br>Representation=%{customdata[0]}<extra></extra>",
         "legendgroup": "38_ue_brexit_unión_europea",
         "marker": {
          "color": "#FF97FF",
          "pattern": {
           "shape": ""
          }
         },
         "name": "38_ue_brexit_unión_europea",
         "offsetgroup": "38_ue_brexit_unión_europea",
         "orientation": "v",
         "showlegend": true,
         "textposition": "auto",
         "type": "bar",
         "x": [
          38
         ],
         "xaxis": "x",
         "y": [
          28
         ],
         "yaxis": "y"
        },
        {
         "alignmentgroup": "True",
         "customdata": [
          [
           [
            "nobel",
            "handke",
            "premio",
            "buarque",
            "keuschnig",
            "langlands",
            "escritor",
            "marianne",
            "traductor",
            "bloch"
           ]
          ]
         ],
         "hovertemplate": "Palabras Clave=39_nobel_handke_premio_buarque<br>Topic=%{x}<br>N° Columnas=%{y}<br>Representation=%{customdata[0]}<extra></extra>",
         "legendgroup": "39_nobel_handke_premio_buarque",
         "marker": {
          "color": "#FECB52",
          "pattern": {
           "shape": ""
          }
         },
         "name": "39_nobel_handke_premio_buarque",
         "offsetgroup": "39_nobel_handke_premio_buarque",
         "orientation": "v",
         "showlegend": true,
         "textposition": "auto",
         "type": "bar",
         "x": [
          39
         ],
         "xaxis": "x",
         "y": [
          28
         ],
         "yaxis": "y"
        },
        {
         "alignmentgroup": "True",
         "customdata": [
          [
           [
            "religión",
            "religiones",
            "dios",
            "cristianismo",
            "laicidad",
            "ic",
            "iglesia",
            "religiosas",
            "catolicismo",
            "constantinopla"
           ]
          ]
         ],
         "hovertemplate": "Palabras Clave=40_religión_religiones_dios_cristianismo<br>Topic=%{x}<br>N° Columnas=%{y}<br>Representation=%{customdata[0]}<extra></extra>",
         "legendgroup": "40_religión_religiones_dios_cristianismo",
         "marker": {
          "color": "#636efa",
          "pattern": {
           "shape": ""
          }
         },
         "name": "40_religión_religiones_dios_cristianismo",
         "offsetgroup": "40_religión_religiones_dios_cristianismo",
         "orientation": "v",
         "showlegend": true,
         "textposition": "auto",
         "type": "bar",
         "x": [
          40
         ],
         "xaxis": "x",
         "y": [
          27
         ],
         "yaxis": "y"
        },
        {
         "alignmentgroup": "True",
         "customdata": [
          [
           [
            "dic",
            "corte",
            "coronel",
            "derecho",
            "arias",
            "cs",
            "fg",
            "mejía",
            "política",
            "uniandino"
           ]
          ]
         ],
         "hovertemplate": "Palabras Clave=41_dic_corte_coronel_derecho<br>Topic=%{x}<br>N° Columnas=%{y}<br>Representation=%{customdata[0]}<extra></extra>",
         "legendgroup": "41_dic_corte_coronel_derecho",
         "marker": {
          "color": "#EF553B",
          "pattern": {
           "shape": ""
          }
         },
         "name": "41_dic_corte_coronel_derecho",
         "offsetgroup": "41_dic_corte_coronel_derecho",
         "orientation": "v",
         "showlegend": true,
         "textposition": "auto",
         "type": "bar",
         "x": [
          41
         ],
         "xaxis": "x",
         "y": [
          27
         ],
         "yaxis": "y"
        },
        {
         "alignmentgroup": "True",
         "customdata": [
          [
           [
            "subienda",
            "palmitas",
            "jerusalén",
            "palmira",
            "bocachicos",
            "río",
            "metropolitana",
            "valle",
            "picasso",
            "bagres"
           ]
          ]
         ],
         "hovertemplate": "Palabras Clave=42_subienda_palmitas_jerusalén_palmira<br>Topic=%{x}<br>N° Columnas=%{y}<br>Representation=%{customdata[0]}<extra></extra>",
         "legendgroup": "42_subienda_palmitas_jerusalén_palmira",
         "marker": {
          "color": "#00cc96",
          "pattern": {
           "shape": ""
          }
         },
         "name": "42_subienda_palmitas_jerusalén_palmira",
         "offsetgroup": "42_subienda_palmitas_jerusalén_palmira",
         "orientation": "v",
         "showlegend": true,
         "textposition": "auto",
         "type": "bar",
         "x": [
          42
         ],
         "xaxis": "x",
         "y": [
          26
         ],
         "yaxis": "y"
        },
        {
         "alignmentgroup": "True",
         "customdata": [
          [
           [
            "medimás",
            "eps",
            "cafesalud",
            "ips",
            "salud",
            "esimed",
            "clínicas",
            "saludcoop",
            "prestnewco",
            "superintendencia"
           ]
          ]
         ],
         "hovertemplate": "Palabras Clave=43_medimás_eps_cafesalud_ips<br>Topic=%{x}<br>N° Columnas=%{y}<br>Representation=%{customdata[0]}<extra></extra>",
         "legendgroup": "43_medimás_eps_cafesalud_ips",
         "marker": {
          "color": "#ab63fa",
          "pattern": {
           "shape": ""
          }
         },
         "name": "43_medimás_eps_cafesalud_ips",
         "offsetgroup": "43_medimás_eps_cafesalud_ips",
         "orientation": "v",
         "showlegend": true,
         "textposition": "auto",
         "type": "bar",
         "x": [
          43
         ],
         "xaxis": "x",
         "y": [
          25
         ],
         "yaxis": "y"
        },
        {
         "alignmentgroup": "True",
         "customdata": [
          [
           [
            "bolívar",
            "libertador",
            "guayana",
            "kennedy",
            "simón",
            "humboldt",
            "catalino",
            "angostura",
            "anzoátegui",
            "santafé"
           ]
          ]
         ],
         "hovertemplate": "Palabras Clave=44_bolívar_libertador_guayana_kennedy<br>Topic=%{x}<br>N° Columnas=%{y}<br>Representation=%{customdata[0]}<extra></extra>",
         "legendgroup": "44_bolívar_libertador_guayana_kennedy",
         "marker": {
          "color": "#FFA15A",
          "pattern": {
           "shape": ""
          }
         },
         "name": "44_bolívar_libertador_guayana_kennedy",
         "offsetgroup": "44_bolívar_libertador_guayana_kennedy",
         "orientation": "v",
         "showlegend": true,
         "textposition": "auto",
         "type": "bar",
         "x": [
          44
         ],
         "xaxis": "x",
         "y": [
          24
         ],
         "yaxis": "y"
        },
        {
         "alignmentgroup": "True",
         "customdata": [
          [
           [
            "femenino",
            "meditación",
            "lacydes",
            "buda",
            "social",
            "pandemia",
            "aporía",
            "mundo",
            "windrush",
            "peste"
           ]
          ]
         ],
         "hovertemplate": "Palabras Clave=45_femenino_meditación_lacydes_buda<br>Topic=%{x}<br>N° Columnas=%{y}<br>Representation=%{customdata[0]}<extra></extra>",
         "legendgroup": "45_femenino_meditación_lacydes_buda",
         "marker": {
          "color": "#19d3f3",
          "pattern": {
           "shape": ""
          }
         },
         "name": "45_femenino_meditación_lacydes_buda",
         "offsetgroup": "45_femenino_meditación_lacydes_buda",
         "orientation": "v",
         "showlegend": true,
         "textposition": "auto",
         "type": "bar",
         "x": [
          45
         ],
         "xaxis": "x",
         "y": [
          24
         ],
         "yaxis": "y"
        },
        {
         "alignmentgroup": "True",
         "customdata": [
          [
           [
            "amlo",
            "obrador",
            "méxico",
            "pri",
            "migrantes",
            "lópez",
            "centroamericanos",
            "asilo",
            "trump",
            "españa"
           ]
          ]
         ],
         "hovertemplate": "Palabras Clave=46_amlo_obrador_méxico_pri<br>Topic=%{x}<br>N° Columnas=%{y}<br>Representation=%{customdata[0]}<extra></extra>",
         "legendgroup": "46_amlo_obrador_méxico_pri",
         "marker": {
          "color": "#FF6692",
          "pattern": {
           "shape": ""
          }
         },
         "name": "46_amlo_obrador_méxico_pri",
         "offsetgroup": "46_amlo_obrador_méxico_pri",
         "orientation": "v",
         "showlegend": true,
         "textposition": "auto",
         "type": "bar",
         "x": [
          46
         ],
         "xaxis": "x",
         "y": [
          24
         ],
         "yaxis": "y"
        },
        {
         "alignmentgroup": "True",
         "customdata": [
          [
           [
            "novela",
            "poetas",
            "leandro",
            "poeta",
            "conrad",
            "carranza",
            "llosa",
            "grandet",
            "tocaimo",
            "naím"
           ]
          ]
         ],
         "hovertemplate": "Palabras Clave=47_novela_poetas_leandro_poeta<br>Topic=%{x}<br>N° Columnas=%{y}<br>Representation=%{customdata[0]}<extra></extra>",
         "legendgroup": "47_novela_poetas_leandro_poeta",
         "marker": {
          "color": "#B6E880",
          "pattern": {
           "shape": ""
          }
         },
         "name": "47_novela_poetas_leandro_poeta",
         "offsetgroup": "47_novela_poetas_leandro_poeta",
         "orientation": "v",
         "showlegend": true,
         "textposition": "auto",
         "type": "bar",
         "x": [
          47
         ],
         "xaxis": "x",
         "y": [
          21
         ],
         "yaxis": "y"
        },
        {
         "alignmentgroup": "True",
         "customdata": [
          [
           [
            "tola",
            "pa",
            "ivancito",
            "tías",
            "ivancho",
            "alicia",
            "sumercé",
            "tía",
            "maruja",
            "pal"
           ]
          ]
         ],
         "hovertemplate": "Palabras Clave=48_tola_pa_ivancito_tías<br>Topic=%{x}<br>N° Columnas=%{y}<br>Representation=%{customdata[0]}<extra></extra>",
         "legendgroup": "48_tola_pa_ivancito_tías",
         "marker": {
          "color": "#FF97FF",
          "pattern": {
           "shape": ""
          }
         },
         "name": "48_tola_pa_ivancito_tías",
         "offsetgroup": "48_tola_pa_ivancito_tías",
         "orientation": "v",
         "showlegend": true,
         "textposition": "auto",
         "type": "bar",
         "x": [
          48
         ],
         "xaxis": "x",
         "y": [
          21
         ],
         "yaxis": "y"
        }
       ],
       "layout": {
        "barmode": "relative",
        "height": 600,
        "legend": {
         "title": {
          "text": "Palabras Clave"
         },
         "tracegroupgap": 0
        },
        "template": {
         "data": {
          "bar": [
           {
            "error_x": {
             "color": "#2a3f5f"
            },
            "error_y": {
             "color": "#2a3f5f"
            },
            "marker": {
             "line": {
              "color": "#E5ECF6",
              "width": 0.5
             },
             "pattern": {
              "fillmode": "overlay",
              "size": 10,
              "solidity": 0.2
             }
            },
            "type": "bar"
           }
          ],
          "barpolar": [
           {
            "marker": {
             "line": {
              "color": "#E5ECF6",
              "width": 0.5
             },
             "pattern": {
              "fillmode": "overlay",
              "size": 10,
              "solidity": 0.2
             }
            },
            "type": "barpolar"
           }
          ],
          "carpet": [
           {
            "aaxis": {
             "endlinecolor": "#2a3f5f",
             "gridcolor": "white",
             "linecolor": "white",
             "minorgridcolor": "white",
             "startlinecolor": "#2a3f5f"
            },
            "baxis": {
             "endlinecolor": "#2a3f5f",
             "gridcolor": "white",
             "linecolor": "white",
             "minorgridcolor": "white",
             "startlinecolor": "#2a3f5f"
            },
            "type": "carpet"
           }
          ],
          "choropleth": [
           {
            "colorbar": {
             "outlinewidth": 0,
             "ticks": ""
            },
            "type": "choropleth"
           }
          ],
          "contour": [
           {
            "colorbar": {
             "outlinewidth": 0,
             "ticks": ""
            },
            "colorscale": [
             [
              0,
              "#0d0887"
             ],
             [
              0.1111111111111111,
              "#46039f"
             ],
             [
              0.2222222222222222,
              "#7201a8"
             ],
             [
              0.3333333333333333,
              "#9c179e"
             ],
             [
              0.4444444444444444,
              "#bd3786"
             ],
             [
              0.5555555555555556,
              "#d8576b"
             ],
             [
              0.6666666666666666,
              "#ed7953"
             ],
             [
              0.7777777777777778,
              "#fb9f3a"
             ],
             [
              0.8888888888888888,
              "#fdca26"
             ],
             [
              1,
              "#f0f921"
             ]
            ],
            "type": "contour"
           }
          ],
          "contourcarpet": [
           {
            "colorbar": {
             "outlinewidth": 0,
             "ticks": ""
            },
            "type": "contourcarpet"
           }
          ],
          "heatmap": [
           {
            "colorbar": {
             "outlinewidth": 0,
             "ticks": ""
            },
            "colorscale": [
             [
              0,
              "#0d0887"
             ],
             [
              0.1111111111111111,
              "#46039f"
             ],
             [
              0.2222222222222222,
              "#7201a8"
             ],
             [
              0.3333333333333333,
              "#9c179e"
             ],
             [
              0.4444444444444444,
              "#bd3786"
             ],
             [
              0.5555555555555556,
              "#d8576b"
             ],
             [
              0.6666666666666666,
              "#ed7953"
             ],
             [
              0.7777777777777778,
              "#fb9f3a"
             ],
             [
              0.8888888888888888,
              "#fdca26"
             ],
             [
              1,
              "#f0f921"
             ]
            ],
            "type": "heatmap"
           }
          ],
          "heatmapgl": [
           {
            "colorbar": {
             "outlinewidth": 0,
             "ticks": ""
            },
            "colorscale": [
             [
              0,
              "#0d0887"
             ],
             [
              0.1111111111111111,
              "#46039f"
             ],
             [
              0.2222222222222222,
              "#7201a8"
             ],
             [
              0.3333333333333333,
              "#9c179e"
             ],
             [
              0.4444444444444444,
              "#bd3786"
             ],
             [
              0.5555555555555556,
              "#d8576b"
             ],
             [
              0.6666666666666666,
              "#ed7953"
             ],
             [
              0.7777777777777778,
              "#fb9f3a"
             ],
             [
              0.8888888888888888,
              "#fdca26"
             ],
             [
              1,
              "#f0f921"
             ]
            ],
            "type": "heatmapgl"
           }
          ],
          "histogram": [
           {
            "marker": {
             "pattern": {
              "fillmode": "overlay",
              "size": 10,
              "solidity": 0.2
             }
            },
            "type": "histogram"
           }
          ],
          "histogram2d": [
           {
            "colorbar": {
             "outlinewidth": 0,
             "ticks": ""
            },
            "colorscale": [
             [
              0,
              "#0d0887"
             ],
             [
              0.1111111111111111,
              "#46039f"
             ],
             [
              0.2222222222222222,
              "#7201a8"
             ],
             [
              0.3333333333333333,
              "#9c179e"
             ],
             [
              0.4444444444444444,
              "#bd3786"
             ],
             [
              0.5555555555555556,
              "#d8576b"
             ],
             [
              0.6666666666666666,
              "#ed7953"
             ],
             [
              0.7777777777777778,
              "#fb9f3a"
             ],
             [
              0.8888888888888888,
              "#fdca26"
             ],
             [
              1,
              "#f0f921"
             ]
            ],
            "type": "histogram2d"
           }
          ],
          "histogram2dcontour": [
           {
            "colorbar": {
             "outlinewidth": 0,
             "ticks": ""
            },
            "colorscale": [
             [
              0,
              "#0d0887"
             ],
             [
              0.1111111111111111,
              "#46039f"
             ],
             [
              0.2222222222222222,
              "#7201a8"
             ],
             [
              0.3333333333333333,
              "#9c179e"
             ],
             [
              0.4444444444444444,
              "#bd3786"
             ],
             [
              0.5555555555555556,
              "#d8576b"
             ],
             [
              0.6666666666666666,
              "#ed7953"
             ],
             [
              0.7777777777777778,
              "#fb9f3a"
             ],
             [
              0.8888888888888888,
              "#fdca26"
             ],
             [
              1,
              "#f0f921"
             ]
            ],
            "type": "histogram2dcontour"
           }
          ],
          "mesh3d": [
           {
            "colorbar": {
             "outlinewidth": 0,
             "ticks": ""
            },
            "type": "mesh3d"
           }
          ],
          "parcoords": [
           {
            "line": {
             "colorbar": {
              "outlinewidth": 0,
              "ticks": ""
             }
            },
            "type": "parcoords"
           }
          ],
          "pie": [
           {
            "automargin": true,
            "type": "pie"
           }
          ],
          "scatter": [
           {
            "fillpattern": {
             "fillmode": "overlay",
             "size": 10,
             "solidity": 0.2
            },
            "type": "scatter"
           }
          ],
          "scatter3d": [
           {
            "line": {
             "colorbar": {
              "outlinewidth": 0,
              "ticks": ""
             }
            },
            "marker": {
             "colorbar": {
              "outlinewidth": 0,
              "ticks": ""
             }
            },
            "type": "scatter3d"
           }
          ],
          "scattercarpet": [
           {
            "marker": {
             "colorbar": {
              "outlinewidth": 0,
              "ticks": ""
             }
            },
            "type": "scattercarpet"
           }
          ],
          "scattergeo": [
           {
            "marker": {
             "colorbar": {
              "outlinewidth": 0,
              "ticks": ""
             }
            },
            "type": "scattergeo"
           }
          ],
          "scattergl": [
           {
            "marker": {
             "colorbar": {
              "outlinewidth": 0,
              "ticks": ""
             }
            },
            "type": "scattergl"
           }
          ],
          "scattermapbox": [
           {
            "marker": {
             "colorbar": {
              "outlinewidth": 0,
              "ticks": ""
             }
            },
            "type": "scattermapbox"
           }
          ],
          "scatterpolar": [
           {
            "marker": {
             "colorbar": {
              "outlinewidth": 0,
              "ticks": ""
             }
            },
            "type": "scatterpolar"
           }
          ],
          "scatterpolargl": [
           {
            "marker": {
             "colorbar": {
              "outlinewidth": 0,
              "ticks": ""
             }
            },
            "type": "scatterpolargl"
           }
          ],
          "scatterternary": [
           {
            "marker": {
             "colorbar": {
              "outlinewidth": 0,
              "ticks": ""
             }
            },
            "type": "scatterternary"
           }
          ],
          "surface": [
           {
            "colorbar": {
             "outlinewidth": 0,
             "ticks": ""
            },
            "colorscale": [
             [
              0,
              "#0d0887"
             ],
             [
              0.1111111111111111,
              "#46039f"
             ],
             [
              0.2222222222222222,
              "#7201a8"
             ],
             [
              0.3333333333333333,
              "#9c179e"
             ],
             [
              0.4444444444444444,
              "#bd3786"
             ],
             [
              0.5555555555555556,
              "#d8576b"
             ],
             [
              0.6666666666666666,
              "#ed7953"
             ],
             [
              0.7777777777777778,
              "#fb9f3a"
             ],
             [
              0.8888888888888888,
              "#fdca26"
             ],
             [
              1,
              "#f0f921"
             ]
            ],
            "type": "surface"
           }
          ],
          "table": [
           {
            "cells": {
             "fill": {
              "color": "#EBF0F8"
             },
             "line": {
              "color": "white"
             }
            },
            "header": {
             "fill": {
              "color": "#C8D4E3"
             },
             "line": {
              "color": "white"
             }
            },
            "type": "table"
           }
          ]
         },
         "layout": {
          "annotationdefaults": {
           "arrowcolor": "#2a3f5f",
           "arrowhead": 0,
           "arrowwidth": 1
          },
          "autotypenumbers": "strict",
          "coloraxis": {
           "colorbar": {
            "outlinewidth": 0,
            "ticks": ""
           }
          },
          "colorscale": {
           "diverging": [
            [
             0,
             "#8e0152"
            ],
            [
             0.1,
             "#c51b7d"
            ],
            [
             0.2,
             "#de77ae"
            ],
            [
             0.3,
             "#f1b6da"
            ],
            [
             0.4,
             "#fde0ef"
            ],
            [
             0.5,
             "#f7f7f7"
            ],
            [
             0.6,
             "#e6f5d0"
            ],
            [
             0.7,
             "#b8e186"
            ],
            [
             0.8,
             "#7fbc41"
            ],
            [
             0.9,
             "#4d9221"
            ],
            [
             1,
             "#276419"
            ]
           ],
           "sequential": [
            [
             0,
             "#0d0887"
            ],
            [
             0.1111111111111111,
             "#46039f"
            ],
            [
             0.2222222222222222,
             "#7201a8"
            ],
            [
             0.3333333333333333,
             "#9c179e"
            ],
            [
             0.4444444444444444,
             "#bd3786"
            ],
            [
             0.5555555555555556,
             "#d8576b"
            ],
            [
             0.6666666666666666,
             "#ed7953"
            ],
            [
             0.7777777777777778,
             "#fb9f3a"
            ],
            [
             0.8888888888888888,
             "#fdca26"
            ],
            [
             1,
             "#f0f921"
            ]
           ],
           "sequentialminus": [
            [
             0,
             "#0d0887"
            ],
            [
             0.1111111111111111,
             "#46039f"
            ],
            [
             0.2222222222222222,
             "#7201a8"
            ],
            [
             0.3333333333333333,
             "#9c179e"
            ],
            [
             0.4444444444444444,
             "#bd3786"
            ],
            [
             0.5555555555555556,
             "#d8576b"
            ],
            [
             0.6666666666666666,
             "#ed7953"
            ],
            [
             0.7777777777777778,
             "#fb9f3a"
            ],
            [
             0.8888888888888888,
             "#fdca26"
            ],
            [
             1,
             "#f0f921"
            ]
           ]
          },
          "colorway": [
           "#636efa",
           "#EF553B",
           "#00cc96",
           "#ab63fa",
           "#FFA15A",
           "#19d3f3",
           "#FF6692",
           "#B6E880",
           "#FF97FF",
           "#FECB52"
          ],
          "font": {
           "color": "#2a3f5f"
          },
          "geo": {
           "bgcolor": "white",
           "lakecolor": "white",
           "landcolor": "#E5ECF6",
           "showlakes": true,
           "showland": true,
           "subunitcolor": "white"
          },
          "hoverlabel": {
           "align": "left"
          },
          "hovermode": "closest",
          "mapbox": {
           "style": "light"
          },
          "paper_bgcolor": "white",
          "plot_bgcolor": "#E5ECF6",
          "polar": {
           "angularaxis": {
            "gridcolor": "white",
            "linecolor": "white",
            "ticks": ""
           },
           "bgcolor": "#E5ECF6",
           "radialaxis": {
            "gridcolor": "white",
            "linecolor": "white",
            "ticks": ""
           }
          },
          "scene": {
           "xaxis": {
            "backgroundcolor": "#E5ECF6",
            "gridcolor": "white",
            "gridwidth": 2,
            "linecolor": "white",
            "showbackground": true,
            "ticks": "",
            "zerolinecolor": "white"
           },
           "yaxis": {
            "backgroundcolor": "#E5ECF6",
            "gridcolor": "white",
            "gridwidth": 2,
            "linecolor": "white",
            "showbackground": true,
            "ticks": "",
            "zerolinecolor": "white"
           },
           "zaxis": {
            "backgroundcolor": "#E5ECF6",
            "gridcolor": "white",
            "gridwidth": 2,
            "linecolor": "white",
            "showbackground": true,
            "ticks": "",
            "zerolinecolor": "white"
           }
          },
          "shapedefaults": {
           "line": {
            "color": "#2a3f5f"
           }
          },
          "ternary": {
           "aaxis": {
            "gridcolor": "white",
            "linecolor": "white",
            "ticks": ""
           },
           "baxis": {
            "gridcolor": "white",
            "linecolor": "white",
            "ticks": ""
           },
           "bgcolor": "#E5ECF6",
           "caxis": {
            "gridcolor": "white",
            "linecolor": "white",
            "ticks": ""
           }
          },
          "title": {
           "x": 0.05
          },
          "xaxis": {
           "automargin": true,
           "gridcolor": "white",
           "linecolor": "white",
           "ticks": "",
           "title": {
            "standoff": 15
           },
           "zerolinecolor": "white",
           "zerolinewidth": 2
          },
          "yaxis": {
           "automargin": true,
           "gridcolor": "white",
           "linecolor": "white",
           "ticks": "",
           "title": {
            "standoff": 15
           },
           "zerolinecolor": "white",
           "zerolinewidth": 2
          }
         }
        },
        "title": {
         "text": "Distribución de Tópicos"
        },
        "xaxis": {
         "anchor": "y",
         "domain": [
          0,
          1
         ],
         "title": {
          "text": "Topic"
         },
         "type": "category"
        },
        "yaxis": {
         "anchor": "x",
         "domain": [
          0,
          1
         ],
         "title": {
          "text": "N° Columnas"
         }
        }
       }
      }
     },
     "metadata": {},
     "output_type": "display_data"
    }
   ],
   "source": [
    "import plotly.express as px\n",
    "\n",
    "# Obtener información de tópicos\n",
    "topic_info = topic_model.get_topic_info()\n",
    "\n",
    "# Filtrar outliers (tópico -1)\n",
    "topic_info_filtered = topic_info[topic_info['Topic'] != -1]\n",
    "\n",
    "# Gráfico de barras interactivo\n",
    "fig = px.bar(topic_info_filtered,\n",
    "             x='Topic',\n",
    "             y='Count',\n",
    "             color='Name',\n",
    "             hover_data=['Representation'],\n",
    "             title='Distribución de Tópicos',\n",
    "             labels={'Count': 'N° Columnas', 'Name': 'Palabras Clave'},\n",
    "             height=600)\n",
    "fig.update_layout(xaxis={'type': 'category'})\n",
    "fig.show()"
   ]
  },
  {
   "cell_type": "markdown",
   "id": "f64f618e",
   "metadata": {},
   "source": [
    "¿Cómo forzar que todas las columnas queden en un tópico?"
   ]
  }
 ],
 "metadata": {
  "kernelspec": {
   "display_name": "base",
   "language": "python",
   "name": "python3"
  },
  "language_info": {
   "codemirror_mode": {
    "name": "ipython",
    "version": 3
   },
   "file_extension": ".py",
   "mimetype": "text/x-python",
   "name": "python",
   "nbconvert_exporter": "python",
   "pygments_lexer": "ipython3",
   "version": "3.12.7"
  }
 },
 "nbformat": 4,
 "nbformat_minor": 5
}
