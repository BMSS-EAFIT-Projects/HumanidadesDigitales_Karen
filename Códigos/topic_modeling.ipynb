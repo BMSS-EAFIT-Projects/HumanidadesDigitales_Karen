{
 "cells": [
  {
   "cell_type": "markdown",
   "id": "649f0efa",
   "metadata": {},
   "source": [
    "Fecha: Julio de 2025\n",
    "\n",
    "Se busca hacer análisis de frecuencias en las columnas de opinión por año, mes y periódico. E implementar modelado de tópicos. Primer método LDA."
   ]
  },
  {
   "cell_type": "markdown",
   "id": "6f63b7e6",
   "metadata": {},
   "source": [
    "# Librerias"
   ]
  },
  {
   "cell_type": "code",
   "execution_count": 150,
   "id": "cda8799e",
   "metadata": {},
   "outputs": [],
   "source": [
    "# Librerías\n",
    "import os\n",
    "import pandas as pd\n",
    "import numpy as np\n",
    "import matplotlib.pyplot as plt\n",
    "from sklearn.decomposition import LatentDirichletAllocation\n",
    "from sklearn.feature_extraction.text import CountVectorizer, TfidfVectorizer\n",
    "import re\n",
    "from spacy.lang.es.stop_words import STOP_WORDS\n",
    "import spacy\n",
    "import pyLDAvis\n",
    "import pyLDAvis.lda_model\n",
    "import json\n",
    "import pickle\n",
    "from datetime import datetime"
   ]
  },
  {
   "cell_type": "code",
   "execution_count": 151,
   "id": "21399b96",
   "metadata": {},
   "outputs": [],
   "source": [
    "# Ruta del directorio que contiene los archivos CSV\n",
    "folder_path = r'C:\\Users\\karen\\Documents\\HumanidadesDigitales_git\\BDD_Corpus\\BDD_CSV'\n"
   ]
  },
  {
   "cell_type": "code",
   "execution_count": 152,
   "id": "e4567fb7",
   "metadata": {},
   "outputs": [],
   "source": [
    "dataframes = []\n",
    "\n",
    "for archivo in os.listdir(folder_path):\n",
    "    if archivo.endswith('.csv'):\n",
    "        file_path = os.path.join(folder_path, archivo)        \n",
    "        try:\n",
    "            df = pd.read_csv(file_path, encoding='latin-1', sep=';')  \n",
    "            dataframes.append(df)\n",
    "        except Exception as e:\n",
    "            print(f'Error al procesar {file_path}: {e}')\n"
   ]
  },
  {
   "cell_type": "code",
   "execution_count": 153,
   "id": "78138bb7",
   "metadata": {},
   "outputs": [
    {
     "data": {
      "text/html": [
       "<div>\n",
       "<style scoped>\n",
       "    .dataframe tbody tr th:only-of-type {\n",
       "        vertical-align: middle;\n",
       "    }\n",
       "\n",
       "    .dataframe tbody tr th {\n",
       "        vertical-align: top;\n",
       "    }\n",
       "\n",
       "    .dataframe thead th {\n",
       "        text-align: right;\n",
       "    }\n",
       "</style>\n",
       "<table border=\"1\" class=\"dataframe\">\n",
       "  <thead>\n",
       "    <tr style=\"text-align: right;\">\n",
       "      <th></th>\n",
       "      <th>Diario</th>\n",
       "      <th>Autor</th>\n",
       "      <th>Fecha</th>\n",
       "      <th>Título</th>\n",
       "      <th>Texto</th>\n",
       "      <th>Vínculo</th>\n",
       "    </tr>\n",
       "  </thead>\n",
       "  <tbody>\n",
       "    <tr>\n",
       "      <th>0</th>\n",
       "      <td>El Espectador</td>\n",
       "      <td>Gonzalo Hernández</td>\n",
       "      <td>1 de enero de 2018</td>\n",
       "      <td>Fajardo: para nada tibio</td>\n",
       "      <td>La Coalición Colombia Partido Alianza Verde, ...</td>\n",
       "      <td>https://web.archive.org/web/20180102104221/htt...</td>\n",
       "    </tr>\n",
       "    <tr>\n",
       "      <th>1</th>\n",
       "      <td>El Espectador</td>\n",
       "      <td>Eduardo Barajas Sandoval</td>\n",
       "      <td>1 de enero de 2018</td>\n",
       "      <td>Macedonia de Norte</td>\n",
       "      <td>Las interpretaciones de la historia sirven com...</td>\n",
       "      <td>https://web.archive.org/web/20180102104221/htt...</td>\n",
       "    </tr>\n",
       "    <tr>\n",
       "      <th>2</th>\n",
       "      <td>El Espectador</td>\n",
       "      <td>Daniel Emilio Rojas Castro</td>\n",
       "      <td>1 de enero de 2018</td>\n",
       "      <td>El nacionalismo según Vargas Llosa</td>\n",
       "      <td>La semana pasada Mario Vargas Llosa publicó un...</td>\n",
       "      <td>https://web.archive.org/web/20180102104221/htt...</td>\n",
       "    </tr>\n",
       "    <tr>\n",
       "      <th>3</th>\n",
       "      <td>El Espectador</td>\n",
       "      <td>Reinaldo Spitaletta</td>\n",
       "      <td>1 de enero de 2018</td>\n",
       "      <td>Tiempo sagrado, tiempo profano</td>\n",
       "      <td>Pudiera decirse, sin ser una verdad absoluta, ...</td>\n",
       "      <td>https://web.archive.org/web/20180102104221/htt...</td>\n",
       "    </tr>\n",
       "    <tr>\n",
       "      <th>4</th>\n",
       "      <td>El Espectador</td>\n",
       "      <td>Aura Lucía Mera</td>\n",
       "      <td>1 de enero de 2018</td>\n",
       "      <td>La rebelión de los bueyes</td>\n",
       "      <td>Lo mejor del encierro de Las Ventas fueron los...</td>\n",
       "      <td>https://web.archive.org/web/20180102104221/htt...</td>\n",
       "    </tr>\n",
       "  </tbody>\n",
       "</table>\n",
       "</div>"
      ],
      "text/plain": [
       "          Diario                       Autor               Fecha  \\\n",
       "0  El Espectador           Gonzalo Hernández  1 de enero de 2018   \n",
       "1  El Espectador    Eduardo Barajas Sandoval  1 de enero de 2018   \n",
       "2  El Espectador  Daniel Emilio Rojas Castro  1 de enero de 2018   \n",
       "3  El Espectador         Reinaldo Spitaletta  1 de enero de 2018   \n",
       "4  El Espectador             Aura Lucía Mera  1 de enero de 2018   \n",
       "\n",
       "                               Título  \\\n",
       "0            Fajardo: para nada tibio   \n",
       "1                  Macedonia de Norte   \n",
       "2  El nacionalismo según Vargas Llosa   \n",
       "3      Tiempo sagrado, tiempo profano   \n",
       "4           La rebelión de los bueyes   \n",
       "\n",
       "                                               Texto  \\\n",
       "0  La Coalición Colombia Partido Alianza Verde, ...   \n",
       "1  Las interpretaciones de la historia sirven com...   \n",
       "2  La semana pasada Mario Vargas Llosa publicó un...   \n",
       "3  Pudiera decirse, sin ser una verdad absoluta, ...   \n",
       "4  Lo mejor del encierro de Las Ventas fueron los...   \n",
       "\n",
       "                                             Vínculo  \n",
       "0  https://web.archive.org/web/20180102104221/htt...  \n",
       "1  https://web.archive.org/web/20180102104221/htt...  \n",
       "2  https://web.archive.org/web/20180102104221/htt...  \n",
       "3  https://web.archive.org/web/20180102104221/htt...  \n",
       "4  https://web.archive.org/web/20180102104221/htt...  "
      ]
     },
     "execution_count": 153,
     "metadata": {},
     "output_type": "execute_result"
    }
   ],
   "source": [
    "# Concatenar todos los DataFrames en uno solo\n",
    "if dataframes:\n",
    "    corpus_completo = pd.concat(dataframes, ignore_index=True)\n",
    "\n",
    "corpus_completo.head()                                                                                                                              "
   ]
  },
  {
   "cell_type": "code",
   "execution_count": 154,
   "id": "5c97687c",
   "metadata": {},
   "outputs": [],
   "source": [
    "# Limpiar espacios en blanco al inicio y al final de las cadenas\n",
    "corpus_completo = corpus_completo.apply(lambda x: x.str.strip() if x.dtype == \"object\" else x)\n"
   ]
  },
  {
   "cell_type": "code",
   "execution_count": 155,
   "id": "5992720d",
   "metadata": {},
   "outputs": [],
   "source": [
    "# Formatear fechas\n",
    "\n",
    "meses = {\n",
    "    'enero': '01',\n",
    "    'febrero': '02',\n",
    "    'marzo': '03',\n",
    "    'abril': '04',\n",
    "    'mayo': '05',\n",
    "    'junio': '06',\n",
    "    'julio': '07',\n",
    "    'agosto': '08',\n",
    "    'septiembre': '09',\n",
    "    'octubre': '10',\n",
    "    'noviembre': '11',\n",
    "    'diciembre': '12'\n",
    "}\n",
    "\n",
    "def convertir_fecha(fecha_str):\n",
    "    partes = fecha_str.split(' de ')\n",
    "    dia = partes[0].zfill(2)  # Asegura 2 dígitos para días 1-9\n",
    "    mes = meses[partes[1]]\n",
    "    año = partes[2]\n",
    "    return f\"{dia}/{mes}/{año}\"  # Formato DD/MM/AAAA\n",
    "\n",
    "corpus_completo['Fecha_formateada'] = corpus_completo['Fecha'].apply(convertir_fecha)\n",
    "corpus_completo['Fecha_formateada'] = pd.to_datetime(corpus_completo['Fecha_formateada'], format='%d/%m/%Y', errors='coerce')"
   ]
  },
  {
   "cell_type": "markdown",
   "id": "61e51075",
   "metadata": {},
   "source": [
    "# Descripción Corpus"
   ]
  },
  {
   "cell_type": "code",
   "execution_count": 156,
   "id": "cc5b6e25",
   "metadata": {},
   "outputs": [
    {
     "data": {
      "text/html": [
       "<div>\n",
       "<style scoped>\n",
       "    .dataframe tbody tr th:only-of-type {\n",
       "        vertical-align: middle;\n",
       "    }\n",
       "\n",
       "    .dataframe tbody tr th {\n",
       "        vertical-align: top;\n",
       "    }\n",
       "\n",
       "    .dataframe thead th {\n",
       "        text-align: right;\n",
       "    }\n",
       "</style>\n",
       "<table border=\"1\" class=\"dataframe\">\n",
       "  <thead>\n",
       "    <tr style=\"text-align: right;\">\n",
       "      <th></th>\n",
       "      <th>Diario</th>\n",
       "      <th>Autor</th>\n",
       "      <th>Fecha</th>\n",
       "      <th>Título</th>\n",
       "      <th>Texto</th>\n",
       "      <th>Vínculo</th>\n",
       "      <th>Fecha_formateada</th>\n",
       "    </tr>\n",
       "  </thead>\n",
       "  <tbody>\n",
       "  </tbody>\n",
       "</table>\n",
       "</div>"
      ],
      "text/plain": [
       "Empty DataFrame\n",
       "Columns: [Diario, Autor, Fecha, Título, Texto, Vínculo, Fecha_formateada]\n",
       "Index: []"
      ]
     },
     "execution_count": 156,
     "metadata": {},
     "output_type": "execute_result"
    }
   ],
   "source": [
    "# filas que tienen fecha inválida\n",
    "fechas_invalidas = corpus_completo[corpus_completo['Fecha_formateada'].isna()]\n",
    "fechas_invalidas"
   ]
  },
  {
   "cell_type": "code",
   "execution_count": 157,
   "id": "03f38810",
   "metadata": {},
   "outputs": [],
   "source": [
    "autores = corpus_completo['Autor'].unique().tolist()"
   ]
  },
  {
   "cell_type": "code",
   "execution_count": 187,
   "id": "d7e96833",
   "metadata": {},
   "outputs": [
    {
     "data": {
      "text/plain": [
       "577"
      ]
     },
     "execution_count": 187,
     "metadata": {},
     "output_type": "execute_result"
    }
   ],
   "source": [
    "len(autores)"
   ]
  },
  {
   "cell_type": "code",
   "execution_count": 159,
   "id": "601d2904",
   "metadata": {},
   "outputs": [],
   "source": [
    "autores = sorted(autores)"
   ]
  },
  {
   "cell_type": "code",
   "execution_count": 160,
   "id": "a7f6b72c",
   "metadata": {},
   "outputs": [
    {
     "name": "stdout",
     "output_type": "stream",
     "text": [
      "['Abdón Espinosa Valderrama', 'Abel Veiga Copo', 'Adolfo León Atehortúa Cruz', 'Adolfo Meisel Roca', 'Adolfo Zableh Durán', 'Adriana Cooper', 'Adriana La Rotta', 'Adriana Noreña', 'Alberto Donadio', 'Alberto Galán', 'Alberto López de Mesa', 'Aldo Civico', 'Alejandro Alvarado', 'Alejandro Daly', 'Alejandro Peláez', 'Alejandro Reyes Posada', 'Alejandro Riveros González', 'Alejandro Tagliavini', 'Alexánder Cambero', 'Alfonso Carvajal', 'Alfonso Cuéllar', 'Alfonso Gómez Méndez', 'Alfonso Llano Escobar', 'Alfonso Sánchez Cadavid', 'Alfredo Molano Jimeno', 'Alister Ramírez Márquez', 'Allison Benson Hernandez', 'Allison Benson Hernández', 'Alonso Sánchez', 'Alpher Rojas C.', 'Alvaro Forero Tascón', 'Alvaro Jimenez', 'Amadeo Rodríguez Castilla', 'Ana Cristina Restrepo Jiménez', 'Ana Güezmes García', 'Ana Lucía Lenis', 'Ana Margarita González', 'Ana María Córdoba Barahona', 'Ana María Ramírez', 'Ana María Ruiz Perea', 'Ana Milena Muñoz de Gaviria', 'Andrea Aldana', 'Andrea Padilla Villarraga', 'Andrea Parra Triana', 'Andrés Aljure Saab', 'Andrés Candela', 'Andrés Escobar Uribe', 'Andrés Felipe Rodríguez Maldonado', 'Andrés Hoyos', 'Andrés Hurtado García', 'Andrés Marocco', 'Antonio Albiñana', 'Antonio Caballero', 'Antonio Casale', 'Antonio Zuleta González', 'Aníbal Gaviria Correa', 'Ariel Ávila', 'Arlene B. Tickner', 'Armando Montenegro', 'Armando Silva', 'Arturo  Charria', 'Arturo Charria', 'Arturo Guerrero', 'Augusto Solano Mejía', 'Augusto Trujillo Muñoz', 'Aura Lucía Mera', 'Aurelio Suárez Montoya', 'Beatriz Miranda', 'Beatriz Vanegas Athías', 'Bernardo Vargas Gibsone', 'Bjørn Lomborg', 'Brigitte Baptiste', 'Brigitte LG Baptiste', 'Bruce Mac Master', 'Camilo Camargo', 'Camilo Goelkel Medina', 'Camilo Herrera Mora', 'Camilo Sánchez Ortega', 'Carl Bildt', 'Carlos Alberto Leyva', 'Carlos Angulo Galvis', 'Carlos Caballero Argáez', 'Carlos Caicedo', 'Carlos Camargo Assis', 'Carlos Cante', 'Carlos Castillo Cardona', 'Carlos Enrique Moreno', 'Carlos Fernando Galán', 'Carlos Granés', 'Carlos Hernán Godoy Fajardo', 'Carlos Holmes Trujillo', 'Carlos Lozano Acosta', 'Carlos Villalba Bustillo', 'Carolina Botero Cabrera', 'Carolina Sanín', 'Carolina Soto', 'Cartas de los lectores', 'Catalina Martínez Coral', 'Catalina Ruiz-Navarro', 'Catalina Uribe', 'Catalina Uribe Rincón', 'Cecilia Balcázar', 'Cecilia López Montaño', 'Cecilia Orozco Tascón', 'Cecilia Rodríguez', 'Christian Cantor', 'Christoph Harnisch', 'Chucky García', 'Cindy Bautista Vásquez', 'Ciro Rodríguez Pinzón*', 'Clara  López Obregón', 'Clara López Obregon', 'Clara López Obregón', 'Claudia Bermúdez Vélez', 'Claudia Blum', 'Claudia Candela', 'Claudia Dangond-Gibsone', 'Claudia Morales', 'Claudia Palacios', 'Clemencia Carabalí Rodallega', 'Coalición de Acciones por el Cambio.', 'Columna del lector', 'Cristian Valencia', 'Cristina Esguerra Miranda', 'Cristina Vélez', 'Cristina de la Torre', 'Cristo García Tapia', 'César Ferrari', 'César Niño', 'César Rodríguez Garavito', 'Daniel Coronell', 'Daniel Emilio Rojas Castro', 'Daniel García-Peña', 'Daniel Mera Villamizar', 'Daniel Pacheco', 'Daniel Raisbeck', 'Daniel Samper Ospina', 'Danilo Arbilla', 'Danilo Rojas Betancourth', 'Dario Cujar Couttin', 'Darío Acevedo Carmona', 'Darío Cujar', 'Darío Hidalgo', 'David Brooks', 'David Escobar Gómez', 'David Leonhardt', 'David Yanovich', 'Dayana Blanco Acendra', 'Diana Castro Benetti', 'Diana Guarnizo', 'Diana Isabel Güiza Gómez', 'Diego Cancino', 'Diego Molano', 'Diego Santos', 'Dolly Montoya', 'Dolly Montoya Castaño', 'Dominique Moisi', 'Dora Glottman', 'Doña Gula', 'Edgardo José Maya', 'Eduardo Barajas Sandoval', 'Eduardo Behrentz', 'Eduardo Díaz Uribe', 'Eduardo Escobar', 'Eduardo Lora', 'Eduardo Posada Carbó', 'Eduardo Sarmiento', 'Efrén Martínez Ortiz', 'Elisabeth Ungar Bleier', 'Elly Hernández', 'Elsa Lucía Arango', 'Emilio Chala Saad', 'Enrique Aparicio', 'Enrique Gaviria Liévano', 'Enrique Santos Molano', 'Esteban Carlos Mejía', 'Esteban Piedrahita', 'Eva Joly', 'Fabio Martínez', 'Federico Gómez', 'Federico Gómez Lara', 'Felipe Jaramillo', 'Felipe Jánica', 'Felipe Muñoz Gómez', 'Felipe Restrepo Pombo', 'Felipe Zuleta Lleras', 'Fernando Araújo Vélez', 'Fernando Barbosa', 'Fernando Carrillo Flórez', 'Fernando Flórez', 'Fernando Galindo G.', 'Fernando Posada', 'Fernando Quiroz', 'Fernando Sánchez Torres', 'Flavia Santoro', 'Florence Thomas', 'Francisco Barbosa', 'Francisco Cajiao', 'Francisco Gutiérrez Sanín', 'Francisco Leal Buitrago', 'Gabriel Cifuentes Ghidini', 'Gabriel Silva Luján', 'Gazapera', 'Gazapera .', 'Germán Calderón España', 'Germán I. Andrade', 'Germán Manga', 'Germán Vargas G.', 'Germán Vargas Lleras', 'Gloria Alonso', 'Gloria Arias Nieto', 'Gloria Helena Rey', 'Gloria María Borrero', 'Gonzalo Castellanos', 'Gonzalo Hernández', 'Gonzalo Silva Rivas', 'Gral. Néstor Ramírez Mejía', 'Gregory Lobo', 'Guillermo Angulo', 'Guillermo González Uribe', 'Guillermo Maya', 'Guillermo Perry', 'Guillermo Puyana Ramos', 'Guillermo Rivera', 'Guillermo Santos Calderón', 'Guillermo Zuluaga', 'Gustavo Duncan', 'Gustavo Estrada', 'Gustavo Gallón', 'Gustavo Gómez Córdoba', 'Gustavo Páez Escobar', 'Gustavo Riveros Díaz', 'Harry Sasson', 'Heriberto Fiorillo', 'Hernando Gómez Buendía', 'Hernando Herrera Mercado', 'Hernando Roa Suárez', 'Hernando Yepes Arcila', 'Hernán González Rodríguez', 'Hernán Peláez Restrepo', 'Hernán Velandia Palomino', 'Historias en público', 'Hugo Acero Velásquez', 'Hugo Sabogal', 'Humberto de la Calle', 'Héctor Abad Faciolince', 'Héctor Pineda', 'Ignacio Mantilla', 'Ignacio Zuleta', 'Ignacio Zuleta Ll.', 'Ilma Cecilia Ariza de Ávila', 'Indalecio Dangond B.', 'Isabel Jaramillo', 'Isabel Segovia', 'Isabella Portilla', 'Iván Cepeda Castro', 'Iván Duque', 'Iván Mejía Álvarez', 'J J Ocampo', 'J. D. Torres Duarte', 'J. William Pearl', 'Jaime A. Fajardo Landaeta', 'Jaime Arocha', 'Jaime Castro', 'Jaime Laserna Serna', 'Jairo Gómez', 'Jairo Hernán Ortega', 'Javier Alexander Borda Diaz', 'Javier Borda Diaz', 'Javier Ortiz', 'Jeffrey D. Sachs', 'Jennifer Pedraza', 'Jesús Pérez González-Rubio', 'Jhon Jairo Losada Cubillos', 'Jineth Bedoya', 'Joaquín Botero', 'Joaquín Robles Zabala', 'Joaquín Vélez Navarro', 'John Mario González', 'John Petter Opdahl', 'John Sudarsky', 'Johnattan García Ruiz', 'Jorge Barraza', 'Jorge Bustamante', 'Jorge Eduardo Cock', 'Jorge Eduardo Espinosa', 'Jorge Gómez Pinilla', 'Jorge H. Botero', 'Jorge Hernando Nieto', 'Jorge Hernán Colmenares', 'Jorge Iván Cuervo R.', 'Jorge Iván Grisales Marín', 'Jorge Leyva Valenzuela', 'Jorge Tovar', 'Jose Manuel Restrepo', 'Joseph E. Stiglitz', 'José Alberto Peroza', 'José Antonio Llorente', 'José Antonio Ocampo', 'José Darwin Lenis Mejía', 'José Fernando Flórez', 'José Fernando Isaza', 'José Graziando da Silva', 'José Luis Ramírez León', 'José Manuel Acevedo', 'José Manuel Restrepo', 'José Miguel Alzate', 'José Miguel Orozco Muñoz', 'José Miguel Vivanco', 'José Roberto Acosta', 'Jotamario Arbeláez', 'Juan Carlos Botero', 'Juan Carlos Echeverry', 'Juan Carlos Gómez', 'Juan Carlos Holguín', 'Juan Carlos Matamoros López', 'Juan Carlos Mira', 'Juan Carlos Ortiz', 'Juan Carlos Pinzón', 'Juan Carlos Rincón Escalante', 'Juan David Ochoa', 'Juan David Zuloaga D.', 'Juan Esteban Constaín', 'Juan Felipe Carrillo Gáfaro', 'Juan Fernando Cristo', 'Juan Fernando Londoño', 'Juan Francisco Ortega', 'Juan Gabriel Gómez', 'Juan Horacio de Freitas De Sousa', 'Juan Lozano', 'Juan Manuel Charry Ureña', 'Juan Manuel Morales Calderón', 'Juan Manuel Ospina', 'Juan Manuel Palacios Luna', 'Juan Martín Caicedo Ferrer', 'Juan Pablo Calvás', 'Juan Pablo Córdoba Garcés', 'Juan Pablo Ruiz Soto', 'Juan Pablo Salazar', 'Juan Ramón Samper', 'Juan Sebastián Rozo', 'Juan carlos Ureta', 'Juana Téllez', 'Juanita Goebertus Estrada', 'Juliana Pungiluppi', 'Juliana Vargas', 'Juliana Vargas Leal', 'Julio Berdegue Silva Saravia', 'Julio Berdegué \\nElizabeth Coble', 'Julio Carrizosa Umaña', 'Julio César Londoño', 'Julio Londoño Paredes', 'Julián Alfredo Fernández', 'Julián Estrada Ochoa', 'Julián López de Mesa Samudio', 'Julián de Zubiría Samper', 'Kai Ambos', 'Kai Amos', 'La columna bicentenaria', 'Lariza Pizano', 'Laura Chinchilla', 'Laura Gil', 'Laura Rojas Aponte', 'Leonardo Fabio Martínez Pérez', 'Leopoldo Villar Borda', 'Leyner Mosquera', 'Lisandro Duque Naranjo', 'Lorenzo Acosta Valencia', 'Lorenzo Madrigal', 'Lucas Pombo', 'Lucy Nieto de Samper', 'Luis Alberto Ordóñez', 'Luis Camilo Osorio', 'Luis Carlos Reyes', 'Luis Carlos Villegas', 'Luis Carlos Vélez', 'Luis Carvajal Basto', 'Luis F. Samper', 'Luis Felipe Henao', 'Luis Fernando Ospina Vanegas', 'Luis Guillermo Ordóñez', 'Luis Guillermo Plata', 'Luis I. Sandoval M.', 'Luis Noé Ochoa', 'Madame Papita', 'Manue Guzmán Hennessey', 'Manuel Drezner', 'Manuel Guzmán Hennessey', 'Manuel Maiguashca', 'Manuel Rodríguez Becerra', 'Mar Candela', 'Marc Hofstetter', 'Marcela Abadía Cubillos', 'Marcela Sánchez Buitrago', 'Marcelo Caruso A.', 'Marco Sermoneta', 'Marco Tulio Gutiérrez Morad', 'Marcos Peckel', 'Marcos Silva', 'Margarita Cabello Blanco', 'Margarita Flórez', 'Margarita Pacheco', 'Margarita Posada', 'Margarita Rosa de Francisco', 'Mariana Garcés Córdoba', 'Mariana Jaramillo Thomas', 'Mariana Pinto Alvarez', 'Mario Fernando Prado', 'Mario Morales', 'Mario Méndez', 'Mario Valencia', 'Marius Dragomir', 'Mark Leonard', 'Marta Lucía Ramírez', 'Martha Senn', 'Martín Caparrós', 'Martín Jaramillo', 'Mary Louise Higgins', 'María A. García de la Torre', 'María Alejandra Medina Cartagena', 'María Antonieta Solórzano', 'María Claudia Espíndola', 'María Claudia García', 'María Emma Mejía', 'María Eugenia Rinaudo', 'María Fernanda Nossa', 'María Isabel Gómez', 'María Isabel Rueda', 'María Luisa Martínez Dibarboure', 'María Paula Saffon', 'María Piedad Villaveces', 'María Teresa Aya Smitmans', 'María Teresa Ronderos', 'María Victoria Angulo', 'María Ximena Dávila C.', 'Maureen Dowd', 'Mauricio Botero Caicedo', 'Mauricio Carradini', 'Mauricio Cárdenas Santamaría', 'Mauricio García Villegas', 'Mauricio González Cuervo', 'Mauricio Laurens - Cine al Ojo', 'Mauricio Lloreda', 'Mauricio Pombo', 'Mauricio Rodríguez', 'Mauricio Rodríguez Múnera', 'Mauricio Rubio', 'Mauricio Vargas', 'Melba Escobar', 'Michelle Arévalo Zuleta', 'Miguel Ceballos', 'Miguel Silva', 'Miguelángel Epeeyüi López-H.', 'Moisés Naím', 'Moisés Wasserman', 'Nancy Patricia Gutiérrez', 'Nelson Camilo Sánchez', 'Ngaire Woods', 'Nicholas D. Kristof', 'Nicholas Kristof - The New York Times', 'Nicolás Guillot', 'Nicolás Rodríguez', 'Nicolás Uribe Rueda', 'Nicolás Ávila Venegas', 'Nidia Quintero', 'Nilson Pinilla', 'Nohora Adriana Rodríguez Forero', 'Norman Mesa Lopera', 'Nouriel Roubini', 'Olga Lucía Barona', 'Oscar Guardiola-Rivera', 'Otros columnistas', 'Pablo Catatumbo', 'Pablo Felipe Robledo', 'Pablo Leyva', 'Pablo Navas', 'Pablo Ramírez Uribe', 'Pablo Zuloaga', 'Paola Ochoa', 'Para Serle Franco', 'Para serle franco', 'Pascual Gaviria', 'Patricia Lara Salive', 'Patricia Suárez', 'Paul Krugman', 'Paula Moreno', 'Pedro Javier Rojas Guevara', 'Pedro Shaio', 'Pedro Vaca', 'Pedro Viveros', 'Peter Singer', 'Piedad Bonnett', 'Plinio Apuleyo Mendoza', 'Poly Martínez', 'Poncho Rentería', 'Proyect Syndicate /\\xa0Richard N. Haass', 'Rafael Aubad l.', 'Rafael Guarín', 'Rafael Orduz', 'Ramiro Bejarano Guzmán', 'Ramiro Guzmán Arteaga', 'Ramsés Vargas Lamadrid', 'Raquel Coronell Uribe', 'Reinaldo Spitaletta', 'Renson Said', 'Renson Said Sepúlveda Vergara', 'Ricardo Bada', 'Ricardo Silva Romero', 'Rodrigo Janiot y Brian Winter', 'Rodrigo Lozano Vila', 'Rodrigo Uprimny', 'Rubén Mendoza', 'Rudolf Hommes', 'Saia Vergara Jaime', 'Salomón Kalmanovitz', 'Salud Hernández-Mora', 'Salvo Basile', 'Sandra Borda Guzmán', 'Santiago Gamboa', 'Santiago Montenegro', 'Santiago Vargas Acebedo', 'Santiago Villa', 'Sara Tufano', 'Saúl Franco', 'Saúl Hernández Bolívar', 'Sergio  Otálora Montenegro', 'Sergio Bueno', 'Sergio Clavijo', 'Sergio Muñoz Bata', 'Sergio Ocampo Madrid', 'Sergio Otálora Montenegro', 'Sergio Ramírez', 'Sonia Gómez Gómez', 'Soraya Constante', 'Sorayda Peguero', 'Stefano Farné', 'Sylvia Constaín', 'Tatiana Acevedo Guerrero', 'Thierry Ways', 'Thomas L. Friedman', 'Tola y Maruja', 'Una paz entre dos desinteresados', 'Uriel Ortiz Soto', 'Valentina Coccia', 'Vanessa Rosales A.', 'Vicky Turbay', 'Vivian Newman', 'Viviana Krsticevic', 'Vladdo', 'Víctor Corcoba Herrero', 'Víctor Manuel Muñoz Rodríguez', 'Víctor Manuel Ruiz', 'Víctor Muñoz', 'Víctor de Currea-Lugo', 'Waira Nina Jacanamijoy Mutumbajoy', 'Weildler Guerra', 'Werner Zitzmann', 'William Ospina', 'Women in Connection', 'Ximena Casas', 'Yesid Arteta', 'Yesid Reyes Alvarado', 'Yohir Akerman', 'Yoko Ruiz', 'Yolanda Reyes', 'Yolanda Ruiz', 'Yu Yongding', 'Álvaro Guillermo Rendón López', 'Álvaro Jiménez', 'Álvaro Restrepo', 'Ángela María Giraldo', 'Óscar A. Alfonso R', 'Óscar Alarcón', 'Óscar Domínguez Giraldo', 'Óscar Rodrigo Campo Hurtado', 'Óscar Sevillano', 'Óscar Sánchez']\n"
     ]
    }
   ],
   "source": [
    "print(autores)"
   ]
  },
  {
   "cell_type": "code",
   "execution_count": 184,
   "id": "9ef809f0",
   "metadata": {},
   "outputs": [
    {
     "data": {
      "text/plain": [
       "3666"
      ]
     },
     "execution_count": 184,
     "metadata": {},
     "output_type": "execute_result"
    }
   ],
   "source": [
    "# Contar filas \n",
    "len(corpus_completo[(corpus_completo['Fecha_formateada'] < pd.to_datetime('2019-01-01'))])\n",
    "\n",
    "\n",
    "len(corpus_completo.query(\"Fecha_formateada < '2021-01-01' and Fecha_formateada > '2019-12-31' and Diario == 'El Tiempo'\"))\n",
    "len(corpus_completo.query(\"Fecha_formateada < '2020-01-01' and Fecha_formateada > '2018-12-31'\"))\n",
    "\n",
    "\n"
   ]
  },
  {
   "cell_type": "code",
   "execution_count": null,
   "id": "719fa79e",
   "metadata": {},
   "outputs": [
    {
     "data": {
      "text/plain": [
       "13342"
      ]
     },
     "execution_count": 186,
     "metadata": {},
     "output_type": "execute_result"
    }
   ],
   "source": []
  },
  {
   "cell_type": "code",
   "execution_count": 146,
   "id": "54f9880e",
   "metadata": {},
   "outputs": [],
   "source": [
    "# Contar palabras totales en la columna 'Texto'\n",
    "num_palabras = corpus_completo['Texto'].apply(lambda x: len(str(x).split()))"
   ]
  },
  {
   "cell_type": "code",
   "execution_count": 15,
   "id": "893aec2f",
   "metadata": {},
   "outputs": [
    {
     "data": {
      "text/plain": [
       "8377770"
      ]
     },
     "execution_count": 15,
     "metadata": {},
     "output_type": "execute_result"
    }
   ],
   "source": [
    "num_palabras.sum()"
   ]
  },
  {
   "cell_type": "code",
   "execution_count": 31,
   "id": "8d8c805a",
   "metadata": {},
   "outputs": [],
   "source": [
    "# Contar palabras distintas en la columna 'Texto'\n",
    "texto_unido = ' '.join(corpus_completo['Texto'].dropna().astype(str).tolist())\n",
    "palabras_distintas = set(texto_unido.split())"
   ]
  },
  {
   "cell_type": "code",
   "execution_count": 32,
   "id": "bcea2751",
   "metadata": {},
   "outputs": [
    {
     "data": {
      "text/plain": [
       "336045"
      ]
     },
     "execution_count": 32,
     "metadata": {},
     "output_type": "execute_result"
    }
   ],
   "source": [
    "len(palabras_distintas)"
   ]
  },
  {
   "cell_type": "code",
   "execution_count": 10,
   "id": "88827a38",
   "metadata": {},
   "outputs": [
    {
     "data": {
      "text/plain": [
       "count    13344.000000\n",
       "mean       627.830486\n",
       "std        210.698741\n",
       "min        128.000000\n",
       "25%        523.000000\n",
       "50%        590.000000\n",
       "75%        682.000000\n",
       "max       5305.000000\n",
       "Name: Texto, dtype: float64"
      ]
     },
     "execution_count": 10,
     "metadata": {},
     "output_type": "execute_result"
    }
   ],
   "source": [
    "num_palabras.describe()"
   ]
  },
  {
   "cell_type": "markdown",
   "id": "380805c2",
   "metadata": {},
   "source": [
    "# Preprocesamiento"
   ]
  },
  {
   "cell_type": "markdown",
   "id": "4e8cf86d",
   "metadata": {},
   "source": [
    "https://spacy.io/models/es"
   ]
  },
  {
   "cell_type": "code",
   "execution_count": 79,
   "id": "a6a8e6bf",
   "metadata": {},
   "outputs": [
    {
     "name": "stdout",
     "output_type": "stream",
     "text": [
      "Collecting es-core-news-md==3.8.0\n",
      "  Downloading https://github.com/explosion/spacy-models/releases/download/es_core_news_md-3.8.0/es_core_news_md-3.8.0-py3-none-any.whl (42.3 MB)\n",
      "     ---------------------------------------- 0.0/42.3 MB ? eta -:--:--\n",
      "     ---- ----------------------------------- 4.7/42.3 MB 35.7 MB/s eta 0:00:02\n",
      "     ------------------ -------------------- 20.4/42.3 MB 61.5 MB/s eta 0:00:01\n",
      "     --------------------------------------  41.4/42.3 MB 77.5 MB/s eta 0:00:01\n",
      "     --------------------------------------- 42.3/42.3 MB 69.0 MB/s eta 0:00:00\n",
      "Installing collected packages: es-core-news-md\n",
      "Successfully installed es-core-news-md-3.8.0\n",
      "\u001b[38;5;2m✔ Download and installation successful\u001b[0m\n",
      "You can now load the package via spacy.load('es_core_news_md')\n"
     ]
    }
   ],
   "source": [
    "!python -m spacy download es_core_news_md"
   ]
  },
  {
   "cell_type": "code",
   "execution_count": 55,
   "id": "956b1fbc",
   "metadata": {},
   "outputs": [],
   "source": [
    "# Preprocesamiento de los datos\n",
    "\n",
    "# Cargar modelo de lenguaje en español de Spacy, el modelo más pequeño\n",
    "#nlp = spacy.load(\"es_core_news_sm\")\n",
    "\n",
    "# Cargar modelo de lenguaje en español de Spacy, el modelo mediano\n",
    "nlp = spacy.load(\"es_core_news_md\")\n",
    "\n",
    "\n",
    "# Modelo que incluye transformers \n",
    "#nlp = spacy.load(\"es_dep_news_trf\")"
   ]
  },
  {
   "cell_type": "markdown",
   "id": "114002b8",
   "metadata": {},
   "source": [
    "## Función de preprocesamiento "
   ]
  },
  {
   "cell_type": "code",
   "execution_count": 56,
   "id": "42e6826b",
   "metadata": {},
   "outputs": [],
   "source": [
    "def preprocesar_texto(texto):\n",
    "    # Limpieza\n",
    "    texto = re.sub(r'http\\S+|www\\S+|https\\S+', '', texto, flags=re.MULTILINE) # eliminar URLs\n",
    "    texto = re.sub(r'\\S+@\\S+', '', texto) # eliminar correos electrónicos\n",
    "    texto = re.sub(r'[^\\w\\sáéíóúñÁÉÍÓÚÑ]', ' ', texto) # mantener solo caracteres alfanuméricos y acentos\n",
    "    \n",
    "    # Procesamiento con spaCy tokenizacion\n",
    "    doc = nlp(texto)\n",
    "    \n",
    "    # Lematización y filtrado\n",
    "    tokens = [\n",
    "        token.text for token in doc\n",
    "        if not token.is_punct \n",
    "        and not token.is_stop\n",
    "        and not token.is_space\n",
    "        and token.pos_ in ['NOUN', 'VERB', 'PROPN','ADJ', 'NUM']  # Tomar solo sustantivos, verbos, nombres propios, adjetivos y numerales\n",
    "        and len(token.lemma_) > 3  # Eliminar palabras muy cortas\n",
    "        and token.text.isalpha()  # Solo palabras alfabéticas\n",
    "    ]\n",
    "    \n",
    "    return \" \".join(tokens)"
   ]
  },
  {
   "cell_type": "markdown",
   "id": "d2f93c2b",
   "metadata": {},
   "source": [
    "# Títulos"
   ]
  },
  {
   "cell_type": "code",
   "execution_count": 67,
   "id": "9af1a571",
   "metadata": {},
   "outputs": [],
   "source": [
    "titulos_procesados = corpus_completo['Título'].astype(str).apply(preprocesar_texto)"
   ]
  },
  {
   "cell_type": "code",
   "execution_count": 46,
   "id": "c13d8403",
   "metadata": {},
   "outputs": [
    {
     "data": {
      "text/plain": [
       "0        César Gaviria César Mondragón\n",
       "1                  recomendaciones año\n",
       "2                        Fajardo tibio\n",
       "3                      Macedonia Norte\n",
       "4            nacionalismo Vargas Llosa\n",
       "                     ...              \n",
       "13339          Capitalismo escandinava\n",
       "13340        derrotar Guachos Amazonas\n",
       "13341              Porte armas derecho\n",
       "13342                         Congreso\n",
       "13343            Casanare bicentenario\n",
       "Name: Título, Length: 13344, dtype: object"
      ]
     },
     "execution_count": 46,
     "metadata": {},
     "output_type": "execute_result"
    }
   ],
   "source": [
    "titulos_procesados"
   ]
  },
  {
   "cell_type": "code",
   "execution_count": 68,
   "id": "7c2125d1",
   "metadata": {},
   "outputs": [
    {
     "data": {
      "text/plain": [
       "'Capitalismo a la escandinava'"
      ]
     },
     "execution_count": 68,
     "metadata": {},
     "output_type": "execute_result"
    }
   ],
   "source": [
    "corpus_completo['Título'][13339]"
   ]
  },
  {
   "cell_type": "code",
   "execution_count": 29,
   "id": "b57dd825",
   "metadata": {},
   "outputs": [],
   "source": [
    "# Vectorización (creación de matriz documento-término)\n",
    "vectorizer = CountVectorizer(max_df=0.60, min_df=5, max_features=2000)\n",
    "X = vectorizer.fit_transform(titulos_procesados)"
   ]
  },
  {
   "cell_type": "code",
   "execution_count": 48,
   "id": "0facb932",
   "metadata": {},
   "outputs": [],
   "source": [
    "tfidf_vectorizer = TfidfVectorizer(**vectorizer.get_params())\n",
    "dtm_tfidf = tfidf_vectorizer.fit_transform(titulos_procesados)"
   ]
  },
  {
   "cell_type": "code",
   "execution_count": 49,
   "id": "7b65b604",
   "metadata": {},
   "outputs": [
    {
     "data": {
      "text/plain": [
       "(13344, 1404)"
      ]
     },
     "execution_count": 49,
     "metadata": {},
     "output_type": "execute_result"
    }
   ],
   "source": [
    "X.shape"
   ]
  },
  {
   "cell_type": "code",
   "execution_count": 50,
   "id": "07209838",
   "metadata": {},
   "outputs": [
    {
     "data": {
      "text/plain": [
       "(13344, 1355)"
      ]
     },
     "execution_count": 50,
     "metadata": {},
     "output_type": "execute_result"
    }
   ],
   "source": [
    "dtm_tfidf.shape"
   ]
  },
  {
   "cell_type": "code",
   "execution_count": 21,
   "id": "ec08760b",
   "metadata": {},
   "outputs": [],
   "source": [
    "# Función para mostrar los tópicos\n",
    "def mostrar_topicos(modelo, vectorizer, n_palabras=10):\n",
    "    palabras = vectorizer.get_feature_names_out()\n",
    "    for idx, topico in enumerate(modelo.components_):\n",
    "        print(f\"Tópico #{idx}:\")\n",
    "        print(\", \".join([palabras[i] for i in topico.argsort()[:-n_palabras - 1:-1]]))\n",
    "        print()"
   ]
  },
  {
   "cell_type": "code",
   "execution_count": 57,
   "id": "7f4b2fff",
   "metadata": {},
   "outputs": [
    {
     "name": "stdout",
     "output_type": "stream",
     "text": [
      "Tópico #0:\n",
      "presidente, justicia, voto, colombiano, ley, blanco, casa, realidad, semana, venir\n",
      "\n",
      "Tópico #1:\n",
      "duque, tola, maruja, derecho, social, venezuela, prima, niño, farc, presidente\n",
      "\n",
      "Tópico #2:\n",
      "trump, crisis, nacional, político, ojo, ciencia, democrático, paro, mundial, liderazgo\n",
      "\n",
      "Tópico #3:\n",
      "guerra, petro, político, defensa, duque, palabra, violencia, iván, arte, morir\n",
      "\n",
      "Tópico #4:\n",
      "año, país, tiempo, economía, coronavirus, volver, reforma, cambio, debate, jugar\n",
      "\n",
      "Tópico #5:\n",
      "colombia, política, historia, pandemia, corrupción, miedo, público, seguridad, universidad, corte\n",
      "\n",
      "Tópico #6:\n",
      "bogotá, fiscal, mujer, futuro, memoria, agua, pacto, fútbol, enemigo, salir\n",
      "\n",
      "Tópico #7:\n",
      "paz, mundo, gobierno, centro, covid, pasar, lección, hora, muerte, desarrollo\n",
      "\n",
      "Tópico #8:\n",
      "democracia, uribir, gazapera, elección, ganar, libro, tierra, malo, petro, fajardo\n",
      "\n",
      "Tópico #9:\n",
      "vida, educación, salud, matar, jep, presidencial, vuelta, viejo, empleo, santrich\n",
      "\n"
     ]
    }
   ],
   "source": [
    "# Modelado de tópicos con LDA\n",
    "lda = LatentDirichletAllocation(n_components=10, random_state=42)\n",
    "lda.fit(X)\n",
    "\n",
    "mostrar_topicos(lda, vectorizer)"
   ]
  },
  {
   "cell_type": "code",
   "execution_count": 51,
   "id": "94882183",
   "metadata": {},
   "outputs": [
    {
     "data": {
      "text/html": [
       "<style>#sk-container-id-3 {\n",
       "  /* Definition of color scheme common for light and dark mode */\n",
       "  --sklearn-color-text: #000;\n",
       "  --sklearn-color-text-muted: #666;\n",
       "  --sklearn-color-line: gray;\n",
       "  /* Definition of color scheme for unfitted estimators */\n",
       "  --sklearn-color-unfitted-level-0: #fff5e6;\n",
       "  --sklearn-color-unfitted-level-1: #f6e4d2;\n",
       "  --sklearn-color-unfitted-level-2: #ffe0b3;\n",
       "  --sklearn-color-unfitted-level-3: chocolate;\n",
       "  /* Definition of color scheme for fitted estimators */\n",
       "  --sklearn-color-fitted-level-0: #f0f8ff;\n",
       "  --sklearn-color-fitted-level-1: #d4ebff;\n",
       "  --sklearn-color-fitted-level-2: #b3dbfd;\n",
       "  --sklearn-color-fitted-level-3: cornflowerblue;\n",
       "\n",
       "  /* Specific color for light theme */\n",
       "  --sklearn-color-text-on-default-background: var(--sg-text-color, var(--theme-code-foreground, var(--jp-content-font-color1, black)));\n",
       "  --sklearn-color-background: var(--sg-background-color, var(--theme-background, var(--jp-layout-color0, white)));\n",
       "  --sklearn-color-border-box: var(--sg-text-color, var(--theme-code-foreground, var(--jp-content-font-color1, black)));\n",
       "  --sklearn-color-icon: #696969;\n",
       "\n",
       "  @media (prefers-color-scheme: dark) {\n",
       "    /* Redefinition of color scheme for dark theme */\n",
       "    --sklearn-color-text-on-default-background: var(--sg-text-color, var(--theme-code-foreground, var(--jp-content-font-color1, white)));\n",
       "    --sklearn-color-background: var(--sg-background-color, var(--theme-background, var(--jp-layout-color0, #111)));\n",
       "    --sklearn-color-border-box: var(--sg-text-color, var(--theme-code-foreground, var(--jp-content-font-color1, white)));\n",
       "    --sklearn-color-icon: #878787;\n",
       "  }\n",
       "}\n",
       "\n",
       "#sk-container-id-3 {\n",
       "  color: var(--sklearn-color-text);\n",
       "}\n",
       "\n",
       "#sk-container-id-3 pre {\n",
       "  padding: 0;\n",
       "}\n",
       "\n",
       "#sk-container-id-3 input.sk-hidden--visually {\n",
       "  border: 0;\n",
       "  clip: rect(1px 1px 1px 1px);\n",
       "  clip: rect(1px, 1px, 1px, 1px);\n",
       "  height: 1px;\n",
       "  margin: -1px;\n",
       "  overflow: hidden;\n",
       "  padding: 0;\n",
       "  position: absolute;\n",
       "  width: 1px;\n",
       "}\n",
       "\n",
       "#sk-container-id-3 div.sk-dashed-wrapped {\n",
       "  border: 1px dashed var(--sklearn-color-line);\n",
       "  margin: 0 0.4em 0.5em 0.4em;\n",
       "  box-sizing: border-box;\n",
       "  padding-bottom: 0.4em;\n",
       "  background-color: var(--sklearn-color-background);\n",
       "}\n",
       "\n",
       "#sk-container-id-3 div.sk-container {\n",
       "  /* jupyter's `normalize.less` sets `[hidden] { display: none; }`\n",
       "     but bootstrap.min.css set `[hidden] { display: none !important; }`\n",
       "     so we also need the `!important` here to be able to override the\n",
       "     default hidden behavior on the sphinx rendered scikit-learn.org.\n",
       "     See: https://github.com/scikit-learn/scikit-learn/issues/21755 */\n",
       "  display: inline-block !important;\n",
       "  position: relative;\n",
       "}\n",
       "\n",
       "#sk-container-id-3 div.sk-text-repr-fallback {\n",
       "  display: none;\n",
       "}\n",
       "\n",
       "div.sk-parallel-item,\n",
       "div.sk-serial,\n",
       "div.sk-item {\n",
       "  /* draw centered vertical line to link estimators */\n",
       "  background-image: linear-gradient(var(--sklearn-color-text-on-default-background), var(--sklearn-color-text-on-default-background));\n",
       "  background-size: 2px 100%;\n",
       "  background-repeat: no-repeat;\n",
       "  background-position: center center;\n",
       "}\n",
       "\n",
       "/* Parallel-specific style estimator block */\n",
       "\n",
       "#sk-container-id-3 div.sk-parallel-item::after {\n",
       "  content: \"\";\n",
       "  width: 100%;\n",
       "  border-bottom: 2px solid var(--sklearn-color-text-on-default-background);\n",
       "  flex-grow: 1;\n",
       "}\n",
       "\n",
       "#sk-container-id-3 div.sk-parallel {\n",
       "  display: flex;\n",
       "  align-items: stretch;\n",
       "  justify-content: center;\n",
       "  background-color: var(--sklearn-color-background);\n",
       "  position: relative;\n",
       "}\n",
       "\n",
       "#sk-container-id-3 div.sk-parallel-item {\n",
       "  display: flex;\n",
       "  flex-direction: column;\n",
       "}\n",
       "\n",
       "#sk-container-id-3 div.sk-parallel-item:first-child::after {\n",
       "  align-self: flex-end;\n",
       "  width: 50%;\n",
       "}\n",
       "\n",
       "#sk-container-id-3 div.sk-parallel-item:last-child::after {\n",
       "  align-self: flex-start;\n",
       "  width: 50%;\n",
       "}\n",
       "\n",
       "#sk-container-id-3 div.sk-parallel-item:only-child::after {\n",
       "  width: 0;\n",
       "}\n",
       "\n",
       "/* Serial-specific style estimator block */\n",
       "\n",
       "#sk-container-id-3 div.sk-serial {\n",
       "  display: flex;\n",
       "  flex-direction: column;\n",
       "  align-items: center;\n",
       "  background-color: var(--sklearn-color-background);\n",
       "  padding-right: 1em;\n",
       "  padding-left: 1em;\n",
       "}\n",
       "\n",
       "\n",
       "/* Toggleable style: style used for estimator/Pipeline/ColumnTransformer box that is\n",
       "clickable and can be expanded/collapsed.\n",
       "- Pipeline and ColumnTransformer use this feature and define the default style\n",
       "- Estimators will overwrite some part of the style using the `sk-estimator` class\n",
       "*/\n",
       "\n",
       "/* Pipeline and ColumnTransformer style (default) */\n",
       "\n",
       "#sk-container-id-3 div.sk-toggleable {\n",
       "  /* Default theme specific background. It is overwritten whether we have a\n",
       "  specific estimator or a Pipeline/ColumnTransformer */\n",
       "  background-color: var(--sklearn-color-background);\n",
       "}\n",
       "\n",
       "/* Toggleable label */\n",
       "#sk-container-id-3 label.sk-toggleable__label {\n",
       "  cursor: pointer;\n",
       "  display: flex;\n",
       "  width: 100%;\n",
       "  margin-bottom: 0;\n",
       "  padding: 0.5em;\n",
       "  box-sizing: border-box;\n",
       "  text-align: center;\n",
       "  align-items: start;\n",
       "  justify-content: space-between;\n",
       "  gap: 0.5em;\n",
       "}\n",
       "\n",
       "#sk-container-id-3 label.sk-toggleable__label .caption {\n",
       "  font-size: 0.6rem;\n",
       "  font-weight: lighter;\n",
       "  color: var(--sklearn-color-text-muted);\n",
       "}\n",
       "\n",
       "#sk-container-id-3 label.sk-toggleable__label-arrow:before {\n",
       "  /* Arrow on the left of the label */\n",
       "  content: \"▸\";\n",
       "  float: left;\n",
       "  margin-right: 0.25em;\n",
       "  color: var(--sklearn-color-icon);\n",
       "}\n",
       "\n",
       "#sk-container-id-3 label.sk-toggleable__label-arrow:hover:before {\n",
       "  color: var(--sklearn-color-text);\n",
       "}\n",
       "\n",
       "/* Toggleable content - dropdown */\n",
       "\n",
       "#sk-container-id-3 div.sk-toggleable__content {\n",
       "  display: none;\n",
       "  text-align: left;\n",
       "  /* unfitted */\n",
       "  background-color: var(--sklearn-color-unfitted-level-0);\n",
       "}\n",
       "\n",
       "#sk-container-id-3 div.sk-toggleable__content.fitted {\n",
       "  /* fitted */\n",
       "  background-color: var(--sklearn-color-fitted-level-0);\n",
       "}\n",
       "\n",
       "#sk-container-id-3 div.sk-toggleable__content pre {\n",
       "  margin: 0.2em;\n",
       "  border-radius: 0.25em;\n",
       "  color: var(--sklearn-color-text);\n",
       "  /* unfitted */\n",
       "  background-color: var(--sklearn-color-unfitted-level-0);\n",
       "}\n",
       "\n",
       "#sk-container-id-3 div.sk-toggleable__content.fitted pre {\n",
       "  /* unfitted */\n",
       "  background-color: var(--sklearn-color-fitted-level-0);\n",
       "}\n",
       "\n",
       "#sk-container-id-3 input.sk-toggleable__control:checked~div.sk-toggleable__content {\n",
       "  /* Expand drop-down */\n",
       "  display: block;\n",
       "  width: 100%;\n",
       "  overflow: visible;\n",
       "}\n",
       "\n",
       "#sk-container-id-3 input.sk-toggleable__control:checked~label.sk-toggleable__label-arrow:before {\n",
       "  content: \"▾\";\n",
       "}\n",
       "\n",
       "/* Pipeline/ColumnTransformer-specific style */\n",
       "\n",
       "#sk-container-id-3 div.sk-label input.sk-toggleable__control:checked~label.sk-toggleable__label {\n",
       "  color: var(--sklearn-color-text);\n",
       "  background-color: var(--sklearn-color-unfitted-level-2);\n",
       "}\n",
       "\n",
       "#sk-container-id-3 div.sk-label.fitted input.sk-toggleable__control:checked~label.sk-toggleable__label {\n",
       "  background-color: var(--sklearn-color-fitted-level-2);\n",
       "}\n",
       "\n",
       "/* Estimator-specific style */\n",
       "\n",
       "/* Colorize estimator box */\n",
       "#sk-container-id-3 div.sk-estimator input.sk-toggleable__control:checked~label.sk-toggleable__label {\n",
       "  /* unfitted */\n",
       "  background-color: var(--sklearn-color-unfitted-level-2);\n",
       "}\n",
       "\n",
       "#sk-container-id-3 div.sk-estimator.fitted input.sk-toggleable__control:checked~label.sk-toggleable__label {\n",
       "  /* fitted */\n",
       "  background-color: var(--sklearn-color-fitted-level-2);\n",
       "}\n",
       "\n",
       "#sk-container-id-3 div.sk-label label.sk-toggleable__label,\n",
       "#sk-container-id-3 div.sk-label label {\n",
       "  /* The background is the default theme color */\n",
       "  color: var(--sklearn-color-text-on-default-background);\n",
       "}\n",
       "\n",
       "/* On hover, darken the color of the background */\n",
       "#sk-container-id-3 div.sk-label:hover label.sk-toggleable__label {\n",
       "  color: var(--sklearn-color-text);\n",
       "  background-color: var(--sklearn-color-unfitted-level-2);\n",
       "}\n",
       "\n",
       "/* Label box, darken color on hover, fitted */\n",
       "#sk-container-id-3 div.sk-label.fitted:hover label.sk-toggleable__label.fitted {\n",
       "  color: var(--sklearn-color-text);\n",
       "  background-color: var(--sklearn-color-fitted-level-2);\n",
       "}\n",
       "\n",
       "/* Estimator label */\n",
       "\n",
       "#sk-container-id-3 div.sk-label label {\n",
       "  font-family: monospace;\n",
       "  font-weight: bold;\n",
       "  display: inline-block;\n",
       "  line-height: 1.2em;\n",
       "}\n",
       "\n",
       "#sk-container-id-3 div.sk-label-container {\n",
       "  text-align: center;\n",
       "}\n",
       "\n",
       "/* Estimator-specific */\n",
       "#sk-container-id-3 div.sk-estimator {\n",
       "  font-family: monospace;\n",
       "  border: 1px dotted var(--sklearn-color-border-box);\n",
       "  border-radius: 0.25em;\n",
       "  box-sizing: border-box;\n",
       "  margin-bottom: 0.5em;\n",
       "  /* unfitted */\n",
       "  background-color: var(--sklearn-color-unfitted-level-0);\n",
       "}\n",
       "\n",
       "#sk-container-id-3 div.sk-estimator.fitted {\n",
       "  /* fitted */\n",
       "  background-color: var(--sklearn-color-fitted-level-0);\n",
       "}\n",
       "\n",
       "/* on hover */\n",
       "#sk-container-id-3 div.sk-estimator:hover {\n",
       "  /* unfitted */\n",
       "  background-color: var(--sklearn-color-unfitted-level-2);\n",
       "}\n",
       "\n",
       "#sk-container-id-3 div.sk-estimator.fitted:hover {\n",
       "  /* fitted */\n",
       "  background-color: var(--sklearn-color-fitted-level-2);\n",
       "}\n",
       "\n",
       "/* Specification for estimator info (e.g. \"i\" and \"?\") */\n",
       "\n",
       "/* Common style for \"i\" and \"?\" */\n",
       "\n",
       ".sk-estimator-doc-link,\n",
       "a:link.sk-estimator-doc-link,\n",
       "a:visited.sk-estimator-doc-link {\n",
       "  float: right;\n",
       "  font-size: smaller;\n",
       "  line-height: 1em;\n",
       "  font-family: monospace;\n",
       "  background-color: var(--sklearn-color-background);\n",
       "  border-radius: 1em;\n",
       "  height: 1em;\n",
       "  width: 1em;\n",
       "  text-decoration: none !important;\n",
       "  margin-left: 0.5em;\n",
       "  text-align: center;\n",
       "  /* unfitted */\n",
       "  border: var(--sklearn-color-unfitted-level-1) 1pt solid;\n",
       "  color: var(--sklearn-color-unfitted-level-1);\n",
       "}\n",
       "\n",
       ".sk-estimator-doc-link.fitted,\n",
       "a:link.sk-estimator-doc-link.fitted,\n",
       "a:visited.sk-estimator-doc-link.fitted {\n",
       "  /* fitted */\n",
       "  border: var(--sklearn-color-fitted-level-1) 1pt solid;\n",
       "  color: var(--sklearn-color-fitted-level-1);\n",
       "}\n",
       "\n",
       "/* On hover */\n",
       "div.sk-estimator:hover .sk-estimator-doc-link:hover,\n",
       ".sk-estimator-doc-link:hover,\n",
       "div.sk-label-container:hover .sk-estimator-doc-link:hover,\n",
       ".sk-estimator-doc-link:hover {\n",
       "  /* unfitted */\n",
       "  background-color: var(--sklearn-color-unfitted-level-3);\n",
       "  color: var(--sklearn-color-background);\n",
       "  text-decoration: none;\n",
       "}\n",
       "\n",
       "div.sk-estimator.fitted:hover .sk-estimator-doc-link.fitted:hover,\n",
       ".sk-estimator-doc-link.fitted:hover,\n",
       "div.sk-label-container:hover .sk-estimator-doc-link.fitted:hover,\n",
       ".sk-estimator-doc-link.fitted:hover {\n",
       "  /* fitted */\n",
       "  background-color: var(--sklearn-color-fitted-level-3);\n",
       "  color: var(--sklearn-color-background);\n",
       "  text-decoration: none;\n",
       "}\n",
       "\n",
       "/* Span, style for the box shown on hovering the info icon */\n",
       ".sk-estimator-doc-link span {\n",
       "  display: none;\n",
       "  z-index: 9999;\n",
       "  position: relative;\n",
       "  font-weight: normal;\n",
       "  right: .2ex;\n",
       "  padding: .5ex;\n",
       "  margin: .5ex;\n",
       "  width: min-content;\n",
       "  min-width: 20ex;\n",
       "  max-width: 50ex;\n",
       "  color: var(--sklearn-color-text);\n",
       "  box-shadow: 2pt 2pt 4pt #999;\n",
       "  /* unfitted */\n",
       "  background: var(--sklearn-color-unfitted-level-0);\n",
       "  border: .5pt solid var(--sklearn-color-unfitted-level-3);\n",
       "}\n",
       "\n",
       ".sk-estimator-doc-link.fitted span {\n",
       "  /* fitted */\n",
       "  background: var(--sklearn-color-fitted-level-0);\n",
       "  border: var(--sklearn-color-fitted-level-3);\n",
       "}\n",
       "\n",
       ".sk-estimator-doc-link:hover span {\n",
       "  display: block;\n",
       "}\n",
       "\n",
       "/* \"?\"-specific style due to the `<a>` HTML tag */\n",
       "\n",
       "#sk-container-id-3 a.estimator_doc_link {\n",
       "  float: right;\n",
       "  font-size: 1rem;\n",
       "  line-height: 1em;\n",
       "  font-family: monospace;\n",
       "  background-color: var(--sklearn-color-background);\n",
       "  border-radius: 1rem;\n",
       "  height: 1rem;\n",
       "  width: 1rem;\n",
       "  text-decoration: none;\n",
       "  /* unfitted */\n",
       "  color: var(--sklearn-color-unfitted-level-1);\n",
       "  border: var(--sklearn-color-unfitted-level-1) 1pt solid;\n",
       "}\n",
       "\n",
       "#sk-container-id-3 a.estimator_doc_link.fitted {\n",
       "  /* fitted */\n",
       "  border: var(--sklearn-color-fitted-level-1) 1pt solid;\n",
       "  color: var(--sklearn-color-fitted-level-1);\n",
       "}\n",
       "\n",
       "/* On hover */\n",
       "#sk-container-id-3 a.estimator_doc_link:hover {\n",
       "  /* unfitted */\n",
       "  background-color: var(--sklearn-color-unfitted-level-3);\n",
       "  color: var(--sklearn-color-background);\n",
       "  text-decoration: none;\n",
       "}\n",
       "\n",
       "#sk-container-id-3 a.estimator_doc_link.fitted:hover {\n",
       "  /* fitted */\n",
       "  background-color: var(--sklearn-color-fitted-level-3);\n",
       "}\n",
       "\n",
       ".estimator-table summary {\n",
       "    padding: .5rem;\n",
       "    font-family: monospace;\n",
       "    cursor: pointer;\n",
       "}\n",
       "\n",
       ".estimator-table details[open] {\n",
       "    padding-left: 0.1rem;\n",
       "    padding-right: 0.1rem;\n",
       "    padding-bottom: 0.3rem;\n",
       "}\n",
       "\n",
       ".estimator-table .parameters-table {\n",
       "    margin-left: auto !important;\n",
       "    margin-right: auto !important;\n",
       "}\n",
       "\n",
       ".estimator-table .parameters-table tr:nth-child(odd) {\n",
       "    background-color: #fff;\n",
       "}\n",
       "\n",
       ".estimator-table .parameters-table tr:nth-child(even) {\n",
       "    background-color: #f6f6f6;\n",
       "}\n",
       "\n",
       ".estimator-table .parameters-table tr:hover {\n",
       "    background-color: #e0e0e0;\n",
       "}\n",
       "\n",
       ".estimator-table table td {\n",
       "    border: 1px solid rgba(106, 105, 104, 0.232);\n",
       "}\n",
       "\n",
       ".user-set td {\n",
       "    color:rgb(255, 94, 0);\n",
       "    text-align: left;\n",
       "}\n",
       "\n",
       ".user-set td.value pre {\n",
       "    color:rgb(255, 94, 0) !important;\n",
       "    background-color: transparent !important;\n",
       "}\n",
       "\n",
       ".default td {\n",
       "    color: black;\n",
       "    text-align: left;\n",
       "}\n",
       "\n",
       ".user-set td i,\n",
       ".default td i {\n",
       "    color: black;\n",
       "}\n",
       "\n",
       ".copy-paste-icon {\n",
       "    background-image: url(data:image/svg+xml;base64,PHN2ZyB4bWxucz0iaHR0cDovL3d3dy53My5vcmcvMjAwMC9zdmciIHZpZXdCb3g9IjAgMCA0NDggNTEyIj48IS0tIUZvbnQgQXdlc29tZSBGcmVlIDYuNy4yIGJ5IEBmb250YXdlc29tZSAtIGh0dHBzOi8vZm9udGF3ZXNvbWUuY29tIExpY2Vuc2UgLSBodHRwczovL2ZvbnRhd2Vzb21lLmNvbS9saWNlbnNlL2ZyZWUgQ29weXJpZ2h0IDIwMjUgRm9udGljb25zLCBJbmMuLS0+PHBhdGggZD0iTTIwOCAwTDMzMi4xIDBjMTIuNyAwIDI0LjkgNS4xIDMzLjkgMTQuMWw2Ny45IDY3LjljOSA5IDE0LjEgMjEuMiAxNC4xIDMzLjlMNDQ4IDMzNmMwIDI2LjUtMjEuNSA0OC00OCA0OGwtMTkyIDBjLTI2LjUgMC00OC0yMS41LTQ4LTQ4bDAtMjg4YzAtMjYuNSAyMS41LTQ4IDQ4LTQ4ek00OCAxMjhsODAgMCAwIDY0LTY0IDAgMCAyNTYgMTkyIDAgMC0zMiA2NCAwIDAgNDhjMCAyNi41LTIxLjUgNDgtNDggNDhMNDggNTEyYy0yNi41IDAtNDgtMjEuNS00OC00OEwwIDE3NmMwLTI2LjUgMjEuNS00OCA0OC00OHoiLz48L3N2Zz4=);\n",
       "    background-repeat: no-repeat;\n",
       "    background-size: 14px 14px;\n",
       "    background-position: 0;\n",
       "    display: inline-block;\n",
       "    width: 14px;\n",
       "    height: 14px;\n",
       "    cursor: pointer;\n",
       "}\n",
       "</style><body><div id=\"sk-container-id-3\" class=\"sk-top-container\"><div class=\"sk-text-repr-fallback\"><pre>LatentDirichletAllocation(random_state=0)</pre><b>In a Jupyter environment, please rerun this cell to show the HTML representation or trust the notebook. <br />On GitHub, the HTML representation is unable to render, please try loading this page with nbviewer.org.</b></div><div class=\"sk-container\" hidden><div class=\"sk-item\"><div class=\"sk-estimator fitted sk-toggleable\"><input class=\"sk-toggleable__control sk-hidden--visually\" id=\"sk-estimator-id-3\" type=\"checkbox\" checked><label for=\"sk-estimator-id-3\" class=\"sk-toggleable__label fitted sk-toggleable__label-arrow\"><div><div>LatentDirichletAllocation</div></div><div><a class=\"sk-estimator-doc-link fitted\" rel=\"noreferrer\" target=\"_blank\" href=\"https://scikit-learn.org/1.7/modules/generated/sklearn.decomposition.LatentDirichletAllocation.html\">?<span>Documentation for LatentDirichletAllocation</span></a><span class=\"sk-estimator-doc-link fitted\">i<span>Fitted</span></span></div></label><div class=\"sk-toggleable__content fitted\" data-param-prefix=\"\">\n",
       "        <div class=\"estimator-table\">\n",
       "            <details>\n",
       "                <summary>Parameters</summary>\n",
       "                <table class=\"parameters-table\">\n",
       "                  <tbody>\n",
       "                    \n",
       "        <tr class=\"default\">\n",
       "            <td><i class=\"copy-paste-icon\"\n",
       "                 onclick=\"copyToClipboard('n_components',\n",
       "                          this.parentElement.nextElementSibling)\"\n",
       "            ></i></td>\n",
       "            <td class=\"param\">n_components&nbsp;</td>\n",
       "            <td class=\"value\">10</td>\n",
       "        </tr>\n",
       "    \n",
       "\n",
       "        <tr class=\"default\">\n",
       "            <td><i class=\"copy-paste-icon\"\n",
       "                 onclick=\"copyToClipboard('doc_topic_prior',\n",
       "                          this.parentElement.nextElementSibling)\"\n",
       "            ></i></td>\n",
       "            <td class=\"param\">doc_topic_prior&nbsp;</td>\n",
       "            <td class=\"value\">None</td>\n",
       "        </tr>\n",
       "    \n",
       "\n",
       "        <tr class=\"default\">\n",
       "            <td><i class=\"copy-paste-icon\"\n",
       "                 onclick=\"copyToClipboard('topic_word_prior',\n",
       "                          this.parentElement.nextElementSibling)\"\n",
       "            ></i></td>\n",
       "            <td class=\"param\">topic_word_prior&nbsp;</td>\n",
       "            <td class=\"value\">None</td>\n",
       "        </tr>\n",
       "    \n",
       "\n",
       "        <tr class=\"default\">\n",
       "            <td><i class=\"copy-paste-icon\"\n",
       "                 onclick=\"copyToClipboard('learning_method',\n",
       "                          this.parentElement.nextElementSibling)\"\n",
       "            ></i></td>\n",
       "            <td class=\"param\">learning_method&nbsp;</td>\n",
       "            <td class=\"value\">&#x27;batch&#x27;</td>\n",
       "        </tr>\n",
       "    \n",
       "\n",
       "        <tr class=\"default\">\n",
       "            <td><i class=\"copy-paste-icon\"\n",
       "                 onclick=\"copyToClipboard('learning_decay',\n",
       "                          this.parentElement.nextElementSibling)\"\n",
       "            ></i></td>\n",
       "            <td class=\"param\">learning_decay&nbsp;</td>\n",
       "            <td class=\"value\">0.7</td>\n",
       "        </tr>\n",
       "    \n",
       "\n",
       "        <tr class=\"default\">\n",
       "            <td><i class=\"copy-paste-icon\"\n",
       "                 onclick=\"copyToClipboard('learning_offset',\n",
       "                          this.parentElement.nextElementSibling)\"\n",
       "            ></i></td>\n",
       "            <td class=\"param\">learning_offset&nbsp;</td>\n",
       "            <td class=\"value\">10.0</td>\n",
       "        </tr>\n",
       "    \n",
       "\n",
       "        <tr class=\"default\">\n",
       "            <td><i class=\"copy-paste-icon\"\n",
       "                 onclick=\"copyToClipboard('max_iter',\n",
       "                          this.parentElement.nextElementSibling)\"\n",
       "            ></i></td>\n",
       "            <td class=\"param\">max_iter&nbsp;</td>\n",
       "            <td class=\"value\">10</td>\n",
       "        </tr>\n",
       "    \n",
       "\n",
       "        <tr class=\"default\">\n",
       "            <td><i class=\"copy-paste-icon\"\n",
       "                 onclick=\"copyToClipboard('batch_size',\n",
       "                          this.parentElement.nextElementSibling)\"\n",
       "            ></i></td>\n",
       "            <td class=\"param\">batch_size&nbsp;</td>\n",
       "            <td class=\"value\">128</td>\n",
       "        </tr>\n",
       "    \n",
       "\n",
       "        <tr class=\"default\">\n",
       "            <td><i class=\"copy-paste-icon\"\n",
       "                 onclick=\"copyToClipboard('evaluate_every',\n",
       "                          this.parentElement.nextElementSibling)\"\n",
       "            ></i></td>\n",
       "            <td class=\"param\">evaluate_every&nbsp;</td>\n",
       "            <td class=\"value\">-1</td>\n",
       "        </tr>\n",
       "    \n",
       "\n",
       "        <tr class=\"default\">\n",
       "            <td><i class=\"copy-paste-icon\"\n",
       "                 onclick=\"copyToClipboard('total_samples',\n",
       "                          this.parentElement.nextElementSibling)\"\n",
       "            ></i></td>\n",
       "            <td class=\"param\">total_samples&nbsp;</td>\n",
       "            <td class=\"value\">1000000.0</td>\n",
       "        </tr>\n",
       "    \n",
       "\n",
       "        <tr class=\"default\">\n",
       "            <td><i class=\"copy-paste-icon\"\n",
       "                 onclick=\"copyToClipboard('perp_tol',\n",
       "                          this.parentElement.nextElementSibling)\"\n",
       "            ></i></td>\n",
       "            <td class=\"param\">perp_tol&nbsp;</td>\n",
       "            <td class=\"value\">0.1</td>\n",
       "        </tr>\n",
       "    \n",
       "\n",
       "        <tr class=\"default\">\n",
       "            <td><i class=\"copy-paste-icon\"\n",
       "                 onclick=\"copyToClipboard('mean_change_tol',\n",
       "                          this.parentElement.nextElementSibling)\"\n",
       "            ></i></td>\n",
       "            <td class=\"param\">mean_change_tol&nbsp;</td>\n",
       "            <td class=\"value\">0.001</td>\n",
       "        </tr>\n",
       "    \n",
       "\n",
       "        <tr class=\"default\">\n",
       "            <td><i class=\"copy-paste-icon\"\n",
       "                 onclick=\"copyToClipboard('max_doc_update_iter',\n",
       "                          this.parentElement.nextElementSibling)\"\n",
       "            ></i></td>\n",
       "            <td class=\"param\">max_doc_update_iter&nbsp;</td>\n",
       "            <td class=\"value\">100</td>\n",
       "        </tr>\n",
       "    \n",
       "\n",
       "        <tr class=\"default\">\n",
       "            <td><i class=\"copy-paste-icon\"\n",
       "                 onclick=\"copyToClipboard('n_jobs',\n",
       "                          this.parentElement.nextElementSibling)\"\n",
       "            ></i></td>\n",
       "            <td class=\"param\">n_jobs&nbsp;</td>\n",
       "            <td class=\"value\">None</td>\n",
       "        </tr>\n",
       "    \n",
       "\n",
       "        <tr class=\"default\">\n",
       "            <td><i class=\"copy-paste-icon\"\n",
       "                 onclick=\"copyToClipboard('verbose',\n",
       "                          this.parentElement.nextElementSibling)\"\n",
       "            ></i></td>\n",
       "            <td class=\"param\">verbose&nbsp;</td>\n",
       "            <td class=\"value\">0</td>\n",
       "        </tr>\n",
       "    \n",
       "\n",
       "        <tr class=\"user-set\">\n",
       "            <td><i class=\"copy-paste-icon\"\n",
       "                 onclick=\"copyToClipboard('random_state',\n",
       "                          this.parentElement.nextElementSibling)\"\n",
       "            ></i></td>\n",
       "            <td class=\"param\">random_state&nbsp;</td>\n",
       "            <td class=\"value\">0</td>\n",
       "        </tr>\n",
       "    \n",
       "                  </tbody>\n",
       "                </table>\n",
       "            </details>\n",
       "        </div>\n",
       "    </div></div></div></div></div><script>function copyToClipboard(text, element) {\n",
       "    // Get the parameter prefix from the closest toggleable content\n",
       "    const toggleableContent = element.closest('.sk-toggleable__content');\n",
       "    const paramPrefix = toggleableContent ? toggleableContent.dataset.paramPrefix : '';\n",
       "    const fullParamName = paramPrefix ? `${paramPrefix}${text}` : text;\n",
       "\n",
       "    const originalStyle = element.style;\n",
       "    const computedStyle = window.getComputedStyle(element);\n",
       "    const originalWidth = computedStyle.width;\n",
       "    const originalHTML = element.innerHTML.replace('Copied!', '');\n",
       "\n",
       "    navigator.clipboard.writeText(fullParamName)\n",
       "        .then(() => {\n",
       "            element.style.width = originalWidth;\n",
       "            element.style.color = 'green';\n",
       "            element.innerHTML = \"Copied!\";\n",
       "\n",
       "            setTimeout(() => {\n",
       "                element.innerHTML = originalHTML;\n",
       "                element.style = originalStyle;\n",
       "            }, 2000);\n",
       "        })\n",
       "        .catch(err => {\n",
       "            console.error('Failed to copy:', err);\n",
       "            element.style.color = 'red';\n",
       "            element.innerHTML = \"Failed!\";\n",
       "            setTimeout(() => {\n",
       "                element.innerHTML = originalHTML;\n",
       "                element.style = originalStyle;\n",
       "            }, 2000);\n",
       "        });\n",
       "    return false;\n",
       "}\n",
       "\n",
       "document.querySelectorAll('.fa-regular.fa-copy').forEach(function(element) {\n",
       "    const toggleableContent = element.closest('.sk-toggleable__content');\n",
       "    const paramPrefix = toggleableContent ? toggleableContent.dataset.paramPrefix : '';\n",
       "    const paramName = element.parentElement.nextElementSibling.textContent.trim();\n",
       "    const fullParamName = paramPrefix ? `${paramPrefix}${paramName}` : paramName;\n",
       "\n",
       "    element.setAttribute('title', fullParamName);\n",
       "});\n",
       "</script></body>"
      ],
      "text/plain": [
       "LatentDirichletAllocation(random_state=0)"
      ]
     },
     "execution_count": 51,
     "metadata": {},
     "output_type": "execute_result"
    }
   ],
   "source": [
    "# for TFIDF DTM\n",
    "lda_tfidf = LatentDirichletAllocation(n_components=10, random_state=0)\n",
    "lda_tfidf.fit(dtm_tfidf)"
   ]
  },
  {
   "cell_type": "code",
   "execution_count": 58,
   "id": "5b97e889",
   "metadata": {},
   "outputs": [
    {
     "name": "stdout",
     "output_type": "stream",
     "text": [
      "Tópico #0:\n",
      "política, años, covid, tiempos, salud, arte, seguridad, agua, palabras, lecciones\n",
      "\n",
      "Tópico #1:\n",
      "paz, trump, historia, uribe, bogotá, voto, prima, mujeres, social, impuestos\n",
      "\n",
      "Tópico #2:\n",
      "petro, centro, economía, reforma, violencia, farc, niños, amor, semana, polarización\n",
      "\n",
      "Tópico #3:\n",
      "año, justicia, educación, miedo, futuro, odio, problema, cultura, china, señor\n",
      "\n",
      "Tópico #4:\n",
      "país, corrupción, defensa, memoria, muerte, claudia, congreso, electoral, preguntas, consulta\n",
      "\n",
      "Tópico #5:\n",
      "gobierno, crisis, tiempo, populismo, fútbol, votar, fajardo, libertad, palabra, vargas\n",
      "\n",
      "Tópico #6:\n",
      "guerra, presidente, mundo, pandemia, hora, derechos, mundial, paro, maduro, realidad\n",
      "\n",
      "Tópico #7:\n",
      "gazapera, fiscal, virus, gracias, desarrollo, plan, derecha, cuidado, allá, cuarentena\n",
      "\n",
      "Tópico #8:\n",
      "duque, colombia, vida, democracia, santos, iván, ley, pacto, presidente, sociales\n",
      "\n",
      "Tópico #9:\n",
      "venezuela, elecciones, coronavirus, tola, maruja, derecho, jep, esperanza, tierra, ojo\n",
      "\n"
     ]
    }
   ],
   "source": [
    "mostrar_topicos(lda_tfidf, tfidf_vectorizer)"
   ]
  },
  {
   "cell_type": "code",
   "execution_count": 63,
   "id": "13965d19",
   "metadata": {},
   "outputs": [
    {
     "name": "stdout",
     "output_type": "stream",
     "text": [
      "Tópico #0:\n",
      "paz, bogotá, año, economía, corrupción, fiscal, tiempos, uribe, virus, trump\n",
      "\n",
      "Tópico #1:\n",
      "gazapera, duque, guerra, años, petro, elecciones, justicia, memoria, política, futuro\n",
      "\n",
      "Tópico #2:\n",
      "democracia, tiempo, crisis, muerte, agua, jep, odio, coronavirus, semana, derechos\n",
      "\n",
      "Tópico #3:\n",
      "presidente, venezuela, gobierno, mundo, duque, covid, defensa, hora, iván, violencia\n",
      "\n",
      "Tópico #4:\n",
      "país, colombia, historia, vida, pandemia, miedo, mujeres, derecho, centro, claudia\n",
      "\n"
     ]
    }
   ],
   "source": [
    "# Vectorización incluyendo bigrams\n",
    "vectorizer_bigrams = TfidfVectorizer(ngram_range=(1, 5), max_df=0.90, min_df=2)\n",
    "X_bigrams = vectorizer_bigrams.fit_transform(titulos_procesados)\n",
    "\n",
    "# LDA con bigrams\n",
    "lda_bigrams = LatentDirichletAllocation(n_components=5, random_state=42)\n",
    "lda_bigrams.fit(X_bigrams)\n",
    "\n",
    "mostrar_topicos(lda_bigrams, vectorizer_bigrams)"
   ]
  },
  {
   "cell_type": "code",
   "execution_count": 20,
   "id": "4c352c2a",
   "metadata": {},
   "outputs": [],
   "source": [
    "#Visualize and analyze reuslts\n",
    "import pyLDAvis\n",
    "import pyLDAvis.lda_model\n",
    "pyLDAvis.enable_notebook() # For displaying in Jupyter notebooks\n",
    "\n"
   ]
  },
  {
   "cell_type": "code",
   "execution_count": 64,
   "id": "268b30c0",
   "metadata": {},
   "outputs": [
    {
     "data": {
      "text/html": [
       "\n",
       "<link rel=\"stylesheet\" type=\"text/css\" href=\"https://cdn.jsdelivr.net/gh/bmabey/pyLDAvis@3.4.0/pyLDAvis/js/ldavis.v1.0.0.css\">\n",
       "\n",
       "\n",
       "<div id=\"ldavis_el1311621806378190887735998333\" style=\"background-color:white;\"></div>\n",
       "<script type=\"text/javascript\">\n",
       "\n",
       "var ldavis_el1311621806378190887735998333_data = {\"mdsDat\": {\"x\": [0.13396645371298432, -0.1925874326052765, -0.06033825319328625, 0.11082153685592065, 0.008137695229657906], \"y\": [-0.1434449152731964, -0.122437305149366, 0.13573247667113036, 0.026953237234979013, 0.10319650651645317], \"topics\": [1, 2, 3, 4, 5], \"cluster\": [1, 1, 1, 1, 1], \"Freq\": [20.570638124521633, 20.01799930624705, 19.947385739394967, 19.763418351605903, 19.700558478230437]}, \"tinfo\": {\"Term\": [\"gazapera\", \"presidente\", \"duque\", \"pa\\u00eds\", \"guerra\", \"a\\u00f1os\", \"bogot\\u00e1\", \"a\\u00f1o\", \"petro\", \"gobierno\", \"venezuela\", \"elecciones\", \"historia\", \"justicia\", \"paz\", \"econom\\u00eda\", \"corrupci\\u00f3n\", \"mundo\", \"vida\", \"miedo\", \"mujeres\", \"tiempo\", \"memoria\", \"pandemia\", \"tiempos\", \"derecho\", \"muerte\", \"claudia\", \"futuro\", \"covid\", \"gazapera\", \"guerra\", \"a\\u00f1os\", \"justicia\", \"elecciones\", \"memoria\", \"futuro\", \"polarizaci\\u00f3n\", \"muertos\", \"realidad\", \"corte\", \"candidatos\", \"estrategia\", \"v\\u00edctimas\", \"coca\", \"moral\", \"oro\", \"universidad\", \"ministro\", \"peligro\", \"fuego\", \"sangre\", \"enemigo\", \"unidos\", \"m\\u00fasica\", \"viene\", \"paga\", \"mentiras\", \"medim\\u00e1s\", \"frente\", \"arte\", \"consulta\", \"favor\", \"petro\", \"duque\", \"voto\", \"santos\", \"cuarentena\", \"pacto\", \"nacional\", \"pol\\u00edtica\", \"fajardo\", \"cuidado\", \"colombia\", \"educaci\\u00f3n\", \"paz\", \"pa\\u00eds\", \"miedo\", \"mujeres\", \"derecho\", \"claudia\", \"ni\\u00f1os\", \"populismo\", \"problema\", \"vuelta\", \"revoluci\\u00f3n\", \"mujer\", \"derecha\", \"navidad\", \"encuestas\", \"\\u00e1lvaro\", \"izquierda\", \"crecimiento\", \"legado\", \"plata\", \"culpa\", \"presidencial\", \"fundamental\", \"mar\\u00eda\", \"campo\", \"l\\u00f3pez\", \"libro\", \"enemigos\", \"armas\", \"columna\", \"capitalismo\", \"historia\", \"colombiano\", \"pandemia\", \"vida\", \"prima\", \"centro\", \"ley\", \"colombia\", \"impuestos\", \"santrich\", \"congreso\", \"petro\", \"bogot\\u00e1\", \"a\\u00f1o\", \"corrupci\\u00f3n\", \"tiempos\", \"virus\", \"palabras\", \"tierra\", \"votar\", \"maduro\", \"dios\", \"naranja\", \"volver\", \"aborto\", \"morir\", \"glifosato\", \"electoral\", \"lecci\\u00f3n\", \"cosas\", \"siglo\", \"diplomacia\", \"solidaridad\", \"fuerza\", \"sue\\u00f1o\", \"encrucijada\", \"hablemos\", \"dictadura\", \"fantasma\", \"ganar\", \"argentina\", \"mercado\", \"econom\\u00eda\", \"casa\", \"carta\", \"paz\", \"fiscal\", \"uribe\", \"trump\", \"esperanza\", \"colombia\", \"vida\", \"pol\\u00edtica\", \"presidente\", \"hora\", \"iv\\u00e1n\", \"ciencia\", \"gobierno\", \"china\", \"l\\u00edderes\", \"sociales\", \"iv\\u00e1n duque\", \"preguntas\", \"redes\", \"presidente duque\", \"minga\", \"empleo\", \"econ\\u00f3mica\", \"uribismo\", \"pueblo\", \"estudiantes\", \"objeciones\", \"ciudad\", \"venezuela\", \"verde\", \"vacuna\", \"nombre\", \"brasil\", \"malo\", \"cadena\", \"r\\u00edo\", \"reactivaci\\u00f3n\", \"marcha\", \"violencia\", \"mundo\", \"defensa\", \"covid\", \"juego\", \"oportunidad\", \"duque\", \"colombianos\", \"educaci\\u00f3n\", \"cambio\", \"colombia\", \"libros\", \"tiempo\", \"agua\", \"odio\", \"muerte\", \"semana\", \"derechos\", \"protesta\", \"cultura\", \"ojo\", \"gente\", \"oposici\\u00f3n\", \"silencio\", \"blanco\", \"soledad\", \"polic\\u00eda\", \"terror\", \"periodismo\", \"independencia\", \"hidroituango\", \"orden\", \"conflicto\", \"medell\\u00edn\", \"proyecto\", \"hombre\", \"ayer\", \"rep\\u00fablica\", \"ideas\", \"valor\", \"medios\", \"problemas\", \"f\\u00fatbol\", \"pol\\u00edticos\", \"jep\", \"crisis\", \"democracia\", \"gracias\", \"farc\", \"coronavirus\", \"amor\", \"tola\", \"maruja\", \"paz\", \"tola maruja\", \"pol\\u00edtica\"], \"Freq\": [68.0, 52.0, 84.0, 49.0, 43.0, 39.0, 36.0, 35.0, 51.0, 34.0, 35.0, 32.0, 39.0, 31.0, 70.0, 36.0, 26.0, 35.0, 39.0, 26.0, 25.0, 24.0, 24.0, 35.0, 22.0, 22.0, 22.0, 21.0, 21.0, 28.0, 67.84257380668483, 42.51238092131844, 38.64611337054291, 30.854801280536947, 32.28641507801569, 24.20536509103389, 20.834387130932296, 14.593827044660685, 13.921858813251594, 13.070316881225923, 13.018021697593896, 11.74826872289264, 11.20325446558485, 10.637229217716738, 10.614706872533569, 10.003399735649054, 9.651792349824953, 9.469237657269604, 9.319627030726187, 8.890753155270042, 8.840578435184705, 8.811769684702412, 8.69289085873206, 8.65599820500654, 8.268093919057712, 8.112849082081233, 8.035088036924993, 8.012413405405487, 7.747155958256467, 7.697687531837101, 19.3393838197206, 8.78916323148057, 10.604105289874695, 38.41149264481679, 55.247743051931835, 20.68890654664166, 17.937406468429096, 12.597925137971572, 13.68642592420041, 16.05660225766759, 23.889480787346024, 11.239854949736708, 10.716601591925553, 12.62715940413468, 10.23317658808029, 10.22918861271359, 49.22781825181467, 25.589172998775553, 24.45096687019247, 22.023110973768265, 20.494362717736237, 19.449276599305488, 19.04228671466942, 17.32842604302877, 15.035810857925338, 14.765781242822088, 13.917625335669646, 13.65075830162829, 12.701587005184702, 12.692069370043683, 11.778257782731687, 10.736242988146907, 10.046468420446523, 9.98254378841682, 9.63052440356631, 9.555340872076023, 9.537071289433213, 8.974814670725715, 8.894643732920557, 8.719755552226479, 8.175717645843179, 8.158860845190203, 7.435158379813504, 7.416298175737583, 7.332501601183608, 7.2850883403080875, 34.669955153346294, 12.545918921070442, 26.59521328771576, 29.401096306255923, 18.378974164315828, 21.761488835453004, 17.062512854229745, 37.50999684563786, 12.372821545512792, 10.394919167451823, 10.202236692489581, 12.226822977763744, 35.50457329749339, 35.259310778258154, 25.821361282169864, 22.156951763659432, 19.680567264436405, 16.829693436434802, 15.861720783919834, 15.597379016734662, 12.85819002769417, 12.714106014446445, 12.070605768715009, 11.234844977158906, 11.074317993312746, 10.522950662871068, 10.510245880964646, 10.212520006037945, 9.330750843432293, 8.70508489812696, 8.673682644233862, 8.319608213355941, 8.218760888029845, 7.756051071936115, 7.618239975294628, 7.4885379469241276, 7.423239430354275, 7.419892289537146, 7.1554507534085445, 6.909286328386144, 6.856529743226263, 6.697437382885844, 29.868058146578313, 15.413811725240132, 15.892915854571841, 45.361052598533256, 22.571413061599284, 20.78775470546053, 18.006093758311454, 11.187091735062815, 14.535424218402072, 9.805362388718976, 8.42009837350442, 51.35800826919255, 19.47060974451845, 18.683647971626698, 15.863296630418265, 32.73561230272273, 13.861261965315444, 11.305233723322212, 11.197762031294387, 12.576434974320895, 10.7834640202418, 10.306721915032131, 10.169790971653587, 10.121417183704587, 10.094563468360336, 9.846644432706155, 9.244564412226058, 9.053090395963274, 8.998650010827026, 8.985595197479066, 8.93207577938586, 33.54463385292802, 8.61081655418412, 8.497499946237797, 8.656830457148223, 7.956125790731343, 7.944553813593007, 7.780013236843555, 7.644955674810523, 7.534718249216521, 7.470967895861772, 17.661848698691756, 29.431921450768336, 19.721728045762195, 22.72452124089694, 9.558731789960222, 11.814007789405302, 28.323741201884154, 9.60667401969767, 14.559543724297287, 10.401234569871795, 13.514687699550041, 9.22805584529177, 23.84926665936354, 17.808913412936974, 17.421971903571666, 21.386035642115747, 14.75022226110986, 14.740247545052295, 14.026611039181054, 13.65738246253842, 13.654171962584073, 13.158936160224691, 11.362978906881159, 11.242719269247349, 10.675724443460629, 10.414562681682616, 9.90199180096631, 9.342422812631781, 9.763568122360741, 9.057177451457264, 8.824867729682644, 8.598176281888376, 8.495927982854262, 8.222110113866604, 7.922484747782652, 7.824750635563245, 7.478223036326556, 7.463160285385642, 8.213572266459629, 7.262347857982744, 7.246454254607642, 7.1241539434506596, 14.005031332035756, 11.005156015187294, 17.66030136858259, 21.701988750555056, 27.341670631006373, 14.101620235072602, 13.326039027589031, 16.745003021160112, 12.219021168095516, 10.684830336680534, 10.41149636369573, 12.63875024130103, 10.07057379737493, 11.114038796565387], \"Total\": [68.0, 52.0, 84.0, 49.0, 43.0, 39.0, 36.0, 35.0, 51.0, 34.0, 35.0, 32.0, 39.0, 31.0, 70.0, 36.0, 26.0, 35.0, 39.0, 26.0, 25.0, 24.0, 24.0, 35.0, 22.0, 22.0, 22.0, 21.0, 21.0, 28.0, 68.45699044836421, 43.13152131885975, 39.26594474373006, 31.502077372938686, 32.97040133472924, 24.821708659125854, 21.452687565655655, 15.210850894081105, 14.537412869932565, 13.68841623483337, 13.636282698569257, 12.36716902360686, 11.842404840524638, 11.253821986336149, 11.23192384929344, 10.621563319287624, 10.26738908947173, 10.086466009617231, 9.936241219126618, 9.506942545154835, 9.457019289201561, 9.428667160254669, 9.30899175913581, 9.274307106508687, 8.885915240350005, 8.730223729238187, 8.650887087031945, 8.629411441450925, 8.363290166525, 8.316376604140554, 21.565483935182478, 9.548599629800504, 11.729616988122437, 51.16678347328459, 84.03691519319874, 27.252324806230686, 23.91500927331579, 16.174897579311576, 18.48390936338581, 26.457753561227946, 58.507885035460035, 15.147036069259103, 14.777464048264607, 84.93564294085333, 29.437194172764567, 70.7318535953237, 49.846046748487716, 26.20604145858641, 25.068165011695342, 22.63910031979991, 21.10980705780964, 20.065672884945702, 19.658531050619, 17.944940719461297, 15.650712514688104, 15.418748162755179, 14.533700807491659, 14.267268600478987, 13.31719887902116, 13.30782387500963, 12.392519405088999, 11.352717330700084, 10.662639108482837, 10.598720327251616, 10.246995583802354, 10.17192609746518, 10.152502496165479, 9.589537565136842, 9.511248735571805, 9.33574887852884, 8.791848682403993, 8.776713260094335, 8.050331373273684, 8.033044001010179, 7.95199137430746, 7.901324958816966, 39.2989967526272, 13.917985741497443, 35.011873518506164, 39.670026179766154, 23.559099192639497, 29.052297627591923, 23.18490056431596, 84.93564294085333, 17.16625156441961, 13.394282414339388, 14.50236997080222, 51.16678347328459, 36.12272763315242, 35.877150948944376, 26.440143505195632, 22.8183729266384, 20.296180000497802, 17.443859175220993, 16.477806195516326, 16.213909384726772, 13.475643574981731, 13.329630972512057, 12.685062290251578, 11.849259174897515, 11.69294688410908, 11.138255116952887, 11.127711299211166, 10.833775988006954, 9.944867676566371, 9.322621986411699, 9.289749213375142, 8.934987382800585, 8.83795202050319, 8.37114611528884, 8.235587561343527, 8.104467398815927, 8.03797781020645, 8.035037515623427, 7.76973761572475, 7.523922668149148, 7.472406767823608, 7.312983464365947, 36.82951782292131, 18.152228534039, 19.31953794809272, 70.7318535953237, 31.6368570688497, 45.35167002127331, 38.89693733027434, 17.679718208946795, 84.93564294085333, 39.670026179766154, 58.507885035460035, 52.01857699862023, 20.086239794854283, 19.40698274094967, 16.48022144197817, 34.180695552646704, 14.47977451731908, 11.918727285604179, 11.811254962569958, 13.285975513872584, 11.39928352769252, 10.9219728355878, 10.785137169563615, 10.734739160281888, 10.710479171253835, 10.460921889891383, 9.860058742780128, 9.66922120922333, 9.612444339068912, 9.600170143498305, 9.5465996113218, 35.900191766845715, 9.227403854097522, 9.113154322406789, 9.293750415422476, 8.572496154531782, 8.56133854402121, 8.393623185162523, 8.259210267970875, 8.149594865342152, 8.083738008922309, 20.130884067801883, 35.98717067605683, 23.424093532353073, 28.027554925745648, 10.692363198357063, 14.844710845428912, 84.03691519319874, 11.42873738866647, 29.437194172764567, 17.75390664967836, 84.93564294085333, 12.869619489118167, 24.463570799721964, 18.425234971395103, 18.036625328974612, 22.147279674838785, 15.367599393346023, 15.357426746169478, 14.641223034636313, 14.272954462776914, 14.269723060952778, 13.77468637643602, 11.981973274727048, 11.85852838912169, 11.29088423299855, 11.029777646072295, 10.5179203225986, 9.956729675398412, 10.424262849957538, 9.672309204067659, 9.438891873132254, 9.21365999992323, 9.111868366865899, 8.839205250559205, 8.540189706294324, 8.438430521000184, 8.092624374192853, 8.078174564184547, 8.89221599378387, 7.876655120192972, 7.86176272458227, 7.738811637650052, 16.023446099857992, 12.623388060271058, 22.719179891275722, 30.20444085052178, 42.660796621828936, 18.298821864717432, 18.33467764270911, 29.88098500558275, 18.200587154797695, 23.456505656241255, 23.22439951900514, 70.7318535953237, 22.931043918564452, 58.507885035460035], \"Category\": [\"Default\", \"Default\", \"Default\", \"Default\", \"Default\", \"Default\", \"Default\", \"Default\", \"Default\", \"Default\", \"Default\", \"Default\", \"Default\", \"Default\", \"Default\", \"Default\", \"Default\", \"Default\", \"Default\", \"Default\", \"Default\", \"Default\", \"Default\", \"Default\", \"Default\", \"Default\", \"Default\", \"Default\", \"Default\", \"Default\", \"Topic1\", \"Topic1\", \"Topic1\", \"Topic1\", \"Topic1\", \"Topic1\", \"Topic1\", \"Topic1\", \"Topic1\", \"Topic1\", \"Topic1\", \"Topic1\", \"Topic1\", \"Topic1\", \"Topic1\", \"Topic1\", \"Topic1\", \"Topic1\", \"Topic1\", \"Topic1\", \"Topic1\", \"Topic1\", \"Topic1\", \"Topic1\", \"Topic1\", \"Topic1\", \"Topic1\", \"Topic1\", \"Topic1\", \"Topic1\", \"Topic1\", \"Topic1\", \"Topic1\", \"Topic1\", \"Topic1\", \"Topic1\", \"Topic1\", \"Topic1\", \"Topic1\", \"Topic1\", \"Topic1\", \"Topic1\", \"Topic1\", \"Topic1\", \"Topic1\", \"Topic1\", \"Topic2\", \"Topic2\", \"Topic2\", \"Topic2\", \"Topic2\", \"Topic2\", \"Topic2\", \"Topic2\", \"Topic2\", \"Topic2\", \"Topic2\", \"Topic2\", \"Topic2\", \"Topic2\", \"Topic2\", \"Topic2\", \"Topic2\", \"Topic2\", \"Topic2\", \"Topic2\", \"Topic2\", \"Topic2\", \"Topic2\", \"Topic2\", \"Topic2\", \"Topic2\", \"Topic2\", \"Topic2\", \"Topic2\", \"Topic2\", \"Topic2\", \"Topic2\", \"Topic2\", \"Topic2\", \"Topic2\", \"Topic2\", \"Topic2\", \"Topic2\", \"Topic2\", \"Topic2\", \"Topic2\", \"Topic2\", \"Topic3\", \"Topic3\", \"Topic3\", \"Topic3\", \"Topic3\", \"Topic3\", \"Topic3\", \"Topic3\", \"Topic3\", \"Topic3\", \"Topic3\", \"Topic3\", \"Topic3\", \"Topic3\", \"Topic3\", \"Topic3\", \"Topic3\", \"Topic3\", \"Topic3\", \"Topic3\", \"Topic3\", \"Topic3\", \"Topic3\", \"Topic3\", \"Topic3\", \"Topic3\", \"Topic3\", \"Topic3\", \"Topic3\", \"Topic3\", \"Topic3\", \"Topic3\", \"Topic3\", \"Topic3\", \"Topic3\", \"Topic3\", \"Topic3\", \"Topic3\", \"Topic3\", \"Topic3\", \"Topic3\", \"Topic4\", \"Topic4\", \"Topic4\", \"Topic4\", \"Topic4\", \"Topic4\", \"Topic4\", \"Topic4\", \"Topic4\", \"Topic4\", \"Topic4\", \"Topic4\", \"Topic4\", \"Topic4\", \"Topic4\", \"Topic4\", \"Topic4\", \"Topic4\", \"Topic4\", \"Topic4\", \"Topic4\", \"Topic4\", \"Topic4\", \"Topic4\", \"Topic4\", \"Topic4\", \"Topic4\", \"Topic4\", \"Topic4\", \"Topic4\", \"Topic4\", \"Topic4\", \"Topic4\", \"Topic4\", \"Topic4\", \"Topic4\", \"Topic4\", \"Topic4\", \"Topic4\", \"Topic4\", \"Topic4\", \"Topic4\", \"Topic5\", \"Topic5\", \"Topic5\", \"Topic5\", \"Topic5\", \"Topic5\", \"Topic5\", \"Topic5\", \"Topic5\", \"Topic5\", \"Topic5\", \"Topic5\", \"Topic5\", \"Topic5\", \"Topic5\", \"Topic5\", \"Topic5\", \"Topic5\", \"Topic5\", \"Topic5\", \"Topic5\", \"Topic5\", \"Topic5\", \"Topic5\", \"Topic5\", \"Topic5\", \"Topic5\", \"Topic5\", \"Topic5\", \"Topic5\", \"Topic5\", \"Topic5\", \"Topic5\", \"Topic5\", \"Topic5\", \"Topic5\", \"Topic5\", \"Topic5\", \"Topic5\", \"Topic5\", \"Topic5\", \"Topic5\", \"Topic5\", \"Topic5\"], \"logprob\": [30.0, 29.0, 28.0, 27.0, 26.0, 25.0, 24.0, 23.0, 22.0, 21.0, 20.0, 19.0, 18.0, 17.0, 16.0, 15.0, 14.0, 13.0, 12.0, 11.0, 10.0, 9.0, 8.0, 7.0, 6.0, 5.0, 4.0, 3.0, 2.0, 1.0, -3.9696, -4.437, -4.5324, -4.7575, -4.7122, -5.0003, -5.1502, -5.5062, -5.5534, -5.6165, -5.6205, -5.7231, -5.7706, -5.8225, -5.8246, -5.8839, -5.9197, -5.9388, -5.9547, -6.0018, -6.0075, -6.0107, -6.0243, -6.0286, -6.0744, -6.0934, -6.103, -6.1058, -6.1395, -6.1459, -5.2247, -6.0133, -5.8256, -4.5385, -4.175, -5.1572, -5.2999, -5.6533, -5.5704, -5.4107, -5.0134, -5.7674, -5.815, -5.651, -5.8612, -5.8616, -4.2631, -4.9174, -4.9629, -5.0675, -5.1395, -5.1918, -5.2129, -5.3073, -5.4492, -5.4673, -5.5264, -5.5458, -5.6179, -5.6186, -5.6933, -5.786, -5.8524, -5.8588, -5.8947, -5.9025, -5.9044, -5.9652, -5.9742, -5.994, -6.0584, -6.0605, -6.1534, -6.1559, -6.1673, -6.1738, -4.6137, -5.6302, -4.8789, -4.7786, -5.2484, -5.0795, -5.3227, -4.535, -5.6441, -5.8183, -5.837, -5.656, -4.5864, -4.5933, -4.9049, -5.0579, -5.1764, -5.3329, -5.3922, -5.409, -5.6021, -5.6134, -5.6653, -5.737, -5.7514, -5.8025, -5.8037, -5.8325, -5.9228, -5.9922, -5.9958, -6.0375, -6.0496, -6.1076, -6.1255, -6.1427, -6.1515, -6.1519, -6.1882, -6.2232, -6.2309, -6.2543, -4.7593, -5.4208, -5.3902, -4.3414, -5.0394, -5.1217, -5.2654, -5.7413, -5.4795, -5.8731, -6.0254, -4.208, -5.1779, -5.2192, -5.3828, -4.6583, -5.5177, -5.7215, -5.7311, -5.615, -5.7688, -5.814, -5.8274, -5.8321, -5.8348, -5.8597, -5.9228, -5.9437, -5.9497, -5.9512, -5.9572, -4.6339, -5.9938, -6.007, -5.9885, -6.0729, -6.0743, -6.0952, -6.1128, -6.1273, -6.1358, -5.2754, -4.7647, -5.1651, -5.0234, -5.8893, -5.6775, -4.8031, -5.8843, -5.4686, -5.8049, -5.543, -5.9246, -4.9719, -5.2639, -5.2859, -5.0809, -5.4524, -5.453, -5.5027, -5.5293, -5.5296, -5.5665, -5.7133, -5.7239, -5.7756, -5.8004, -5.8509, -5.909, -5.865, -5.9401, -5.966, -5.9921, -6.004, -6.0368, -6.0739, -6.0863, -6.1316, -6.1336, -6.0378, -6.1609, -6.1631, -6.1801, -5.5042, -5.7453, -5.2723, -5.0662, -4.8352, -5.4973, -5.5539, -5.3255, -5.6406, -5.7748, -5.8007, -5.6068, -5.834, -5.7354], \"loglift\": [30.0, 29.0, 28.0, 27.0, 26.0, 25.0, 24.0, 23.0, 22.0, 21.0, 20.0, 19.0, 18.0, 17.0, 16.0, 15.0, 14.0, 13.0, 12.0, 11.0, 10.0, 9.0, 8.0, 7.0, 6.0, 5.0, 4.0, 3.0, 2.0, 1.0, 1.5723, 1.5668, 1.5654, 1.5605, 1.5603, 1.5562, 1.5521, 1.5399, 1.538, 1.5351, 1.5349, 1.53, 1.5258, 1.525, 1.5248, 1.5213, 1.5195, 1.5182, 1.5172, 1.5143, 1.5139, 1.5136, 1.5128, 1.5123, 1.5092, 1.508, 1.5075, 1.5071, 1.5048, 1.504, 1.4724, 1.4984, 1.4804, 1.2946, 1.1619, 1.3058, 1.2937, 1.3314, 1.2808, 1.0819, 0.6856, 1.283, 1.26, -0.3247, 0.5247, -0.3523, 1.5961, 1.5847, 1.5836, 1.581, 1.579, 1.5773, 1.5767, 1.5736, 1.5685, 1.5653, 1.5652, 1.5644, 1.5612, 1.5612, 1.5577, 1.5527, 1.549, 1.5486, 1.5465, 1.546, 1.546, 1.5423, 1.5415, 1.5403, 1.5359, 1.5355, 1.529, 1.5287, 1.5274, 1.5273, 1.4832, 1.5048, 1.3336, 1.309, 1.3602, 1.3196, 1.3019, 0.7913, 1.2811, 1.355, 1.2568, 0.1771, 1.5948, 1.5947, 1.5884, 1.5827, 1.5813, 1.5762, 1.574, 1.5733, 1.5652, 1.5648, 1.5624, 1.5588, 1.5577, 1.5552, 1.555, 1.553, 1.5483, 1.5435, 1.5435, 1.5407, 1.5394, 1.5358, 1.5342, 1.533, 1.5325, 1.5324, 1.5297, 1.5269, 1.5261, 1.5241, 1.4026, 1.4485, 1.4168, 1.1678, 1.2744, 0.832, 0.8419, 1.1544, -0.1532, 0.2144, -0.3265, 1.6086, 1.5902, 1.5834, 1.5832, 1.5781, 1.5777, 1.5685, 1.568, 1.5665, 1.5658, 1.5634, 1.5626, 1.5625, 1.5621, 1.5608, 1.5569, 1.5555, 1.5554, 1.5552, 1.5548, 1.5535, 1.5522, 1.5514, 1.5503, 1.5467, 1.5466, 1.5454, 1.5441, 1.5429, 1.5425, 1.4905, 1.4203, 1.4493, 1.4116, 1.5093, 1.393, 0.5338, 1.4477, 0.9173, 1.0867, -0.2168, 1.2887, 1.5991, 1.5905, 1.5899, 1.5895, 1.5835, 1.5835, 1.5816, 1.5804, 1.5804, 1.5788, 1.5715, 1.5712, 1.5685, 1.5671, 1.5642, 1.5608, 1.559, 1.5588, 1.5573, 1.5554, 1.5545, 1.5522, 1.5494, 1.549, 1.5456, 1.5453, 1.5451, 1.5433, 1.543, 1.5418, 1.4899, 1.4873, 1.3726, 1.2939, 1.1797, 1.364, 1.3054, 1.0454, 1.2261, 0.8382, 0.8222, -0.0976, 0.8016, -0.0364]}, \"token.table\": {\"Topic\": [3, 5, 2, 4, 5, 3, 2, 1, 5, 5, 3, 1, 5, 3, 4, 4, 2, 3, 4, 2, 1, 2, 3, 4, 1, 3, 2, 4, 4, 4, 4, 2, 1, 1, 2, 3, 4, 5, 2, 4, 4, 5, 2, 5, 2, 3, 4, 5, 1, 1, 3, 5, 3, 1, 3, 1, 4, 2, 4, 5, 1, 5, 1, 3, 2, 5, 1, 4, 2, 3, 5, 2, 2, 5, 3, 3, 3, 1, 4, 3, 5, 4, 1, 3, 4, 5, 1, 3, 4, 3, 2, 1, 2, 1, 3, 5, 1, 4, 1, 3, 3, 2, 5, 1, 5, 3, 4, 5, 1, 1, 3, 2, 1, 1, 5, 3, 1, 5, 3, 3, 4, 4, 5, 1, 3, 5, 1, 2, 5, 4, 5, 2, 3, 5, 4, 4, 2, 2, 5, 2, 4, 1, 3, 2, 2, 5, 2, 3, 4, 4, 2, 3, 4, 4, 1, 4, 5, 2, 5, 1, 5, 1, 1, 3, 2, 4, 1, 1, 3, 5, 1, 2, 2, 3, 4, 1, 1, 2, 4, 3, 2, 2, 4, 4, 5, 5, 1, 4, 5, 5, 1, 1, 4, 1, 3, 2, 3, 1, 3, 4, 5, 2, 1, 5, 1, 2, 2, 1, 5, 1, 2, 3, 4, 5, 3, 5, 2, 4, 2, 4, 4, 2, 3, 5, 2, 5, 5, 5, 4, 4, 1, 4, 5, 2, 4, 1, 1, 4, 1, 2, 5, 3, 5, 4, 5, 3, 3, 5, 5, 3, 3, 1, 4, 5, 1, 4, 5, 1, 3, 4, 5, 1, 1, 1, 2, 3, 4, 5, 4, 4, 5, 4, 5, 4, 2, 3, 1, 4, 5, 3, 3, 3, 1, 5, 2, 1, 2], \"Freq\": [0.9407380456802719, 0.9769210557121647, 0.21977312962376577, 0.10988656481188289, 0.6593193888712973, 0.9367798378083746, 0.8714006793837715, 0.881037497563545, 0.09274078921721526, 0.8649851613430618, 0.9755512651996079, 0.993227089136254, 0.9742372495372491, 0.996602481562334, 0.933217099872464, 0.9531044965351394, 0.16897689388573808, 0.22530252518098412, 0.5632563129524603, 0.964036213602422, 0.9703109884803874, 0.8859273649021115, 0.8281771563579017, 0.15528321681710658, 0.1101793091823192, 0.8263448188673941, 0.7572550812334332, 0.2409447985742742, 0.9668658847729136, 0.9708607409391383, 0.9427440519581904, 0.9474269445111265, 0.9793513691505281, 0.1530570623813705, 0.4473975669609292, 0.1766043027477352, 0.16483068256455286, 0.08241534128227643, 0.9340432043438294, 0.07184947725721764, 0.8749872938647356, 0.08749872938647357, 0.8802826450009361, 0.8779758089011622, 0.6895424692745468, 0.06895424692745468, 0.13790849385490936, 0.06895424692745468, 0.9425465878694543, 0.20079659351520718, 0.23426269243440836, 0.5689236816264203, 0.983353210427578, 0.9533389918180548, 0.9653936428097224, 0.17839586839617905, 0.8206209946224235, 0.9378541183152618, 0.26486171485812493, 0.7283697158598436, 0.8037145172793914, 0.1854725809106288, 0.7443767052366327, 0.2706824382678664, 0.9830979800857949, 0.9808761063808643, 0.1280732590935242, 0.8538217272901615, 0.1875257996449722, 0.16408507468935069, 0.6328995738017812, 0.9812670099678354, 0.9717700654720383, 0.9767261304854584, 0.8711844825103943, 0.9752708103328733, 0.8953566084938865, 0.6544742851823677, 0.3331869088201145, 0.8145640174884159, 0.1629128034976832, 0.9559386930957986, 0.3397062893056583, 0.13588251572226334, 0.5095594339584876, 0.033970628930565835, 0.9705675000774991, 0.9230392072967035, 0.9336650433753971, 0.8637211621114927, 0.9768689548418443, 0.9668071723414552, 0.8695294237500978, 0.16968596244265105, 0.6221818622897206, 0.16968596244265105, 0.9288653907826276, 0.9362863058067669, 0.7262146831698969, 0.19805854995542643, 0.9009313243516847, 0.27270727620282315, 0.7090389181273402, 0.9377970321740892, 0.08525427565218992, 0.7270001552286391, 0.1264348096049807, 0.15804351200622588, 0.9619573981314126, 0.9516740660851347, 0.9556636438813333, 0.9385228368800462, 0.9788983285068498, 0.12481709536987334, 0.8737196675891133, 0.9303657558354423, 0.9933244151492621, 0.9437601441321195, 0.9885231297095011, 0.02925628000927463, 0.9654572403060628, 0.21859330778625335, 0.7650765772518867, 0.9969506914006708, 0.8708658029774047, 0.9535017585717284, 0.10178376881167059, 0.8906079771021177, 0.948043594136482, 0.9459211974989685, 0.8996632566721753, 0.699046029645303, 0.233015343215101, 0.9304913449432611, 0.9790290563771711, 0.9784753845456073, 0.9689310214968302, 0.22007836655758972, 0.7922821196073231, 0.09352469434948256, 0.9352469434948255, 0.9840620868587547, 0.9049894169237853, 0.9435101305850881, 0.7332358382491757, 0.258789119382062, 0.9115029468234005, 0.23310712508140843, 0.6993213752442252, 0.9229173330684521, 0.9099337680835204, 0.9647034612977751, 0.934433320077826, 0.8659360301229272, 0.38752347472472054, 0.17223265543320912, 0.43058163858302284, 0.946247990165608, 0.9050587437704183, 0.9565613342008498, 0.8903855592222724, 0.9668955642655266, 0.9270620660839533, 0.9572016720821229, 0.9921376351742396, 0.9315550057331253, 0.9057751116866593, 0.9414809947836086, 0.9875873630563141, 0.948197715851207, 0.9630324271078463, 0.9632783958772184, 0.9573895811202376, 0.16672608285907708, 0.8058427338188726, 0.9003011826708455, 0.6047376608514081, 0.22677662281927802, 0.18898051901606502, 0.945994566319312, 0.976181261397181, 0.9468907476436923, 0.9683926937681677, 0.9374833847184709, 0.9425266473041748, 0.9810982273586767, 0.20209218160175757, 0.8083687264070303, 0.9180457799218871, 0.9768105183038, 0.9739574406753599, 0.7574155296244937, 0.2164044370355696, 0.9247606539671922, 0.9745549897667429, 0.7711669581386057, 0.22849391352254983, 0.1413790179628649, 0.6362055808328921, 0.028275803592572982, 0.1837927233517244, 0.9830268034543104, 0.9466765952621439, 0.9593004458862752, 0.7426693143578337, 0.23452715190247378, 0.9758958046012253, 0.9861381262922542, 0.9507582956788704, 0.41020112050630875, 0.13673370683543626, 0.13673370683543626, 0.13673370683543626, 0.18800884689872485, 0.07921803522362184, 0.8713983874598402, 0.9665015128076793, 0.9649729277526494, 0.9849788270209165, 0.9804189761160277, 0.9272019300988285, 0.7640360037884508, 0.16978577861965574, 0.042446444654913935, 0.9473422211734304, 0.9045316422930281, 0.9562042711104536, 0.9367473411162996, 0.9307885097731583, 0.9816438893203961, 0.9497081164816179, 0.9155855036936483, 0.8665324009009722, 0.972841623824774, 0.9686156109893351, 0.9545357627998939, 0.7526653991342701, 0.2090737219817417, 0.22397616439596038, 0.7465872146532013, 0.9760795825075198, 0.9688097916617632, 0.9276024510841284, 0.9313150918220937, 0.9066365905899292, 0.9051870819665888, 0.9713939582830331, 0.9039112533342802, 0.9810505668400938, 0.9641353513999666, 0.9710030455603769, 0.38368886363111376, 0.17052838383605057, 0.4689530555491391, 0.3924810415069592, 0.17443601844753745, 0.4360900461188436, 0.20567171991131097, 0.4627613698004497, 0.1799627549223971, 0.12854482494456934, 0.9704229002384255, 0.8922847696525911, 0.1543493325982589, 0.19844914191204713, 0.4630479977947766, 0.04409980931378825, 0.1543493325982589, 0.9127734666479658, 0.8778519178952294, 0.888702106818726, 0.9470701499538906, 0.05571000882081709, 0.9753555975555853, 0.7310305233625372, 0.25207949081466796, 0.9163568137672564, 0.8941485102877275, 0.09934983447641416, 0.9854071061406364, 0.9283280783750044, 0.986807044516465, 0.7705764608822944, 0.22016470310922695, 0.9584228185089072, 0.9774457080763915, 0.9683261012342809], \"Term\": [\"aborto\", \"agua\", \"amor\", \"amor\", \"amor\", \"argentina\", \"armas\", \"arte\", \"arte\", \"ayer\", \"a\\u00f1o\", \"a\\u00f1os\", \"blanco\", \"bogot\\u00e1\", \"brasil\", \"cadena\", \"cambio\", \"cambio\", \"cambio\", \"campo\", \"candidatos\", \"capitalismo\", \"carta\", \"carta\", \"casa\", \"casa\", \"centro\", \"centro\", \"china\", \"ciencia\", \"ciudad\", \"claudia\", \"coca\", \"colombia\", \"colombia\", \"colombia\", \"colombia\", \"colombia\", \"colombiano\", \"colombiano\", \"colombianos\", \"colombianos\", \"columna\", \"conflicto\", \"congreso\", \"congreso\", \"congreso\", \"congreso\", \"consulta\", \"coronavirus\", \"coronavirus\", \"coronavirus\", \"corrupci\\u00f3n\", \"corte\", \"cosas\", \"covid\", \"covid\", \"crecimiento\", \"crisis\", \"crisis\", \"cuarentena\", \"cuarentena\", \"cuidado\", \"cuidado\", \"culpa\", \"cultura\", \"defensa\", \"defensa\", \"democracia\", \"democracia\", \"democracia\", \"derecha\", \"derecho\", \"derechos\", \"dictadura\", \"dios\", \"diplomacia\", \"duque\", \"duque\", \"econom\\u00eda\", \"econom\\u00eda\", \"econ\\u00f3mica\", \"educaci\\u00f3n\", \"educaci\\u00f3n\", \"educaci\\u00f3n\", \"educaci\\u00f3n\", \"elecciones\", \"electoral\", \"empleo\", \"encrucijada\", \"encuestas\", \"enemigo\", \"enemigos\", \"esperanza\", \"esperanza\", \"esperanza\", \"estrategia\", \"estudiantes\", \"fajardo\", \"fajardo\", \"fantasma\", \"farc\", \"farc\", \"favor\", \"favor\", \"fiscal\", \"fiscal\", \"fiscal\", \"frente\", \"fuego\", \"fuerza\", \"fundamental\", \"futuro\", \"f\\u00fatbol\", \"f\\u00fatbol\", \"ganar\", \"gazapera\", \"gente\", \"glifosato\", \"gobierno\", \"gobierno\", \"gracias\", \"gracias\", \"guerra\", \"hablemos\", \"hidroituango\", \"historia\", \"historia\", \"hombre\", \"hora\", \"ideas\", \"impuestos\", \"impuestos\", \"independencia\", \"iv\\u00e1n\", \"iv\\u00e1n duque\", \"izquierda\", \"jep\", \"jep\", \"juego\", \"juego\", \"justicia\", \"lecci\\u00f3n\", \"legado\", \"ley\", \"ley\", \"libro\", \"libros\", \"libros\", \"l\\u00edderes\", \"l\\u00f3pez\", \"maduro\", \"malo\", \"marcha\", \"maruja\", \"maruja\", \"maruja\", \"mar\\u00eda\", \"medell\\u00edn\", \"medim\\u00e1s\", \"medios\", \"memoria\", \"mentiras\", \"mercado\", \"miedo\", \"minga\", \"ministro\", \"moral\", \"morir\", \"muerte\", \"muertos\", \"mujer\", \"mujeres\", \"mundo\", \"mundo\", \"m\\u00fasica\", \"nacional\", \"nacional\", \"nacional\", \"naranja\", \"navidad\", \"ni\\u00f1os\", \"nombre\", \"objeciones\", \"odio\", \"ojo\", \"oportunidad\", \"oportunidad\", \"oposici\\u00f3n\", \"orden\", \"oro\", \"pacto\", \"pacto\", \"paga\", \"palabras\", \"pandemia\", \"pandemia\", \"paz\", \"paz\", \"paz\", \"paz\", \"pa\\u00eds\", \"peligro\", \"periodismo\", \"petro\", \"petro\", \"plata\", \"polarizaci\\u00f3n\", \"polic\\u00eda\", \"pol\\u00edtica\", \"pol\\u00edtica\", \"pol\\u00edtica\", \"pol\\u00edtica\", \"pol\\u00edtica\", \"pol\\u00edticos\", \"pol\\u00edticos\", \"populismo\", \"preguntas\", \"presidencial\", \"presidente\", \"presidente duque\", \"prima\", \"prima\", \"prima\", \"problema\", \"problemas\", \"protesta\", \"proyecto\", \"pueblo\", \"reactivaci\\u00f3n\", \"realidad\", \"redes\", \"rep\\u00fablica\", \"revoluci\\u00f3n\", \"r\\u00edo\", \"sangre\", \"santos\", \"santos\", \"santrich\", \"santrich\", \"semana\", \"siglo\", \"silencio\", \"sociales\", \"soledad\", \"solidaridad\", \"sue\\u00f1o\", \"terror\", \"tiempo\", \"tiempos\", \"tierra\", \"tola\", \"tola\", \"tola\", \"tola maruja\", \"tola maruja\", \"tola maruja\", \"trump\", \"trump\", \"trump\", \"trump\", \"unidos\", \"universidad\", \"uribe\", \"uribe\", \"uribe\", \"uribe\", \"uribe\", \"uribismo\", \"vacuna\", \"valor\", \"venezuela\", \"venezuela\", \"verde\", \"vida\", \"vida\", \"viene\", \"violencia\", \"violencia\", \"virus\", \"volver\", \"votar\", \"voto\", \"voto\", \"vuelta\", \"v\\u00edctimas\", \"\\u00e1lvaro\"]}, \"R\": 30, \"lambda.step\": 0.01, \"plot.opts\": {\"xlab\": \"PC1\", \"ylab\": \"PC2\"}, \"topic.order\": [2, 5, 1, 4, 3]};\n",
       "\n",
       "function LDAvis_load_lib(url, callback){\n",
       "  var s = document.createElement('script');\n",
       "  s.src = url;\n",
       "  s.async = true;\n",
       "  s.onreadystatechange = s.onload = callback;\n",
       "  s.onerror = function(){console.warn(\"failed to load library \" + url);};\n",
       "  document.getElementsByTagName(\"head\")[0].appendChild(s);\n",
       "}\n",
       "\n",
       "if(typeof(LDAvis) !== \"undefined\"){\n",
       "   // already loaded: just create the visualization\n",
       "   !function(LDAvis){\n",
       "       new LDAvis(\"#\" + \"ldavis_el1311621806378190887735998333\", ldavis_el1311621806378190887735998333_data);\n",
       "   }(LDAvis);\n",
       "}else if(typeof define === \"function\" && define.amd){\n",
       "   // require.js is available: use it to load d3/LDAvis\n",
       "   require.config({paths: {d3: \"https://d3js.org/d3.v5\"}});\n",
       "   require([\"d3\"], function(d3){\n",
       "      window.d3 = d3;\n",
       "      LDAvis_load_lib(\"https://cdn.jsdelivr.net/gh/bmabey/pyLDAvis@3.4.0/pyLDAvis/js/ldavis.v3.0.0.js\", function(){\n",
       "        new LDAvis(\"#\" + \"ldavis_el1311621806378190887735998333\", ldavis_el1311621806378190887735998333_data);\n",
       "      });\n",
       "    });\n",
       "}else{\n",
       "    // require.js not available: dynamically load d3 & LDAvis\n",
       "    LDAvis_load_lib(\"https://d3js.org/d3.v5.js\", function(){\n",
       "         LDAvis_load_lib(\"https://cdn.jsdelivr.net/gh/bmabey/pyLDAvis@3.4.0/pyLDAvis/js/ldavis.v3.0.0.js\", function(){\n",
       "                 new LDAvis(\"#\" + \"ldavis_el1311621806378190887735998333\", ldavis_el1311621806378190887735998333_data);\n",
       "            })\n",
       "         });\n",
       "}\n",
       "</script>"
      ],
      "text/plain": [
       "PreparedData(topic_coordinates=              x         y  topics  cluster       Freq\n",
       "topic                                                \n",
       "1      0.133966 -0.143445       1        1  20.570638\n",
       "4     -0.192587 -0.122437       2        1  20.017999\n",
       "0     -0.060338  0.135732       3        1  19.947386\n",
       "3      0.110822  0.026953       4        1  19.763418\n",
       "2      0.008138  0.103197       5        1  19.700558, topic_info=             Term       Freq      Total Category  logprob  loglift\n",
       "2138     gazapera  68.000000  68.000000  Default  30.0000  30.0000\n",
       "3964   presidente  52.000000  52.000000  Default  29.0000  29.0000\n",
       "1567        duque  84.000000  84.000000  Default  28.0000  28.0000\n",
       "3667         país  49.000000  49.000000  Default  27.0000  27.0000\n",
       "2252       guerra  43.000000  43.000000  Default  26.0000  26.0000\n",
       "...           ...        ...        ...      ...      ...      ...\n",
       "4871         tola  10.684830  23.456506   Topic5  -5.7748   0.8382\n",
       "3047       maruja  10.411496  23.224400   Topic5  -5.8007   0.8222\n",
       "3661          paz  12.638750  70.731854   Topic5  -5.6068  -0.0976\n",
       "4872  tola maruja  10.070574  22.931044   Topic5  -5.8340   0.8016\n",
       "3877     política  11.114039  58.507885   Topic5  -5.7354  -0.0364\n",
       "\n",
       "[245 rows x 6 columns], token_table=      Topic      Freq      Term\n",
       "term                           \n",
       "11        3  0.940738    aborto\n",
       "94        5  0.976921      agua\n",
       "195       2  0.219773      amor\n",
       "195       4  0.109887      amor\n",
       "195       5  0.659319      amor\n",
       "...     ...       ...       ...\n",
       "5246      1  0.770576      voto\n",
       "5246      5  0.220165      voto\n",
       "5254      2  0.958423    vuelta\n",
       "5268      1  0.977446  víctimas\n",
       "5297      2  0.968326    álvaro\n",
       "\n",
       "[287 rows x 3 columns], R=30, lambda_step=0.01, plot_opts={'xlab': 'PC1', 'ylab': 'PC2'}, topic_order=[2, 5, 1, 4, 3])"
      ]
     },
     "execution_count": 64,
     "metadata": {},
     "output_type": "execute_result"
    }
   ],
   "source": [
    "pyLDAvis.lda_model.prepare(lda_bigrams, X_bigrams, vectorizer_bigrams)"
   ]
  },
  {
   "cell_type": "code",
   "execution_count": 38,
   "id": "7890b841",
   "metadata": {},
   "outputs": [
    {
     "data": {
      "text/html": [
       "\n",
       "<link rel=\"stylesheet\" type=\"text/css\" href=\"https://cdn.jsdelivr.net/gh/bmabey/pyLDAvis@3.4.0/pyLDAvis/js/ldavis.v1.0.0.css\">\n",
       "\n",
       "\n",
       "<div id=\"ldavis_el1311621805153204004779741955\" style=\"background-color:white;\"></div>\n",
       "<script type=\"text/javascript\">\n",
       "\n",
       "var ldavis_el1311621805153204004779741955_data = {\"mdsDat\": {\"x\": [0.23141970399764428, -0.11397210891628426, 0.10015405385937336, -0.15853746019886986, 0.20146967451462033, 0.00290586477914382, 0.017807851816636994, -0.123220914387735, -0.1496805850228382, -0.008346080441691824], \"y\": [-0.2298885601972511, -0.022858271156706557, 0.17626556034036628, -0.12853763754959271, -0.025822215720812357, 0.11436695387332069, 0.09322035882049068, -0.15157185488186145, 0.010216282025421068, 0.16460938444662593], \"topics\": [1, 2, 3, 4, 5, 6, 7, 8, 9, 10], \"cluster\": [1, 1, 1, 1, 1, 1, 1, 1, 1, 1], \"Freq\": [10.848092392410177, 10.721805058133025, 10.255509750752685, 10.179660183436305, 10.146593991910477, 9.975867761871202, 9.945304118139477, 9.938658037106652, 9.122998384261058, 8.86551032197893]}, \"tinfo\": {\"Term\": [\"duque\", \"a\\u00f1o\", \"paz\", \"gazapera\", \"pa\\u00eds\", \"pol\\u00edtica\", \"democracia\", \"petro\", \"historia\", \"presidente\", \"guerra\", \"tiempo\", \"vida\", \"colombia\", \"pandemia\", \"uribir\", \"trump\", \"mundo\", \"elecci\\u00f3n\", \"econom\\u00eda\", \"derecho\", \"bogot\\u00e1\", \"mujer\", \"pol\\u00edtico\", \"fiscal\", \"gobierno\", \"justicia\", \"centro\", \"educaci\\u00f3n\", \"venezuela\", \"paz\", \"bogot\\u00e1\", \"covid\", \"corrupci\\u00f3n\", \"volver\", \"ni\\u00f1o\", \"agua\", \"odio\", \"paro\", \"muerto\", \"farc\", \"petro\", \"estrategia\", \"reflexi\\u00f3n\", \"global\", \"querer\", \"r\\u00edo\", \"vacuna\", \"presidente\", \"rey\", \"error\", \"necesario\", \"perdido\", \"gustavo\", \"fundamental\", \"prop\\u00f3sito\", \"m\\u00fasica\", \"aire\", \"di\\u00e1logo\", \"principio\", \"liderazgo\", \"ciencia\", \"nombre\", \"presidencial\", \"juego\", \"pol\\u00edtico\", \"gazapera\", \"guerra\", \"trump\", \"venezuela\", \"voto\", \"pasar\", \"muerte\", \"arte\", \"peligro\", \"consulta\", \"peligroso\", \"siglo\", \"noticia\", \"campa\\u00f1a\", \"legado\", \"serio\", \"llegar\", \"salario\", \"crimen\", \"salvar\", \"aprender\", \"conflicto\", \"santo\", \"joven\", \"minga\", \"anticorrupci\\u00f3n\", \"internet\", \"discurso\", \"epm\", \"soluci\\u00f3n\", \"votar\", \"ley\", \"carta\", \"prima\", \"electoral\", \"nacional\", \"idea\", \"colombia\", \"uribir\", \"elecci\\u00f3n\", \"econom\\u00eda\", \"crisis\", \"colombiano\", \"problema\", \"jep\", \"riesgo\", \"f\\u00fatbol\", \"jugar\", \"red\", \"congreso\", \"\\u00e1lvaro\", \"navidad\", \"moral\", \"santrich\", \"periodismo\", \"negocio\", \"periodista\", \"venezolano\", \"g\\u00f3mez\", \"brasil\", \"cara\", \"peque\\u00f1o\", \"valor\", \"am\\u00e9rica\", \"nostalgia\", \"cuesti\\u00f3n\", \"pobreza\", \"decir\", \"tola\", \"maruja\", \"virus\", \"seguridad\", \"oposici\\u00f3n\", \"tecnolog\\u00eda\", \"adi\\u00f3s\", \"a\\u00f1o\", \"pa\\u00eds\", \"tiempo\", \"ganar\", \"cuidado\", \"perder\", \"silencio\", \"cambiar\", \"maduro\", \"gente\", \"feliz\", \"empleo\", \"frontera\", \"partido\", \"fantasma\", \"eln\", \"fuerza\", \"uribismo\", \"l\\u00f3pez\", \"llamado\", \"coalici\\u00f3n\", \"orden\", \"deber\", \"personaje\", \"vargas\", \"estudiante\", \"c\\u00e1rcel\", \"trampa\", \"apuesta\", \"corrupto\", \"colombia\", \"santos\", \"cultura\", \"cambio\", \"duque\", \"fiscal\", \"futuro\", \"iv\\u00e1n\", \"morir\", \"vuelta\", \"corte\", \"raz\\u00f3n\", \"reto\", \"uribe\", \"ciudad\", \"viento\", \"v\\u00edctima\", \"chino\", \"seguir\", \"lugar\", \"fuego\", \"plata\", \"buscar\", \"desaf\\u00edo\", \"dilema\", \"opci\\u00f3n\", \"cadena\", \"rep\\u00fablica\", \"punto\", \"sistema\", \"literatura\", \"odebrecht\", \"masacre\", \"tragedia\", \"pol\\u00edtico\", \"claudia\", \"l\\u00edder\", \"cartar\", \"maruja\", \"historia\", \"derecho\", \"centro\", \"coronavirus\", \"miedo\", \"libro\", \"venir\", \"libertad\", \"revoluci\\u00f3n\", \"polarizaci\\u00f3n\", \"cosa\", \"negro\", \"econ\\u00f3mico\", \"oro\", \"mano\", \"censura\", \"independencia\", \"pobre\", \"uribista\", \"mermelada\", \"fiesta\", \"elogio\", \"decisi\\u00f3n\", \"gobierno\", \"clase\", \"luz\", \"reactivaci\\u00f3n\", \"alto\", \"desigualdad\", \"medell\\u00edn\", \"salud\", \"camino\", \"gobernar\", \"mujer\", \"justicia\", \"palabra\", \"lecci\\u00f3n\", \"hora\", \"educaci\\u00f3n\", \"viejo\", \"amor\", \"ojo\", \"populismo\", \"pensar\", \"se\\u00f1or\", \"pagar\", \"encuesta\", \"regreso\", \"retorno\", \"aborto\", \"marcha\", \"ministro\", \"internacional\", \"campo\", \"propuesta\", \"arma\", \"culpa\", \"h\\u00e9roe\", \"obra\", \"patria\", \"incertidumbre\", \"emergencia\", \"abierto\", \"social\", \"hombre\", \"democracia\", \"vida\", \"mundo\", \"reforma\", \"memoria\", \"vivir\", \"plan\", \"mundial\", \"desarrollo\", \"cuarentena\", \"realidad\", \"universidad\", \"mentira\", \"maestro\", \"amigo\", \"polic\\u00eda\", \"secreto\", \"coca\", \"alcalde\", \"rural\", \"dif\\u00edcil\", \"profesor\", \"presente\", \"eterno\", \"acci\\u00f3n\", \"golpe\", \"prueba\", \"confianza\", \"despertar\", \"facebook\", \"general\", \"p\\u00fablico\", \"solidaridad\", \"humano\", \"democr\\u00e1tico\", \"colombia\", \"digital\", \"matar\", \"violencia\", \"pacto\", \"casa\", \"tierra\", \"candidato\", \"gracias\", \"semana\", \"enemigo\", \"fajardo\", \"all\\u00e1\", \"derecha\", \"soledad\", \"verde\", \"peste\", \"mar\\u00eda\", \"debate\", \"izquierda\", \"crecimiento\", \"terror\", \"naci\\u00f3n\", \"sangre\", \"coraz\\u00f3n\", \"necesitar\", \"ambiente\", \"bicentenario\", \"territorio\", \"lejos\", \"cali\", \"real\", \"militar\", \"oportunidad\", \"blanco\", \"leer\", \"pueblo\", \"colombia\", \"pol\\u00edtica\", \"pandemia\", \"defensa\", \"esperanza\", \"malo\", \"salir\", \"ver\", \"ciudadano\", \"calle\", \"favor\", \"acabar\", \"proyecto\", \"columna\", \"bienvenido\", \"objeci\\u00f3n\", \"dios\", \"sexual\", \"viaje\", \"rico\", \"pensamiento\", \"pecado\", \"contar\", \"protesta\", \"cuba\", \"protecci\\u00f3n\", \"brexit\", \"campesino\", \"acoso\", \"beso\", \"mart\\u00ednez\", \"impuesto\", \"pregunta\", \"naranja\", \"agro\"], \"Freq\": [122.0, 96.0, 97.0, 78.0, 72.0, 65.0, 65.0, 72.0, 64.0, 72.0, 64.0, 61.0, 58.0, 118.0, 55.0, 55.0, 54.0, 52.0, 51.0, 50.0, 47.0, 49.0, 47.0, 68.0, 46.0, 49.0, 45.0, 41.0, 42.0, 42.0, 96.49645413917449, 48.47610396359647, 36.70498016380695, 35.321632803287464, 33.27239515916909, 28.23135444411376, 27.55061848709982, 21.65700072739082, 21.291143486814384, 20.756892323542683, 23.192971005072977, 69.74885482593666, 15.792547293593309, 14.978956397849254, 14.832954284474617, 14.667391744417001, 14.27203771020953, 13.7225177302311, 68.60048305006926, 12.912613957481254, 12.290934393218974, 12.13058514307357, 12.113194469217454, 11.596320313338316, 11.207498179679625, 11.142136670500452, 10.5597829831677, 10.443394878639756, 10.345199112828121, 9.309415078523228, 15.41725387802028, 18.166422050085114, 12.27830421297369, 18.472909523017623, 11.980671760257941, 13.584955254728161, 77.70267538943553, 63.55286304830298, 53.552608387440685, 42.14572683802078, 41.333209377652054, 36.41747356638128, 32.28541448899067, 26.906064060992826, 20.336031706763105, 16.934351422370188, 14.844833196730558, 14.304779791331164, 13.80186086988931, 13.429515793088688, 13.09723988266217, 12.678296705647275, 12.595926018371776, 12.526388913886048, 12.309781377314815, 12.302109029850056, 12.244372631820783, 12.18399593477509, 11.273143016828477, 11.129838804192001, 10.69529212496473, 10.657975772192943, 10.5438389006958, 10.484098246580375, 10.431614627253229, 10.344235714770692, 21.320492324719176, 23.339002206666628, 13.581133021216564, 18.16379088189807, 14.095866893523306, 18.697125174475016, 11.998832135858171, 13.75800295175424, 54.347252276721846, 50.669107064002404, 49.24823110704246, 39.98654689328531, 37.82258658703654, 30.515321867236974, 29.052346419559623, 21.86811703570494, 21.08876333204303, 19.708321642350572, 19.31069980447256, 18.832099913357208, 18.43743981942701, 18.3798804533767, 17.671547129513588, 17.49455385549297, 13.440520796108345, 12.166884024823876, 11.48140428428685, 11.417900039258495, 10.81622815150673, 10.671462004466903, 10.460264032092818, 10.363269502208967, 11.787152785622467, 9.794531894649303, 9.013657236083873, 9.004836130756269, 8.75555506699814, 8.754322353208135, 27.17443542696647, 26.813309861673996, 18.253873542950977, 15.033236464403007, 11.747362840506877, 11.094320713292444, 10.600959152900977, 95.81914664673307, 72.13355143191377, 60.27037832544369, 27.836135588005956, 21.90903865411427, 20.859974706820015, 19.124208417210916, 18.368371880474804, 17.36903732469704, 16.48517148481755, 15.645778333065383, 14.932711598616878, 14.024710625306234, 13.846458476165012, 13.598647326111397, 13.232710169250534, 12.907368135988444, 12.608795594505139, 12.408433424963238, 12.148841936933797, 11.761286504206693, 11.526238655628255, 11.48213306904262, 11.477205377985996, 11.203512448349995, 11.046851711668275, 10.600298105330577, 10.592572277424424, 10.567148286455241, 9.987080320101274, 73.30850841727687, 22.104259606444078, 13.9587798101671, 15.359315559856645, 121.50382679275316, 45.77311569992959, 30.42885232398276, 29.553610105896684, 25.83949631740917, 21.078108955750643, 19.898375567986427, 18.476923159829763, 18.463118275021788, 18.330785052199822, 16.743344625975173, 16.462190979708577, 15.247277452505514, 14.44381823039232, 14.007748070418943, 13.345932551266573, 13.20211206053901, 12.664004421226947, 11.93708082130587, 11.930826749223, 11.608762356184627, 11.146458688845318, 10.869542281978385, 10.808876016671395, 10.686373396897041, 10.444002268544189, 9.73307078392045, 9.209219308228635, 9.205788890432284, 9.161487839106176, 50.437220298887524, 18.27990091319022, 11.960482343875636, 10.055836323572898, 10.352109342670126, 63.61197005348081, 47.08474029939476, 40.98054096457763, 39.103087131004436, 37.4134590161028, 27.773507381926546, 25.1369674032087, 21.29554352651884, 20.65375011520111, 19.810174888399715, 17.598289854977338, 15.69935406984267, 24.067558595364485, 14.921236100698346, 14.155156522523104, 13.645528991587387, 12.91633774040596, 12.50666752167431, 12.270464966289259, 12.228603088596374, 12.17828614330085, 11.985097850432892, 11.5912726035658, 46.28395997208387, 11.079043955445448, 10.947386479149964, 10.852852105019574, 10.850687369695141, 10.802310497085521, 10.55599354225238, 23.788581974940683, 14.675203999050423, 10.942455534604969, 46.40376486838576, 44.33357363089032, 35.94218700941948, 30.59262022694167, 29.749263322024824, 41.11850460899088, 26.62014757205126, 26.55214575677576, 25.582475285301978, 25.19704625133628, 18.9257458184916, 18.131182367070643, 17.549624265176753, 16.3896743694957, 16.08345853014435, 15.792980766158262, 14.212668234936054, 14.186871422296617, 13.939180585539976, 13.929073502286176, 13.534429123392307, 13.341506066596502, 13.290972861731511, 12.87464706570287, 12.793926582139894, 12.62900709126139, 12.404555447968722, 12.344169473132101, 11.440046781923261, 11.319670211604109, 29.833870345271404, 13.97406310727415, 64.82509676023533, 57.829247231827715, 51.209626197931534, 34.9857027245852, 31.432646042465617, 23.83218375869215, 23.322958881076925, 21.339938545267604, 22.262585083961202, 20.947187419582605, 20.619315638414278, 20.568346655614274, 16.82888438001679, 16.709972613591415, 16.500947323873078, 15.78553031387066, 15.227486826354776, 13.866347333332113, 13.436758742392344, 11.79626037855325, 11.445938360445188, 10.887977479934142, 10.859704688904973, 10.593238359757837, 10.326974728245123, 10.112905144141276, 10.005450697927335, 9.710208090231763, 9.591385357520773, 9.43225709004323, 11.854746956505382, 20.264842806701562, 10.23879006669924, 10.589291852264298, 11.504980945854042, 12.310541288489368, 10.526493658960126, 30.985039826810972, 30.387733867921945, 28.11730891745671, 27.396420987562706, 27.154448783215518, 25.31199228332629, 24.430575434866, 23.1060397393312, 22.127283354091464, 21.323701859060513, 19.96933427697702, 17.690594867833042, 16.88234684508388, 16.75277476852641, 16.365131637353436, 15.219415263733671, 21.18387517338315, 14.111152325861449, 13.991895295130325, 12.738809700678477, 12.251400606245063, 11.31989432214445, 11.126597243322166, 9.673682997834089, 9.595148620064583, 9.424962766688205, 9.379078208962646, 9.353503651936466, 9.12464146542528, 8.84195732542845, 13.140865602081416, 16.03133570050631, 14.366010357738077, 11.636831169414265, 11.480167835899717, 12.399007760053964, 64.84184083391756, 54.37644670769838, 35.758879365695606, 26.805544350390765, 24.391758573523234, 21.365852250473445, 16.788574199066307, 16.747312620012302, 15.6459956698358, 15.432106604652157, 15.111763893866618, 14.53834436267479, 14.203174697799055, 13.935750831647399, 13.40813340987888, 13.274282761009278, 11.62505692942672, 11.134836115749993, 10.866086096704558, 10.8093036405184, 9.726252284932219, 9.384474295144283, 26.995530262142832, 8.802198134747533, 8.230979876623802, 8.067937880772392, 7.687228600929641, 7.611668779119265, 7.480520940880116, 7.379927183444895, 22.460204005523085, 11.756832951530965, 12.028693935392779, 8.377077477034785], \"Total\": [122.0, 96.0, 97.0, 78.0, 72.0, 65.0, 65.0, 72.0, 64.0, 72.0, 64.0, 61.0, 58.0, 118.0, 55.0, 55.0, 54.0, 52.0, 51.0, 50.0, 47.0, 49.0, 47.0, 68.0, 46.0, 49.0, 45.0, 41.0, 42.0, 42.0, 97.32325326448749, 49.30289204752981, 37.53177959612314, 36.148427027418556, 34.09918781300996, 29.05814984591983, 28.377419021527523, 22.483786632137797, 22.117919734024873, 21.583663774154765, 24.207725159838436, 72.90734817825442, 16.619332218291046, 15.805740950440066, 15.65973260874396, 15.49417751332854, 15.098815520304091, 14.54930812924707, 72.96809386462577, 13.739383734670495, 13.117728680923273, 12.957381238057174, 12.939982206770756, 12.423093043434054, 12.034272533778573, 11.968909716778912, 11.38657011076852, 11.270172552599957, 11.171987984877086, 10.136194519382935, 17.999607315233185, 22.238495023741766, 14.271617055283388, 26.628468239860887, 15.529724146383353, 68.07657628852913, 78.5293136201422, 64.37953660395125, 54.3792773689614, 42.9723934698617, 42.15986992139541, 37.24413990059682, 33.112085837287886, 27.732727179697996, 21.16268916643299, 17.760999964838387, 15.671492386259283, 15.13143386830715, 14.62852794622118, 14.256180727041945, 13.92390261972904, 13.504973607553827, 13.42258407036528, 13.353045584038055, 13.136441085293727, 13.128764599506345, 13.071037813344592, 13.010654543262891, 12.099814643887107, 11.956499060934625, 11.52194341389324, 11.484635617800196, 11.370528065506845, 11.310762767610413, 11.258269326248492, 11.17089392646363, 24.36307573231208, 32.47215558006662, 15.928522771367444, 32.3627622738929, 21.918007346084387, 43.86017075662036, 16.75335500930131, 118.05906826541778, 55.171184301495614, 51.49303610531932, 50.072157270648454, 40.810495574934535, 38.646519797248615, 31.33925339115646, 29.87626244568902, 22.6920427737845, 21.912677310585384, 20.532239455057645, 20.134619047543776, 19.65602094285407, 19.261342171185355, 19.20378402870969, 18.49547637118637, 18.318465176197215, 14.264431507101108, 12.990803647297332, 12.305317189288187, 12.241820682921098, 11.640132090169732, 11.495378921195206, 11.28418021129501, 11.187186601100606, 12.75353775049221, 10.618457380743289, 9.83756007623928, 9.828754911933117, 9.579487328278633, 9.57823304969986, 38.23434356841333, 37.8983191062562, 25.743597114081986, 25.274234599336886, 16.487585087874837, 14.967744941961588, 13.907876815012456, 96.6437088135494, 72.95810506030308, 61.09493450248608, 28.66069138969651, 22.733586740717495, 21.684530454503783, 19.948756046167805, 19.192921372530524, 18.19358445646062, 17.309720356491706, 16.470315203029052, 15.757272554273369, 14.849263219123195, 14.671011724893154, 14.423202514325961, 14.057268225458268, 13.73192613483342, 13.433343696880044, 13.232977645435252, 12.973388697319153, 12.585827953339278, 12.35079591906436, 12.306689077821718, 12.301740453083141, 12.02805709173566, 11.871419553910211, 11.424849448572491, 11.417120039509248, 11.391694641307657, 10.811621396967384, 118.05906826541778, 29.676153578698703, 20.453206123467655, 29.46674902137715, 122.32668644810352, 46.59596936012274, 31.251710704590074, 30.3764429061883, 26.66234689132022, 21.90094548102488, 20.72122855093883, 19.2997680754532, 19.28676775872574, 19.153627240233295, 17.566180959487546, 17.28502547124151, 16.070119589259296, 15.266662163081374, 14.830589387475099, 14.16878656572663, 14.024951934526335, 13.486838676449445, 12.759925207455877, 12.753684522679517, 12.431600685277736, 11.96929755980638, 11.692378229322156, 11.631709686173194, 11.509208470073075, 11.266852081274209, 10.555902283422062, 10.032061331735076, 10.028642753606178, 9.98434200799453, 68.07657628852913, 29.079288716159887, 19.85737558998532, 13.930135630523905, 37.8983191062562, 64.43462828344136, 47.90794763392148, 41.80325617243341, 39.925755970489575, 38.236114201756834, 28.596156923941148, 25.959626434744393, 22.118209017494753, 21.476404793221185, 20.632817273383377, 18.42093992449658, 16.522122547298217, 25.33494471131969, 15.743878670041978, 14.977808621446766, 14.468174965811118, 13.738997832004857, 13.329320127558265, 13.09310990714674, 13.051253553154366, 13.000931298104879, 12.807737185273588, 12.413934635360947, 49.704161043555196, 11.901704549285972, 11.770034405112181, 11.675501265787853, 11.673340619956752, 11.624971322570092, 11.378646959189467, 31.04952424936792, 18.215520588810573, 14.824291717954493, 47.22592574504302, 45.15573738359835, 36.76433384380431, 31.414774576357228, 30.57141628731958, 42.296411129285616, 27.44230272630649, 27.37429130608305, 26.40462779089304, 26.01919690108028, 19.747903408344175, 18.95334328255127, 18.37177337933041, 17.2118319467222, 16.905617418419965, 16.61512422863093, 15.034820471875502, 15.0090179646332, 14.761343381874228, 14.751244502717878, 14.356588180842332, 14.163669626479631, 14.113135022526848, 13.696800345778946, 13.61607029469475, 13.451156509006847, 13.226711888073643, 13.166315142978005, 12.262209833227852, 12.141836827315702, 46.14839008055334, 19.494375946057662, 65.64740794919521, 58.65156317666039, 52.031939435056614, 35.80802338901837, 32.25495031954719, 24.654490741652527, 24.145261974917766, 22.162258158747168, 23.13525024059164, 21.76948908369693, 21.441616291482383, 21.390659125784516, 17.65118334984243, 17.532270668835125, 17.323256938136957, 16.607836543899154, 16.04979925337002, 14.688654696506616, 14.259072811126613, 12.618562479087444, 12.268259278858153, 11.710293509428016, 11.681996388392443, 11.41554834700368, 11.149281792911404, 10.935203709716998, 10.82774818947252, 10.53251062293808, 10.413680300486794, 10.25455351943697, 13.684200080072808, 34.09123906834112, 12.033063396663785, 13.850447796946638, 21.278916782346172, 118.05906826541778, 17.93882013306586, 31.802756220952784, 31.205450814612796, 28.944776608275728, 28.2141549872694, 27.972162785496117, 26.12971016351667, 25.24829053590791, 23.923759595709633, 22.944995439229537, 22.141428730458987, 20.787061453924192, 18.50830917500942, 17.700057936150966, 17.57048554282201, 17.182842533687932, 16.037139374785582, 22.388206950528183, 14.928873019570839, 14.809615097756408, 13.556518753904289, 13.069129009533723, 12.137610490876552, 11.944304841510306, 10.49141372627962, 10.41287269975916, 10.242676070896865, 10.196798790406897, 10.171210825394263, 9.942366552923964, 9.65968039007019, 15.505810099098117, 23.568973205120944, 22.085971755655542, 15.117178483846537, 14.924885216777094, 118.05906826541778, 65.65710461750683, 55.19170421110357, 36.574148012630225, 27.62079256838054, 25.207010179062383, 22.18110138593616, 17.603832712707916, 17.562578448403332, 16.461244173170396, 16.247359940097493, 15.927013566286758, 15.35494075067056, 15.018429959363381, 14.750990895747435, 14.223374269317723, 14.089529615275316, 12.440315449499913, 11.95008697243212, 11.681332636501667, 11.624558403979128, 10.541493503484206, 10.19971871005229, 29.46019560468882, 9.61744508430072, 9.04622770625842, 8.88317786223174, 8.502480691540054, 8.426921185692288, 8.295760789871823, 8.195176415651805, 27.553345173779373, 18.917055356105582, 19.895165110595112, 10.532888000551889], \"Category\": [\"Default\", \"Default\", \"Default\", \"Default\", \"Default\", \"Default\", \"Default\", \"Default\", \"Default\", \"Default\", \"Default\", \"Default\", \"Default\", \"Default\", \"Default\", \"Default\", \"Default\", \"Default\", \"Default\", \"Default\", \"Default\", \"Default\", \"Default\", \"Default\", \"Default\", \"Default\", \"Default\", \"Default\", \"Default\", \"Default\", \"Topic1\", \"Topic1\", \"Topic1\", \"Topic1\", \"Topic1\", \"Topic1\", \"Topic1\", \"Topic1\", \"Topic1\", \"Topic1\", \"Topic1\", \"Topic1\", \"Topic1\", \"Topic1\", \"Topic1\", \"Topic1\", \"Topic1\", \"Topic1\", \"Topic1\", \"Topic1\", \"Topic1\", \"Topic1\", \"Topic1\", \"Topic1\", \"Topic1\", \"Topic1\", \"Topic1\", \"Topic1\", \"Topic1\", \"Topic1\", \"Topic1\", \"Topic1\", \"Topic1\", \"Topic1\", \"Topic1\", \"Topic1\", \"Topic2\", \"Topic2\", \"Topic2\", \"Topic2\", \"Topic2\", \"Topic2\", \"Topic2\", \"Topic2\", \"Topic2\", \"Topic2\", \"Topic2\", \"Topic2\", \"Topic2\", \"Topic2\", \"Topic2\", \"Topic2\", \"Topic2\", \"Topic2\", \"Topic2\", \"Topic2\", \"Topic2\", \"Topic2\", \"Topic2\", \"Topic2\", \"Topic2\", \"Topic2\", \"Topic2\", \"Topic2\", \"Topic2\", \"Topic2\", \"Topic2\", \"Topic2\", \"Topic2\", \"Topic2\", \"Topic2\", \"Topic2\", \"Topic2\", \"Topic2\", \"Topic3\", \"Topic3\", \"Topic3\", \"Topic3\", \"Topic3\", \"Topic3\", \"Topic3\", \"Topic3\", \"Topic3\", \"Topic3\", \"Topic3\", \"Topic3\", \"Topic3\", \"Topic3\", \"Topic3\", \"Topic3\", \"Topic3\", \"Topic3\", \"Topic3\", \"Topic3\", \"Topic3\", \"Topic3\", \"Topic3\", \"Topic3\", \"Topic3\", \"Topic3\", \"Topic3\", \"Topic3\", \"Topic3\", \"Topic3\", \"Topic3\", \"Topic3\", \"Topic3\", \"Topic3\", \"Topic3\", \"Topic3\", \"Topic3\", \"Topic4\", \"Topic4\", \"Topic4\", \"Topic4\", \"Topic4\", \"Topic4\", \"Topic4\", \"Topic4\", \"Topic4\", \"Topic4\", \"Topic4\", \"Topic4\", \"Topic4\", \"Topic4\", \"Topic4\", \"Topic4\", \"Topic4\", \"Topic4\", \"Topic4\", \"Topic4\", \"Topic4\", \"Topic4\", \"Topic4\", \"Topic4\", \"Topic4\", \"Topic4\", \"Topic4\", \"Topic4\", \"Topic4\", \"Topic4\", \"Topic4\", \"Topic4\", \"Topic4\", \"Topic4\", \"Topic5\", \"Topic5\", \"Topic5\", \"Topic5\", \"Topic5\", \"Topic5\", \"Topic5\", \"Topic5\", \"Topic5\", \"Topic5\", \"Topic5\", \"Topic5\", \"Topic5\", \"Topic5\", \"Topic5\", \"Topic5\", \"Topic5\", \"Topic5\", \"Topic5\", \"Topic5\", \"Topic5\", \"Topic5\", \"Topic5\", \"Topic5\", \"Topic5\", \"Topic5\", \"Topic5\", \"Topic5\", \"Topic5\", \"Topic5\", \"Topic5\", \"Topic5\", \"Topic5\", \"Topic5\", \"Topic5\", \"Topic6\", \"Topic6\", \"Topic6\", \"Topic6\", \"Topic6\", \"Topic6\", \"Topic6\", \"Topic6\", \"Topic6\", \"Topic6\", \"Topic6\", \"Topic6\", \"Topic6\", \"Topic6\", \"Topic6\", \"Topic6\", \"Topic6\", \"Topic6\", \"Topic6\", \"Topic6\", \"Topic6\", \"Topic6\", \"Topic6\", \"Topic6\", \"Topic6\", \"Topic6\", \"Topic6\", \"Topic6\", \"Topic6\", \"Topic6\", \"Topic6\", \"Topic6\", \"Topic6\", \"Topic7\", \"Topic7\", \"Topic7\", \"Topic7\", \"Topic7\", \"Topic7\", \"Topic7\", \"Topic7\", \"Topic7\", \"Topic7\", \"Topic7\", \"Topic7\", \"Topic7\", \"Topic7\", \"Topic7\", \"Topic7\", \"Topic7\", \"Topic7\", \"Topic7\", \"Topic7\", \"Topic7\", \"Topic7\", \"Topic7\", \"Topic7\", \"Topic7\", \"Topic7\", \"Topic7\", \"Topic7\", \"Topic7\", \"Topic7\", \"Topic7\", \"Topic7\", \"Topic8\", \"Topic8\", \"Topic8\", \"Topic8\", \"Topic8\", \"Topic8\", \"Topic8\", \"Topic8\", \"Topic8\", \"Topic8\", \"Topic8\", \"Topic8\", \"Topic8\", \"Topic8\", \"Topic8\", \"Topic8\", \"Topic8\", \"Topic8\", \"Topic8\", \"Topic8\", \"Topic8\", \"Topic8\", \"Topic8\", \"Topic8\", \"Topic8\", \"Topic8\", \"Topic8\", \"Topic8\", \"Topic8\", \"Topic8\", \"Topic8\", \"Topic8\", \"Topic8\", \"Topic8\", \"Topic8\", \"Topic8\", \"Topic8\", \"Topic9\", \"Topic9\", \"Topic9\", \"Topic9\", \"Topic9\", \"Topic9\", \"Topic9\", \"Topic9\", \"Topic9\", \"Topic9\", \"Topic9\", \"Topic9\", \"Topic9\", \"Topic9\", \"Topic9\", \"Topic9\", \"Topic9\", \"Topic9\", \"Topic9\", \"Topic9\", \"Topic9\", \"Topic9\", \"Topic9\", \"Topic9\", \"Topic9\", \"Topic9\", \"Topic9\", \"Topic9\", \"Topic9\", \"Topic9\", \"Topic9\", \"Topic9\", \"Topic9\", \"Topic9\", \"Topic9\", \"Topic9\", \"Topic10\", \"Topic10\", \"Topic10\", \"Topic10\", \"Topic10\", \"Topic10\", \"Topic10\", \"Topic10\", \"Topic10\", \"Topic10\", \"Topic10\", \"Topic10\", \"Topic10\", \"Topic10\", \"Topic10\", \"Topic10\", \"Topic10\", \"Topic10\", \"Topic10\", \"Topic10\", \"Topic10\", \"Topic10\", \"Topic10\", \"Topic10\", \"Topic10\", \"Topic10\", \"Topic10\", \"Topic10\", \"Topic10\", \"Topic10\", \"Topic10\", \"Topic10\", \"Topic10\", \"Topic10\"], \"logprob\": [30.0, 29.0, 28.0, 27.0, 26.0, 25.0, 24.0, 23.0, 22.0, 21.0, 20.0, 19.0, 18.0, 17.0, 16.0, 15.0, 14.0, 13.0, 12.0, 11.0, 10.0, 9.0, 8.0, 7.0, 6.0, 5.0, 4.0, 3.0, 2.0, 1.0, -2.7782, -3.4666, -3.7448, -3.7832, -3.843, -4.0073, -4.0317, -4.2724, -4.2894, -4.3148, -4.2039, -3.1028, -4.5882, -4.6411, -4.6509, -4.6621, -4.6894, -4.7287, -3.1194, -4.7895, -4.8388, -4.852, -4.8534, -4.897, -4.9311, -4.937, -4.9907, -5.0017, -5.0112, -5.1167, -4.6122, -4.4481, -4.8399, -4.4314, -4.8644, -4.7387, -2.9831, -3.1841, -3.3553, -3.5949, -3.6143, -3.7409, -3.8614, -4.0436, -4.3236, -4.5067, -4.6383, -4.6754, -4.7112, -4.7385, -4.7636, -4.7961, -4.8026, -4.8082, -4.8256, -4.8262, -4.8309, -4.8359, -4.9136, -4.9264, -4.9662, -4.9697, -4.9805, -4.9861, -4.9912, -4.9996, -4.2763, -4.1859, -4.7273, -4.4366, -4.6901, -4.4076, -4.8512, -4.7144, -3.2961, -3.3662, -3.3947, -3.603, -3.6586, -3.8733, -3.9224, -4.2065, -4.2428, -4.3105, -4.3309, -4.356, -4.3771, -4.3803, -4.4196, -4.4296, -4.6933, -4.7928, -4.8508, -4.8563, -4.9105, -4.924, -4.9439, -4.9533, -4.8245, -5.0097, -5.0928, -5.0938, -5.1218, -5.122, -3.9893, -4.0026, -4.3872, -4.5813, -4.8279, -4.8851, -4.9306, -2.7216, -3.0056, -3.1853, -3.9578, -4.1972, -4.2463, -4.3332, -4.3735, -4.4294, -4.4816, -4.5339, -4.5806, -4.6433, -4.6561, -4.6741, -4.7014, -4.7263, -4.7497, -4.7657, -4.7869, -4.8193, -4.8395, -4.8433, -4.8437, -4.8679, -4.882, -4.9232, -4.924, -4.9264, -4.9828, -2.9894, -4.1883, -4.648, -4.5524, -2.4809, -3.4572, -3.8655, -3.8946, -4.029, -4.2326, -4.2902, -4.3643, -4.3651, -4.3723, -4.4629, -4.4798, -4.5565, -4.6106, -4.6412, -4.6896, -4.7005, -4.7421, -4.8012, -4.8017, -4.8291, -4.8697, -4.8949, -4.9005, -4.9119, -4.9348, -5.0053, -5.0607, -5.061, -5.0658, -3.3601, -4.3751, -4.7992, -4.9727, -4.9437, -3.1111, -3.4119, -3.5508, -3.5977, -3.6419, -3.9398, -4.0395, -4.2054, -4.236, -4.2777, -4.3961, -4.5103, -4.083, -4.5611, -4.6138, -4.6505, -4.7054, -4.7376, -4.7567, -4.7601, -4.7642, -4.7802, -4.8136, -3.4291, -4.8588, -4.8708, -4.8795, -4.8797, -4.8841, -4.9072, -4.0947, -4.5777, -4.8712, -3.4234, -3.4691, -3.6789, -3.8401, -3.868, -3.5444, -3.9791, -3.9817, -4.0189, -4.0341, -4.3203, -4.3632, -4.3958, -4.4642, -4.483, -4.5013, -4.6067, -4.6085, -4.6261, -4.6268, -4.6556, -4.6699, -4.6737, -4.7056, -4.7118, -4.7248, -4.7428, -4.7476, -4.8237, -4.8343, -3.8652, -4.6236, -3.0885, -3.2027, -3.3242, -3.7052, -3.8123, -4.0891, -4.1107, -4.1996, -4.1572, -4.2181, -4.2339, -4.2364, -4.4371, -4.4441, -4.4567, -4.5011, -4.537, -4.6307, -4.6622, -4.7924, -4.8225, -4.8725, -4.8751, -4.8999, -4.9254, -4.9463, -4.957, -4.987, -4.9993, -5.016, -4.7874, -4.2513, -4.934, -4.9003, -4.8174, -4.7497, -4.9063, -3.741, -3.7605, -3.8381, -3.8641, -3.873, -3.9432, -3.9787, -4.0344, -4.0777, -4.1147, -4.1803, -4.3015, -4.3482, -4.356, -4.3794, -4.4519, -4.1213, -4.5276, -4.536, -4.6299, -4.6689, -4.748, -4.7652, -4.9051, -4.9133, -4.9312, -4.936, -4.9388, -4.9635, -4.995, -4.5988, -4.4, -4.5097, -4.7203, -4.7339, -4.6569, -2.9739, -3.15, -3.5691, -3.8573, -3.9516, -4.0841, -4.3252, -4.3276, -4.3957, -4.4094, -4.4304, -4.4691, -4.4924, -4.5114, -4.55, -4.5601, -4.6927, -4.7358, -4.7602, -4.7655, -4.8711, -4.9068, -3.8502, -4.9709, -5.038, -5.058, -5.1063, -5.1162, -5.1336, -5.1471, -4.0341, -4.6815, -4.6586, -5.0204], \"loglift\": [30.0, 29.0, 28.0, 27.0, 26.0, 25.0, 24.0, 23.0, 22.0, 21.0, 20.0, 19.0, 18.0, 17.0, 16.0, 15.0, 14.0, 13.0, 12.0, 11.0, 10.0, 9.0, 8.0, 7.0, 6.0, 5.0, 4.0, 3.0, 2.0, 1.0, 2.2126, 2.2043, 2.1989, 2.198, 2.1966, 2.1923, 2.1916, 2.1837, 2.1831, 2.1821, 2.1784, 2.1769, 2.1702, 2.1675, 2.1669, 2.1663, 2.1649, 2.1627, 2.1595, 2.1591, 2.1561, 2.1552, 2.1552, 2.1523, 2.15, 2.1496, 2.1458, 2.145, 2.1443, 2.1361, 2.0663, 2.0189, 2.0707, 1.8555, 1.9617, 0.6095, 2.2223, 2.22, 2.2176, 2.2135, 2.2131, 2.2104, 2.2076, 2.2026, 2.193, 2.1852, 2.1787, 2.1767, 2.1747, 2.1732, 2.1717, 2.1697, 2.1693, 2.169, 2.1679, 2.1679, 2.1676, 2.1672, 2.1621, 2.1612, 2.1584, 2.1582, 2.1574, 2.157, 2.1566, 2.156, 2.0995, 1.9026, 2.0735, 1.6553, 1.7915, 1.3803, 1.8991, 0.0833, 2.2623, 2.2612, 2.2608, 2.257, 2.2558, 2.2507, 2.2494, 2.2404, 2.239, 2.2364, 2.2356, 2.2345, 2.2336, 2.2335, 2.2318, 2.2313, 2.2179, 2.2118, 2.2081, 2.2077, 2.2039, 2.203, 2.2015, 2.2009, 2.1986, 2.1966, 2.1899, 2.1898, 2.1874, 2.1874, 1.9359, 1.9313, 1.9335, 1.7578, 1.9384, 1.9779, 2.0058, 2.2762, 2.2734, 2.2712, 2.2556, 2.2478, 2.246, 2.2426, 2.2409, 2.2384, 2.236, 2.2334, 2.231, 2.2276, 2.2269, 2.2259, 2.2243, 2.2229, 2.2214, 2.2204, 2.2191, 2.217, 2.2157, 2.2154, 2.2154, 2.2138, 2.2128, 2.2099, 2.2098, 2.2096, 2.2054, 1.8083, 1.9902, 1.9027, 1.6332, 2.2813, 2.2702, 2.2613, 2.2606, 2.2567, 2.2497, 2.2475, 2.2445, 2.2444, 2.2441, 2.2401, 2.2393, 2.2355, 2.2326, 2.231, 2.2282, 2.2276, 2.2251, 2.2214, 2.2213, 2.2196, 2.2168, 2.2151, 2.2147, 2.2139, 2.2122, 2.2069, 2.2025, 2.2024, 2.202, 1.9881, 1.8238, 1.7811, 1.9621, 0.9903, 2.2922, 2.2877, 2.2851, 2.2842, 2.2833, 2.2758, 2.2728, 2.2671, 2.2659, 2.2643, 2.2593, 2.2539, 2.2537, 2.2513, 2.2485, 2.2465, 2.2433, 2.2413, 2.2401, 2.2399, 2.2396, 2.2386, 2.2364, 2.2337, 2.2334, 2.2325, 2.2319, 2.2319, 2.2316, 2.23, 2.0386, 2.0889, 2.0014, 2.2905, 2.2897, 2.2855, 2.2816, 2.2808, 2.2798, 2.2777, 2.2776, 2.2764, 2.276, 2.2655, 2.2637, 2.2623, 2.2591, 2.2582, 2.2573, 2.2518, 2.2517, 2.2508, 2.2507, 2.2491, 2.2483, 2.248, 2.2462, 2.2458, 2.245, 2.2439, 2.2436, 2.2387, 2.238, 1.8719, 1.9751, 2.2961, 2.2946, 2.2928, 2.2855, 2.2829, 2.2748, 2.2741, 2.2709, 2.2703, 2.2702, 2.2696, 2.2695, 2.261, 2.2607, 2.2601, 2.258, 2.2561, 2.2511, 2.2493, 2.2414, 2.2394, 2.2359, 2.2357, 2.234, 2.2321, 2.2306, 2.2298, 2.2274, 2.2265, 2.2252, 2.1652, 1.7886, 2.1473, 2.0403, 1.6938, 0.048, 1.7757, 2.3683, 2.3678, 2.3654, 2.365, 2.3647, 2.3626, 2.3614, 2.3596, 2.3581, 2.3567, 2.3542, 2.3492, 2.3471, 2.3467, 2.3456, 2.342, 2.3391, 2.338, 2.3376, 2.3322, 2.3298, 2.3246, 2.3235, 2.3132, 2.3126, 2.3112, 2.3108, 2.3106, 2.3085, 2.3059, 2.2289, 2.009, 1.9643, 2.1327, 2.132, 0.1408, 2.4105, 2.4081, 2.4005, 2.393, 2.3901, 2.3856, 2.3756, 2.3755, 2.3722, 2.3715, 2.3705, 2.3684, 2.3672, 2.3661, 2.364, 2.3634, 2.3552, 2.3523, 2.3507, 2.3503, 2.3425, 2.3397, 2.3356, 2.3344, 2.3286, 2.3267, 2.3222, 2.3213, 2.3196, 2.3182, 2.2186, 1.9474, 1.9198, 2.194]}, \"token.table\": {\"Topic\": [7, 7, 10, 8, 10, 3, 10, 5, 10, 1, 1, 8, 9, 6, 9, 8, 7, 3, 2, 2, 4, 7, 2, 4, 10, 9, 10, 2, 9, 1, 3, 10, 5, 5, 9, 10, 4, 4, 6, 7, 6, 7, 2, 10, 7, 9, 3, 2, 7, 1, 5, 9, 6, 6, 5, 1, 8, 5, 10, 6, 4, 5, 4, 8, 2, 3, 4, 8, 9, 3, 10, 8, 2, 3, 2, 10, 9, 6, 1, 4, 5, 6, 1, 9, 2, 3, 8, 10, 3, 4, 7, 4, 10, 4, 9, 4, 3, 6, 10, 8, 1, 6, 8, 9, 6, 5, 8, 6, 8, 8, 1, 6, 8, 5, 10, 2, 1, 5, 3, 6, 7, 7, 3, 1, 2, 10, 4, 6, 7, 4, 7, 9, 2, 1, 10, 1, 4, 8, 8, 9, 4, 1, 10, 4, 6, 5, 4, 5, 4, 1, 5, 3, 4, 2, 8, 9, 4, 1, 1, 6, 5, 6, 8, 9, 2, 1, 3, 6, 7, 9, 7, 8, 9, 7, 2, 3, 9, 10, 7, 6, 7, 2, 5, 9, 3, 2, 1, 3, 3, 7, 7, 9, 10, 2, 9, 2, 7, 10, 6, 6, 1, 3, 8, 5, 4, 2, 5, 6, 5, 7, 4, 4, 8, 10, 6, 7, 10, 3, 5, 9, 5, 9, 6, 8, 8, 6, 6, 2, 9, 2, 7, 3, 5, 2, 1, 7, 8, 8, 1, 1, 2, 7, 8, 9, 3, 10, 3, 1, 9, 3, 6, 1, 1, 10, 3, 2, 10, 7, 5, 1, 7, 5, 1, 7, 9, 3, 6, 9, 4, 6, 9, 7, 7, 10, 1, 4, 2, 7, 1, 4, 10, 2, 2, 10, 7, 3, 4, 1, 3, 3, 4, 9, 1, 4, 8, 5, 6, 3, 6, 8, 10, 1, 5, 7, 8, 7, 1, 8, 10, 8, 1, 2, 5, 1, 5, 2, 3, 7, 10, 1, 3, 8, 7, 1, 10, 6, 10, 10, 8, 5, 9, 5, 2, 4, 8, 9, 1, 5, 6, 9, 8, 3, 1, 8, 7, 5, 5, 7, 6, 1, 10, 3, 8, 1, 2, 10, 5, 6, 2, 9, 2, 1, 4, 3, 8, 5, 2, 3, 10, 9, 2, 10, 7, 2, 4, 5, 3, 7, 10, 9, 6, 8, 2, 1, 3, 9, 9, 4, 9, 3, 5, 5, 4, 2, 8, 5, 3, 4, 6, 1, 3, 4, 3, 2, 6, 10, 9, 10, 8, 7, 5, 9, 3, 8, 8, 1, 2, 5, 2, 5, 5, 3], \"Freq\": [0.9059584769952688, 0.9311717440317121, 0.9417961463755516, 0.8969187599472007, 0.9493384147917344, 0.7909187107644187, 0.21570510293575054, 0.09494072280533157, 0.7595257824426526, 0.986700022956943, 0.8872978610867022, 0.9117002327006749, 0.9621369544863875, 0.9423180868374895, 0.9603497793871322, 0.9813397134677769, 0.9863269042512206, 0.9417563814999277, 0.957801393624622, 0.9180602314338698, 0.9656157706433488, 0.9211277281234748, 0.9735789713377199, 0.99333936143954, 0.8438044655947893, 0.8786766210026152, 0.9490887831837834, 0.31694326504820935, 0.6338865300964187, 0.9735737196456189, 0.9569062555839873, 0.9005786132025215, 0.9404443838736737, 0.9407837981510204, 0.9052170780560467, 0.9719799932302711, 0.9378457635825118, 0.5090483510453765, 0.27149245389086746, 0.2036193404181506, 0.8234735826992613, 0.16469471653985227, 0.9118851850230021, 0.9409018720806951, 0.975162052686155, 0.9567653006310795, 0.8861964106165553, 0.878926451683637, 0.125560921669091, 0.21536043004680863, 0.7178681001560288, 0.956966459289061, 0.9676410489286013, 0.980784841996038, 0.9170308382047988, 0.8094072904116597, 0.13490121506860994, 0.9677686936737521, 0.9679672065206075, 0.924237360661077, 0.34388736593969094, 0.6189972586914436, 0.9534533639335309, 0.9531165575925481, 0.11858470683950775, 0.05082201721693189, 0.6183345428060047, 0.10164403443386379, 0.10164403443386379, 0.9832709439131788, 0.9321879875513598, 0.9494412451122186, 0.9223210069945157, 0.9666249367172879, 0.9571533153344437, 0.8823772748879916, 0.920940996228718, 0.9768130634477196, 0.9682302351206741, 0.9249306494218305, 0.9651937360197617, 0.9771488357151198, 0.9858312181877443, 0.9453317934050115, 0.9134894239684159, 0.9801400212490354, 0.9646528643488838, 0.935799468685439, 0.915680580159047, 0.9677311482308426, 0.9491267793799969, 0.6844892637118951, 0.2933525415908122, 0.9628135626219937, 0.9379938306986468, 0.8938228576704238, 0.9396305094374396, 0.9666556456498603, 0.9843018075928398, 0.9901381034008799, 0.32896411370937245, 0.09398974677410642, 0.5639384806446385, 0.9725361636115439, 0.9810480791024618, 0.940904565944119, 0.9509298482278873, 0.946238893393509, 0.9602753024339094, 0.896622719651537, 0.11149005258787814, 0.22298010517575628, 0.6131952892333298, 0.9652819700210558, 0.922670973054055, 0.8841136716823446, 0.8950958427037746, 0.9973293934660602, 0.9785877555693624, 0.9473081655977235, 0.03947117356657181, 0.9693493822602837, 0.990425188673845, 0.18249834197243267, 0.6387441969035144, 0.1368737564793245, 0.9247885002618422, 0.936933653963299, 0.8970650600181751, 0.9519413939395244, 0.9295930874486037, 0.9588147471315746, 0.8882359899389816, 0.9147925141530978, 0.9775244476839812, 0.9627342296214877, 0.9265951683408256, 0.9635980388876587, 0.8776588842157751, 0.9484482801740444, 0.9706582145050233, 0.9501099276423504, 0.923226915345238, 0.9714446750270719, 0.923010800137773, 0.987209851660844, 0.9428077200470462, 0.9269193977055187, 0.9466989461167605, 0.9140560818383072, 0.959947450031712, 0.9583493473823714, 0.9769478209470541, 0.9932596683233146, 0.876923746348508, 0.07307697886237567, 0.924336134292284, 0.9578707615750998, 0.2023705453911528, 0.7420253331008936, 0.06035711974639576, 0.9254758361114016, 0.914477705716083, 0.9505594038482487, 0.9941047012145167, 0.9659430190247451, 0.9450064582419702, 0.993254740579406, 0.7181558434462845, 0.25648422980224445, 0.9813088055211694, 0.7941981487721267, 0.21659949511967092, 0.9547541778676929, 0.7162744413484767, 0.23875814711615892, 0.14517293543749182, 0.7984511449062051, 0.9114167380688866, 0.9462116639771666, 0.949072466219412, 0.9674132930878678, 0.9876074065896765, 0.9377800977774315, 0.9706702788783589, 0.9200017449873946, 0.7727117292546775, 0.19317793231366936, 0.9740778663612097, 0.9744055251765605, 0.9867968310468352, 0.7937989230478824, 0.1984497307619706, 0.9336462883315526, 0.88485040321157, 0.7082991439631682, 0.12318245981968141, 0.12318245981968141, 0.9494439619134494, 0.9791525509694613, 0.8333515135802658, 0.055556767572017725, 0.055556767572017725, 0.9473373030086588, 0.9249703589378852, 0.9685169362210759, 0.9175097627235173, 0.934576707373283, 0.6043094640387406, 0.3525138540225987, 0.906825381371322, 0.9343953106482669, 0.9696405172559152, 0.9521160910997307, 0.9347161760334793, 0.9327725526739444, 0.8541609899490191, 0.7124326523374193, 0.2638639453101553, 0.9353289043296446, 0.8974295147530018, 0.9747582814717204, 0.966723024227088, 0.9610927839877446, 0.9631082326359585, 0.9194519094374435, 0.9676715527306371, 0.12898390907781906, 0.8383954090058239, 0.9547000540495731, 0.9484231643300772, 0.9732109429763993, 0.9751579673754885, 0.9664145036723856, 0.9729580769853509, 0.9740412553972709, 0.9475568712167339, 0.9801671925693906, 0.9660503464161756, 0.20519755953393132, 0.4331948479049661, 0.11399864418551739, 0.22799728837103478, 0.9181943181711796, 0.35184427779753236, 0.603161619081484, 0.937315269380762, 0.9261130609289132, 0.9531603900960752, 0.9237303807987689, 0.968398579189597, 0.9635850922536141, 0.8408297359378467, 0.07006914466148723, 0.9148609950284071, 0.9570340947133003, 0.9139884639078398, 0.966459649123497, 0.8971237019384751, 0.9784828667851578, 0.9846758759828989, 0.9190180079521676, 0.12728598627912122, 0.16971464837216163, 0.6788585934886465, 0.7278203530743226, 0.18195508826858064, 0.060651696089526884, 0.9715973026059899, 0.9527512447452064, 0.967359340130281, 0.9797638817084102, 0.9792099090642677, 0.9784079106065396, 0.9494563798282922, 0.9542627504172321, 0.9665950159161312, 0.9072549626502597, 0.9864035241311612, 0.9868677364973889, 0.9486321835416177, 0.9450594791007383, 0.9571519821017145, 0.9462725049611055, 0.9621274525766538, 0.8938797891344898, 0.968432313720604, 0.9273583076274312, 0.9113577357449086, 0.8939225077087432, 0.8941824160534219, 0.9311614168977629, 0.9601227002366604, 0.02743207714961887, 0.9525678381080532, 0.9639026840812179, 0.9752935540292562, 0.9395074800539704, 0.9693295750648788, 0.9634006185999922, 0.9899918733648876, 0.20565076511286004, 0.7344670182602144, 0.014689340365204287, 0.044068021095612864, 0.9608290407672819, 0.15858704980908847, 0.15858704980908847, 0.6343481992363539, 0.9416198767986186, 0.6759682846892149, 0.1502151743753811, 0.11266138078153581, 0.9456187813815229, 0.054818480080088286, 0.556194797207426, 0.12359884382387247, 0.1544985547798406, 0.12359884382387247, 0.8879071906907225, 0.9891748094020583, 0.9393445169537249, 0.9178412334396662, 0.9190477880018911, 0.8843465209775107, 0.06788821183799894, 0.9164908598129857, 0.9768842643918988, 0.9235530624661817, 0.201006571000472, 0.7370240936683974, 0.9557564300449376, 0.05866609881766671, 0.2053313458618335, 0.5866609881766671, 0.11733219763533342, 0.9681055988352119, 0.9326536945743749, 0.9421437032628962, 0.9317078450392295, 0.9794037778925363, 0.9436483479094089, 0.949022260141646, 0.977434571569617, 0.9464309764023628, 0.9456907279138752, 0.933282353226679, 0.9629780542013068, 0.9778172930800989, 0.9461850874137313, 0.9416733811369562, 0.9695028437640705, 0.9509799567016783, 0.9272250516057725, 0.9735606696003436, 0.9467519053546624, 0.22544628844490266, 0.7729587032396663, 0.9140235479925668, 0.9062739332645698, 0.909104835383347, 0.23587962575529134, 0.7413359666594871, 0.928025346910045, 0.9345911287239566, 0.943994849714027, 0.19782992756311535, 0.593489782689346, 0.19782992756311535, 0.9613873566980963, 0.9626083232571905, 0.9646057649191192, 0.9497005215207107, 0.9252262622198056, 0.9524403404416757, 0.8875593580056182, 0.1733538263422791, 0.6500768487835467, 0.1733538263422791, 0.9604488336322814, 0.08310435730582572, 0.8310435730582572, 0.8951835068731782, 0.2004309942234249, 0.7349136454858912, 0.8826299493589262, 0.9589482547837725, 0.9820781458986337, 0.9652453479213915, 0.7061714019409923, 0.261544963681849, 0.9014114292953547, 0.9634653889890101, 0.9930253326761219, 0.9817369290264828, 0.9397697769845894, 0.9787718114750735, 0.9677411888909915, 0.9165125844891842, 0.9622450686749257, 0.940915394204002, 0.9145284160280528, 0.8985591510375907, 0.9773716707089244, 0.9630338889060427, 0.9656987928389015, 0.9675316005678017, 0.9204953926591586, 0.9888909495097707, 0.9838824485423924, 0.9256567209935842, 0.9613705047309136, 0.6992029870663969, 0.27191227274804325, 0.9734534877028793, 0.9677649855170279, 0.8619601330610435, 0.08209144124390891, 0.9724887689749062, 0.9588627129451801, 0.9334093574527892, 0.9345143157743026], \"Term\": [\"abierto\", \"aborto\", \"acabar\", \"acci\\u00f3n\", \"acoso\", \"adi\\u00f3s\", \"adi\\u00f3s\", \"agro\", \"agro\", \"agua\", \"aire\", \"alcalde\", \"all\\u00e1\", \"alto\", \"ambiente\", \"amigo\", \"amor\", \"am\\u00e9rica\", \"anticorrupci\\u00f3n\", \"aprender\", \"apuesta\", \"arma\", \"arte\", \"a\\u00f1o\", \"beso\", \"bicentenario\", \"bienvenido\", \"blanco\", \"blanco\", \"bogot\\u00e1\", \"brasil\", \"brexit\", \"buscar\", \"cadena\", \"cali\", \"calle\", \"cambiar\", \"cambio\", \"cambio\", \"cambio\", \"camino\", \"camino\", \"campa\\u00f1a\", \"campesino\", \"campo\", \"candidato\", \"cara\", \"carta\", \"carta\", \"cartar\", \"cartar\", \"casa\", \"censura\", \"centro\", \"chino\", \"ciencia\", \"ciencia\", \"ciudad\", \"ciudadano\", \"clase\", \"claudia\", \"claudia\", \"coalici\\u00f3n\", \"coca\", \"colombia\", \"colombia\", \"colombia\", \"colombia\", \"colombia\", \"colombiano\", \"columna\", \"confianza\", \"conflicto\", \"congreso\", \"consulta\", \"contar\", \"coraz\\u00f3n\", \"coronavirus\", \"corrupci\\u00f3n\", \"corrupto\", \"corte\", \"cosa\", \"covid\", \"crecimiento\", \"crimen\", \"crisis\", \"cuarentena\", \"cuba\", \"cuesti\\u00f3n\", \"cuidado\", \"culpa\", \"cultura\", \"cultura\", \"c\\u00e1rcel\", \"debate\", \"deber\", \"decir\", \"decisi\\u00f3n\", \"defensa\", \"democracia\", \"democr\\u00e1tico\", \"democr\\u00e1tico\", \"democr\\u00e1tico\", \"derecha\", \"derecho\", \"desaf\\u00edo\", \"desarrollo\", \"desigualdad\", \"despertar\", \"dif\\u00edcil\", \"digital\", \"digital\", \"digital\", \"dilema\", \"dios\", \"discurso\", \"di\\u00e1logo\", \"duque\", \"econom\\u00eda\", \"econ\\u00f3mico\", \"econ\\u00f3mico\", \"educaci\\u00f3n\", \"elecci\\u00f3n\", \"electoral\", \"electoral\", \"electoral\", \"eln\", \"elogio\", \"emergencia\", \"empleo\", \"encuesta\", \"enemigo\", \"epm\", \"error\", \"esperanza\", \"estrategia\", \"estudiante\", \"eterno\", \"facebook\", \"fajardo\", \"fantasma\", \"farc\", \"favor\", \"feliz\", \"fiesta\", \"fiscal\", \"frontera\", \"fuego\", \"fuerza\", \"fundamental\", \"futuro\", \"f\\u00fatbol\", \"ganar\", \"gazapera\", \"general\", \"general\", \"gente\", \"global\", \"gobernar\", \"gobernar\", \"gobierno\", \"gobierno\", \"golpe\", \"gracias\", \"guerra\", \"gustavo\", \"g\\u00f3mez\", \"historia\", \"hombre\", \"hombre\", \"hora\", \"humano\", \"humano\", \"h\\u00e9roe\", \"idea\", \"idea\", \"impuesto\", \"impuesto\", \"incertidumbre\", \"independencia\", \"internacional\", \"internet\", \"iv\\u00e1n\", \"izquierda\", \"jep\", \"joven\", \"juego\", \"juego\", \"jugar\", \"justicia\", \"lecci\\u00f3n\", \"leer\", \"leer\", \"legado\", \"lejos\", \"ley\", \"ley\", \"ley\", \"libertad\", \"libro\", \"liderazgo\", \"liderazgo\", \"liderazgo\", \"literatura\", \"llamado\", \"llegar\", \"lugar\", \"luz\", \"l\\u00edder\", \"l\\u00edder\", \"l\\u00f3pez\", \"maduro\", \"maestro\", \"malo\", \"mano\", \"marcha\", \"mart\\u00ednez\", \"maruja\", \"maruja\", \"mar\\u00eda\", \"masacre\", \"matar\", \"medell\\u00edn\", \"memoria\", \"mentira\", \"mermelada\", \"miedo\", \"militar\", \"militar\", \"minga\", \"ministro\", \"moral\", \"morir\", \"muerte\", \"muerto\", \"mujer\", \"mundial\", \"mundo\", \"m\\u00fasica\", \"nacional\", \"nacional\", \"nacional\", \"nacional\", \"naci\\u00f3n\", \"naranja\", \"naranja\", \"navidad\", \"necesario\", \"necesitar\", \"negocio\", \"negro\", \"ni\\u00f1o\", \"nombre\", \"nombre\", \"nostalgia\", \"noticia\", \"objeci\\u00f3n\", \"obra\", \"odebrecht\", \"odio\", \"ojo\", \"opci\\u00f3n\", \"oportunidad\", \"oportunidad\", \"oportunidad\", \"oposici\\u00f3n\", \"oposici\\u00f3n\", \"oposici\\u00f3n\", \"orden\", \"oro\", \"pacto\", \"pagar\", \"palabra\", \"pandemia\", \"paro\", \"partido\", \"pasar\", \"patria\", \"paz\", \"pa\\u00eds\", \"pecado\", \"peligro\", \"peligroso\", \"pensamiento\", \"pensar\", \"peque\\u00f1o\", \"perder\", \"perdido\", \"periodismo\", \"periodista\", \"personaje\", \"peste\", \"petro\", \"petro\", \"plan\", \"plata\", \"pobre\", \"pobreza\", \"polarizaci\\u00f3n\", \"polic\\u00eda\", \"pol\\u00edtica\", \"pol\\u00edtico\", \"pol\\u00edtico\", \"pol\\u00edtico\", \"pol\\u00edtico\", \"populismo\", \"pregunta\", \"pregunta\", \"pregunta\", \"presente\", \"presidencial\", \"presidencial\", \"presidencial\", \"presidente\", \"presidente\", \"prima\", \"prima\", \"prima\", \"prima\", \"principio\", \"problema\", \"profesor\", \"propuesta\", \"prop\\u00f3sito\", \"protecci\\u00f3n\", \"protesta\", \"protesta\", \"proyecto\", \"prueba\", \"pueblo\", \"pueblo\", \"punto\", \"p\\u00fablico\", \"p\\u00fablico\", \"p\\u00fablico\", \"p\\u00fablico\", \"querer\", \"raz\\u00f3n\", \"reactivaci\\u00f3n\", \"real\", \"realidad\", \"red\", \"reflexi\\u00f3n\", \"reforma\", \"regreso\", \"rep\\u00fablica\", \"reto\", \"retorno\", \"revoluci\\u00f3n\", \"rey\", \"rico\", \"riesgo\", \"rural\", \"r\\u00edo\", \"salario\", \"salir\", \"salud\", \"salud\", \"salvar\", \"sangre\", \"santo\", \"santos\", \"santos\", \"santrich\", \"secreto\", \"seguir\", \"seguridad\", \"seguridad\", \"seguridad\", \"semana\", \"serio\", \"sexual\", \"se\\u00f1or\", \"siglo\", \"silencio\", \"sistema\", \"social\", \"social\", \"social\", \"soledad\", \"solidaridad\", \"solidaridad\", \"soluci\\u00f3n\", \"tecnolog\\u00eda\", \"tecnolog\\u00eda\", \"territorio\", \"terror\", \"tiempo\", \"tierra\", \"tola\", \"tola\", \"tragedia\", \"trampa\", \"trump\", \"universidad\", \"uribe\", \"uribir\", \"uribismo\", \"uribista\", \"vacuna\", \"valor\", \"vargas\", \"venezolano\", \"venezuela\", \"venir\", \"ver\", \"verde\", \"viaje\", \"vida\", \"viejo\", \"viento\", \"violencia\", \"virus\", \"virus\", \"vivir\", \"volver\", \"votar\", \"votar\", \"voto\", \"vuelta\", \"v\\u00edctima\", \"\\u00e1lvaro\"]}, \"R\": 30, \"lambda.step\": 0.01, \"plot.opts\": {\"xlab\": \"PC1\", \"ylab\": \"PC2\"}, \"topic.order\": [10, 6, 1, 2, 8, 7, 3, 5, 9, 4]};\n",
       "\n",
       "function LDAvis_load_lib(url, callback){\n",
       "  var s = document.createElement('script');\n",
       "  s.src = url;\n",
       "  s.async = true;\n",
       "  s.onreadystatechange = s.onload = callback;\n",
       "  s.onerror = function(){console.warn(\"failed to load library \" + url);};\n",
       "  document.getElementsByTagName(\"head\")[0].appendChild(s);\n",
       "}\n",
       "\n",
       "if(typeof(LDAvis) !== \"undefined\"){\n",
       "   // already loaded: just create the visualization\n",
       "   !function(LDAvis){\n",
       "       new LDAvis(\"#\" + \"ldavis_el1311621805153204004779741955\", ldavis_el1311621805153204004779741955_data);\n",
       "   }(LDAvis);\n",
       "}else if(typeof define === \"function\" && define.amd){\n",
       "   // require.js is available: use it to load d3/LDAvis\n",
       "   require.config({paths: {d3: \"https://d3js.org/d3.v5\"}});\n",
       "   require([\"d3\"], function(d3){\n",
       "      window.d3 = d3;\n",
       "      LDAvis_load_lib(\"https://cdn.jsdelivr.net/gh/bmabey/pyLDAvis@3.4.0/pyLDAvis/js/ldavis.v3.0.0.js\", function(){\n",
       "        new LDAvis(\"#\" + \"ldavis_el1311621805153204004779741955\", ldavis_el1311621805153204004779741955_data);\n",
       "      });\n",
       "    });\n",
       "}else{\n",
       "    // require.js not available: dynamically load d3 & LDAvis\n",
       "    LDAvis_load_lib(\"https://d3js.org/d3.v5.js\", function(){\n",
       "         LDAvis_load_lib(\"https://cdn.jsdelivr.net/gh/bmabey/pyLDAvis@3.4.0/pyLDAvis/js/ldavis.v3.0.0.js\", function(){\n",
       "                 new LDAvis(\"#\" + \"ldavis_el1311621805153204004779741955\", ldavis_el1311621805153204004779741955_data);\n",
       "            })\n",
       "         });\n",
       "}\n",
       "</script>"
      ],
      "text/plain": [
       "PreparedData(topic_coordinates=              x         y  topics  cluster       Freq\n",
       "topic                                                \n",
       "9      0.231420 -0.229889       1        1  10.848092\n",
       "5     -0.113972 -0.022858       2        1  10.721805\n",
       "0      0.100154  0.176266       3        1  10.255510\n",
       "1     -0.158537 -0.128538       4        1  10.179660\n",
       "7      0.201470 -0.025822       5        1  10.146594\n",
       "6      0.002906  0.114367       6        1   9.975868\n",
       "2      0.017808  0.093220       7        1   9.945304\n",
       "4     -0.123221 -0.151572       8        1   9.938658\n",
       "8     -0.149681  0.010216       9        1   9.122998\n",
       "3     -0.008346  0.164609      10        1   8.865510, topic_info=          Term        Freq       Total Category  logprob  loglift\n",
       "405      duque  122.000000  122.000000  Default  30.0000  30.0000\n",
       "92         año   96.000000   96.000000  Default  29.0000  29.0000\n",
       "960        paz   97.000000   97.000000  Default  28.0000  28.0000\n",
       "560   gazapera   78.000000   78.000000  Default  27.0000  27.0000\n",
       "961       país   72.000000   72.000000  Default  26.0000  26.0000\n",
       "...        ...         ...         ...      ...      ...      ...\n",
       "784   martínez    7.379927    8.195176  Topic10  -5.1471   2.3182\n",
       "638   impuesto   22.460204   27.553345  Topic10  -4.0341   2.2186\n",
       "1028  pregunta   11.756833   18.917055  Topic10  -4.6815   1.9474\n",
       "862    naranja   12.028694   19.895165  Topic10  -4.6586   1.9198\n",
       "22        agro    8.377077   10.532888  Topic10  -5.0204   2.1940\n",
       "\n",
       "[382 rows x 6 columns], token_table=      Topic      Freq     Term\n",
       "term                          \n",
       "1         7  0.905958  abierto\n",
       "3         7  0.931172   aborto\n",
       "7        10  0.941796   acabar\n",
       "11        8  0.896919   acción\n",
       "12       10  0.949338    acoso\n",
       "...     ...       ...      ...\n",
       "1382      5  0.082091    votar\n",
       "1383      2  0.972489     voto\n",
       "1385      5  0.958863   vuelta\n",
       "1387      5  0.933409  víctima\n",
       "1392      3  0.934514   álvaro\n",
       "\n",
       "[422 rows x 3 columns], R=30, lambda_step=0.01, plot_opts={'xlab': 'PC1', 'ylab': 'PC2'}, topic_order=[10, 6, 1, 2, 8, 7, 3, 5, 9, 4])"
      ]
     },
     "execution_count": 38,
     "metadata": {},
     "output_type": "execute_result"
    }
   ],
   "source": [
    "pyLDAvis.lda_model.prepare(lda_tfidf, dtm_tfidf, tfidf_vectorizer)"
   ]
  },
  {
   "cell_type": "code",
   "execution_count": 92,
   "id": "c01e63f3",
   "metadata": {},
   "outputs": [],
   "source": [
    "pyLDAvis.disable_notebook()"
   ]
  },
  {
   "cell_type": "code",
   "execution_count": 151,
   "id": "d05f877e",
   "metadata": {},
   "outputs": [
    {
     "name": "stdout",
     "output_type": "stream",
     "text": [
      "Collecting pyldavisNote: you may need to restart the kernel to use updated packages.\n",
      "\n",
      "  Using cached pyLDAvis-3.4.1-py3-none-any.whl.metadata (4.2 kB)\n",
      "Requirement already satisfied: numpy>=1.24.2 in c:\\users\\karen\\anaconda3\\lib\\site-packages (from pyldavis) (1.26.4)\n",
      "Requirement already satisfied: scipy in c:\\users\\karen\\anaconda3\\lib\\site-packages (from pyldavis) (1.11.4)\n",
      "Requirement already satisfied: pandas>=2.0.0 in c:\\users\\karen\\anaconda3\\lib\\site-packages (from pyldavis) (2.3.1)\n",
      "Requirement already satisfied: joblib>=1.2.0 in c:\\users\\karen\\anaconda3\\lib\\site-packages (from pyldavis) (1.4.2)\n",
      "Requirement already satisfied: jinja2 in c:\\users\\karen\\anaconda3\\lib\\site-packages (from pyldavis) (3.1.4)\n",
      "Requirement already satisfied: numexpr in c:\\users\\karen\\anaconda3\\lib\\site-packages (from pyldavis) (2.8.7)\n",
      "Requirement already satisfied: funcy in c:\\users\\karen\\anaconda3\\lib\\site-packages (from pyldavis) (2.0)\n",
      "Requirement already satisfied: scikit-learn>=1.0.0 in c:\\users\\karen\\anaconda3\\lib\\site-packages (from pyldavis) (1.7.1)\n",
      "Requirement already satisfied: gensim in c:\\users\\karen\\anaconda3\\lib\\site-packages (from pyldavis) (4.3.3)\n",
      "Requirement already satisfied: setuptools in c:\\users\\karen\\anaconda3\\lib\\site-packages (from pyldavis) (75.1.0)\n",
      "Requirement already satisfied: python-dateutil>=2.8.2 in c:\\users\\karen\\anaconda3\\lib\\site-packages (from pandas>=2.0.0->pyldavis) (2.9.0.post0)\n",
      "Requirement already satisfied: pytz>=2020.1 in c:\\users\\karen\\anaconda3\\lib\\site-packages (from pandas>=2.0.0->pyldavis) (2024.1)\n",
      "Requirement already satisfied: tzdata>=2022.7 in c:\\users\\karen\\anaconda3\\lib\\site-packages (from pandas>=2.0.0->pyldavis) (2023.3)\n",
      "Requirement already satisfied: threadpoolctl>=3.1.0 in c:\\users\\karen\\anaconda3\\lib\\site-packages (from scikit-learn>=1.0.0->pyldavis) (3.5.0)\n",
      "Requirement already satisfied: smart-open>=1.8.1 in c:\\users\\karen\\anaconda3\\lib\\site-packages (from gensim->pyldavis) (5.2.1)\n",
      "Requirement already satisfied: MarkupSafe>=2.0 in c:\\users\\karen\\anaconda3\\lib\\site-packages (from jinja2->pyldavis) (2.1.3)\n",
      "Requirement already satisfied: six>=1.5 in c:\\users\\karen\\anaconda3\\lib\\site-packages (from python-dateutil>=2.8.2->pandas>=2.0.0->pyldavis) (1.16.0)\n",
      "Using cached pyLDAvis-3.4.1-py3-none-any.whl (2.6 MB)\n",
      "Installing collected packages: pyldavis\n",
      "Successfully installed pyldavis-3.4.1\n"
     ]
    }
   ],
   "source": [
    "%pip install pyldavis"
   ]
  },
  {
   "cell_type": "markdown",
   "id": "439f0fe2",
   "metadata": {},
   "source": [
    "# Texto Completo LDA"
   ]
  },
  {
   "cell_type": "markdown",
   "id": "3cf3b64a",
   "metadata": {},
   "source": [
    "## Preprocesamiento y representación vectorial"
   ]
  },
  {
   "cell_type": "code",
   "execution_count": 7,
   "id": "ebecbd00",
   "metadata": {},
   "outputs": [
    {
     "name": "stdout",
     "output_type": "stream",
     "text": [
      "{'sí', 'tus', 'hago', 'qué', 'solos', 'tener', 'será', 'nuevo', 'podemos', 'son', 'estamos', 'queremos', 'va', 'podeis', 'eso', 'los', 'muchas', 'lleva', 'o', 'hicieron', 'qeu', 'tuyos', 'mediante', 'excepto', 'cuando', 'tenga', 'cualquier', 'este', 'diez', 'por', 'ésta', 'ésas', 'ellos', 'mismo', 'debe', 'deben', 'da', 'nada', 'está', 'cierto', 'bien', 'segundo', 'cuánta', 'nuestras', 'pasada', 'podrán', 'tendrán', 'peor', 'cuál', 'les', 'poco', 'parece', 'uno', 'tuvo', 'sin', 'expresó', 'nuestro', 'seis', 'aquel', 'tanto', 'saber', 'aquella', 'partir', 'tercera', 'podrían', 'así', 'ningunos', 'encuentra', 'habrá', 'consiguen', 'estaba', 'también', 'éstos', 'manera', 'podrá', 'usa', 'ahi', 'mucho', 'te', 'sólo', 'estas', 'tuya', 'soy', 'hacerlo', 'detras', 'sera', 'poner', 'mi', 'pues', 'tendrá', 'eran', 'fuimos', 'ahí', 'igual', 'existe', 'ésa', 'despacio', 'he', 'usas', 'cuáles', 'quedó', 'yo', 'ya', 'habia', 'todo', 'entre', 'respecto', 'fue', 'esa', 'primeros', 'dijo', 'siempre', 'ello', 'ellas', 'siguiente', 'él', 'manifestó', 'aqui', 'tiene', 'estuvo', 'somos', 'pronto', 'tuyo', 'haber', 'dias', 'dar', 'estaban', 'vosotros', 'tercero', 'señaló', 'ésos', 'cierta', 'posible', 'tres', 'suyo', 'además', 'nuevas', 'debido', 'haceis', 'sois', 'menudo', 'aunque', 'nosotras', 'cuenta', 'puedo', 'era', 'alli', 'después', 'algunos', 'mía', 'dieron', 'podrias', 'muchos', 'dio', 'paìs', 'poder', 'otros', 'ciertas', 'sé', 'durante', 'claro', 'que', 'una', 'mia', 'mencionó', 'al', 'luego', 'había', 'según', 'anterior', 'misma', 'habían', 'buen', 'ser', 'no', 'hablan', 'habla', 'mismas', 'todos', 'junto', 'todavía', 'dijeron', 'supuesto', 'pudo', 'vuestros', 'suya', 'tal', 'míos', 'aquéllas', 'dos', 'realizó', 'hecho', 'medio', 'estoy', 'de', 'dicen', 'contra', 'informo', 'diferente', 'once', 'primer', 'largo', 'modo', 'muy', 'sino', 'puede', 'repente', 'veces', 'esos', 'hacia', 'días', 'solas', 'tambien', 'mucha', 'enfrente', 'dan', 'lo', 'antes', 'aquélla', 'indicó', 'mio', 'varios', 'grande', 'conseguir', 'tú', 'cuatro', 'pesar', 'todas', 'quizá', 'tan', 'ningún', 'despues', 'siendo', 'las', 'dentro', 'tenía', 'e', 'esas', 'tenido', 'sabes', 'cuantos', 'sabemos', 'existen', 'están', 'acuerdo', 'trata', 'doce', 'aquí', 'aproximadamente', 'unos', 'alguno', 'arriba', 'haciendo', 'alrededor', 'verdadera', 'enseguida', 'solamente', 'hacemos', 'próximo', 'hubo', 'dónde', 'asi', 'ninguna', 'otras', 'primera', 'deprisa', 'podriamos', 'nueve', 'suyas', 'a', 'podría', 'segunda', 'atras', 'nuevos', 'sea', 'desde', 'mis', 'apenas', 'ella', 'realizado', 'hemos', 'quizas', 'uso', 'fuera', 'unas', 'estos', 'sabe', 'pocos', 'tu', 'creo', 'quienes', 'decir', 'dejó', 'ha', 'vuestro', 'encima', 'aun', 'cinco', 'pasado', 'del', 'como', 'se', 'ahora', 'cuánto', 'podria', 'adelante', 'consigo', 'próximos', 'éstas', 'estais', 'otra', 'algunas', 'informó', 'vais', 'bajo', 'eres', 'agregó', 'segun', 'quien', 'cuanto', 'delante', 'más', 'algo', 'diferentes', 'nuestra', 'realizar', 'demás', 'la', 'solo', 'propios', 'pueden', 'ese', 'parte', 'estar', 'cómo', 'debajo', 'vamos', 'aquello', 'entonces', 'aquellos', 'éste', 'hasta', 'hacer', 'le', 'todavia', 'vosotras', 'van', 'mías', 'estado', 'bastante', 'me', 'ademas', 'os', 'sola', 'siete', 'cada', 'incluso', 'grandes', 'alguna', 'quizás', 'nosotros', 'ése', 'cuantas', 'dia', 'cuanta', 'gran', 'consigues', 'haces', 'cuántos', 'eramos', 'poca', 'hay', 'conocer', 'propias', 'verdad', 'ver', 'allí', 'última', 'comentó', 'vaya', 'menos', 'cuántas', 'ocho', 'fueron', 'sus', 'hacen', 'mayor', 'han', 'aún', 'mias', 'buenos', 'último', 'serán', 'ni', 'mas', 'primero', 'pero', 'usan', 'ningunas', 'ustedes', 'haya', 'través', 'contigo', 'usted', 'ante', 'quiénes', 'varias', 'ninguno', 'ti', 'hace', 'últimos', 'porque', 'mientras', 'sido', 'tienen', 'verdadero', 'donde', 'temprano', 'tras', 'ambos', 'dado', 'vez', 'embargo', 'eras', 'fui', 'usamos', 'ciertos', 'conmigo', 'ultimo', 'aseguró', 'tuyas', 'mejor', 'final', 'nadie', 'saben', 'cual', 'demasiado', 'el', 'pocas', 'suyos', 'buenas', 'detrás', 'voy', 'sobre', 'hizo', 'para', 'añadió', 'cuales', 'aquellas', 'estados', 'nos', 'esto', 'mío', 'si', 'es', 'podrian', 'tenemos', 'buena', 'día', 'llegó', 'propia', 'algún', 'ir', 'últimas', 'considera', 'tarde', 'usais', 'conseguimos', 'con', 'mismos', 'quiere', 'dice', 'podriais', 'total', 'usar', 'estan', 'nueva', 'sean', 'mal', 'sería', 'quién', 'proximo', 'otro', 'en', 'pueda', 'un', 'su', 'dicho', 'fin', 'y', 'hoy', 'tengo', 'casi', 'sabeis', 'nuestros', 'u', 'aquél', 'nunca', 'sigue', 'vuestra', 'toda', 'teneis', 'llevar', 'propio', 'esta', 'cuándo', 'breve', 'estará', 'consideró', 'vuestras', 'bueno', 'aquéllos', 'afirmó', 'lado', 'mí', 'tampoco', 'consigue', 'quiza', 'salvo', 'explicó', 'mios'}\n"
     ]
    }
   ],
   "source": [
    "# Para ver las stopwords en español\n",
    "print(STOP_WORDS)"
   ]
  },
  {
   "cell_type": "code",
   "execution_count": 57,
   "id": "e9a36858",
   "metadata": {},
   "outputs": [],
   "source": [
    "# Añadir stopwords \n",
    "nlp.Defaults.stop_words |= {\"tola\",\"maruja\",\"gazapera\"}"
   ]
  },
  {
   "cell_type": "code",
   "execution_count": 65,
   "id": "dce7062b",
   "metadata": {},
   "outputs": [],
   "source": [
    "# Procesar los primeros 1000 textos de columnas, eliminando urls, stopwords del diccionario de Spacy y lematizando\n",
    "procesar = False\n",
    "if procesar:\n",
    "    columnas_procesadas = corpus_completo['Texto'].astype(str).apply(preprocesar_texto)\n"
   ]
  },
  {
   "cell_type": "code",
   "execution_count": 66,
   "id": "0ebc728b",
   "metadata": {},
   "outputs": [],
   "source": [
    "# Guardar en archivo JSON el texto procesado para evitar correrlo de nuevo\n",
    "with open('columnas_procesadas.json', 'w', encoding='utf-8') as f:\n",
    "    json.dump(columnas_procesadas.tolist(), f, ensure_ascii=False, indent=4)  "
   ]
  },
  {
   "cell_type": "code",
   "execution_count": 58,
   "id": "690553c0",
   "metadata": {},
   "outputs": [],
   "source": [
    "# Cargar el texto procesado desde el archivo JSON\n",
    "with open('columnas_procesadas.json', 'r', encoding='utf-8') as f:\n",
    "    columnas_procesadas = pd.Series(json.load(f))"
   ]
  },
  {
   "cell_type": "code",
   "execution_count": 59,
   "id": "4bdf8c62",
   "metadata": {},
   "outputs": [
    {
     "name": "stdout",
     "output_type": "stream",
     "text": [
      "count    13344.000000\n",
      "mean       252.886016\n",
      "std         90.060471\n",
      "min         53.000000\n",
      "25%        209.000000\n",
      "50%        237.000000\n",
      "75%        275.000000\n",
      "max       2259.000000\n",
      "dtype: float64\n"
     ]
    }
   ],
   "source": [
    "longitudes = columnas_procesadas.apply(lambda x: len(x.split()))\n",
    "\n",
    "print(longitudes.describe())"
   ]
  },
  {
   "cell_type": "code",
   "execution_count": 60,
   "id": "a97b628b",
   "metadata": {},
   "outputs": [],
   "source": [
    "def eliminar_bigrama(texto):\n",
    "    return texto.replace(\"email protected\", \"\")\n",
    "columnas_procesadas = columnas_procesadas.apply(eliminar_bigrama)"
   ]
  },
  {
   "cell_type": "markdown",
   "id": "9a9c9833",
   "metadata": {},
   "source": [
    "Para la representación se puede matriz término documento por frecuencia y matriz con ponderación tf-idf, consideraré los bigramas también.\n",
    "\n",
    "El parametro max_df indica ignorar palabras que aparecen en un porcentaje de documentos mayor al dado (ignorar palabras muy frecuentes). El min_df es la frecuencia mínima en documentos, para eliminar palabras muy raras."
   ]
  },
  {
   "cell_type": "code",
   "execution_count": 61,
   "id": "d5b2bd08",
   "metadata": {},
   "outputs": [],
   "source": [
    "tfidf_vectorizer = TfidfVectorizer(ngram_range=(2, 4), max_df=0.7, min_df=10, max_features=15000)\n",
    "matriz_columnas = tfidf_vectorizer.fit_transform(columnas_procesadas)"
   ]
  },
  {
   "cell_type": "code",
   "execution_count": 62,
   "id": "e732227d",
   "metadata": {},
   "outputs": [
    {
     "data": {
      "text/plain": [
       "(13344, 12845)"
      ]
     },
     "execution_count": 62,
     "metadata": {},
     "output_type": "execute_result"
    }
   ],
   "source": [
    "matriz_columnas.shape"
   ]
  },
  {
   "cell_type": "markdown",
   "id": "1e0403de",
   "metadata": {},
   "source": [
    "## Modelado Tópicos LDA\n",
    "https://nbviewer.org/github/bmabey/pyLDAvis/blob/master/notebooks/LDA%20model.ipynb#topic=0&lambda=1&term= Para visualizar"
   ]
  },
  {
   "cell_type": "code",
   "execution_count": 75,
   "id": "29d01b09",
   "metadata": {},
   "outputs": [],
   "source": [
    "# Función para mostrar los tópicos\n",
    "def mostrar_topicos(modelo, vectorizer, n_palabras=10):\n",
    "    palabras = vectorizer.get_feature_names_out()\n",
    "    for idx, topico in enumerate(modelo.components_):\n",
    "        print(f\"Tópico #{idx}:\")\n",
    "        print(\", \".join([palabras[i] for i in topico.argsort()[:-n_palabras - 1:-1]]))\n",
    "        print()"
   ]
  },
  {
   "cell_type": "code",
   "execution_count": 64,
   "id": "8bce32c1",
   "metadata": {},
   "outputs": [
    {
     "name": "stdout",
     "output_type": "stream",
     "text": [
      "Tópico #0:\n",
      "donald trump, casa blanca, presidente trump, guerra mundial, política exterior, presidente unidos, medios comunicación, reino unido, unión europea, corea norte\n",
      "\n",
      "Tópico #1:\n",
      "frutas verduras, santo domingo, real madrid, desarrollo personalidad, libre desarrollo, duras penas, libre desarrollo personalidad, teatro santo, teatro santo domingo, garcía lorca\n",
      "\n",
      "Tópico #2:\n",
      "iván duque, centro democrático, álvaro uribe, corte suprema, gustavo petro, vargas lleras, presidente duque, juan manuel, uribe vélez, juan manuel santos\n",
      "\n",
      "Tópico #3:\n",
      "medios comunicación, presidente duque, libertad expresión, dosis mínima, lleras restrepo, carlos lleras, juan pablo, libertad prensa, investigador dejusticia, dejusticia profesor\n",
      "\n",
      "Tópico #4:\n",
      "lópez obrador, memoria histórica, nacional memoria, centro nacional, centro nacional memoria, nacional memoria histórica, centro nacional memoria histórica, cambio climático, manuel lópez, manuel lópez obrador\n",
      "\n",
      "Tópico #5:\n",
      "líderes sociales, derechos humanos, conflicto armado, defensores derechos humanos, defensores derechos, asesinatos líderes, grupos armados, retorno inversión, asesinatos líderes sociales, vale pena\n",
      "\n",
      "Tópico #6:\n",
      "derechos humanos, conflicto armado, grupos armados, violencia sexual, naciones unidas, fuerza pública, corte constitucional, derecho internacional, cambio climático, guerra drogas\n",
      "\n",
      "Tópico #7:\n",
      "vicepresidenta marta lucía ramírez, vicepresidenta marta lucía, vicepresidenta marta, presidente duque, marta lucía, derechos humanos, líderes sociales, muro berlín, marta lucía ramírez, fuerzas armadas\n",
      "\n",
      "Tópico #8:\n",
      "néstor humberto, humberto martínez, néstor humberto martínez, fiscal general, garcía márquez, grupo aval, corte constitucional, millones pesos, gabriel garcía, martínez neira\n",
      "\n",
      "Tópico #9:\n",
      "américa latina, educación superior, gobierno nacional, salario mínimo, reforma tributaria, millones personas, crecimiento económico, banco república, cambio climático, presidente duque\n",
      "\n"
     ]
    }
   ],
   "source": [
    "# Modelado de tópicos con LDA\n",
    "lda = LatentDirichletAllocation(n_components=10, random_state=42)\n",
    "lda.fit(matriz_columnas)\n",
    "\n",
    "mostrar_topicos(lda, tfidf_vectorizer)"
   ]
  },
  {
   "cell_type": "code",
   "execution_count": 76,
   "id": "a3e978b8",
   "metadata": {},
   "outputs": [
    {
     "data": {
      "text/plain": [
       "True"
      ]
     },
     "execution_count": 76,
     "metadata": {},
     "output_type": "execute_result"
    }
   ],
   "source": [
    "vis_data = pyLDAvis.lda_model.prepare(lda, matriz_columnas, tfidf_vectorizer)\n",
    "\n",
    "# Guardar como HTML y abrir en navegador\n",
    "pyLDAvis.save_html(vis_data, 'lda_visualization.html')\n",
    "import webbrowser\n",
    "webbrowser.open('lda_visualization.html')"
   ]
  },
  {
   "cell_type": "markdown",
   "id": "d61ee3f6",
   "metadata": {},
   "source": [
    "## BERTopic\n",
    "\n",
    "https://maartengr.github.io/BERTopic/index.html#common Documentación del BERTopic\n",
    "\n",
    "https://huggingface.co/dccuchile/bert-base-spanish-wwm-uncased \n",
    "\n",
    "https://colab.research.google.com/drive/18arPPe50szvcCp_Y6xS56H2tY0m-RLqv?usp=sharing#scrollTo=VUNsYrCETNar  Colab con ejemplo de uso\n"
   ]
  },
  {
   "cell_type": "code",
   "execution_count": null,
   "id": "76e38e47",
   "metadata": {},
   "outputs": [],
   "source": [
    "%pip install bertopic"
   ]
  },
  {
   "cell_type": "code",
   "execution_count": null,
   "id": "e81d6e78",
   "metadata": {},
   "outputs": [
    {
     "name": "stdout",
     "output_type": "stream",
     "text": [
      "Collecting tf-keras\n",
      "  Downloading tf_keras-2.19.0-py3-none-any.whl.metadata (1.8 kB)\n",
      "Requirement already satisfied: tensorflow<2.20,>=2.19 in c:\\users\\karen\\anaconda3\\lib\\site-packages (from tf-keras) (2.19.0)\n",
      "Requirement already satisfied: absl-py>=1.0.0 in c:\\users\\karen\\anaconda3\\lib\\site-packages (from tensorflow<2.20,>=2.19->tf-keras) (2.2.2)\n",
      "Requirement already satisfied: astunparse>=1.6.0 in c:\\users\\karen\\anaconda3\\lib\\site-packages (from tensorflow<2.20,>=2.19->tf-keras) (1.6.3)\n",
      "Requirement already satisfied: flatbuffers>=24.3.25 in c:\\users\\karen\\anaconda3\\lib\\site-packages (from tensorflow<2.20,>=2.19->tf-keras) (25.2.10)\n",
      "Requirement already satisfied: gast!=0.5.0,!=0.5.1,!=0.5.2,>=0.2.1 in c:\\users\\karen\\anaconda3\\lib\\site-packages (from tensorflow<2.20,>=2.19->tf-keras) (0.6.0)\n",
      "Requirement already satisfied: google-pasta>=0.1.1 in c:\\users\\karen\\anaconda3\\lib\\site-packages (from tensorflow<2.20,>=2.19->tf-keras) (0.2.0)\n",
      "Requirement already satisfied: libclang>=13.0.0 in c:\\users\\karen\\anaconda3\\lib\\site-packages (from tensorflow<2.20,>=2.19->tf-keras) (18.1.1)\n",
      "Requirement already satisfied: opt-einsum>=2.3.2 in c:\\users\\karen\\anaconda3\\lib\\site-packages (from tensorflow<2.20,>=2.19->tf-keras) (3.4.0)\n",
      "Requirement already satisfied: packaging in c:\\users\\karen\\anaconda3\\lib\\site-packages (from tensorflow<2.20,>=2.19->tf-keras) (24.1)\n",
      "Requirement already satisfied: protobuf!=4.21.0,!=4.21.1,!=4.21.2,!=4.21.3,!=4.21.4,!=4.21.5,<6.0.0dev,>=3.20.3 in c:\\users\\karen\\anaconda3\\lib\\site-packages (from tensorflow<2.20,>=2.19->tf-keras) (4.25.3)\n",
      "Requirement already satisfied: requests<3,>=2.21.0 in c:\\users\\karen\\anaconda3\\lib\\site-packages (from tensorflow<2.20,>=2.19->tf-keras) (2.32.3)\n",
      "Requirement already satisfied: setuptools in c:\\users\\karen\\anaconda3\\lib\\site-packages (from tensorflow<2.20,>=2.19->tf-keras) (75.1.0)\n",
      "Requirement already satisfied: six>=1.12.0 in c:\\users\\karen\\anaconda3\\lib\\site-packages (from tensorflow<2.20,>=2.19->tf-keras) (1.16.0)\n",
      "Requirement already satisfied: termcolor>=1.1.0 in c:\\users\\karen\\anaconda3\\lib\\site-packages (from tensorflow<2.20,>=2.19->tf-keras) (3.1.0)\n",
      "Requirement already satisfied: typing-extensions>=3.6.6 in c:\\users\\karen\\anaconda3\\lib\\site-packages (from tensorflow<2.20,>=2.19->tf-keras) (4.13.2)\n",
      "Requirement already satisfied: wrapt>=1.11.0 in c:\\users\\karen\\anaconda3\\lib\\site-packages (from tensorflow<2.20,>=2.19->tf-keras) (1.14.1)\n",
      "Requirement already satisfied: grpcio<2.0,>=1.24.3 in c:\\users\\karen\\anaconda3\\lib\\site-packages (from tensorflow<2.20,>=2.19->tf-keras) (1.71.0)\n",
      "Requirement already satisfied: tensorboard~=2.19.0 in c:\\users\\karen\\anaconda3\\lib\\site-packages (from tensorflow<2.20,>=2.19->tf-keras) (2.19.0)\n",
      "Requirement already satisfied: keras>=3.5.0 in c:\\users\\karen\\anaconda3\\lib\\site-packages (from tensorflow<2.20,>=2.19->tf-keras) (3.10.0)\n",
      "Requirement already satisfied: numpy<2.2.0,>=1.26.0 in c:\\users\\karen\\anaconda3\\lib\\site-packages (from tensorflow<2.20,>=2.19->tf-keras) (1.26.4)\n",
      "Requirement already satisfied: h5py>=3.11.0 in c:\\users\\karen\\anaconda3\\lib\\site-packages (from tensorflow<2.20,>=2.19->tf-keras) (3.11.0)\n",
      "Requirement already satisfied: ml-dtypes<1.0.0,>=0.5.1 in c:\\users\\karen\\anaconda3\\lib\\site-packages (from tensorflow<2.20,>=2.19->tf-keras) (0.5.1)\n",
      "Requirement already satisfied: wheel<1.0,>=0.23.0 in c:\\users\\karen\\anaconda3\\lib\\site-packages (from astunparse>=1.6.0->tensorflow<2.20,>=2.19->tf-keras) (0.44.0)\n",
      "Requirement already satisfied: rich in c:\\users\\karen\\anaconda3\\lib\\site-packages (from keras>=3.5.0->tensorflow<2.20,>=2.19->tf-keras) (13.7.1)\n",
      "Requirement already satisfied: namex in c:\\users\\karen\\anaconda3\\lib\\site-packages (from keras>=3.5.0->tensorflow<2.20,>=2.19->tf-keras) (0.0.9)\n",
      "Requirement already satisfied: optree in c:\\users\\karen\\anaconda3\\lib\\site-packages (from keras>=3.5.0->tensorflow<2.20,>=2.19->tf-keras) (0.15.0)\n",
      "Requirement already satisfied: charset-normalizer<4,>=2 in c:\\users\\karen\\anaconda3\\lib\\site-packages (from requests<3,>=2.21.0->tensorflow<2.20,>=2.19->tf-keras) (3.4.2)\n",
      "Requirement already satisfied: idna<4,>=2.5 in c:\\users\\karen\\anaconda3\\lib\\site-packages (from requests<3,>=2.21.0->tensorflow<2.20,>=2.19->tf-keras) (3.10)\n",
      "Requirement already satisfied: urllib3<3,>=1.21.1 in c:\\users\\karen\\anaconda3\\lib\\site-packages (from requests<3,>=2.21.0->tensorflow<2.20,>=2.19->tf-keras) (1.26.20)\n",
      "Requirement already satisfied: certifi>=2017.4.17 in c:\\users\\karen\\anaconda3\\lib\\site-packages (from requests<3,>=2.21.0->tensorflow<2.20,>=2.19->tf-keras) (2025.4.26)\n",
      "Requirement already satisfied: markdown>=2.6.8 in c:\\users\\karen\\anaconda3\\lib\\site-packages (from tensorboard~=2.19.0->tensorflow<2.20,>=2.19->tf-keras) (3.4.1)\n",
      "Requirement already satisfied: tensorboard-data-server<0.8.0,>=0.7.0 in c:\\users\\karen\\anaconda3\\lib\\site-packages (from tensorboard~=2.19.0->tensorflow<2.20,>=2.19->tf-keras) (0.7.2)\n",
      "Requirement already satisfied: werkzeug>=1.0.1 in c:\\users\\karen\\anaconda3\\lib\\site-packages (from tensorboard~=2.19.0->tensorflow<2.20,>=2.19->tf-keras) (3.0.3)\n",
      "Requirement already satisfied: MarkupSafe>=2.1.1 in c:\\users\\karen\\anaconda3\\lib\\site-packages (from werkzeug>=1.0.1->tensorboard~=2.19.0->tensorflow<2.20,>=2.19->tf-keras) (2.1.3)\n",
      "Requirement already satisfied: markdown-it-py>=2.2.0 in c:\\users\\karen\\anaconda3\\lib\\site-packages (from rich->keras>=3.5.0->tensorflow<2.20,>=2.19->tf-keras) (2.2.0)\n",
      "Requirement already satisfied: pygments<3.0.0,>=2.13.0 in c:\\users\\karen\\anaconda3\\lib\\site-packages (from rich->keras>=3.5.0->tensorflow<2.20,>=2.19->tf-keras) (2.15.1)\n",
      "Requirement already satisfied: mdurl~=0.1 in c:\\users\\karen\\anaconda3\\lib\\site-packages (from markdown-it-py>=2.2.0->rich->keras>=3.5.0->tensorflow<2.20,>=2.19->tf-keras) (0.1.0)\n",
      "Downloading tf_keras-2.19.0-py3-none-any.whl (1.7 MB)\n",
      "   ---------------------------------------- 0.0/1.7 MB ? eta -:--:--\n",
      "   ---------------------------------------- 1.7/1.7 MB 18.8 MB/s eta 0:00:00\n",
      "Installing collected packages: tf-keras\n",
      "Successfully installed tf-keras-2.19.0\n",
      "Note: you may need to restart the kernel to use updated packages.\n",
      "WARNING:tensorflow:From c:\\Users\\karen\\anaconda3\\Lib\\site-packages\\tf_keras\\src\\losses.py:2976: The name tf.losses.sparse_softmax_cross_entropy is deprecated. Please use tf.compat.v1.losses.sparse_softmax_cross_entropy instead.\n",
      "\n"
     ]
    }
   ],
   "source": [
    "%pip install tf-keras"
   ]
  },
  {
   "cell_type": "code",
   "execution_count": 30,
   "id": "c1b3a508",
   "metadata": {},
   "outputs": [
    {
     "name": "stdout",
     "output_type": "stream",
     "text": [
      "Collecting hf_xet\n",
      "  Downloading hf_xet-1.1.5-cp37-abi3-win_amd64.whl.metadata (883 bytes)\n",
      "Downloading hf_xet-1.1.5-cp37-abi3-win_amd64.whl (2.7 MB)\n",
      "   ---------------------------------------- 0.0/2.7 MB ? eta -:--:--\n",
      "   ---------------------------------------- 2.7/2.7 MB 26.3 MB/s eta 0:00:00\n",
      "Installing collected packages: hf_xet\n",
      "Successfully installed hf_xet-1.1.5\n",
      "Note: you may need to restart the kernel to use updated packages.\n"
     ]
    }
   ],
   "source": [
    "%pip install hf_xet"
   ]
  },
  {
   "cell_type": "code",
   "execution_count": 43,
   "id": "1793dc4a",
   "metadata": {},
   "outputs": [
    {
     "name": "stdout",
     "output_type": "stream",
     "text": [
      "Requirement already satisfied: transformers in c:\\users\\karen\\anaconda3\\lib\\site-packages (4.51.3)\n",
      "Requirement already satisfied: filelock in c:\\users\\karen\\anaconda3\\lib\\site-packages (from transformers) (3.13.1)\n",
      "Requirement already satisfied: huggingface-hub<1.0,>=0.30.0 in c:\\users\\karen\\anaconda3\\lib\\site-packages (from transformers) (0.31.1)\n",
      "Requirement already satisfied: numpy>=1.17 in c:\\users\\karen\\anaconda3\\lib\\site-packages (from transformers) (1.26.4)\n",
      "Requirement already satisfied: packaging>=20.0 in c:\\users\\karen\\anaconda3\\lib\\site-packages (from transformers) (24.1)\n",
      "Requirement already satisfied: pyyaml>=5.1 in c:\\users\\karen\\anaconda3\\lib\\site-packages (from transformers) (6.0.1)\n",
      "Requirement already satisfied: regex!=2019.12.17 in c:\\users\\karen\\anaconda3\\lib\\site-packages (from transformers) (2024.9.11)\n",
      "Requirement already satisfied: requests in c:\\users\\karen\\anaconda3\\lib\\site-packages (from transformers) (2.32.3)\n",
      "Requirement already satisfied: tokenizers<0.22,>=0.21 in c:\\users\\karen\\anaconda3\\lib\\site-packages (from transformers) (0.21.1)\n",
      "Requirement already satisfied: safetensors>=0.4.3 in c:\\users\\karen\\anaconda3\\lib\\site-packages (from transformers) (0.5.3)\n",
      "Requirement already satisfied: tqdm>=4.27 in c:\\users\\karen\\anaconda3\\lib\\site-packages (from transformers) (4.67.1)\n",
      "Requirement already satisfied: fsspec>=2023.5.0 in c:\\users\\karen\\anaconda3\\lib\\site-packages (from huggingface-hub<1.0,>=0.30.0->transformers) (2024.6.1)\n",
      "Requirement already satisfied: typing-extensions>=3.7.4.3 in c:\\users\\karen\\anaconda3\\lib\\site-packages (from huggingface-hub<1.0,>=0.30.0->transformers) (4.13.2)\n",
      "Requirement already satisfied: colorama in c:\\users\\karen\\anaconda3\\lib\\site-packages (from tqdm>=4.27->transformers) (0.4.6)\n",
      "Requirement already satisfied: charset-normalizer<4,>=2 in c:\\users\\karen\\anaconda3\\lib\\site-packages (from requests->transformers) (3.4.2)\n",
      "Requirement already satisfied: idna<4,>=2.5 in c:\\users\\karen\\anaconda3\\lib\\site-packages (from requests->transformers) (3.10)\n",
      "Requirement already satisfied: urllib3<3,>=1.21.1 in c:\\users\\karen\\anaconda3\\lib\\site-packages (from requests->transformers) (1.26.20)\n",
      "Requirement already satisfied: certifi>=2017.4.17 in c:\\users\\karen\\anaconda3\\lib\\site-packages (from requests->transformers) (2025.4.26)\n",
      "Note: you may need to restart the kernel to use updated packages.\n"
     ]
    }
   ],
   "source": [
    "%pip install transformers"
   ]
  },
  {
   "cell_type": "code",
   "execution_count": 66,
   "id": "2e8023ca",
   "metadata": {},
   "outputs": [
    {
     "name": "stdout",
     "output_type": "stream",
     "text": [
      "WARNING:tensorflow:From c:\\Users\\karen\\anaconda3\\Lib\\site-packages\\tf_keras\\src\\losses.py:2976: The name tf.losses.sparse_softmax_cross_entropy is deprecated. Please use tf.compat.v1.losses.sparse_softmax_cross_entropy instead.\n",
      "\n"
     ]
    }
   ],
   "source": [
    "from bertopic import BERTopic\n",
    "from sentence_transformers import SentenceTransformer\n",
    "import torch\n",
    "from transformers import AutoTokenizer, AutoModelForMaskedLM\n",
    "from transformers import pipeline"
   ]
  },
  {
   "cell_type": "code",
   "execution_count": 67,
   "id": "4423cf8e",
   "metadata": {},
   "outputs": [],
   "source": [
    "sentence_model = AutoTokenizer.from_pretrained(\"dccuchile/bert-base-spanish-wwm-uncased\")"
   ]
  },
  {
   "cell_type": "code",
   "execution_count": 38,
   "id": "f0e1a82a",
   "metadata": {},
   "outputs": [],
   "source": [
    "topic_model = BERTopic(language=\"spanish\",\n",
    "    top_n_words=10,          # Palabras por tópico\n",
    "    min_topic_size=20,       # Tamaño mínimo del cluster\n",
    "    nr_topics=50,        # Número de tópicos\n",
    "    calculate_probabilities=True,\n",
    "    vectorizer_model=TfidfVectorizer(stop_words=list(STOP_WORDS)),\n",
    "    embedding_model= sentence_model \n",
    "    )"
   ]
  },
  {
   "cell_type": "markdown",
   "id": "83406d83",
   "metadata": {},
   "source": [
    "Tarda 11 minutos en correr."
   ]
  },
  {
   "cell_type": "code",
   "execution_count": 39,
   "id": "e584ab74",
   "metadata": {},
   "outputs": [],
   "source": [
    "texto_seleccionado = corpus_completo['Texto'].astype(str).tolist()\n",
    "#texto_seleccionado = columnas_procesadas\n",
    "\n",
    "CORRER = True\n",
    "if CORRER:\n",
    "    topics, probs = topic_model.fit_transform(texto_seleccionado)"
   ]
  },
  {
   "cell_type": "code",
   "execution_count": 44,
   "id": "355a541e",
   "metadata": {},
   "outputs": [],
   "source": [
    "# PRECAUCION AL CORRER ESTO\n",
    "# Guardar el modelo entrenado y su información\n",
    "with open('topics_bert.json', 'w', encoding='utf-8') as f:\n",
    "    json.dump(topics, f, ensure_ascii=False, indent=4)\n",
    "with open('probs_bert.json', 'w', encoding='utf-8') as f:\n",
    "    json.dump(probs.tolist(), f, ensure_ascii=False, indent=4)\n",
    "with open('topic_model.pkl', 'wb') as f:\n",
    "    pickle.dump(topic_model, f)"
   ]
  },
  {
   "cell_type": "code",
   "execution_count": 68,
   "id": "c6ead7f2",
   "metadata": {},
   "outputs": [],
   "source": [
    "# PRECAUCION AL CORRER ESTO\n",
    "# Leer modelo, probabilidades y tópicos\n",
    "with open('topics_bert.json', 'r', encoding='utf-8') as f:\n",
    "    topics = json.load(f) \n",
    "with open('probs_bert.json', 'r', encoding='utf-8') as f:\n",
    "    probs = json.load(f)\n",
    "with open('topic_model.pkl', 'rb') as f:\n",
    "    topic_model = pickle.load(f)"
   ]
  },
  {
   "cell_type": "code",
   "execution_count": 69,
   "id": "6bb2ccba",
   "metadata": {},
   "outputs": [
    {
     "data": {
      "text/html": [
       "<div>\n",
       "<style scoped>\n",
       "    .dataframe tbody tr th:only-of-type {\n",
       "        vertical-align: middle;\n",
       "    }\n",
       "\n",
       "    .dataframe tbody tr th {\n",
       "        vertical-align: top;\n",
       "    }\n",
       "\n",
       "    .dataframe thead th {\n",
       "        text-align: right;\n",
       "    }\n",
       "</style>\n",
       "<table border=\"1\" class=\"dataframe\">\n",
       "  <thead>\n",
       "    <tr style=\"text-align: right;\">\n",
       "      <th></th>\n",
       "      <th>Topic</th>\n",
       "      <th>Count</th>\n",
       "      <th>Name</th>\n",
       "      <th>Representation</th>\n",
       "      <th>Representative_Docs</th>\n",
       "    </tr>\n",
       "  </thead>\n",
       "  <tbody>\n",
       "    <tr>\n",
       "      <th>0</th>\n",
       "      <td>-1</td>\n",
       "      <td>7083</td>\n",
       "      <td>-1_país_colombia_gobierno_años</td>\n",
       "      <td>[país, colombia, gobierno, años, política, pre...</td>\n",
       "      <td>[Me parece que el doctor Vargas Lleras se vuel...</td>\n",
       "    </tr>\n",
       "    <tr>\n",
       "      <th>1</th>\n",
       "      <td>0</td>\n",
       "      <td>1219</td>\n",
       "      <td>0_economía_colombia_empresas_gobierno</td>\n",
       "      <td>[economía, colombia, empresas, gobierno, país,...</td>\n",
       "      <td>[La economía lleva cuatro años estancada. En e...</td>\n",
       "    </tr>\n",
       "    <tr>\n",
       "      <th>2</th>\n",
       "      <td>1</td>\n",
       "      <td>525</td>\n",
       "      <td>1_virus_coronavirus_pandemia_covid</td>\n",
       "      <td>[virus, coronavirus, pandemia, covid, salud, 1...</td>\n",
       "      <td>[En un hecho inédito para la humanidad, por pr...</td>\n",
       "    </tr>\n",
       "    <tr>\n",
       "      <th>3</th>\n",
       "      <td>2</td>\n",
       "      <td>358</td>\n",
       "      <td>2_vida_mundo_casa_años</td>\n",
       "      <td>[vida, mundo, casa, años, tiempo, amor, dios, ...</td>\n",
       "      <td>[¿Son entonces las mujeres culpables del maltr...</td>\n",
       "    </tr>\n",
       "    <tr>\n",
       "      <th>4</th>\n",
       "      <td>3</td>\n",
       "      <td>317</td>\n",
       "      <td>3_educación_universidad_estudiantes_universidades</td>\n",
       "      <td>[educación, universidad, estudiantes, universi...</td>\n",
       "      <td>[En el año 1993 el expresidente César Gaviria ...</td>\n",
       "    </tr>\n",
       "    <tr>\n",
       "      <th>5</th>\n",
       "      <td>4</td>\n",
       "      <td>291</td>\n",
       "      <td>4_colombia_presidente_gobierno_país</td>\n",
       "      <td>[colombia, presidente, gobierno, país, polític...</td>\n",
       "      <td>[Debo empezar esta columna diciendo que no soy...</td>\n",
       "    </tr>\n",
       "    <tr>\n",
       "      <th>6</th>\n",
       "      <td>5</td>\n",
       "      <td>281</td>\n",
       "      <td>5_paz_farc_santrich_guerrilla</td>\n",
       "      <td>[paz, farc, santrich, guerrilla, guerra, jep, ...</td>\n",
       "      <td>[El lunes el país vio atónito cómo el CTI capt...</td>\n",
       "    </tr>\n",
       "    <tr>\n",
       "      <th>7</th>\n",
       "      <td>6</td>\n",
       "      <td>235</td>\n",
       "      <td>6_fútbol_jugadores_gol_equipo</td>\n",
       "      <td>[fútbol, jugadores, gol, equipo, goles, equipo...</td>\n",
       "      <td>[La economía devastada, las fuerzas de ocupaci...</td>\n",
       "    </tr>\n",
       "    <tr>\n",
       "      <th>8</th>\n",
       "      <td>7</td>\n",
       "      <td>222</td>\n",
       "      <td>7_música_arte_musical_teatro</td>\n",
       "      <td>[música, arte, musical, teatro, festival, arti...</td>\n",
       "      <td>[El Ibagué Festival es un nuevo espacio cultur...</td>\n",
       "    </tr>\n",
       "    <tr>\n",
       "      <th>9</th>\n",
       "      <td>8</td>\n",
       "      <td>208</td>\n",
       "      <td>8_venezuela_maduro_guaidó_venezolano</td>\n",
       "      <td>[venezuela, maduro, guaidó, venezolano, chávez...</td>\n",
       "      <td>[Venezuela es tendencia en todos los medios na...</td>\n",
       "    </tr>\n",
       "    <tr>\n",
       "      <th>10</th>\n",
       "      <td>9</td>\n",
       "      <td>189</td>\n",
       "      <td>9_libros_libro_poeta_verso</td>\n",
       "      <td>[libros, libro, poeta, verso, poesía, literatu...</td>\n",
       "      <td>[El verso libre no es tan libre. Por su falta ...</td>\n",
       "    </tr>\n",
       "    <tr>\n",
       "      <th>11</th>\n",
       "      <td>10</td>\n",
       "      <td>151</td>\n",
       "      <td>10_fiscal_fiscalía_martínez_nhm</td>\n",
       "      <td>[fiscal, fiscalía, martínez, nhm, odebrecht, g...</td>\n",
       "      <td>[Supongamos que el video en el que aparece Pet...</td>\n",
       "    </tr>\n",
       "    <tr>\n",
       "      <th>12</th>\n",
       "      <td>11</td>\n",
       "      <td>151</td>\n",
       "      <td>11_internet_digital_información_datos</td>\n",
       "      <td>[internet, digital, información, datos, digita...</td>\n",
       "      <td>[Resulta difícil hacer seguimiento a la avalan...</td>\n",
       "    </tr>\n",
       "    <tr>\n",
       "      <th>13</th>\n",
       "      <td>12</td>\n",
       "      <td>149</td>\n",
       "      <td>12_buses_bogotá_ciudad_peñalosa</td>\n",
       "      <td>[buses, bogotá, ciudad, peñalosa, metro, trans...</td>\n",
       "      <td>[Mucho se ha discutido en estos días en Bogotá...</td>\n",
       "    </tr>\n",
       "    <tr>\n",
       "      <th>14</th>\n",
       "      <td>13</td>\n",
       "      <td>142</td>\n",
       "      <td>13_trump_biden_presidente_donald</td>\n",
       "      <td>[trump, biden, presidente, donald, sanders, un...</td>\n",
       "      <td>[MIAMI. El pronóstico es muy reservado para es...</td>\n",
       "    </tr>\n",
       "    <tr>\n",
       "      <th>15</th>\n",
       "      <td>14</td>\n",
       "      <td>131</td>\n",
       "      <td>14_mujeres_sexual_feminismo_sexo</td>\n",
       "      <td>[mujeres, sexual, feminismo, sexo, acoso, sexu...</td>\n",
       "      <td>[Este es otro de esos casos en que el acusado ...</td>\n",
       "    </tr>\n",
       "    <tr>\n",
       "      <th>16</th>\n",
       "      <td>15</td>\n",
       "      <td>115</td>\n",
       "      <td>15_presidente_duque_gobierno_uribe</td>\n",
       "      <td>[presidente, duque, gobierno, uribe, congreso,...</td>\n",
       "      <td>[La convocatoria hecha por el presidente Iván ...</td>\n",
       "    </tr>\n",
       "    <tr>\n",
       "      <th>17</th>\n",
       "      <td>16</td>\n",
       "      <td>114</td>\n",
       "      <td>16_petro_gustavo_fajardo_duque</td>\n",
       "      <td>[petro, gustavo, fajardo, duque, uribe, vuelta...</td>\n",
       "      <td>[Tras la divulgación, a fines del año pasado, ...</td>\n",
       "    </tr>\n",
       "    <tr>\n",
       "      <th>18</th>\n",
       "      <td>17</td>\n",
       "      <td>97</td>\n",
       "      <td>17_electoral_elecciones_cne_política</td>\n",
       "      <td>[electoral, elecciones, cne, política, elector...</td>\n",
       "      <td>[El asunto no es que un clan familiar tenga ta...</td>\n",
       "    </tr>\n",
       "    <tr>\n",
       "      <th>19</th>\n",
       "      <td>18</td>\n",
       "      <td>96</td>\n",
       "      <td>18_foto_fotos_fotografía_imágenes</td>\n",
       "      <td>[foto, fotos, fotografía, imágenes, fotografía...</td>\n",
       "      <td>[Un hombre bien parecido sonríe con pícara tim...</td>\n",
       "    </tr>\n",
       "    <tr>\n",
       "      <th>20</th>\n",
       "      <td>19</td>\n",
       "      <td>93</td>\n",
       "      <td>19_coca_glifosato_cocaína_cultivos</td>\n",
       "      <td>[coca, glifosato, cocaína, cultivos, drogas, n...</td>\n",
       "      <td>[Reacciones a mi columna anterior,  Quemas, d...</td>\n",
       "    </tr>\n",
       "    <tr>\n",
       "      <th>21</th>\n",
       "      <td>20</td>\n",
       "      <td>88</td>\n",
       "      <td>20_protesta_protestas_paro_manifestantes</td>\n",
       "      <td>[protesta, protestas, paro, manifestantes, flo...</td>\n",
       "      <td>[Siglos de protestas han permitido desarrollar...</td>\n",
       "    </tr>\n",
       "    <tr>\n",
       "      <th>22</th>\n",
       "      <td>21</td>\n",
       "      <td>73</td>\n",
       "      <td>21_justicia_corte_judicial_jep</td>\n",
       "      <td>[justicia, corte, judicial, jep, magistrados, ...</td>\n",
       "      <td>[Una reforma constitucional y una ley sanciona...</td>\n",
       "    </tr>\n",
       "    <tr>\n",
       "      <th>23</th>\n",
       "      <td>22</td>\n",
       "      <td>73</td>\n",
       "      <td>22_cocina_café_arroz_cafés</td>\n",
       "      <td>[cocina, café, arroz, cafés, plato, cocinar, p...</td>\n",
       "      <td>[La olla está sobre el fogón, los comensales s...</td>\n",
       "    </tr>\n",
       "    <tr>\n",
       "      <th>24</th>\n",
       "      <td>23</td>\n",
       "      <td>61</td>\n",
       "      <td>23_colombia_país_bogotá_ciclismo</td>\n",
       "      <td>[colombia, país, bogotá, ciclismo, matador, in...</td>\n",
       "      <td>[La crisis y la forma como martiriza a la mayo...</td>\n",
       "    </tr>\n",
       "    <tr>\n",
       "      <th>25</th>\n",
       "      <td>24</td>\n",
       "      <td>58</td>\n",
       "      <td>24_guerra_siria_fascismo_irán</td>\n",
       "      <td>[guerra, siria, fascismo, irán, asad, nuclear,...</td>\n",
       "      <td>[NUEVA YORK  Estados Unidos surgió de la Guer...</td>\n",
       "    </tr>\n",
       "    <tr>\n",
       "      <th>26</th>\n",
       "      <td>25</td>\n",
       "      <td>57</td>\n",
       "      <td>25_violencia_steinke_pág_judíos</td>\n",
       "      <td>[violencia, steinke, pág, judíos, gobierno, el...</td>\n",
       "      <td>[El exjefe paramilitar Salvatore Mancuso sigue...</td>\n",
       "    </tr>\n",
       "    <tr>\n",
       "      <th>27</th>\n",
       "      <td>26</td>\n",
       "      <td>55</td>\n",
       "      <td>26_china_hong_kong_xi</td>\n",
       "      <td>[china, hong, kong, xi, taiwán, chino, chinos,...</td>\n",
       "      <td>[¿Qué pasará cuando los censores chinos traten...</td>\n",
       "    </tr>\n",
       "    <tr>\n",
       "      <th>28</th>\n",
       "      <td>27</td>\n",
       "      <td>54</td>\n",
       "      <td>27_candidatos_petro_vuelta_fajardo</td>\n",
       "      <td>[candidatos, petro, vuelta, fajardo, centro, e...</td>\n",
       "      <td>[A poco más de una semana de la primera vuelta...</td>\n",
       "    </tr>\n",
       "    <tr>\n",
       "      <th>29</th>\n",
       "      <td>28</td>\n",
       "      <td>49</td>\n",
       "      <td>28_salim_historia_naipaul_mao</td>\n",
       "      <td>[salim, historia, naipaul, mao, áfrica, agn, g...</td>\n",
       "      <td>[Clíver Alcalá es un imprudente, oportunista, ...</td>\n",
       "    </tr>\n",
       "    <tr>\n",
       "      <th>30</th>\n",
       "      <td>29</td>\n",
       "      <td>47</td>\n",
       "      <td>29_pensiones_colpensiones_fondos_pensional</td>\n",
       "      <td>[pensiones, colpensiones, fondos, pensional, a...</td>\n",
       "      <td>[Las AFP insisten en el modelo chileno de poca...</td>\n",
       "    </tr>\n",
       "    <tr>\n",
       "      <th>31</th>\n",
       "      <td>30</td>\n",
       "      <td>46</td>\n",
       "      <td>30_delfines_taiji_ballenas_animales</td>\n",
       "      <td>[delfines, taiji, ballenas, animales, biarritz...</td>\n",
       "      <td>[El viento trajo las naves, las naves trajeron...</td>\n",
       "    </tr>\n",
       "    <tr>\n",
       "      <th>32</th>\n",
       "      <td>31</td>\n",
       "      <td>42</td>\n",
       "      <td>31_bolsonaro_brasil_lula_brasileños</td>\n",
       "      <td>[bolsonaro, brasil, lula, brasileños, jair, di...</td>\n",
       "      <td>[Lo previsto: ganó Jair Bolsonaro y el 1ro. de...</td>\n",
       "    </tr>\n",
       "    <tr>\n",
       "      <th>33</th>\n",
       "      <td>32</td>\n",
       "      <td>39</td>\n",
       "      <td>32_chile_piñera_chilenos_pinochet</td>\n",
       "      <td>[chile, piñera, chilenos, pinochet, allende, p...</td>\n",
       "      <td>[Un titular del periódico Financial Times sobr...</td>\n",
       "    </tr>\n",
       "    <tr>\n",
       "      <th>34</th>\n",
       "      <td>33</td>\n",
       "      <td>39</td>\n",
       "      <td>33_cuba_eln_castro_talibanes</td>\n",
       "      <td>[cuba, eln, castro, talibanes, protocolo, nego...</td>\n",
       "      <td>[El presidente Duque sabe muy bien lo que hace...</td>\n",
       "    </tr>\n",
       "    <tr>\n",
       "      <th>35</th>\n",
       "      <td>34</td>\n",
       "      <td>32</td>\n",
       "      <td>34_aborto_embarazo_abortos_mujeres</td>\n",
       "      <td>[aborto, embarazo, abortos, mujeres, causales,...</td>\n",
       "      <td>[En Colombia somos inmensamente afortunadas po...</td>\n",
       "    </tr>\n",
       "    <tr>\n",
       "      <th>36</th>\n",
       "      <td>35</td>\n",
       "      <td>31</td>\n",
       "      <td>35_coronell_columnista_revista_columnistas</td>\n",
       "      <td>[coronell, columnista, revista, columnistas, e...</td>\n",
       "      <td>[Al golpear la credibilidad de una de las poc...</td>\n",
       "    </tr>\n",
       "    <tr>\n",
       "      <th>37</th>\n",
       "      <td>36</td>\n",
       "      <td>30</td>\n",
       "      <td>36_aviación_aerolíneas_avianca_pasajeros</td>\n",
       "      <td>[aviación, aerolíneas, avianca, pasajeros, aér...</td>\n",
       "      <td>[Las dos aerolíneas más grandes de América Lat...</td>\n",
       "    </tr>\n",
       "    <tr>\n",
       "      <th>38</th>\n",
       "      <td>37</td>\n",
       "      <td>28</td>\n",
       "      <td>37_facebook_analytica_cambridge_zuckerberg</td>\n",
       "      <td>[facebook, analytica, cambridge, zuckerberg, u...</td>\n",
       "      <td>[El escándalo Cambridge Analytica confirma que...</td>\n",
       "    </tr>\n",
       "    <tr>\n",
       "      <th>39</th>\n",
       "      <td>38</td>\n",
       "      <td>28</td>\n",
       "      <td>38_ue_brexit_unión_europea</td>\n",
       "      <td>[ue, brexit, unión, europea, europa, irlanda, ...</td>\n",
       "      <td>[A medida que se aproxima la elección del Parl...</td>\n",
       "    </tr>\n",
       "    <tr>\n",
       "      <th>40</th>\n",
       "      <td>39</td>\n",
       "      <td>28</td>\n",
       "      <td>39_nobel_handke_premio_buarque</td>\n",
       "      <td>[nobel, handke, premio, buarque, keuschnig, la...</td>\n",
       "      <td>[Treinta y siete años atrás, García Márquez re...</td>\n",
       "    </tr>\n",
       "    <tr>\n",
       "      <th>41</th>\n",
       "      <td>40</td>\n",
       "      <td>27</td>\n",
       "      <td>40_religión_religiones_dios_cristianismo</td>\n",
       "      <td>[religión, religiones, dios, cristianismo, lai...</td>\n",
       "      <td>[Dos milenios han sido suficientes para compro...</td>\n",
       "    </tr>\n",
       "    <tr>\n",
       "      <th>42</th>\n",
       "      <td>41</td>\n",
       "      <td>27</td>\n",
       "      <td>41_dic_corte_coronel_derecho</td>\n",
       "      <td>[dic, corte, coronel, derecho, arias, cs, fg, ...</td>\n",
       "      <td>[Los abogados Alejandro Motta y Daniel Porras,...</td>\n",
       "    </tr>\n",
       "    <tr>\n",
       "      <th>43</th>\n",
       "      <td>42</td>\n",
       "      <td>26</td>\n",
       "      <td>42_subienda_palmitas_jerusalén_palmira</td>\n",
       "      <td>[subienda, palmitas, jerusalén, palmira, bocac...</td>\n",
       "      <td>[En algún momento, muchos siglos antes de Cris...</td>\n",
       "    </tr>\n",
       "    <tr>\n",
       "      <th>44</th>\n",
       "      <td>43</td>\n",
       "      <td>25</td>\n",
       "      <td>43_medimás_eps_cafesalud_ips</td>\n",
       "      <td>[medimás, eps, cafesalud, ips, salud, esimed, ...</td>\n",
       "      <td>[La maniobra financiera mediante la cual Medim...</td>\n",
       "    </tr>\n",
       "    <tr>\n",
       "      <th>45</th>\n",
       "      <td>44</td>\n",
       "      <td>24</td>\n",
       "      <td>44_bolívar_libertador_guayana_kennedy</td>\n",
       "      <td>[bolívar, libertador, guayana, kennedy, simón,...</td>\n",
       "      <td>[Hace 200 años el 15 de noviembre de 1819 mu...</td>\n",
       "    </tr>\n",
       "    <tr>\n",
       "      <th>46</th>\n",
       "      <td>45</td>\n",
       "      <td>24</td>\n",
       "      <td>45_femenino_meditación_lacydes_buda</td>\n",
       "      <td>[femenino, meditación, lacydes, buda, social, ...</td>\n",
       "      <td>[Según Maharishi Mahesh Yogi (1918-2008), el g...</td>\n",
       "    </tr>\n",
       "    <tr>\n",
       "      <th>47</th>\n",
       "      <td>46</td>\n",
       "      <td>24</td>\n",
       "      <td>46_amlo_obrador_méxico_pri</td>\n",
       "      <td>[amlo, obrador, méxico, pri, migrantes, lópez,...</td>\n",
       "      <td>[El presidente López Obrador (AMLO) solicitó a...</td>\n",
       "    </tr>\n",
       "    <tr>\n",
       "      <th>48</th>\n",
       "      <td>47</td>\n",
       "      <td>21</td>\n",
       "      <td>47_novela_poetas_leandro_poeta</td>\n",
       "      <td>[novela, poetas, leandro, poeta, conrad, carra...</td>\n",
       "      <td>[Por más de tres años viví acompañada del libr...</td>\n",
       "    </tr>\n",
       "    <tr>\n",
       "      <th>49</th>\n",
       "      <td>48</td>\n",
       "      <td>21</td>\n",
       "      <td>48_tola_pa_ivancito_tías</td>\n",
       "      <td>[tola, pa, ivancito, tías, ivancho, alicia, su...</td>\n",
       "      <td>[Hoy Tola y yo hicimos de recreacionistas pa e...</td>\n",
       "    </tr>\n",
       "  </tbody>\n",
       "</table>\n",
       "</div>"
      ],
      "text/plain": [
       "    Topic  Count                                               Name  \\\n",
       "0      -1   7083                     -1_país_colombia_gobierno_años   \n",
       "1       0   1219              0_economía_colombia_empresas_gobierno   \n",
       "2       1    525                 1_virus_coronavirus_pandemia_covid   \n",
       "3       2    358                             2_vida_mundo_casa_años   \n",
       "4       3    317  3_educación_universidad_estudiantes_universidades   \n",
       "5       4    291                4_colombia_presidente_gobierno_país   \n",
       "6       5    281                      5_paz_farc_santrich_guerrilla   \n",
       "7       6    235                      6_fútbol_jugadores_gol_equipo   \n",
       "8       7    222                       7_música_arte_musical_teatro   \n",
       "9       8    208               8_venezuela_maduro_guaidó_venezolano   \n",
       "10      9    189                         9_libros_libro_poeta_verso   \n",
       "11     10    151                    10_fiscal_fiscalía_martínez_nhm   \n",
       "12     11    151              11_internet_digital_información_datos   \n",
       "13     12    149                    12_buses_bogotá_ciudad_peñalosa   \n",
       "14     13    142                   13_trump_biden_presidente_donald   \n",
       "15     14    131                   14_mujeres_sexual_feminismo_sexo   \n",
       "16     15    115                 15_presidente_duque_gobierno_uribe   \n",
       "17     16    114                     16_petro_gustavo_fajardo_duque   \n",
       "18     17     97               17_electoral_elecciones_cne_política   \n",
       "19     18     96                  18_foto_fotos_fotografía_imágenes   \n",
       "20     19     93                 19_coca_glifosato_cocaína_cultivos   \n",
       "21     20     88           20_protesta_protestas_paro_manifestantes   \n",
       "22     21     73                     21_justicia_corte_judicial_jep   \n",
       "23     22     73                         22_cocina_café_arroz_cafés   \n",
       "24     23     61                   23_colombia_país_bogotá_ciclismo   \n",
       "25     24     58                      24_guerra_siria_fascismo_irán   \n",
       "26     25     57                    25_violencia_steinke_pág_judíos   \n",
       "27     26     55                              26_china_hong_kong_xi   \n",
       "28     27     54                 27_candidatos_petro_vuelta_fajardo   \n",
       "29     28     49                      28_salim_historia_naipaul_mao   \n",
       "30     29     47         29_pensiones_colpensiones_fondos_pensional   \n",
       "31     30     46                30_delfines_taiji_ballenas_animales   \n",
       "32     31     42                31_bolsonaro_brasil_lula_brasileños   \n",
       "33     32     39                  32_chile_piñera_chilenos_pinochet   \n",
       "34     33     39                       33_cuba_eln_castro_talibanes   \n",
       "35     34     32                 34_aborto_embarazo_abortos_mujeres   \n",
       "36     35     31         35_coronell_columnista_revista_columnistas   \n",
       "37     36     30           36_aviación_aerolíneas_avianca_pasajeros   \n",
       "38     37     28         37_facebook_analytica_cambridge_zuckerberg   \n",
       "39     38     28                         38_ue_brexit_unión_europea   \n",
       "40     39     28                     39_nobel_handke_premio_buarque   \n",
       "41     40     27           40_religión_religiones_dios_cristianismo   \n",
       "42     41     27                       41_dic_corte_coronel_derecho   \n",
       "43     42     26             42_subienda_palmitas_jerusalén_palmira   \n",
       "44     43     25                       43_medimás_eps_cafesalud_ips   \n",
       "45     44     24              44_bolívar_libertador_guayana_kennedy   \n",
       "46     45     24                45_femenino_meditación_lacydes_buda   \n",
       "47     46     24                         46_amlo_obrador_méxico_pri   \n",
       "48     47     21                     47_novela_poetas_leandro_poeta   \n",
       "49     48     21                           48_tola_pa_ivancito_tías   \n",
       "\n",
       "                                       Representation  \\\n",
       "0   [país, colombia, gobierno, años, política, pre...   \n",
       "1   [economía, colombia, empresas, gobierno, país,...   \n",
       "2   [virus, coronavirus, pandemia, covid, salud, 1...   \n",
       "3   [vida, mundo, casa, años, tiempo, amor, dios, ...   \n",
       "4   [educación, universidad, estudiantes, universi...   \n",
       "5   [colombia, presidente, gobierno, país, polític...   \n",
       "6   [paz, farc, santrich, guerrilla, guerra, jep, ...   \n",
       "7   [fútbol, jugadores, gol, equipo, goles, equipo...   \n",
       "8   [música, arte, musical, teatro, festival, arti...   \n",
       "9   [venezuela, maduro, guaidó, venezolano, chávez...   \n",
       "10  [libros, libro, poeta, verso, poesía, literatu...   \n",
       "11  [fiscal, fiscalía, martínez, nhm, odebrecht, g...   \n",
       "12  [internet, digital, información, datos, digita...   \n",
       "13  [buses, bogotá, ciudad, peñalosa, metro, trans...   \n",
       "14  [trump, biden, presidente, donald, sanders, un...   \n",
       "15  [mujeres, sexual, feminismo, sexo, acoso, sexu...   \n",
       "16  [presidente, duque, gobierno, uribe, congreso,...   \n",
       "17  [petro, gustavo, fajardo, duque, uribe, vuelta...   \n",
       "18  [electoral, elecciones, cne, política, elector...   \n",
       "19  [foto, fotos, fotografía, imágenes, fotografía...   \n",
       "20  [coca, glifosato, cocaína, cultivos, drogas, n...   \n",
       "21  [protesta, protestas, paro, manifestantes, flo...   \n",
       "22  [justicia, corte, judicial, jep, magistrados, ...   \n",
       "23  [cocina, café, arroz, cafés, plato, cocinar, p...   \n",
       "24  [colombia, país, bogotá, ciclismo, matador, in...   \n",
       "25  [guerra, siria, fascismo, irán, asad, nuclear,...   \n",
       "26  [violencia, steinke, pág, judíos, gobierno, el...   \n",
       "27  [china, hong, kong, xi, taiwán, chino, chinos,...   \n",
       "28  [candidatos, petro, vuelta, fajardo, centro, e...   \n",
       "29  [salim, historia, naipaul, mao, áfrica, agn, g...   \n",
       "30  [pensiones, colpensiones, fondos, pensional, a...   \n",
       "31  [delfines, taiji, ballenas, animales, biarritz...   \n",
       "32  [bolsonaro, brasil, lula, brasileños, jair, di...   \n",
       "33  [chile, piñera, chilenos, pinochet, allende, p...   \n",
       "34  [cuba, eln, castro, talibanes, protocolo, nego...   \n",
       "35  [aborto, embarazo, abortos, mujeres, causales,...   \n",
       "36  [coronell, columnista, revista, columnistas, e...   \n",
       "37  [aviación, aerolíneas, avianca, pasajeros, aér...   \n",
       "38  [facebook, analytica, cambridge, zuckerberg, u...   \n",
       "39  [ue, brexit, unión, europea, europa, irlanda, ...   \n",
       "40  [nobel, handke, premio, buarque, keuschnig, la...   \n",
       "41  [religión, religiones, dios, cristianismo, lai...   \n",
       "42  [dic, corte, coronel, derecho, arias, cs, fg, ...   \n",
       "43  [subienda, palmitas, jerusalén, palmira, bocac...   \n",
       "44  [medimás, eps, cafesalud, ips, salud, esimed, ...   \n",
       "45  [bolívar, libertador, guayana, kennedy, simón,...   \n",
       "46  [femenino, meditación, lacydes, buda, social, ...   \n",
       "47  [amlo, obrador, méxico, pri, migrantes, lópez,...   \n",
       "48  [novela, poetas, leandro, poeta, conrad, carra...   \n",
       "49  [tola, pa, ivancito, tías, ivancho, alicia, su...   \n",
       "\n",
       "                                  Representative_Docs  \n",
       "0   [Me parece que el doctor Vargas Lleras se vuel...  \n",
       "1   [La economía lleva cuatro años estancada. En e...  \n",
       "2   [En un hecho inédito para la humanidad, por pr...  \n",
       "3   [¿Son entonces las mujeres culpables del maltr...  \n",
       "4   [En el año 1993 el expresidente César Gaviria ...  \n",
       "5   [Debo empezar esta columna diciendo que no soy...  \n",
       "6   [El lunes el país vio atónito cómo el CTI capt...  \n",
       "7   [La economía devastada, las fuerzas de ocupaci...  \n",
       "8   [El Ibagué Festival es un nuevo espacio cultur...  \n",
       "9   [Venezuela es tendencia en todos los medios na...  \n",
       "10  [El verso libre no es tan libre. Por su falta ...  \n",
       "11  [Supongamos que el video en el que aparece Pet...  \n",
       "12  [Resulta difícil hacer seguimiento a la avalan...  \n",
       "13  [Mucho se ha discutido en estos días en Bogotá...  \n",
       "14  [MIAMI. El pronóstico es muy reservado para es...  \n",
       "15  [Este es otro de esos casos en que el acusado ...  \n",
       "16  [La convocatoria hecha por el presidente Iván ...  \n",
       "17  [Tras la divulgación, a fines del año pasado, ...  \n",
       "18  [El asunto no es que un clan familiar tenga ta...  \n",
       "19  [Un hombre bien parecido sonríe con pícara tim...  \n",
       "20  [Reacciones a mi columna anterior,  Quemas, d...  \n",
       "21  [Siglos de protestas han permitido desarrollar...  \n",
       "22  [Una reforma constitucional y una ley sanciona...  \n",
       "23  [La olla está sobre el fogón, los comensales s...  \n",
       "24  [La crisis y la forma como martiriza a la mayo...  \n",
       "25  [NUEVA YORK  Estados Unidos surgió de la Guer...  \n",
       "26  [El exjefe paramilitar Salvatore Mancuso sigue...  \n",
       "27  [¿Qué pasará cuando los censores chinos traten...  \n",
       "28  [A poco más de una semana de la primera vuelta...  \n",
       "29  [Clíver Alcalá es un imprudente, oportunista, ...  \n",
       "30  [Las AFP insisten en el modelo chileno de poca...  \n",
       "31  [El viento trajo las naves, las naves trajeron...  \n",
       "32  [Lo previsto: ganó Jair Bolsonaro y el 1ro. de...  \n",
       "33  [Un titular del periódico Financial Times sobr...  \n",
       "34  [El presidente Duque sabe muy bien lo que hace...  \n",
       "35  [En Colombia somos inmensamente afortunadas po...  \n",
       "36  [Al golpear la credibilidad de una de las poc...  \n",
       "37  [Las dos aerolíneas más grandes de América Lat...  \n",
       "38  [El escándalo Cambridge Analytica confirma que...  \n",
       "39  [A medida que se aproxima la elección del Parl...  \n",
       "40  [Treinta y siete años atrás, García Márquez re...  \n",
       "41  [Dos milenios han sido suficientes para compro...  \n",
       "42  [Los abogados Alejandro Motta y Daniel Porras,...  \n",
       "43  [En algún momento, muchos siglos antes de Cris...  \n",
       "44  [La maniobra financiera mediante la cual Medim...  \n",
       "45  [Hace 200 años el 15 de noviembre de 1819 mu...  \n",
       "46  [Según Maharishi Mahesh Yogi (1918-2008), el g...  \n",
       "47  [El presidente López Obrador (AMLO) solicitó a...  \n",
       "48  [Por más de tres años viví acompañada del libr...  \n",
       "49  [Hoy Tola y yo hicimos de recreacionistas pa e...  "
      ]
     },
     "execution_count": 69,
     "metadata": {},
     "output_type": "execute_result"
    }
   ],
   "source": [
    "topic_model.get_topic_info()\n"
   ]
  },
  {
   "cell_type": "code",
   "execution_count": 70,
   "id": "5ef9e897",
   "metadata": {},
   "outputs": [
    {
     "data": {
      "text/plain": [
       "[('vida', 0.008060417730403812),\n",
       " ('mundo', 0.0050532043486178424),\n",
       " ('casa', 0.004723487294607641),\n",
       " ('años', 0.004512426428302214),\n",
       " ('tiempo', 0.00434080702148459),\n",
       " ('amor', 0.004197519672360857),\n",
       " ('dios', 0.004037030287553795),\n",
       " ('cosas', 0.00395077303627431),\n",
       " ('gente', 0.003872026684822089),\n",
       " ('alguien', 0.0038632782375553607)]"
      ]
     },
     "execution_count": 70,
     "metadata": {},
     "output_type": "execute_result"
    }
   ],
   "source": [
    "topic_model.get_topic(2)"
   ]
  },
  {
   "cell_type": "code",
   "execution_count": 71,
   "id": "6be51394",
   "metadata": {},
   "outputs": [
    {
     "data": {
      "text/plain": [
       "['¿Son entonces las mujeres culpables del maltrato por no denunciar? ¡No, señores!. Sin lugar a dudas el 100 por ciento de la culpa recae sobre nosotros, los hombres. Los hombres que las tenemos muertas del miedo viviendo en un país que ocupa el puesto 14 en el mundo entre los países con más víctimas de ese flagelo.\\n\\nFaltaban unos diez minutos para que mi reloj marcara las ocho de la noche. Días antes, me había ofrecido a cocinar un arroz de mariscos para la familia de mi novia en la cena del 31 de diciembre. Aun cuando aprendí esa receta de mi madre, y me la sé de memoria, quise bañarme y vestirme con tiempo para hacer lo mío sin afán, y lograr que el plato estuviera a la altura de las expectativas de mis suegros.\\n\\nSalí del cuarto ya vestido y perfumado para dirigirme a la cocina de la casa en donde estábamos hospedados. Apenas empezaba a caminar hacia allá, cuando los ladridos estruendosos de unos perros de la propiedad de al lado me hicieron detener la marcha pensando que algo extraño sucedía. Me acerqué a un muro de concreto de no más de un metro que dividía los inmuebles, del que nacía una reja y una enredadera que me permitían ver lo que pasaba pero me impedían cruzar al otro lado. A los pocos segundos, se hizo evidente la razón de los ladridos.\\n\\nEn un principio oí solamente una voz masculina con tono de reclamo, pero no lograba descifrar las palabras. Sin embargo, la cosa escaló rápidamente y esa voz distante se convirtió en un grito que se oía a kilómetros. Fue entonces cuando entendí que estaba siendo testigo, en mis narices, de un caso de violencia contra una mujer. Vi a través de la reja a un hombre corpulento y en evidente estado de embriaguez que estrujaba y zarandeaba a su novia, mientras le gritaba a centímetros de la cara ¿dónde estabas desgraciada?, ¿tú qué hacías con él?, ¿tú qué hacías con él?\\x94. La mujer, petrificada, trataba de explicarle que ella no estaba con nadie, que todo era un efecto de su avanzada borrachera.\\n\\nActo seguido, el bárbaro exclamó: \\x93¡Maldita perra, tú no sabes en la que te metiste, te voy a matar, te voy a romper la cara, te voy a picar, a ti y tu familia malnacida\\x94. La mujer, que ante la rabia del hombre no vio otra salida, trató de darle la espalda y correr hacia la casa para buscar refugio, pero fracasó en el intento. Este alcanzó a agarrarla del cuello de su camisa gris de rayas rojas y empezó a pegarle por la espalda con todas sus fuerzas y con los puños bien cerrados. La intensidad de los golpes se incrementaba con cada puñetazo.\\n\\nTodo esto sucedió en algo menos de un minuto. Mientras veía lo que pasaba, sin poder cruzar la cerca y sin manera de intervenir, saqué mi celular para llamar a la Policía y reportar lo sucedido, teniendo la certeza de que lograría con mi testimonio la captura del maltratador. Al tiempo que esperaba en la línea, el cuidandero de la casa, un nativo de la zona, me reclamaba y replicaba: \\x93¿Pero usted qué hace llamando a la Policía, hermano?, ¿para qué se mete en eso?, eso fue que le montó cachos, ese es problema de ellos y es normal que le dé duro\\x94.\\n\\nBajé entonces unos metros a la carretera para indicarle a la moto, cuando llegara, los detalles de lo que había visto y el lugar de lo sucedido. Al cabo de unos diez o quince minutos llegó la Policía y entró al caserío. Subí corriendo a poner la oreja contra el muro para tratar de oír lo que pasaba. Para mi sorpresa, la mujer no quiso salir de la casa, negó lo sucedido a los agentes, y fue ella misma quien se encargó de echarlos a los gritos del lugar. \\x93A mí nadie me está pegando, no sean sapos y déjenlo tranquilo\\x94.\\n\\nSalieron el par de patrulleros del lugar y vinieron a hablar conmigo para explicarme que el caso se les salía de las manos. No podía yo creer que luego de haber visto a pocos metros semejante barbarie, las leyes de mi país no me dejaran hacer nada. Al otro día, con la ayuda y la diligencia de la Fiscalía, pude buscar otro camino y abrir una investigación para lograr algún día que castiguen a este cobarde despiadado.\\n\\nLes cuento hoy esta historia, pues considero que es una fiel representación del funcionamiento de la violencia contra las mujeres. El \\x93macho\\x94 les pega, las maltrata, las insulta, las intimida y las amenaza, al punto de que ellas mismas, sumidas en el más que entendible miedo, lo encubren, lo defienden y hasta lo justifican.\\n\\n¿Son entonces las mujeres culpables del maltrato por no denunciar? ¡No, señores!. Sin lugar a dudas el 100 por ciento de la culpa recae sobre nosotros, los hombres. Los hombres que las tenemos muertas del miedo viviendo en un país que ocupa el puesto 14 en el mundo entre los países con más víctimas de ese flagelo. Los hombres que matamos a una mujer cada dos o tres días. Los hombres que les pegamos a 116 mujeres cada día. Los hombres responsables de que 7 de cada 10 mujeres colombianas hayan sido víctimas de maltrato. Los hombres colombianos que agredimos a una mujer cada 12 minutos. Los hombres que violamos 42 niñas al día. Los hombres en el Congreso que decidieron quedarse en la casa el día que la senadora Claudia López quiso dar este debate\\x85\\n\\n\\nComo hago siempre antes de escribir una columna, me puse a investigar sobre las cifras y el contexto pertinente. En ese ejercicio me di cuenta de que la inmensa mayoría de las noticias sobre el tema fueron publicadas entre el 22 y el 27 de noviembre. ¿La razón? el 25 de ese mes se celebra el día de la no violencia contra la mujer. Pero señores, ¿y el resto de año qué? Esta tragedia deja más víctimas que el conflicto armado, que los robos, que la inseguridad, que las bandas criminales, que la coca, que todo. ¿Qué tiene que pasar para que le demos la atención que se merece? ¿Que maten o violen a la mamá o a las hermanas de los congresistas? ¡Despertemos, por Dios!',\n",
       " 'Recuerdo que la esperé muchos días con orgullo para darle la noticia de que ya había cumplido cinco años.\\n\\nTenía que ser alguien muy importante en mi vida para que yo de niño tuviera esa ansiedad. También recuerdo que en alguna Navidad de mi infancia me interesó menos cuál sería mi regalo que la pregunta de si Gina iba a tener el suyo. En esos tiempos el Dios recién nacido se acordaba siempre de los niños pero no parecía saber que había que dar regalos a los adultos. Y yo le habría dado mi regalo con gusto.\\n\\nAhora ha muerto a los 98 años, y a esa edad las personas mueren inocentes como si fueran niños, dejando un dolor transparente como una lágrima. Su vida no fue fácil, era la mayor de una familia numerosa, de la que mi madre era la menor de las hermanas, ya era adulta cuando éramos niños, y a medida que los mayores morían ella iba quedando como el testimonio de que hubo otro mundo, un mundo de los campos, lento, dulce, abnegado, capaz de un amor casi sin límites.\\n\\nCuentan en mi familia que de niña, cuando veía crecer los nubarrones sobre el cañón del Guarinó, entraba a la cocina, llenaba de ceniza un platón grande, y salía al patio de su casa de la cordillera a trazar cruces de ceniza en el suelo, para desviar las tempestades. Tenían que ser muy poderosas y amenazantes las tempestades de esos tiempos, y mucho el desamparo de las casitas en el flanco de abismos de la montaña, para que una niña de diez años improvisara aquel ritual, mientras las mujeres corrían por los cuartos cubriendo con telas los espejos para que no atrajeran a los rayos.\\n\\nParece imposible que alguien que no tuvo nunca hijos de su carne haya criado tantos niños, y haya muerto rodeada de tantos nietos. En esta época que deja de lado a los ancianos y los abandona, consiguió con su amor envejecer rodeada de gratitud y de cuidados. Ella, que no tuvo nunca de joven fiestas de cumpleaños, tuvo al final de su vida más fiestas y serenatas que muchos otros. Recordaba, cerca ya de cumplir un siglo, las lecciones de geografía que había recibido en su infancia, los versos patrióticos que enseñaban en las escuelas de los años 20, las canciones que habían arrullado su mocedad.\\n\\nMi tía Clemencia, que tiene 97, y que es la bondad misma, me dijo esta semana hablándome de su hermana mayor que Dios sin duda iba a acordarse de ella. Es la antigua manera de decir que después de una buena vida es justa y necesaria la buena muerte, y que bien al final Dios da el morir como alivio y como premio. Haber llegado casi a los 100 años en un país tan peligroso es como una señal misteriosa que no acabamos de interpretar. Verla sonreír y oírla cantar, como oír cantar a mi padre cumplidos los 90 cuando sabíamos que había cantado desde los diez, que dios le había concedido 80 años de guitarra y canciones, sólo puede ser motivo de una sonriente gratitud. Borges escribió: \\x93Qué importa nuestra desdicha si hubo en la tierra alguien que se dijo feliz\\x94. Casi podríamos añadir: qué importan la maldad, la crueldad, la violencia, la infamia, si alguien probó alguna vez una vida de amor, si alguien fue capaz de demostrar, ante la tierra y el cielo, que es posible vivir sin malignidad, afrontando lo adverso con entereza y con sencillez. Un solo ejemplo basta para demostrar que es posible.\\n\\nAsí: ¿cómo entristecerse por un hecho que prueba que el mundo puede ser un lugar generoso y cordial? \\x93Con la primera gota de lluvia murió el verano\\x94, escribió Odysseas Elytis. Un solo justo puede salvar a la ciudad más malvada. Y hay doctrinas que afirman que unos cuantos seres silenciosos y anónimos son los que sostienen el mundo. Que es falsa toda nuestra idea de la celebridad, del poder, de la importancia: que lo único que de verdad justifica al mundo y lo salva son los seres sin historia, porque son los que permiten explicarnos la historia.\\n\\nGina pertenecía de tal manera a otro tiempo, que los muertos la visitaban, y enviaban mensajes con ella. Leía los sueños como parte eficiente de la realidad, poblada de seres que se comunican misteriosamente con nosotros. Uno de sus nietos fue desaparecido en las duras encrucijadas de nuestra violencia. Ella lo amaba y se negó por años a aceptar que hubiera muerto. Un día me dijo con serenidad que la noche anterior él había venido y le había dicho que era verdad, que estaba muerto, y sólo a partir de ese momento lo creyó y lo aceptó. También cuando murió uno de mis tíos abuelos, que tenía su edad, lo vio aparecer varias veces en distintos sitios hasta que tuvo que decirle: \\x93Si yo hice algo indebido, perdóneme, y si usted me debe algo a mí, yo se lo perdono. Ya puede descansar\\x94.\\n\\nSólo después recordó que muchos años antes, ese tío le había regalado una novilla enferma, a la que ella había curado con paciencia, y que después, cuando la vio sana, el tío la vendió sin darle ninguna explicación. Esa era la causa de las apariciones, y bastó que ella pronunciara esa fórmula para que él no apareciera más, para que pudiera descansar. Recuerdo estas cosas porque hay una sabiduría en ese modo de ajustar con visiones y sueños las deudas del recuerdo, de despejar el alma de reproches y ofensas.\\n\\nAllá, muchos se alegrarán con su llegada. Aquí, verla descansar será suficiente consuelo para quienes tanto la amaron, para Esperanza, para Marina y Óscar, para Matilde, Sandra y Diana, para sus hermanos Clemencia y Liborio, para sus sobrinos, sus nietos y sus biznietos.\\n\\nAyer la vi por última vez, y sentí que desde el fondo de su sueño me escuchaba y me saludaba. Me habría gustado cantarle una canción, pero pedí que le pusieran música, porque ese era el alimento que necesitaba. Ella supo, como nadie, ser la madre de los que la perdieron temprano, y aunque parecía no tener nada, daba riqueza a manos llenas. No se quejó jamás de la vida, y a todos nos ayudó a vivir. Fue la gran tejedora, la que cosía de nuevo lo que la vida iba rompiendo. Era un ser mágico, y la longevidad sin amargura fue su recompensa.\\n\\nOtra cosa me dicen: que era cierto. Que las nubes se desviaban, que la niña sabía de verdad hacer que se apartaran las tempestades.',\n",
       " 'Dentro de toda la mugre que este pueblo resiste sin apenas quejarse, así le rompan las promesas de campaña en la cara, no más subir al cargo, buscaba afanosamente algo por rescatar al final del año, para hacerle frente a la depresión de estos 100 años de retroceso que hemos vivido con el nuevo gobierno. La única esperanza que encontré fue la lucha titánica que dieron los estudiantes. Cara como un ojo de la cara. Barata o nula para nuestros gobernantes, como un ojo de la cara ajeno, de cualquiera, de un estudiante, de un súbdito.\\n\\n¡Vivan los estudiantes! La única esperanza, la única luz y mecha de fin de año. Y que sigan viviendo, y que sigan molestos porque sabemos que la palabra de este Gobierno no dura sino el afán de apagar el incendio: así sea con sangre.\\n\\nPero empezó el año y las estadísticas empeoraban. A este país que le enseñaron a la brava y aprendió reclinado en su ignorancia que pensar en el bien común es un error; que llevar una camiseta en contra de la guerra es una razón para darle muerte al portador. Que la diferencia se aniquila, no importa si hay que inventarse los muertos y disfrazarlos de lo que toque, no importa que haya que exterminar un partido entero, un movimiento ciudadano, miles\\x85 cada tantas pocas horas un líder social muerto. \\x93Líder social\\x94 son dos palabras que huelen feo, fastidian, se leen en Colombia como quien decodifica con palabras un mosquito insoportable en el oído: que cada líder y sus familias antes más bien agradezcan que no lo mataron antes.\\n\\nMientras toda nuestra casta idiota de jefes políticos arma una cortina de humo con Venezuela, como ya lo han hecho con cortinas de bombas, y se inventa un concierto para recolectar fondos para darle al país al que los mismos organizadores del concierto han bloqueado (una pantomima que ni la Cruz Roja o la ONU han recomendado), mientras tanto, el país se cae. No importa el hambre ni el desastre del Chocó o la Guajira, ni nuestras decenas de miles de caídos en la calle al disparo de la indiferencia. No importa que desaparezcan los ríos, ni que construyan represas-bombas-de-tiempo, ni que se caigan los puentes, ni el cianuro que se les suministra a los testigos con la misma facilidad con que saben quién activó un carro bomba a la pocas horas de reventado, con nueva modalidad de mártir criollo en átomos, siguiendo la tradición de una justicia efectiva, rápida, maravillosa: la misma facilidad la del discurso público, tan diferente del privado: en público, señoras, en privado, \\x93esto es una coima, marica\\x94. Y esa casta acompañada de otra, mucho más pudiente pero peor de ignorante: artistas del lado de la verdad, supuestamente: quisiera ver al tal Maloma, o a cualquiera de esas estrellas criollas del concierto, cantándole a nuestros niños muertos de hambre, a los líderes asesinados, a las mujeres reprimidas, a las comunidades discriminadas, a los territorios usurpados, a los desplazados errantes. No. Ahora nos dirigen desde afuera los dolores, como si se nos olvidara que acá nos sobran pestes: no se necesita del , ni , ni ninguna ola maravillosa de afuera, cuando acá tenemos todos los ríos revueltos, dentro. Cuando no secos.\\n\\nEn otro punto de Colombia, casi al tiempo, se celebraba un fiesta frenética de cuatro días, regida fundamentalmente por la vida. Y por las semillas que combatan desde ya la ignorancia en los más pequeños y en los más aislados. Había un desfile casi chamánico de ideas, de cantos, de música, de baile, de trance. Muchas de las voces que deciden no agotarse estaban allá. Retando a la muerte con risa, con ritmo, con poesía, con dolor solidario. Empezando por la gran líder en contra de Hidroituango Isabel Cristina Zuleta y de ahí hacia abajo la pirámide de amor, de resistencia, de fuerza, se erigía. Sucedió en Piedecuesta. Ella y decenas de decenas de músicos, cineastas, escritores, pensadores: olorosísimos líderes sociales, lejos de esa casta arriba mentada. Artistas también, pero mirando antes adentro: a la casa.\\n\\nLo que ha logrado el gran músico, y poeta radical, y gran amigo del que lo conozca como amigo, y celebrador de la vida, y mente aguda como pocas, Edson Velandia (junto a su esposa, la también música y también líder y activista la Negra Adriana Lizcano, su familia, el resto de junta directiva, la gran Sandy Morales, Ana Trujillo y Doménico di Marco y su pueblo), con el Festival de la Tigra, Piedecuesta Ruge 2019, no es clasificable. Estuve presentando una película mía y dando una charla, y en lugar de correr en cuanto hacemos lo pactado como nos enseñan a los del cine, opté por quedarme a hacer registro gráfico, y por ahí derecho en mi cabeza auditivo, y anímico, y eufórico y rábico. Me quedé a atestiguar la magia que desde que frecuento he sentido en Piedecuesta: ese hervidero de ánimos, de talento, de locura, de extremos políticos. Ahí sucedió este festival, ya en su tercera edición.\\n\\nCuatro días de euforia del amor por las ideas, y del amor por la idea de que no hay desamor posible que desaliente a los que no somos capaces de tragarnos un país como el que nos quieren embutir a la brava. Pero no fue una fiesta de llanto ni de quejas. Fue una celebración entera de la vida. Edson, que en cualquier país decente que se amara a sí mismo sería un símbolo de la poesía, de la resistencia, de la risa, sería un símbolo de querer una vida digna, sería nuestra Violeta Parra, con su magia y su sinceridad se trajo a un ejército de inconformes que querían antes que nada lucir y desgarrar sus causas: sublimarlas con dinamita de cada talento. No importaba que hubiera paga o no, ahí queríamos estar todos. Cada paso del festival era una pequeña danza revolucionara y un manifiesto: como este año tuvo un premio público por convocatoria para ser hecho, NO SE COBRÓ NINGUNA ENTRADA para nada ni nadie. Si eso salía de un premio público es que ya lo pagó la gente, aclaró a alguien Velandia: \\x93No se le puede cobrar a la gente dos veces\\x94. Hubo una urna al revés: quien quería al final de cada evento se acercaba a dar lo que quisiera. Y el que no, pues no.\\n\\nUna sola programación, nada en paralelo, quitaba lugar a cualquier duda y también las celebraba todas. Íbamos como una Iglesia de la Rebeldía del parque al teatro y del teatro al parque. Y tocaron de todo para todos: en las mañanas, cine y charlas con títulos sugerentes como \\x93De guitarras eléctricas e hidroeléctricas\\x94 o \\x93Fracking y shopping\\x94, por nombrar un par, en donde se pasaba del arte al arte de la subsistencia en este moridero, al arte de la protesta, de organizarse para exigir derechos, dignidad alimentaria, cuidado sagrado del agua y de los ríos\\x85 a la misma hora en las veredas lejanas, barrios inaccesibles, poblaciones aisladas cercanas, llegaban a domicilio ideas, artistas, obras: abono, remedio\\x85 de nuevo abajo empezaban las actividades de la tarde en el teatro, lleno, que incluían cine silente de archivo santandereano no hace mucho descubierto y con hallazgos hasta de los años 20, musicalizado en vivo; lecturas dramáticas de literatura santandereana con música en vivo, con banda en vivo, dirigida por Sebastián Rozo alguna; o ensambles entre la banda del pueblo y un genio como Toño Arnedo. Y en la plaza todas las locuras mezcladas: las maravillosas y rebeldes Polikarpa y sus Viciosas, los mismos Velandia y la Tigra, Los Pirañas. Propuestas radicales en ejecución y en ideas: pero también hubo música andina de vanguardia, vallenato, metal, punk, electrónica, hip-hop, carranga: había alimento para todos. Y del bueno. Del que anima el baile y el baile del corazón el cabeza. Yo lo atestiguaba todo frenéticamente con la cámara, junto a los sistemas de sonido, y la carga era brutal, bestial: la aparición de artistas que en cualquier país serían protegidos y venerados como la increíble La Muchacha, de voz potente y preciosa y de ideas potentes y preciosas: lirismo, desastre, precisión; o Alejo García, o el León Pardo: todos artistas ignorados por la masa de los medios masivos\\x85 seguramente artistas indispensables en cualquier país en el que hubieran nacido que no fuera este. Este país odia a sus poetas, en este país nadie es poeta en su tierra. Cada músico, cada pensador es un volcán, lo fue esos días y lo es: son volcanes atorados por un sistema informativo que no solo los condena sino los menosprecia. Poesía escasa en los grandes medios, sí: pero cada vez más abundante, y más colorida, y más ardorosa, circula por cielos y cañerías distintos, imposibles de controlar en estos tiempos.\\n\\nTodas las caras de ilusión se mezclaron. Todas las formas de amar el arte y la música, todos los estratos, todas las clases sociales, todas las edades, todas las formas de conocimiento culto y popular (que no son antítesis como nos enseñan). Los gustos opuestos conviviendo en el mismo parque, a todo volumen y a todo pulmón, esperando su turno, su oportunidad para expresarse. Baile, locura, genio. Cuando acababan los conciertos, el centro que desde siempre ha recibido a los músicos y otras formas de expresión y pensamiento en Piedecuesta, Kussi-huayra, siempre estrenando sede pero conservando un espíritu de fuego, impecable, recibía un aluvión de gente y de músicos, y empezaba la descarga, la borrasca de improvisaciones, los , el baile poseyendo el ánimo. Y cuando debía cerrar por ley Kussi-hayra, ya estaba abierta el alma de la calle de par en par, otro par de centenares seguía hipnotizando al pueblo, a la gente, a los espíritus, con músicas cíclicas que obligaban a cerrar los ojos, a desbordarse, en mi caso a disparar la cámara con los movimientos del corazón: disparé miles de veces como única manera de participar con un patrón rítmico de lo que hacían los músicos, en improvisaciones maravillosas hasta de 20 minutos: percusiones enfermizas, dementes, sanadoras, pitos del más allá, mientras un bruja maravillosa esperaba que abrieran un café internet para renunciar por esta vía a un trabajo de mierda en una ciudad distante, en un oficio distante. En mi caso, en cambio, era imposible renunciar al registro con todas las ondas atravesándome, todos los sonidos, todos los ruidos, todos los abrazos, como a tantos otros: una especie de . No había agotamiento: había trance. Había ideas, había locura desbordada, indignación, rabia, potencia e impotencia, vida: los imanes del corazón de cada uno a toda atracción, a toda marcha y todo contenido en lo único capaz de resistirlo: amor, esperanza.\\n\\nYa nos lo han robado todo por generaciones. Ya no tenemos nada que perder. Lo pediremos a fuerza de versos, a la fuerza de las notas, a la fuerza de los gritos, a la fuerza que toque, pero ya, como demostraron los estudiantes, no va a ser tan fácil. Podrán secar un río, con su soberbia y su ignorancia: pero somos miles de ríos dispuestos a morir en el intento, encaminados en agua pura y sangre hacia el mar de la libertad, del amor. No van a pasar. Acá fuimos todos estudiantes de un salón abierto en el parque, en el teatro\\x85 Hay cosas y amarguras que no lograrán escalar el muro de nuestra fiesta, de la vida. Y todo esto se sentía allá, al pie de la cuesta. Gracias a esta tierra delirante, y a toda la mitología que la habita, la que conozco y la que no. Gracias a los músicos, a las ideas, a la noche, al clima manso que nos abrazó. Gracias a Velandia, a su criterio, a su alma generosa que de regalo recibe la generosidad de vuelta de todos los convocados o autoconvocados que queremos simplemente estar allá, en esta danza de la vida, estos pocos días, reuniendo fuerza de tantas heroínas y guerreros, para enfrentar el resto, descolorido y enfermo al que quieren someternos.']"
      ]
     },
     "execution_count": 71,
     "metadata": {},
     "output_type": "execute_result"
    }
   ],
   "source": [
    "topic_model.representative_docs_[2]"
   ]
  },
  {
   "cell_type": "code",
   "execution_count": 72,
   "id": "a9665f9c",
   "metadata": {},
   "outputs": [
    {
     "data": {
      "application/vnd.plotly.v1+json": {
       "config": {
        "plotlyServerURL": "https://plot.ly"
       },
       "data": [
        {
         "alignmentgroup": "True",
         "customdata": [
          [
           [
            "economía",
            "colombia",
            "empresas",
            "gobierno",
            "país",
            "crecimiento",
            "millones",
            "desarrollo",
            "productividad",
            "banco"
           ]
          ]
         ],
         "hovertemplate": "Palabras Clave=0_economía_colombia_empresas_gobierno<br>Topic=%{x}<br>N° Columnas=%{y}<br>Representation=%{customdata[0]}<extra></extra>",
         "legendgroup": "0_economía_colombia_empresas_gobierno",
         "marker": {
          "color": "#636efa",
          "pattern": {
           "shape": ""
          }
         },
         "name": "0_economía_colombia_empresas_gobierno",
         "offsetgroup": "0_economía_colombia_empresas_gobierno",
         "orientation": "v",
         "showlegend": true,
         "textposition": "auto",
         "type": "bar",
         "x": [
          0
         ],
         "xaxis": "x",
         "y": [
          1219
         ],
         "yaxis": "y"
        },
        {
         "alignmentgroup": "True",
         "customdata": [
          [
           [
            "virus",
            "coronavirus",
            "pandemia",
            "covid",
            "salud",
            "19",
            "cuarentena",
            "vacuna",
            "contagio",
            "crisis"
           ]
          ]
         ],
         "hovertemplate": "Palabras Clave=1_virus_coronavirus_pandemia_covid<br>Topic=%{x}<br>N° Columnas=%{y}<br>Representation=%{customdata[0]}<extra></extra>",
         "legendgroup": "1_virus_coronavirus_pandemia_covid",
         "marker": {
          "color": "#EF553B",
          "pattern": {
           "shape": ""
          }
         },
         "name": "1_virus_coronavirus_pandemia_covid",
         "offsetgroup": "1_virus_coronavirus_pandemia_covid",
         "orientation": "v",
         "showlegend": true,
         "textposition": "auto",
         "type": "bar",
         "x": [
          1
         ],
         "xaxis": "x",
         "y": [
          525
         ],
         "yaxis": "y"
        },
        {
         "alignmentgroup": "True",
         "customdata": [
          [
           [
            "vida",
            "mundo",
            "casa",
            "años",
            "tiempo",
            "amor",
            "dios",
            "cosas",
            "gente",
            "alguien"
           ]
          ]
         ],
         "hovertemplate": "Palabras Clave=2_vida_mundo_casa_años<br>Topic=%{x}<br>N° Columnas=%{y}<br>Representation=%{customdata[0]}<extra></extra>",
         "legendgroup": "2_vida_mundo_casa_años",
         "marker": {
          "color": "#00cc96",
          "pattern": {
           "shape": ""
          }
         },
         "name": "2_vida_mundo_casa_años",
         "offsetgroup": "2_vida_mundo_casa_años",
         "orientation": "v",
         "showlegend": true,
         "textposition": "auto",
         "type": "bar",
         "x": [
          2
         ],
         "xaxis": "x",
         "y": [
          358
         ],
         "yaxis": "y"
        },
        {
         "alignmentgroup": "True",
         "customdata": [
          [
           [
            "educación",
            "universidad",
            "estudiantes",
            "universidades",
            "superior",
            "calidad",
            "docentes",
            "nacional",
            "formación",
            "profesores"
           ]
          ]
         ],
         "hovertemplate": "Palabras Clave=3_educación_universidad_estudiantes_universidades<br>Topic=%{x}<br>N° Columnas=%{y}<br>Representation=%{customdata[0]}<extra></extra>",
         "legendgroup": "3_educación_universidad_estudiantes_universidades",
         "marker": {
          "color": "#ab63fa",
          "pattern": {
           "shape": ""
          }
         },
         "name": "3_educación_universidad_estudiantes_universidades",
         "offsetgroup": "3_educación_universidad_estudiantes_universidades",
         "orientation": "v",
         "showlegend": true,
         "textposition": "auto",
         "type": "bar",
         "x": [
          3
         ],
         "xaxis": "x",
         "y": [
          317
         ],
         "yaxis": "y"
        },
        {
         "alignmentgroup": "True",
         "customdata": [
          [
           [
            "colombia",
            "presidente",
            "gobierno",
            "país",
            "política",
            "duque",
            "uribe",
            "político",
            "colombianos",
            "santos"
           ]
          ]
         ],
         "hovertemplate": "Palabras Clave=4_colombia_presidente_gobierno_país<br>Topic=%{x}<br>N° Columnas=%{y}<br>Representation=%{customdata[0]}<extra></extra>",
         "legendgroup": "4_colombia_presidente_gobierno_país",
         "marker": {
          "color": "#FFA15A",
          "pattern": {
           "shape": ""
          }
         },
         "name": "4_colombia_presidente_gobierno_país",
         "offsetgroup": "4_colombia_presidente_gobierno_país",
         "orientation": "v",
         "showlegend": true,
         "textposition": "auto",
         "type": "bar",
         "x": [
          4
         ],
         "xaxis": "x",
         "y": [
          291
         ],
         "yaxis": "y"
        },
        {
         "alignmentgroup": "True",
         "customdata": [
          [
           [
            "paz",
            "farc",
            "santrich",
            "guerrilla",
            "guerra",
            "jep",
            "eln",
            "proceso",
            "gobierno",
            "conflicto"
           ]
          ]
         ],
         "hovertemplate": "Palabras Clave=5_paz_farc_santrich_guerrilla<br>Topic=%{x}<br>N° Columnas=%{y}<br>Representation=%{customdata[0]}<extra></extra>",
         "legendgroup": "5_paz_farc_santrich_guerrilla",
         "marker": {
          "color": "#19d3f3",
          "pattern": {
           "shape": ""
          }
         },
         "name": "5_paz_farc_santrich_guerrilla",
         "offsetgroup": "5_paz_farc_santrich_guerrilla",
         "orientation": "v",
         "showlegend": true,
         "textposition": "auto",
         "type": "bar",
         "x": [
          5
         ],
         "xaxis": "x",
         "y": [
          281
         ],
         "yaxis": "y"
        },
        {
         "alignmentgroup": "True",
         "customdata": [
          [
           [
            "fútbol",
            "jugadores",
            "gol",
            "equipo",
            "goles",
            "equipos",
            "copa",
            "torneo",
            "bayern",
            "selección"
           ]
          ]
         ],
         "hovertemplate": "Palabras Clave=6_fútbol_jugadores_gol_equipo<br>Topic=%{x}<br>N° Columnas=%{y}<br>Representation=%{customdata[0]}<extra></extra>",
         "legendgroup": "6_fútbol_jugadores_gol_equipo",
         "marker": {
          "color": "#FF6692",
          "pattern": {
           "shape": ""
          }
         },
         "name": "6_fútbol_jugadores_gol_equipo",
         "offsetgroup": "6_fútbol_jugadores_gol_equipo",
         "orientation": "v",
         "showlegend": true,
         "textposition": "auto",
         "type": "bar",
         "x": [
          6
         ],
         "xaxis": "x",
         "y": [
          235
         ],
         "yaxis": "y"
        },
        {
         "alignmentgroup": "True",
         "customdata": [
          [
           [
            "música",
            "arte",
            "musical",
            "teatro",
            "festival",
            "artista",
            "artistas",
            "ópera",
            "beethoven",
            "obra"
           ]
          ]
         ],
         "hovertemplate": "Palabras Clave=7_música_arte_musical_teatro<br>Topic=%{x}<br>N° Columnas=%{y}<br>Representation=%{customdata[0]}<extra></extra>",
         "legendgroup": "7_música_arte_musical_teatro",
         "marker": {
          "color": "#B6E880",
          "pattern": {
           "shape": ""
          }
         },
         "name": "7_música_arte_musical_teatro",
         "offsetgroup": "7_música_arte_musical_teatro",
         "orientation": "v",
         "showlegend": true,
         "textposition": "auto",
         "type": "bar",
         "x": [
          7
         ],
         "xaxis": "x",
         "y": [
          222
         ],
         "yaxis": "y"
        },
        {
         "alignmentgroup": "True",
         "customdata": [
          [
           [
            "venezuela",
            "maduro",
            "guaidó",
            "venezolano",
            "chávez",
            "venezolanos",
            "ortega",
            "país",
            "régimen",
            "nicaragua"
           ]
          ]
         ],
         "hovertemplate": "Palabras Clave=8_venezuela_maduro_guaidó_venezolano<br>Topic=%{x}<br>N° Columnas=%{y}<br>Representation=%{customdata[0]}<extra></extra>",
         "legendgroup": "8_venezuela_maduro_guaidó_venezolano",
         "marker": {
          "color": "#FF97FF",
          "pattern": {
           "shape": ""
          }
         },
         "name": "8_venezuela_maduro_guaidó_venezolano",
         "offsetgroup": "8_venezuela_maduro_guaidó_venezolano",
         "orientation": "v",
         "showlegend": true,
         "textposition": "auto",
         "type": "bar",
         "x": [
          8
         ],
         "xaxis": "x",
         "y": [
          208
         ],
         "yaxis": "y"
        },
        {
         "alignmentgroup": "True",
         "customdata": [
          [
           [
            "libros",
            "libro",
            "poeta",
            "verso",
            "poesía",
            "literatura",
            "vida",
            "poema",
            "novela",
            "poemas"
           ]
          ]
         ],
         "hovertemplate": "Palabras Clave=9_libros_libro_poeta_verso<br>Topic=%{x}<br>N° Columnas=%{y}<br>Representation=%{customdata[0]}<extra></extra>",
         "legendgroup": "9_libros_libro_poeta_verso",
         "marker": {
          "color": "#FECB52",
          "pattern": {
           "shape": ""
          }
         },
         "name": "9_libros_libro_poeta_verso",
         "offsetgroup": "9_libros_libro_poeta_verso",
         "orientation": "v",
         "showlegend": true,
         "textposition": "auto",
         "type": "bar",
         "x": [
          9
         ],
         "xaxis": "x",
         "y": [
          189
         ],
         "yaxis": "y"
        },
        {
         "alignmentgroup": "True",
         "customdata": [
          [
           [
            "fiscal",
            "fiscalía",
            "martínez",
            "nhm",
            "odebrecht",
            "general",
            "néstor",
            "barbosa",
            "hoc",
            "justicia"
           ]
          ]
         ],
         "hovertemplate": "Palabras Clave=10_fiscal_fiscalía_martínez_nhm<br>Topic=%{x}<br>N° Columnas=%{y}<br>Representation=%{customdata[0]}<extra></extra>",
         "legendgroup": "10_fiscal_fiscalía_martínez_nhm",
         "marker": {
          "color": "#636efa",
          "pattern": {
           "shape": ""
          }
         },
         "name": "10_fiscal_fiscalía_martínez_nhm",
         "offsetgroup": "10_fiscal_fiscalía_martínez_nhm",
         "orientation": "v",
         "showlegend": true,
         "textposition": "auto",
         "type": "bar",
         "x": [
          10
         ],
         "xaxis": "x",
         "y": [
          151
         ],
         "yaxis": "y"
        },
        {
         "alignmentgroup": "True",
         "customdata": [
          [
           [
            "internet",
            "digital",
            "información",
            "datos",
            "digitales",
            "empresas",
            "tic",
            "crc",
            "amazon",
            "redes"
           ]
          ]
         ],
         "hovertemplate": "Palabras Clave=11_internet_digital_información_datos<br>Topic=%{x}<br>N° Columnas=%{y}<br>Representation=%{customdata[0]}<extra></extra>",
         "legendgroup": "11_internet_digital_información_datos",
         "marker": {
          "color": "#EF553B",
          "pattern": {
           "shape": ""
          }
         },
         "name": "11_internet_digital_información_datos",
         "offsetgroup": "11_internet_digital_información_datos",
         "orientation": "v",
         "showlegend": true,
         "textposition": "auto",
         "type": "bar",
         "x": [
          11
         ],
         "xaxis": "x",
         "y": [
          151
         ],
         "yaxis": "y"
        },
        {
         "alignmentgroup": "True",
         "customdata": [
          [
           [
            "buses",
            "bogotá",
            "ciudad",
            "peñalosa",
            "metro",
            "transmilenio",
            "transporte",
            "eléctricos",
            "diésel",
            "bogotanos"
           ]
          ]
         ],
         "hovertemplate": "Palabras Clave=12_buses_bogotá_ciudad_peñalosa<br>Topic=%{x}<br>N° Columnas=%{y}<br>Representation=%{customdata[0]}<extra></extra>",
         "legendgroup": "12_buses_bogotá_ciudad_peñalosa",
         "marker": {
          "color": "#00cc96",
          "pattern": {
           "shape": ""
          }
         },
         "name": "12_buses_bogotá_ciudad_peñalosa",
         "offsetgroup": "12_buses_bogotá_ciudad_peñalosa",
         "orientation": "v",
         "showlegend": true,
         "textposition": "auto",
         "type": "bar",
         "x": [
          12
         ],
         "xaxis": "x",
         "y": [
          149
         ],
         "yaxis": "y"
        },
        {
         "alignmentgroup": "True",
         "customdata": [
          [
           [
            "trump",
            "biden",
            "presidente",
            "donald",
            "sanders",
            "unidos",
            "demócratas",
            "demócrata",
            "republicanos",
            "obama"
           ]
          ]
         ],
         "hovertemplate": "Palabras Clave=13_trump_biden_presidente_donald<br>Topic=%{x}<br>N° Columnas=%{y}<br>Representation=%{customdata[0]}<extra></extra>",
         "legendgroup": "13_trump_biden_presidente_donald",
         "marker": {
          "color": "#ab63fa",
          "pattern": {
           "shape": ""
          }
         },
         "name": "13_trump_biden_presidente_donald",
         "offsetgroup": "13_trump_biden_presidente_donald",
         "orientation": "v",
         "showlegend": true,
         "textposition": "auto",
         "type": "bar",
         "x": [
          13
         ],
         "xaxis": "x",
         "y": [
          142
         ],
         "yaxis": "y"
        },
        {
         "alignmentgroup": "True",
         "customdata": [
          [
           [
            "mujeres",
            "sexual",
            "feminismo",
            "sexo",
            "acoso",
            "sexuales",
            "hombres",
            "mujer",
            "feministas",
            "feminista"
           ]
          ]
         ],
         "hovertemplate": "Palabras Clave=14_mujeres_sexual_feminismo_sexo<br>Topic=%{x}<br>N° Columnas=%{y}<br>Representation=%{customdata[0]}<extra></extra>",
         "legendgroup": "14_mujeres_sexual_feminismo_sexo",
         "marker": {
          "color": "#FFA15A",
          "pattern": {
           "shape": ""
          }
         },
         "name": "14_mujeres_sexual_feminismo_sexo",
         "offsetgroup": "14_mujeres_sexual_feminismo_sexo",
         "orientation": "v",
         "showlegend": true,
         "textposition": "auto",
         "type": "bar",
         "x": [
          14
         ],
         "xaxis": "x",
         "y": [
          131
         ],
         "yaxis": "y"
        },
        {
         "alignmentgroup": "True",
         "customdata": [
          [
           [
            "presidente",
            "duque",
            "gobierno",
            "uribe",
            "congreso",
            "país",
            "gobernabilidad",
            "mermelada",
            "política",
            "partido"
           ]
          ]
         ],
         "hovertemplate": "Palabras Clave=15_presidente_duque_gobierno_uribe<br>Topic=%{x}<br>N° Columnas=%{y}<br>Representation=%{customdata[0]}<extra></extra>",
         "legendgroup": "15_presidente_duque_gobierno_uribe",
         "marker": {
          "color": "#19d3f3",
          "pattern": {
           "shape": ""
          }
         },
         "name": "15_presidente_duque_gobierno_uribe",
         "offsetgroup": "15_presidente_duque_gobierno_uribe",
         "orientation": "v",
         "showlegend": true,
         "textposition": "auto",
         "type": "bar",
         "x": [
          15
         ],
         "xaxis": "x",
         "y": [
          115
         ],
         "yaxis": "y"
        },
        {
         "alignmentgroup": "True",
         "customdata": [
          [
           [
            "petro",
            "gustavo",
            "fajardo",
            "duque",
            "uribe",
            "vuelta",
            "votos",
            "candidato",
            "calle",
            "voto"
           ]
          ]
         ],
         "hovertemplate": "Palabras Clave=16_petro_gustavo_fajardo_duque<br>Topic=%{x}<br>N° Columnas=%{y}<br>Representation=%{customdata[0]}<extra></extra>",
         "legendgroup": "16_petro_gustavo_fajardo_duque",
         "marker": {
          "color": "#FF6692",
          "pattern": {
           "shape": ""
          }
         },
         "name": "16_petro_gustavo_fajardo_duque",
         "offsetgroup": "16_petro_gustavo_fajardo_duque",
         "orientation": "v",
         "showlegend": true,
         "textposition": "auto",
         "type": "bar",
         "x": [
          16
         ],
         "xaxis": "x",
         "y": [
          114
         ],
         "yaxis": "y"
        },
        {
         "alignmentgroup": "True",
         "customdata": [
          [
           [
            "electoral",
            "elecciones",
            "cne",
            "política",
            "electorales",
            "partidos",
            "voto",
            "uribe",
            "político",
            "partido"
           ]
          ]
         ],
         "hovertemplate": "Palabras Clave=17_electoral_elecciones_cne_política<br>Topic=%{x}<br>N° Columnas=%{y}<br>Representation=%{customdata[0]}<extra></extra>",
         "legendgroup": "17_electoral_elecciones_cne_política",
         "marker": {
          "color": "#B6E880",
          "pattern": {
           "shape": ""
          }
         },
         "name": "17_electoral_elecciones_cne_política",
         "offsetgroup": "17_electoral_elecciones_cne_política",
         "orientation": "v",
         "showlegend": true,
         "textposition": "auto",
         "type": "bar",
         "x": [
          17
         ],
         "xaxis": "x",
         "y": [
          97
         ],
         "yaxis": "y"
        },
        {
         "alignmentgroup": "True",
         "customdata": [
          [
           [
            "foto",
            "fotos",
            "fotografía",
            "imágenes",
            "fotografías",
            "imagen",
            "mujeres",
            "epstein",
            "visual",
            "villoro"
           ]
          ]
         ],
         "hovertemplate": "Palabras Clave=18_foto_fotos_fotografía_imágenes<br>Topic=%{x}<br>N° Columnas=%{y}<br>Representation=%{customdata[0]}<extra></extra>",
         "legendgroup": "18_foto_fotos_fotografía_imágenes",
         "marker": {
          "color": "#FF97FF",
          "pattern": {
           "shape": ""
          }
         },
         "name": "18_foto_fotos_fotografía_imágenes",
         "offsetgroup": "18_foto_fotos_fotografía_imágenes",
         "orientation": "v",
         "showlegend": true,
         "textposition": "auto",
         "type": "bar",
         "x": [
          18
         ],
         "xaxis": "x",
         "y": [
          96
         ],
         "yaxis": "y"
        },
        {
         "alignmentgroup": "True",
         "customdata": [
          [
           [
            "coca",
            "glifosato",
            "cocaína",
            "cultivos",
            "drogas",
            "narcotráfico",
            "hectáreas",
            "marihuana",
            "aspersión",
            "erradicación"
           ]
          ]
         ],
         "hovertemplate": "Palabras Clave=19_coca_glifosato_cocaína_cultivos<br>Topic=%{x}<br>N° Columnas=%{y}<br>Representation=%{customdata[0]}<extra></extra>",
         "legendgroup": "19_coca_glifosato_cocaína_cultivos",
         "marker": {
          "color": "#FECB52",
          "pattern": {
           "shape": ""
          }
         },
         "name": "19_coca_glifosato_cocaína_cultivos",
         "offsetgroup": "19_coca_glifosato_cocaína_cultivos",
         "orientation": "v",
         "showlegend": true,
         "textposition": "auto",
         "type": "bar",
         "x": [
          19
         ],
         "xaxis": "x",
         "y": [
          93
         ],
         "yaxis": "y"
        },
        {
         "alignmentgroup": "True",
         "customdata": [
          [
           [
            "protesta",
            "protestas",
            "paro",
            "manifestantes",
            "floyd",
            "negros",
            "gobierno",
            "marchas",
            "policía",
            "derechos"
           ]
          ]
         ],
         "hovertemplate": "Palabras Clave=20_protesta_protestas_paro_manifestantes<br>Topic=%{x}<br>N° Columnas=%{y}<br>Representation=%{customdata[0]}<extra></extra>",
         "legendgroup": "20_protesta_protestas_paro_manifestantes",
         "marker": {
          "color": "#636efa",
          "pattern": {
           "shape": ""
          }
         },
         "name": "20_protesta_protestas_paro_manifestantes",
         "offsetgroup": "20_protesta_protestas_paro_manifestantes",
         "orientation": "v",
         "showlegend": true,
         "textposition": "auto",
         "type": "bar",
         "x": [
          20
         ],
         "xaxis": "x",
         "y": [
          88
         ],
         "yaxis": "y"
        },
        {
         "alignmentgroup": "True",
         "customdata": [
          [
           [
            "justicia",
            "corte",
            "judicial",
            "jep",
            "magistrados",
            "jueces",
            "penal",
            "constitucional",
            "sala",
            "uribe"
           ]
          ]
         ],
         "hovertemplate": "Palabras Clave=21_justicia_corte_judicial_jep<br>Topic=%{x}<br>N° Columnas=%{y}<br>Representation=%{customdata[0]}<extra></extra>",
         "legendgroup": "21_justicia_corte_judicial_jep",
         "marker": {
          "color": "#EF553B",
          "pattern": {
           "shape": ""
          }
         },
         "name": "21_justicia_corte_judicial_jep",
         "offsetgroup": "21_justicia_corte_judicial_jep",
         "orientation": "v",
         "showlegend": true,
         "textposition": "auto",
         "type": "bar",
         "x": [
          21
         ],
         "xaxis": "x",
         "y": [
          73
         ],
         "yaxis": "y"
        },
        {
         "alignmentgroup": "True",
         "customdata": [
          [
           [
            "cocina",
            "café",
            "arroz",
            "cafés",
            "plato",
            "cocinar",
            "platos",
            "chef",
            "sabores",
            "restaurantes"
           ]
          ]
         ],
         "hovertemplate": "Palabras Clave=22_cocina_café_arroz_cafés<br>Topic=%{x}<br>N° Columnas=%{y}<br>Representation=%{customdata[0]}<extra></extra>",
         "legendgroup": "22_cocina_café_arroz_cafés",
         "marker": {
          "color": "#00cc96",
          "pattern": {
           "shape": ""
          }
         },
         "name": "22_cocina_café_arroz_cafés",
         "offsetgroup": "22_cocina_café_arroz_cafés",
         "orientation": "v",
         "showlegend": true,
         "textposition": "auto",
         "type": "bar",
         "x": [
          22
         ],
         "xaxis": "x",
         "y": [
          73
         ],
         "yaxis": "y"
        },
        {
         "alignmentgroup": "True",
         "customdata": [
          [
           [
            "colombia",
            "país",
            "bogotá",
            "ciclismo",
            "matador",
            "inpec",
            "alejandra",
            "colombianos",
            "ciudad",
            "semáforo"
           ]
          ]
         ],
         "hovertemplate": "Palabras Clave=23_colombia_país_bogotá_ciclismo<br>Topic=%{x}<br>N° Columnas=%{y}<br>Representation=%{customdata[0]}<extra></extra>",
         "legendgroup": "23_colombia_país_bogotá_ciclismo",
         "marker": {
          "color": "#ab63fa",
          "pattern": {
           "shape": ""
          }
         },
         "name": "23_colombia_país_bogotá_ciclismo",
         "offsetgroup": "23_colombia_país_bogotá_ciclismo",
         "orientation": "v",
         "showlegend": true,
         "textposition": "auto",
         "type": "bar",
         "x": [
          23
         ],
         "xaxis": "x",
         "y": [
          61
         ],
         "yaxis": "y"
        },
        {
         "alignmentgroup": "True",
         "customdata": [
          [
           [
            "guerra",
            "siria",
            "fascismo",
            "irán",
            "asad",
            "nuclear",
            "hitler",
            "unidos",
            "kim",
            "rusia"
           ]
          ]
         ],
         "hovertemplate": "Palabras Clave=24_guerra_siria_fascismo_irán<br>Topic=%{x}<br>N° Columnas=%{y}<br>Representation=%{customdata[0]}<extra></extra>",
         "legendgroup": "24_guerra_siria_fascismo_irán",
         "marker": {
          "color": "#FFA15A",
          "pattern": {
           "shape": ""
          }
         },
         "name": "24_guerra_siria_fascismo_irán",
         "offsetgroup": "24_guerra_siria_fascismo_irán",
         "orientation": "v",
         "showlegend": true,
         "textposition": "auto",
         "type": "bar",
         "x": [
          24
         ],
         "xaxis": "x",
         "y": [
          58
         ],
         "yaxis": "y"
        },
        {
         "alignmentgroup": "True",
         "customdata": [
          [
           [
            "violencia",
            "steinke",
            "pág",
            "judíos",
            "gobierno",
            "eln",
            "kerner",
            "farc",
            "cese",
            "paz"
           ]
          ]
         ],
         "hovertemplate": "Palabras Clave=25_violencia_steinke_pág_judíos<br>Topic=%{x}<br>N° Columnas=%{y}<br>Representation=%{customdata[0]}<extra></extra>",
         "legendgroup": "25_violencia_steinke_pág_judíos",
         "marker": {
          "color": "#19d3f3",
          "pattern": {
           "shape": ""
          }
         },
         "name": "25_violencia_steinke_pág_judíos",
         "offsetgroup": "25_violencia_steinke_pág_judíos",
         "orientation": "v",
         "showlegend": true,
         "textposition": "auto",
         "type": "bar",
         "x": [
          25
         ],
         "xaxis": "x",
         "y": [
          57
         ],
         "yaxis": "y"
        },
        {
         "alignmentgroup": "True",
         "customdata": [
          [
           [
            "china",
            "hong",
            "kong",
            "xi",
            "taiwán",
            "chino",
            "chinos",
            "unidos",
            "beijing",
            "jinping"
           ]
          ]
         ],
         "hovertemplate": "Palabras Clave=26_china_hong_kong_xi<br>Topic=%{x}<br>N° Columnas=%{y}<br>Representation=%{customdata[0]}<extra></extra>",
         "legendgroup": "26_china_hong_kong_xi",
         "marker": {
          "color": "#FF6692",
          "pattern": {
           "shape": ""
          }
         },
         "name": "26_china_hong_kong_xi",
         "offsetgroup": "26_china_hong_kong_xi",
         "orientation": "v",
         "showlegend": true,
         "textposition": "auto",
         "type": "bar",
         "x": [
          26
         ],
         "xaxis": "x",
         "y": [
          55
         ],
         "yaxis": "y"
        },
        {
         "alignmentgroup": "True",
         "customdata": [
          [
           [
            "candidatos",
            "petro",
            "vuelta",
            "fajardo",
            "centro",
            "encuestas",
            "candidato",
            "voto",
            "duque",
            "votos"
           ]
          ]
         ],
         "hovertemplate": "Palabras Clave=27_candidatos_petro_vuelta_fajardo<br>Topic=%{x}<br>N° Columnas=%{y}<br>Representation=%{customdata[0]}<extra></extra>",
         "legendgroup": "27_candidatos_petro_vuelta_fajardo",
         "marker": {
          "color": "#B6E880",
          "pattern": {
           "shape": ""
          }
         },
         "name": "27_candidatos_petro_vuelta_fajardo",
         "offsetgroup": "27_candidatos_petro_vuelta_fajardo",
         "orientation": "v",
         "showlegend": true,
         "textposition": "auto",
         "type": "bar",
         "x": [
          27
         ],
         "xaxis": "x",
         "y": [
          54
         ],
         "yaxis": "y"
        },
        {
         "alignmentgroup": "True",
         "customdata": [
          [
           [
            "salim",
            "historia",
            "naipaul",
            "mao",
            "áfrica",
            "agn",
            "guerra",
            "miranda",
            "valdivia",
            "europa"
           ]
          ]
         ],
         "hovertemplate": "Palabras Clave=28_salim_historia_naipaul_mao<br>Topic=%{x}<br>N° Columnas=%{y}<br>Representation=%{customdata[0]}<extra></extra>",
         "legendgroup": "28_salim_historia_naipaul_mao",
         "marker": {
          "color": "#FF97FF",
          "pattern": {
           "shape": ""
          }
         },
         "name": "28_salim_historia_naipaul_mao",
         "offsetgroup": "28_salim_historia_naipaul_mao",
         "orientation": "v",
         "showlegend": true,
         "textposition": "auto",
         "type": "bar",
         "x": [
          28
         ],
         "xaxis": "x",
         "y": [
          49
         ],
         "yaxis": "y"
        },
        {
         "alignmentgroup": "True",
         "customdata": [
          [
           [
            "pensiones",
            "colpensiones",
            "fondos",
            "pensional",
            "afp",
            "sistema",
            "ahorro",
            "pensión",
            "afiliados",
            "privados"
           ]
          ]
         ],
         "hovertemplate": "Palabras Clave=29_pensiones_colpensiones_fondos_pensional<br>Topic=%{x}<br>N° Columnas=%{y}<br>Representation=%{customdata[0]}<extra></extra>",
         "legendgroup": "29_pensiones_colpensiones_fondos_pensional",
         "marker": {
          "color": "#FECB52",
          "pattern": {
           "shape": ""
          }
         },
         "name": "29_pensiones_colpensiones_fondos_pensional",
         "offsetgroup": "29_pensiones_colpensiones_fondos_pensional",
         "orientation": "v",
         "showlegend": true,
         "textposition": "auto",
         "type": "bar",
         "x": [
          29
         ],
         "xaxis": "x",
         "y": [
          47
         ],
         "yaxis": "y"
        },
        {
         "alignmentgroup": "True",
         "customdata": [
          [
           [
            "delfines",
            "taiji",
            "ballenas",
            "animales",
            "biarritz",
            "japón",
            "mamíferos",
            "bioparque",
            "cacerías",
            "cetáceos"
           ]
          ]
         ],
         "hovertemplate": "Palabras Clave=30_delfines_taiji_ballenas_animales<br>Topic=%{x}<br>N° Columnas=%{y}<br>Representation=%{customdata[0]}<extra></extra>",
         "legendgroup": "30_delfines_taiji_ballenas_animales",
         "marker": {
          "color": "#636efa",
          "pattern": {
           "shape": ""
          }
         },
         "name": "30_delfines_taiji_ballenas_animales",
         "offsetgroup": "30_delfines_taiji_ballenas_animales",
         "orientation": "v",
         "showlegend": true,
         "textposition": "auto",
         "type": "bar",
         "x": [
          30
         ],
         "xaxis": "x",
         "y": [
          46
         ],
         "yaxis": "y"
        },
        {
         "alignmentgroup": "True",
         "customdata": [
          [
           [
            "bolsonaro",
            "brasil",
            "lula",
            "brasileños",
            "jair",
            "dilma",
            "brasileño",
            "amazonia",
            "brasileña",
            "pt"
           ]
          ]
         ],
         "hovertemplate": "Palabras Clave=31_bolsonaro_brasil_lula_brasileños<br>Topic=%{x}<br>N° Columnas=%{y}<br>Representation=%{customdata[0]}<extra></extra>",
         "legendgroup": "31_bolsonaro_brasil_lula_brasileños",
         "marker": {
          "color": "#EF553B",
          "pattern": {
           "shape": ""
          }
         },
         "name": "31_bolsonaro_brasil_lula_brasileños",
         "offsetgroup": "31_bolsonaro_brasil_lula_brasileños",
         "orientation": "v",
         "showlegend": true,
         "textposition": "auto",
         "type": "bar",
         "x": [
          31
         ],
         "xaxis": "x",
         "y": [
          42
         ],
         "yaxis": "y"
        },
        {
         "alignmentgroup": "True",
         "customdata": [
          [
           [
            "chile",
            "piñera",
            "chilenos",
            "pinochet",
            "allende",
            "protestas",
            "democracia",
            "social",
            "apec",
            "ampuero"
           ]
          ]
         ],
         "hovertemplate": "Palabras Clave=32_chile_piñera_chilenos_pinochet<br>Topic=%{x}<br>N° Columnas=%{y}<br>Representation=%{customdata[0]}<extra></extra>",
         "legendgroup": "32_chile_piñera_chilenos_pinochet",
         "marker": {
          "color": "#00cc96",
          "pattern": {
           "shape": ""
          }
         },
         "name": "32_chile_piñera_chilenos_pinochet",
         "offsetgroup": "32_chile_piñera_chilenos_pinochet",
         "orientation": "v",
         "showlegend": true,
         "textposition": "auto",
         "type": "bar",
         "x": [
          32
         ],
         "xaxis": "x",
         "y": [
          39
         ],
         "yaxis": "y"
        },
        {
         "alignmentgroup": "True",
         "customdata": [
          [
           [
            "cuba",
            "eln",
            "castro",
            "talibanes",
            "protocolo",
            "negociadores",
            "cubano",
            "fidel",
            "cubanos",
            "gobierno"
           ]
          ]
         ],
         "hovertemplate": "Palabras Clave=33_cuba_eln_castro_talibanes<br>Topic=%{x}<br>N° Columnas=%{y}<br>Representation=%{customdata[0]}<extra></extra>",
         "legendgroup": "33_cuba_eln_castro_talibanes",
         "marker": {
          "color": "#ab63fa",
          "pattern": {
           "shape": ""
          }
         },
         "name": "33_cuba_eln_castro_talibanes",
         "offsetgroup": "33_cuba_eln_castro_talibanes",
         "orientation": "v",
         "showlegend": true,
         "textposition": "auto",
         "type": "bar",
         "x": [
          33
         ],
         "xaxis": "x",
         "y": [
          39
         ],
         "yaxis": "y"
        },
        {
         "alignmentgroup": "True",
         "customdata": [
          [
           [
            "aborto",
            "embarazo",
            "abortos",
            "mujeres",
            "causales",
            "abortar",
            "mujer",
            "derecho",
            "salud",
            "feto"
           ]
          ]
         ],
         "hovertemplate": "Palabras Clave=34_aborto_embarazo_abortos_mujeres<br>Topic=%{x}<br>N° Columnas=%{y}<br>Representation=%{customdata[0]}<extra></extra>",
         "legendgroup": "34_aborto_embarazo_abortos_mujeres",
         "marker": {
          "color": "#FFA15A",
          "pattern": {
           "shape": ""
          }
         },
         "name": "34_aborto_embarazo_abortos_mujeres",
         "offsetgroup": "34_aborto_embarazo_abortos_mujeres",
         "orientation": "v",
         "showlegend": true,
         "textposition": "auto",
         "type": "bar",
         "x": [
          34
         ],
         "xaxis": "x",
         "y": [
          32
         ],
         "yaxis": "y"
        },
        {
         "alignmentgroup": "True",
         "customdata": [
          [
           [
            "coronell",
            "columnista",
            "revista",
            "columnistas",
            "editorial",
            "columna",
            "daniel",
            "gamoneda",
            "medios",
            "lectores"
           ]
          ]
         ],
         "hovertemplate": "Palabras Clave=35_coronell_columnista_revista_columnistas<br>Topic=%{x}<br>N° Columnas=%{y}<br>Representation=%{customdata[0]}<extra></extra>",
         "legendgroup": "35_coronell_columnista_revista_columnistas",
         "marker": {
          "color": "#19d3f3",
          "pattern": {
           "shape": ""
          }
         },
         "name": "35_coronell_columnista_revista_columnistas",
         "offsetgroup": "35_coronell_columnista_revista_columnistas",
         "orientation": "v",
         "showlegend": true,
         "textposition": "auto",
         "type": "bar",
         "x": [
          35
         ],
         "xaxis": "x",
         "y": [
          31
         ],
         "yaxis": "y"
        },
        {
         "alignmentgroup": "True",
         "customdata": [
          [
           [
            "aviación",
            "aerolíneas",
            "avianca",
            "pasajeros",
            "aéreo",
            "aerolínea",
            "aeropuerto",
            "vuelos",
            "aeronave",
            "efromovich"
           ]
          ]
         ],
         "hovertemplate": "Palabras Clave=36_aviación_aerolíneas_avianca_pasajeros<br>Topic=%{x}<br>N° Columnas=%{y}<br>Representation=%{customdata[0]}<extra></extra>",
         "legendgroup": "36_aviación_aerolíneas_avianca_pasajeros",
         "marker": {
          "color": "#FF6692",
          "pattern": {
           "shape": ""
          }
         },
         "name": "36_aviación_aerolíneas_avianca_pasajeros",
         "offsetgroup": "36_aviación_aerolíneas_avianca_pasajeros",
         "orientation": "v",
         "showlegend": true,
         "textposition": "auto",
         "type": "bar",
         "x": [
          36
         ],
         "xaxis": "x",
         "y": [
          30
         ],
         "yaxis": "y"
        },
        {
         "alignmentgroup": "True",
         "customdata": [
          [
           [
            "facebook",
            "analytica",
            "cambridge",
            "zuckerberg",
            "usuarios",
            "privacidad",
            "datos",
            "redes",
            "red",
            "información"
           ]
          ]
         ],
         "hovertemplate": "Palabras Clave=37_facebook_analytica_cambridge_zuckerberg<br>Topic=%{x}<br>N° Columnas=%{y}<br>Representation=%{customdata[0]}<extra></extra>",
         "legendgroup": "37_facebook_analytica_cambridge_zuckerberg",
         "marker": {
          "color": "#B6E880",
          "pattern": {
           "shape": ""
          }
         },
         "name": "37_facebook_analytica_cambridge_zuckerberg",
         "offsetgroup": "37_facebook_analytica_cambridge_zuckerberg",
         "orientation": "v",
         "showlegend": true,
         "textposition": "auto",
         "type": "bar",
         "x": [
          37
         ],
         "xaxis": "x",
         "y": [
          28
         ],
         "yaxis": "y"
        },
        {
         "alignmentgroup": "True",
         "customdata": [
          [
           [
            "ue",
            "brexit",
            "unión",
            "europea",
            "europa",
            "irlanda",
            "europeo",
            "parlamento",
            "unido",
            "johnson"
           ]
          ]
         ],
         "hovertemplate": "Palabras Clave=38_ue_brexit_unión_europea<br>Topic=%{x}<br>N° Columnas=%{y}<br>Representation=%{customdata[0]}<extra></extra>",
         "legendgroup": "38_ue_brexit_unión_europea",
         "marker": {
          "color": "#FF97FF",
          "pattern": {
           "shape": ""
          }
         },
         "name": "38_ue_brexit_unión_europea",
         "offsetgroup": "38_ue_brexit_unión_europea",
         "orientation": "v",
         "showlegend": true,
         "textposition": "auto",
         "type": "bar",
         "x": [
          38
         ],
         "xaxis": "x",
         "y": [
          28
         ],
         "yaxis": "y"
        },
        {
         "alignmentgroup": "True",
         "customdata": [
          [
           [
            "nobel",
            "handke",
            "premio",
            "buarque",
            "keuschnig",
            "langlands",
            "escritor",
            "marianne",
            "traductor",
            "bloch"
           ]
          ]
         ],
         "hovertemplate": "Palabras Clave=39_nobel_handke_premio_buarque<br>Topic=%{x}<br>N° Columnas=%{y}<br>Representation=%{customdata[0]}<extra></extra>",
         "legendgroup": "39_nobel_handke_premio_buarque",
         "marker": {
          "color": "#FECB52",
          "pattern": {
           "shape": ""
          }
         },
         "name": "39_nobel_handke_premio_buarque",
         "offsetgroup": "39_nobel_handke_premio_buarque",
         "orientation": "v",
         "showlegend": true,
         "textposition": "auto",
         "type": "bar",
         "x": [
          39
         ],
         "xaxis": "x",
         "y": [
          28
         ],
         "yaxis": "y"
        },
        {
         "alignmentgroup": "True",
         "customdata": [
          [
           [
            "religión",
            "religiones",
            "dios",
            "cristianismo",
            "laicidad",
            "ic",
            "iglesia",
            "religiosas",
            "catolicismo",
            "constantinopla"
           ]
          ]
         ],
         "hovertemplate": "Palabras Clave=40_religión_religiones_dios_cristianismo<br>Topic=%{x}<br>N° Columnas=%{y}<br>Representation=%{customdata[0]}<extra></extra>",
         "legendgroup": "40_religión_religiones_dios_cristianismo",
         "marker": {
          "color": "#636efa",
          "pattern": {
           "shape": ""
          }
         },
         "name": "40_religión_religiones_dios_cristianismo",
         "offsetgroup": "40_religión_religiones_dios_cristianismo",
         "orientation": "v",
         "showlegend": true,
         "textposition": "auto",
         "type": "bar",
         "x": [
          40
         ],
         "xaxis": "x",
         "y": [
          27
         ],
         "yaxis": "y"
        },
        {
         "alignmentgroup": "True",
         "customdata": [
          [
           [
            "dic",
            "corte",
            "coronel",
            "derecho",
            "arias",
            "cs",
            "fg",
            "mejía",
            "política",
            "uniandino"
           ]
          ]
         ],
         "hovertemplate": "Palabras Clave=41_dic_corte_coronel_derecho<br>Topic=%{x}<br>N° Columnas=%{y}<br>Representation=%{customdata[0]}<extra></extra>",
         "legendgroup": "41_dic_corte_coronel_derecho",
         "marker": {
          "color": "#EF553B",
          "pattern": {
           "shape": ""
          }
         },
         "name": "41_dic_corte_coronel_derecho",
         "offsetgroup": "41_dic_corte_coronel_derecho",
         "orientation": "v",
         "showlegend": true,
         "textposition": "auto",
         "type": "bar",
         "x": [
          41
         ],
         "xaxis": "x",
         "y": [
          27
         ],
         "yaxis": "y"
        },
        {
         "alignmentgroup": "True",
         "customdata": [
          [
           [
            "subienda",
            "palmitas",
            "jerusalén",
            "palmira",
            "bocachicos",
            "río",
            "metropolitana",
            "valle",
            "picasso",
            "bagres"
           ]
          ]
         ],
         "hovertemplate": "Palabras Clave=42_subienda_palmitas_jerusalén_palmira<br>Topic=%{x}<br>N° Columnas=%{y}<br>Representation=%{customdata[0]}<extra></extra>",
         "legendgroup": "42_subienda_palmitas_jerusalén_palmira",
         "marker": {
          "color": "#00cc96",
          "pattern": {
           "shape": ""
          }
         },
         "name": "42_subienda_palmitas_jerusalén_palmira",
         "offsetgroup": "42_subienda_palmitas_jerusalén_palmira",
         "orientation": "v",
         "showlegend": true,
         "textposition": "auto",
         "type": "bar",
         "x": [
          42
         ],
         "xaxis": "x",
         "y": [
          26
         ],
         "yaxis": "y"
        },
        {
         "alignmentgroup": "True",
         "customdata": [
          [
           [
            "medimás",
            "eps",
            "cafesalud",
            "ips",
            "salud",
            "esimed",
            "clínicas",
            "saludcoop",
            "prestnewco",
            "superintendencia"
           ]
          ]
         ],
         "hovertemplate": "Palabras Clave=43_medimás_eps_cafesalud_ips<br>Topic=%{x}<br>N° Columnas=%{y}<br>Representation=%{customdata[0]}<extra></extra>",
         "legendgroup": "43_medimás_eps_cafesalud_ips",
         "marker": {
          "color": "#ab63fa",
          "pattern": {
           "shape": ""
          }
         },
         "name": "43_medimás_eps_cafesalud_ips",
         "offsetgroup": "43_medimás_eps_cafesalud_ips",
         "orientation": "v",
         "showlegend": true,
         "textposition": "auto",
         "type": "bar",
         "x": [
          43
         ],
         "xaxis": "x",
         "y": [
          25
         ],
         "yaxis": "y"
        },
        {
         "alignmentgroup": "True",
         "customdata": [
          [
           [
            "bolívar",
            "libertador",
            "guayana",
            "kennedy",
            "simón",
            "humboldt",
            "catalino",
            "angostura",
            "anzoátegui",
            "santafé"
           ]
          ]
         ],
         "hovertemplate": "Palabras Clave=44_bolívar_libertador_guayana_kennedy<br>Topic=%{x}<br>N° Columnas=%{y}<br>Representation=%{customdata[0]}<extra></extra>",
         "legendgroup": "44_bolívar_libertador_guayana_kennedy",
         "marker": {
          "color": "#FFA15A",
          "pattern": {
           "shape": ""
          }
         },
         "name": "44_bolívar_libertador_guayana_kennedy",
         "offsetgroup": "44_bolívar_libertador_guayana_kennedy",
         "orientation": "v",
         "showlegend": true,
         "textposition": "auto",
         "type": "bar",
         "x": [
          44
         ],
         "xaxis": "x",
         "y": [
          24
         ],
         "yaxis": "y"
        },
        {
         "alignmentgroup": "True",
         "customdata": [
          [
           [
            "femenino",
            "meditación",
            "lacydes",
            "buda",
            "social",
            "pandemia",
            "aporía",
            "mundo",
            "windrush",
            "peste"
           ]
          ]
         ],
         "hovertemplate": "Palabras Clave=45_femenino_meditación_lacydes_buda<br>Topic=%{x}<br>N° Columnas=%{y}<br>Representation=%{customdata[0]}<extra></extra>",
         "legendgroup": "45_femenino_meditación_lacydes_buda",
         "marker": {
          "color": "#19d3f3",
          "pattern": {
           "shape": ""
          }
         },
         "name": "45_femenino_meditación_lacydes_buda",
         "offsetgroup": "45_femenino_meditación_lacydes_buda",
         "orientation": "v",
         "showlegend": true,
         "textposition": "auto",
         "type": "bar",
         "x": [
          45
         ],
         "xaxis": "x",
         "y": [
          24
         ],
         "yaxis": "y"
        },
        {
         "alignmentgroup": "True",
         "customdata": [
          [
           [
            "amlo",
            "obrador",
            "méxico",
            "pri",
            "migrantes",
            "lópez",
            "centroamericanos",
            "asilo",
            "trump",
            "españa"
           ]
          ]
         ],
         "hovertemplate": "Palabras Clave=46_amlo_obrador_méxico_pri<br>Topic=%{x}<br>N° Columnas=%{y}<br>Representation=%{customdata[0]}<extra></extra>",
         "legendgroup": "46_amlo_obrador_méxico_pri",
         "marker": {
          "color": "#FF6692",
          "pattern": {
           "shape": ""
          }
         },
         "name": "46_amlo_obrador_méxico_pri",
         "offsetgroup": "46_amlo_obrador_méxico_pri",
         "orientation": "v",
         "showlegend": true,
         "textposition": "auto",
         "type": "bar",
         "x": [
          46
         ],
         "xaxis": "x",
         "y": [
          24
         ],
         "yaxis": "y"
        },
        {
         "alignmentgroup": "True",
         "customdata": [
          [
           [
            "novela",
            "poetas",
            "leandro",
            "poeta",
            "conrad",
            "carranza",
            "llosa",
            "grandet",
            "tocaimo",
            "naím"
           ]
          ]
         ],
         "hovertemplate": "Palabras Clave=47_novela_poetas_leandro_poeta<br>Topic=%{x}<br>N° Columnas=%{y}<br>Representation=%{customdata[0]}<extra></extra>",
         "legendgroup": "47_novela_poetas_leandro_poeta",
         "marker": {
          "color": "#B6E880",
          "pattern": {
           "shape": ""
          }
         },
         "name": "47_novela_poetas_leandro_poeta",
         "offsetgroup": "47_novela_poetas_leandro_poeta",
         "orientation": "v",
         "showlegend": true,
         "textposition": "auto",
         "type": "bar",
         "x": [
          47
         ],
         "xaxis": "x",
         "y": [
          21
         ],
         "yaxis": "y"
        },
        {
         "alignmentgroup": "True",
         "customdata": [
          [
           [
            "tola",
            "pa",
            "ivancito",
            "tías",
            "ivancho",
            "alicia",
            "sumercé",
            "tía",
            "maruja",
            "pal"
           ]
          ]
         ],
         "hovertemplate": "Palabras Clave=48_tola_pa_ivancito_tías<br>Topic=%{x}<br>N° Columnas=%{y}<br>Representation=%{customdata[0]}<extra></extra>",
         "legendgroup": "48_tola_pa_ivancito_tías",
         "marker": {
          "color": "#FF97FF",
          "pattern": {
           "shape": ""
          }
         },
         "name": "48_tola_pa_ivancito_tías",
         "offsetgroup": "48_tola_pa_ivancito_tías",
         "orientation": "v",
         "showlegend": true,
         "textposition": "auto",
         "type": "bar",
         "x": [
          48
         ],
         "xaxis": "x",
         "y": [
          21
         ],
         "yaxis": "y"
        }
       ],
       "layout": {
        "barmode": "relative",
        "height": 600,
        "legend": {
         "title": {
          "text": "Palabras Clave"
         },
         "tracegroupgap": 0
        },
        "template": {
         "data": {
          "bar": [
           {
            "error_x": {
             "color": "#2a3f5f"
            },
            "error_y": {
             "color": "#2a3f5f"
            },
            "marker": {
             "line": {
              "color": "#E5ECF6",
              "width": 0.5
             },
             "pattern": {
              "fillmode": "overlay",
              "size": 10,
              "solidity": 0.2
             }
            },
            "type": "bar"
           }
          ],
          "barpolar": [
           {
            "marker": {
             "line": {
              "color": "#E5ECF6",
              "width": 0.5
             },
             "pattern": {
              "fillmode": "overlay",
              "size": 10,
              "solidity": 0.2
             }
            },
            "type": "barpolar"
           }
          ],
          "carpet": [
           {
            "aaxis": {
             "endlinecolor": "#2a3f5f",
             "gridcolor": "white",
             "linecolor": "white",
             "minorgridcolor": "white",
             "startlinecolor": "#2a3f5f"
            },
            "baxis": {
             "endlinecolor": "#2a3f5f",
             "gridcolor": "white",
             "linecolor": "white",
             "minorgridcolor": "white",
             "startlinecolor": "#2a3f5f"
            },
            "type": "carpet"
           }
          ],
          "choropleth": [
           {
            "colorbar": {
             "outlinewidth": 0,
             "ticks": ""
            },
            "type": "choropleth"
           }
          ],
          "contour": [
           {
            "colorbar": {
             "outlinewidth": 0,
             "ticks": ""
            },
            "colorscale": [
             [
              0,
              "#0d0887"
             ],
             [
              0.1111111111111111,
              "#46039f"
             ],
             [
              0.2222222222222222,
              "#7201a8"
             ],
             [
              0.3333333333333333,
              "#9c179e"
             ],
             [
              0.4444444444444444,
              "#bd3786"
             ],
             [
              0.5555555555555556,
              "#d8576b"
             ],
             [
              0.6666666666666666,
              "#ed7953"
             ],
             [
              0.7777777777777778,
              "#fb9f3a"
             ],
             [
              0.8888888888888888,
              "#fdca26"
             ],
             [
              1,
              "#f0f921"
             ]
            ],
            "type": "contour"
           }
          ],
          "contourcarpet": [
           {
            "colorbar": {
             "outlinewidth": 0,
             "ticks": ""
            },
            "type": "contourcarpet"
           }
          ],
          "heatmap": [
           {
            "colorbar": {
             "outlinewidth": 0,
             "ticks": ""
            },
            "colorscale": [
             [
              0,
              "#0d0887"
             ],
             [
              0.1111111111111111,
              "#46039f"
             ],
             [
              0.2222222222222222,
              "#7201a8"
             ],
             [
              0.3333333333333333,
              "#9c179e"
             ],
             [
              0.4444444444444444,
              "#bd3786"
             ],
             [
              0.5555555555555556,
              "#d8576b"
             ],
             [
              0.6666666666666666,
              "#ed7953"
             ],
             [
              0.7777777777777778,
              "#fb9f3a"
             ],
             [
              0.8888888888888888,
              "#fdca26"
             ],
             [
              1,
              "#f0f921"
             ]
            ],
            "type": "heatmap"
           }
          ],
          "heatmapgl": [
           {
            "colorbar": {
             "outlinewidth": 0,
             "ticks": ""
            },
            "colorscale": [
             [
              0,
              "#0d0887"
             ],
             [
              0.1111111111111111,
              "#46039f"
             ],
             [
              0.2222222222222222,
              "#7201a8"
             ],
             [
              0.3333333333333333,
              "#9c179e"
             ],
             [
              0.4444444444444444,
              "#bd3786"
             ],
             [
              0.5555555555555556,
              "#d8576b"
             ],
             [
              0.6666666666666666,
              "#ed7953"
             ],
             [
              0.7777777777777778,
              "#fb9f3a"
             ],
             [
              0.8888888888888888,
              "#fdca26"
             ],
             [
              1,
              "#f0f921"
             ]
            ],
            "type": "heatmapgl"
           }
          ],
          "histogram": [
           {
            "marker": {
             "pattern": {
              "fillmode": "overlay",
              "size": 10,
              "solidity": 0.2
             }
            },
            "type": "histogram"
           }
          ],
          "histogram2d": [
           {
            "colorbar": {
             "outlinewidth": 0,
             "ticks": ""
            },
            "colorscale": [
             [
              0,
              "#0d0887"
             ],
             [
              0.1111111111111111,
              "#46039f"
             ],
             [
              0.2222222222222222,
              "#7201a8"
             ],
             [
              0.3333333333333333,
              "#9c179e"
             ],
             [
              0.4444444444444444,
              "#bd3786"
             ],
             [
              0.5555555555555556,
              "#d8576b"
             ],
             [
              0.6666666666666666,
              "#ed7953"
             ],
             [
              0.7777777777777778,
              "#fb9f3a"
             ],
             [
              0.8888888888888888,
              "#fdca26"
             ],
             [
              1,
              "#f0f921"
             ]
            ],
            "type": "histogram2d"
           }
          ],
          "histogram2dcontour": [
           {
            "colorbar": {
             "outlinewidth": 0,
             "ticks": ""
            },
            "colorscale": [
             [
              0,
              "#0d0887"
             ],
             [
              0.1111111111111111,
              "#46039f"
             ],
             [
              0.2222222222222222,
              "#7201a8"
             ],
             [
              0.3333333333333333,
              "#9c179e"
             ],
             [
              0.4444444444444444,
              "#bd3786"
             ],
             [
              0.5555555555555556,
              "#d8576b"
             ],
             [
              0.6666666666666666,
              "#ed7953"
             ],
             [
              0.7777777777777778,
              "#fb9f3a"
             ],
             [
              0.8888888888888888,
              "#fdca26"
             ],
             [
              1,
              "#f0f921"
             ]
            ],
            "type": "histogram2dcontour"
           }
          ],
          "mesh3d": [
           {
            "colorbar": {
             "outlinewidth": 0,
             "ticks": ""
            },
            "type": "mesh3d"
           }
          ],
          "parcoords": [
           {
            "line": {
             "colorbar": {
              "outlinewidth": 0,
              "ticks": ""
             }
            },
            "type": "parcoords"
           }
          ],
          "pie": [
           {
            "automargin": true,
            "type": "pie"
           }
          ],
          "scatter": [
           {
            "fillpattern": {
             "fillmode": "overlay",
             "size": 10,
             "solidity": 0.2
            },
            "type": "scatter"
           }
          ],
          "scatter3d": [
           {
            "line": {
             "colorbar": {
              "outlinewidth": 0,
              "ticks": ""
             }
            },
            "marker": {
             "colorbar": {
              "outlinewidth": 0,
              "ticks": ""
             }
            },
            "type": "scatter3d"
           }
          ],
          "scattercarpet": [
           {
            "marker": {
             "colorbar": {
              "outlinewidth": 0,
              "ticks": ""
             }
            },
            "type": "scattercarpet"
           }
          ],
          "scattergeo": [
           {
            "marker": {
             "colorbar": {
              "outlinewidth": 0,
              "ticks": ""
             }
            },
            "type": "scattergeo"
           }
          ],
          "scattergl": [
           {
            "marker": {
             "colorbar": {
              "outlinewidth": 0,
              "ticks": ""
             }
            },
            "type": "scattergl"
           }
          ],
          "scattermapbox": [
           {
            "marker": {
             "colorbar": {
              "outlinewidth": 0,
              "ticks": ""
             }
            },
            "type": "scattermapbox"
           }
          ],
          "scatterpolar": [
           {
            "marker": {
             "colorbar": {
              "outlinewidth": 0,
              "ticks": ""
             }
            },
            "type": "scatterpolar"
           }
          ],
          "scatterpolargl": [
           {
            "marker": {
             "colorbar": {
              "outlinewidth": 0,
              "ticks": ""
             }
            },
            "type": "scatterpolargl"
           }
          ],
          "scatterternary": [
           {
            "marker": {
             "colorbar": {
              "outlinewidth": 0,
              "ticks": ""
             }
            },
            "type": "scatterternary"
           }
          ],
          "surface": [
           {
            "colorbar": {
             "outlinewidth": 0,
             "ticks": ""
            },
            "colorscale": [
             [
              0,
              "#0d0887"
             ],
             [
              0.1111111111111111,
              "#46039f"
             ],
             [
              0.2222222222222222,
              "#7201a8"
             ],
             [
              0.3333333333333333,
              "#9c179e"
             ],
             [
              0.4444444444444444,
              "#bd3786"
             ],
             [
              0.5555555555555556,
              "#d8576b"
             ],
             [
              0.6666666666666666,
              "#ed7953"
             ],
             [
              0.7777777777777778,
              "#fb9f3a"
             ],
             [
              0.8888888888888888,
              "#fdca26"
             ],
             [
              1,
              "#f0f921"
             ]
            ],
            "type": "surface"
           }
          ],
          "table": [
           {
            "cells": {
             "fill": {
              "color": "#EBF0F8"
             },
             "line": {
              "color": "white"
             }
            },
            "header": {
             "fill": {
              "color": "#C8D4E3"
             },
             "line": {
              "color": "white"
             }
            },
            "type": "table"
           }
          ]
         },
         "layout": {
          "annotationdefaults": {
           "arrowcolor": "#2a3f5f",
           "arrowhead": 0,
           "arrowwidth": 1
          },
          "autotypenumbers": "strict",
          "coloraxis": {
           "colorbar": {
            "outlinewidth": 0,
            "ticks": ""
           }
          },
          "colorscale": {
           "diverging": [
            [
             0,
             "#8e0152"
            ],
            [
             0.1,
             "#c51b7d"
            ],
            [
             0.2,
             "#de77ae"
            ],
            [
             0.3,
             "#f1b6da"
            ],
            [
             0.4,
             "#fde0ef"
            ],
            [
             0.5,
             "#f7f7f7"
            ],
            [
             0.6,
             "#e6f5d0"
            ],
            [
             0.7,
             "#b8e186"
            ],
            [
             0.8,
             "#7fbc41"
            ],
            [
             0.9,
             "#4d9221"
            ],
            [
             1,
             "#276419"
            ]
           ],
           "sequential": [
            [
             0,
             "#0d0887"
            ],
            [
             0.1111111111111111,
             "#46039f"
            ],
            [
             0.2222222222222222,
             "#7201a8"
            ],
            [
             0.3333333333333333,
             "#9c179e"
            ],
            [
             0.4444444444444444,
             "#bd3786"
            ],
            [
             0.5555555555555556,
             "#d8576b"
            ],
            [
             0.6666666666666666,
             "#ed7953"
            ],
            [
             0.7777777777777778,
             "#fb9f3a"
            ],
            [
             0.8888888888888888,
             "#fdca26"
            ],
            [
             1,
             "#f0f921"
            ]
           ],
           "sequentialminus": [
            [
             0,
             "#0d0887"
            ],
            [
             0.1111111111111111,
             "#46039f"
            ],
            [
             0.2222222222222222,
             "#7201a8"
            ],
            [
             0.3333333333333333,
             "#9c179e"
            ],
            [
             0.4444444444444444,
             "#bd3786"
            ],
            [
             0.5555555555555556,
             "#d8576b"
            ],
            [
             0.6666666666666666,
             "#ed7953"
            ],
            [
             0.7777777777777778,
             "#fb9f3a"
            ],
            [
             0.8888888888888888,
             "#fdca26"
            ],
            [
             1,
             "#f0f921"
            ]
           ]
          },
          "colorway": [
           "#636efa",
           "#EF553B",
           "#00cc96",
           "#ab63fa",
           "#FFA15A",
           "#19d3f3",
           "#FF6692",
           "#B6E880",
           "#FF97FF",
           "#FECB52"
          ],
          "font": {
           "color": "#2a3f5f"
          },
          "geo": {
           "bgcolor": "white",
           "lakecolor": "white",
           "landcolor": "#E5ECF6",
           "showlakes": true,
           "showland": true,
           "subunitcolor": "white"
          },
          "hoverlabel": {
           "align": "left"
          },
          "hovermode": "closest",
          "mapbox": {
           "style": "light"
          },
          "paper_bgcolor": "white",
          "plot_bgcolor": "#E5ECF6",
          "polar": {
           "angularaxis": {
            "gridcolor": "white",
            "linecolor": "white",
            "ticks": ""
           },
           "bgcolor": "#E5ECF6",
           "radialaxis": {
            "gridcolor": "white",
            "linecolor": "white",
            "ticks": ""
           }
          },
          "scene": {
           "xaxis": {
            "backgroundcolor": "#E5ECF6",
            "gridcolor": "white",
            "gridwidth": 2,
            "linecolor": "white",
            "showbackground": true,
            "ticks": "",
            "zerolinecolor": "white"
           },
           "yaxis": {
            "backgroundcolor": "#E5ECF6",
            "gridcolor": "white",
            "gridwidth": 2,
            "linecolor": "white",
            "showbackground": true,
            "ticks": "",
            "zerolinecolor": "white"
           },
           "zaxis": {
            "backgroundcolor": "#E5ECF6",
            "gridcolor": "white",
            "gridwidth": 2,
            "linecolor": "white",
            "showbackground": true,
            "ticks": "",
            "zerolinecolor": "white"
           }
          },
          "shapedefaults": {
           "line": {
            "color": "#2a3f5f"
           }
          },
          "ternary": {
           "aaxis": {
            "gridcolor": "white",
            "linecolor": "white",
            "ticks": ""
           },
           "baxis": {
            "gridcolor": "white",
            "linecolor": "white",
            "ticks": ""
           },
           "bgcolor": "#E5ECF6",
           "caxis": {
            "gridcolor": "white",
            "linecolor": "white",
            "ticks": ""
           }
          },
          "title": {
           "x": 0.05
          },
          "xaxis": {
           "automargin": true,
           "gridcolor": "white",
           "linecolor": "white",
           "ticks": "",
           "title": {
            "standoff": 15
           },
           "zerolinecolor": "white",
           "zerolinewidth": 2
          },
          "yaxis": {
           "automargin": true,
           "gridcolor": "white",
           "linecolor": "white",
           "ticks": "",
           "title": {
            "standoff": 15
           },
           "zerolinecolor": "white",
           "zerolinewidth": 2
          }
         }
        },
        "title": {
         "text": "Distribución de Tópicos"
        },
        "xaxis": {
         "anchor": "y",
         "domain": [
          0,
          1
         ],
         "title": {
          "text": "Topic"
         },
         "type": "category"
        },
        "yaxis": {
         "anchor": "x",
         "domain": [
          0,
          1
         ],
         "title": {
          "text": "N° Columnas"
         }
        }
       }
      }
     },
     "metadata": {},
     "output_type": "display_data"
    }
   ],
   "source": [
    "import plotly.express as px\n",
    "\n",
    "# Obtener información de tópicos\n",
    "topic_info = topic_model.get_topic_info()\n",
    "\n",
    "# Filtrar outliers (tópico -1)\n",
    "topic_info_filtered = topic_info[topic_info['Topic'] != -1]\n",
    "\n",
    "# Gráfico de barras interactivo\n",
    "fig = px.bar(topic_info_filtered,\n",
    "             x='Topic',\n",
    "             y='Count',\n",
    "             color='Name',\n",
    "             hover_data=['Representation'],\n",
    "             title='Distribución de Tópicos',\n",
    "             labels={'Count': 'N° Columnas', 'Name': 'Palabras Clave'},\n",
    "             height=600)\n",
    "fig.update_layout(xaxis={'type': 'category'})\n",
    "fig.show()"
   ]
  },
  {
   "cell_type": "markdown",
   "id": "f64f618e",
   "metadata": {},
   "source": [
    "¿Cómo forzar que todas las columnas queden en un tópico?"
   ]
  }
 ],
 "metadata": {
  "kernelspec": {
   "display_name": "base",
   "language": "python",
   "name": "python3"
  },
  "language_info": {
   "codemirror_mode": {
    "name": "ipython",
    "version": 3
   },
   "file_extension": ".py",
   "mimetype": "text/x-python",
   "name": "python",
   "nbconvert_exporter": "python",
   "pygments_lexer": "ipython3",
   "version": "3.12.7"
  }
 },
 "nbformat": 4,
 "nbformat_minor": 5
}
