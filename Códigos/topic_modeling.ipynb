{
 "cells": [
  {
   "cell_type": "markdown",
   "id": "649f0efa",
   "metadata": {},
   "source": [
    "Fecha: Julio de 2025\n",
    "\n",
    "Se busca hacer análisis de frecuencias en las columnas de opinión por año, mes y periódico. E implementar modelado de tópicos. Primer método LDA."
   ]
  },
  {
   "cell_type": "code",
   "execution_count": 15,
   "id": "cda8799e",
   "metadata": {},
   "outputs": [],
   "source": [
    "# Librerías\n",
    "import pandas as pd\n",
    "import numpy as np\n",
    "import matplotlib.pyplot as plt"
   ]
  },
  {
   "cell_type": "code",
   "execution_count": 28,
   "id": "e4567fb7",
   "metadata": {},
   "outputs": [
    {
     "name": "stdout",
     "output_type": "stream",
     "text": [
      "          Diario                       Autor                    Fecha  \\\n",
      "0  El Espectador             Alberto Donadio  30 de diciembre de 2017   \n",
      "1  El Espectador              Antonio Casale  30 de diciembre de 2017   \n",
      "2  El Espectador           Gonzalo Hernández       1 de enero de 2018   \n",
      "3  El Espectador    Eduardo Barajas Sandoval       1 de enero de 2018   \n",
      "4  El Espectador  Daniel Emilio Rojas Castro       1 de enero de 2018   \n",
      "\n",
      "                               Título  \\\n",
      "0     César Gaviria y César Mondragón   \n",
      "1   Más recomendaciones de fin de año   \n",
      "2            Fajardo: para nada tibio   \n",
      "3                  Macedonia de Norte   \n",
      "4  El nacionalismo según Vargas Llosa   \n",
      "\n",
      "                                               Texto  \\\n",
      "0  César Gaviria y César Mondragón son expresiden...   \n",
      "1  Un libro y dos documentales imperdibles para e...   \n",
      "2  La Coalición Colombia Partido Alianza Verde, ...   \n",
      "3  Las interpretaciones de la historia sirven com...   \n",
      "4  La semana pasada Mario Vargas Llosa publicó un...   \n",
      "\n",
      "                                             Vínculo  \n",
      "0  https://web.archive.org/web/20180101101206/htt...  \n",
      "1  https://web.archive.org/web/20180101101206/htt...  \n",
      "2  https://web.archive.org/web/20180102104221/htt...  \n",
      "3  https://web.archive.org/web/20180102104221/htt...  \n",
      "4  https://web.archive.org/web/20180102104221/htt...  \n"
     ]
    }
   ],
   "source": [
    "file_path = r'C:\\Users\\karen\\Documents\\HumanidadesDigitales_git\\BBD_Corpus\\ElEspectador_2018.csv'\n",
    "\n",
    "try:\n",
    "    df = pd.read_csv(file_path, encoding='latin-1', sep=';')  # Ajusta el separador si es necesario\n",
    "    print(df.head())\n",
    "except FileNotFoundError:\n",
    "    print(\"Error: El archivo no fue encontrado.\")\n",
    "except Exception as e:\n",
    "    print(f\"Ocurrió un error: {e}\")\n"
   ]
  },
  {
   "cell_type": "code",
   "execution_count": null,
   "id": "fb2911d3",
   "metadata": {},
   "outputs": [
    {
     "data": {
      "text/plain": [
       "3634"
      ]
     },
     "execution_count": 26,
     "metadata": {},
     "output_type": "execute_result"
    }
   ],
   "source": []
  }
 ],
 "metadata": {
  "kernelspec": {
   "display_name": "base",
   "language": "python",
   "name": "python3"
  },
  "language_info": {
   "codemirror_mode": {
    "name": "ipython",
    "version": 3
   },
   "file_extension": ".py",
   "mimetype": "text/x-python",
   "name": "python",
   "nbconvert_exporter": "python",
   "pygments_lexer": "ipython3",
   "version": "3.12.7"
  }
 },
 "nbformat": 4,
 "nbformat_minor": 5
}
