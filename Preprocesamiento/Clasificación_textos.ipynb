{
 "cells": [
  {
   "cell_type": "code",
   "execution_count": null,
   "id": "34c68336",
   "metadata": {},
   "outputs": [],
   "source": [
    "!pip install transformers torch sentence-transformers scikit-learn"
   ]
  },
  {
   "cell_type": "code",
   "execution_count": 1,
   "id": "9038dacb",
   "metadata": {},
   "outputs": [],
   "source": [
    "from transformers import pipeline"
   ]
  },
  {
   "cell_type": "code",
   "execution_count": 2,
   "id": "31215ad5",
   "metadata": {},
   "outputs": [
    {
     "name": "stderr",
     "output_type": "stream",
     "text": [
      "Device set to use cpu\n"
     ]
    }
   ],
   "source": [
    "# Cargar clasificador zero-shot en español\n",
    "# Este modelo está específicamente entrenado para español\n",
    "classifier = pipeline(\"zero-shot-classification\", \n",
    "                       model=\"Recognai/zeroshot_selectra_medium\")\n"
   ]
  },
  {
   "cell_type": "code",
   "execution_count": 5,
   "id": "e4d5d37c",
   "metadata": {},
   "outputs": [],
   "source": [
    "# Definir categorías potenciales\n",
    "categorias = [\"cultura\", \"política\", \"salud\", \"economía\", \"deportes\", \"tecnología\", \"educación\", \"medio ambiente\", \"arte\", \n",
    "              \"literatura\", \"vida cotidiana\", \"crítica\", \"noticia\", \"informativo\", \"ciencia\", \"espacio público\"]\n",
    "\n",
    "# Función para clasificar un texto\n",
    "def clasificar_columna(texto):\n",
    "    resultado = classifier(texto, categorias)\n",
    "    # Devuelve la categoría con mayor puntuación y las probabilidades\n",
    "    return {\n",
    "        \"categoria\": resultado['labels'][0],\n",
    "        \"puntuacion\": resultado['scores'][0],\n",
    "        \"todas_las_puntuaciones\": dict(zip(resultado['labels'], resultado['scores']))\n",
    "    }"
   ]
  },
  {
   "cell_type": "code",
   "execution_count": 7,
   "id": "32678c57",
   "metadata": {},
   "outputs": [
    {
     "name": "stdout",
     "output_type": "stream",
     "text": [
      "Texto: \"Pasó a último debate en el Congreso el proyecto de Ley de Seguridad Ciudadana en el que, entre otras cosas, se propone fijar las medidas exactas de lo que puede ser considerado como una dosis mínima. Con esto se pretende ayudar a las autoridades a diferenciar entre quienes portan droga para su consumo personal y quienes lo hacen para comercializarla a través del narcomenudeo, respondiendo así a una queja reiterada de la Policía en el sentido de que los jueces suelen dejar libres a los traficantes de pequeñas cantidades con el argumento de que se trata de dosis personales.\n",
      "La distinción entre un distribuidor y un consumidor no depende de la magnitud de droga que una persona tenga consigo; así como un adicto puede adquirir la porción que necesita para su consumo durante varios días o semanas, un comercializador puede limitarse a portar solamente la dosis mínima que alguien le encarga en una transacción específica. Ni el primero deja de ser un consumidor, ni el segundo se convierte en tal. Lo que realmente marca la diferencia entre uno y otro es el propósito con el que adquieren la sustancia; mientras uno lo hace para consumirla, el otro forma parte de una red criminal que se lucra mediante su distribución en pequeñas porciones.\n",
      "En un Estado que respete las libertades ciudadanas, toda persona mayor de edad tiene la potestad de hacer con su vida lo que le parezca, siempre que con ello no afecte derechos de otras personas. Una de las manifestaciones de ese principio es la posibilidad que todos tenemos de llevar hábitos de vida no saludables, bien sea por alimentarnos de manera inadecuada, por ser sedentarios, por ingerir en exceso bebidas alcohólicas, por fumar tabaco o marihuana, o por usar drogas sintéticas. Eso es lo que explica que nuestras cortes hayan reconocido expresamente que en Colombia el consumo de sustancias prohibidas no es un delito, sino una expresión del libre desarrollo de la personalidad.\n",
      "A partir de ese principio, cuando una persona es sorprendida con una cantidad de droga que supera los límites legalmente establecidos para la dosis mínima, los jueces indagan si quien la portaba lo hacía para venderla o consumirla, y lo hacen porque su trabajo consiste en interpretar las leyes de manera que sirvan a los propósitos para los que fueron creadas. Y las que sancionan el tráfico de drogas, incluida la distribución en forma de narcomenudeo, no se diseñaron para castigar a quien se circunscribe a consumirlas, sino a aquellos que se lucran con su comercialización.\n",
      "Por eso la norma propuesta no tiene ningún futuro; no solo porque ya existen unos topes legales sobre lo que debe considerarse una dosis personal, sino porque los jueces seguirán distinguiendo entre consumidores y distribuidores teniendo en cuenta el destino que cada cual le dará a esa droga, y para establecerlo la cantidad es solo un indicador, pero no el único ni el más importante de ellos. Lo que debe hacer la policía es recurrir a labores de inteligencia e investigación que le permitan llevarles a los jueces pruebas que demuestren que quien portaba una pequeña porción de droga lo hacía para su comercialización y no para su uso personal.\"\n",
      "Categoría predicha: crítica\n",
      "Confianza: 0.09\n",
      "Otras posibilidades:\n",
      "- crítica: 0.09\n",
      "- noticia: 0.09\n",
      "- informativo: 0.08\n",
      "- vida cotidiana: 0.07\n",
      "- espacio público: 0.07\n",
      "- literatura: 0.07\n",
      "- salud: 0.07\n",
      "- cultura: 0.06\n",
      "- política: 0.06\n",
      "- educación: 0.06\n",
      "- medio ambiente: 0.06\n",
      "- economía: 0.05\n",
      "- tecnología: 0.05\n",
      "- ciencia: 0.05\n",
      "- arte: 0.04\n",
      "- deportes: 0.04\n"
     ]
    }
   ],
   "source": [
    "# Clasificar una columna\n",
    "with open(\"texto_columna.txt\", \"r\", encoding='utf-8') as f: \n",
    "    texto = texto_completo = '\\n'.join([linea.strip() for linea in f if linea.strip()])\n",
    "\n",
    "texto_ejemplo = texto\n",
    "resultado = clasificar_columna(texto_ejemplo)\n",
    "print(f\"Texto: {texto_ejemplo}\")\n",
    "print(f\"Categoría predicha: {resultado['categoria']}\")\n",
    "print(f\"Confianza: {resultado['puntuacion']:.2f}\")\n",
    "print(\"Otras posibilidades:\")\n",
    "for cat, score in resultado['todas_las_puntuaciones'].items():\n",
    "    print(f\"- {cat}: {score:.2f}\")"
   ]
  }
 ],
 "metadata": {
  "kernelspec": {
   "display_name": "base",
   "language": "python",
   "name": "python3"
  },
  "language_info": {
   "codemirror_mode": {
    "name": "ipython",
    "version": 3
   },
   "file_extension": ".py",
   "mimetype": "text/x-python",
   "name": "python",
   "nbconvert_exporter": "python",
   "pygments_lexer": "ipython3",
   "version": "3.12.7"
  }
 },
 "nbformat": 4,
 "nbformat_minor": 5
}
