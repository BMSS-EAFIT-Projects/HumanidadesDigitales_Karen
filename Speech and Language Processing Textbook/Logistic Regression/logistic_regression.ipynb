{
 "cells": [
  {
   "cell_type": "code",
   "execution_count": 30,
   "id": "b3cf9605",
   "metadata": {},
   "outputs": [],
   "source": [
    "import pandas as pd\n",
    "from datetime import datetime\n",
    "import matplotlib.pyplot as plt\n",
    "import numpy as np\n",
    "from sklearn.feature_extraction.text import CountVectorizer\n",
    "import math\n",
    "from sklearn.preprocessing import StandardScaler\n"
   ]
  },
  {
   "cell_type": "code",
   "execution_count": 22,
   "id": "d287ab17",
   "metadata": {},
   "outputs": [
    {
     "data": {
      "text/html": [
       "<div>\n",
       "<style scoped>\n",
       "    .dataframe tbody tr th:only-of-type {\n",
       "        vertical-align: middle;\n",
       "    }\n",
       "\n",
       "    .dataframe tbody tr th {\n",
       "        vertical-align: top;\n",
       "    }\n",
       "\n",
       "    .dataframe thead th {\n",
       "        text-align: right;\n",
       "    }\n",
       "</style>\n",
       "<table border=\"1\" class=\"dataframe\">\n",
       "  <thead>\n",
       "    <tr style=\"text-align: right;\">\n",
       "      <th></th>\n",
       "      <th>Diario</th>\n",
       "      <th>Autor</th>\n",
       "      <th>Fecha</th>\n",
       "      <th>Título</th>\n",
       "      <th>Texto</th>\n",
       "      <th>Vínculo</th>\n",
       "      <th>Clase</th>\n",
       "    </tr>\n",
       "  </thead>\n",
       "  <tbody>\n",
       "    <tr>\n",
       "      <th>0</th>\n",
       "      <td>El Espectador</td>\n",
       "      <td>Nicolás Rodríguez</td>\n",
       "      <td>16 de febrero de 2019</td>\n",
       "      <td>De Rubio a Acevedo, pasando por Duque</td>\n",
       "      <td>Al presidente Donald Trump poco o nada le inte...</td>\n",
       "      <td>https://web.archive.org/web/20190216230452/htt...</td>\n",
       "      <td>Política</td>\n",
       "    </tr>\n",
       "    <tr>\n",
       "      <th>1</th>\n",
       "      <td>El Espectador</td>\n",
       "      <td>Salomón Kalmanovitz</td>\n",
       "      <td>15 de septiembre de 2019</td>\n",
       "      <td>Recentralización</td>\n",
       "      <td>Una de las facetas que acompañan el autoritari...</td>\n",
       "      <td>https://web.archive.org/web/20190916062046/htt...</td>\n",
       "      <td>Política</td>\n",
       "    </tr>\n",
       "    <tr>\n",
       "      <th>2</th>\n",
       "      <td>El Espectador</td>\n",
       "      <td>Adriana Cooper</td>\n",
       "      <td>17 de octubre de 2019</td>\n",
       "      <td>La primera alcaldesa de Medellín</td>\n",
       "      <td>Cuando uno revisa los libros sobre historia de...</td>\n",
       "      <td>https://web.archive.org/web/20191018032148/htt...</td>\n",
       "      <td>Política</td>\n",
       "    </tr>\n",
       "    <tr>\n",
       "      <th>3</th>\n",
       "      <td>El Espectador</td>\n",
       "      <td>Margarita Flórez</td>\n",
       "      <td>16 de febrero de 2019</td>\n",
       "      <td>Fracking, luz amarilla a temas de participació...</td>\n",
       "      <td>Basándonos en la presentación realizada esta s...</td>\n",
       "      <td>https://web.archive.org/web/20190217013801/htt...</td>\n",
       "      <td>Medio Ambiente</td>\n",
       "    </tr>\n",
       "    <tr>\n",
       "      <th>4</th>\n",
       "      <td>El Espectador</td>\n",
       "      <td>Indalecio Dangond B.</td>\n",
       "      <td>23 de febrero de 2019</td>\n",
       "      <td>La hora del biodiésel</td>\n",
       "      <td>Primero fue Medellín, ahora le tocó el turno a...</td>\n",
       "      <td>https://web.archive.org/web/20190223102037/htt...</td>\n",
       "      <td>Medio Ambiente</td>\n",
       "    </tr>\n",
       "    <tr>\n",
       "      <th>5</th>\n",
       "      <td>El Espectador</td>\n",
       "      <td>Julián López de Mesa Samudio</td>\n",
       "      <td>6 de marzo de 2019</td>\n",
       "      <td>Biofilia, árboles y ciudad</td>\n",
       "      <td>En 1984, el gran entomólogo, sociobiólogo y do...</td>\n",
       "      <td>https://web.archive.org/web/20190307141807/htt...</td>\n",
       "      <td>Medio Ambiente</td>\n",
       "    </tr>\n",
       "    <tr>\n",
       "      <th>6</th>\n",
       "      <td>El Espectador</td>\n",
       "      <td>Santiago Montenegro</td>\n",
       "      <td>11 de febrero de 2019</td>\n",
       "      <td>“Roma”</td>\n",
       "      <td>Guillermo del Toro, Alejandro González Iñárrit...</td>\n",
       "      <td>https://web.archive.org/web/20190212015339/htt...</td>\n",
       "      <td>Cultura</td>\n",
       "    </tr>\n",
       "    <tr>\n",
       "      <th>7</th>\n",
       "      <td>El Espectador</td>\n",
       "      <td>Juan Carlos Botero</td>\n",
       "      <td>14 de junio de 2019</td>\n",
       "      <td>Arte que dura minutos</td>\n",
       "      <td>La Bienal de Venecia concluyó hace poco, y el ...</td>\n",
       "      <td>https://web.archive.org/web/20190615034748/htt...</td>\n",
       "      <td>Cultura</td>\n",
       "    </tr>\n",
       "    <tr>\n",
       "      <th>8</th>\n",
       "      <td>El Espectador</td>\n",
       "      <td>Juan Carlos Gómez</td>\n",
       "      <td>21 de julio de 2019</td>\n",
       "      <td>El futuro de Netflix</td>\n",
       "      <td>El lanzamiento de la tercera temporada de La c...</td>\n",
       "      <td>https://web.archive.org/web/20190722113712/htt...</td>\n",
       "      <td>Cultura</td>\n",
       "    </tr>\n",
       "    <tr>\n",
       "      <th>9</th>\n",
       "      <td>El Espectador</td>\n",
       "      <td>Héctor Abad Faciolince</td>\n",
       "      <td>18 de agosto de 2019</td>\n",
       "      <td>Los niños de la guerra</td>\n",
       "      <td>Lo que más me gusta de esta película, Monos, d...</td>\n",
       "      <td>https://web.archive.org/web/20190818130521/htt...</td>\n",
       "      <td>NaN</td>\n",
       "    </tr>\n",
       "  </tbody>\n",
       "</table>\n",
       "</div>"
      ],
      "text/plain": [
       "          Diario                         Autor                     Fecha  \\\n",
       "0  El Espectador             Nicolás Rodríguez     16 de febrero de 2019   \n",
       "1  El Espectador           Salomón Kalmanovitz  15 de septiembre de 2019   \n",
       "2  El Espectador                Adriana Cooper     17 de octubre de 2019   \n",
       "3  El Espectador              Margarita Flórez     16 de febrero de 2019   \n",
       "4  El Espectador          Indalecio Dangond B.     23 de febrero de 2019   \n",
       "5  El Espectador  Julián López de Mesa Samudio        6 de marzo de 2019   \n",
       "6  El Espectador           Santiago Montenegro     11 de febrero de 2019   \n",
       "7  El Espectador            Juan Carlos Botero       14 de junio de 2019   \n",
       "8  El Espectador             Juan Carlos Gómez       21 de julio de 2019   \n",
       "9  El Espectador        Héctor Abad Faciolince      18 de agosto de 2019   \n",
       "\n",
       "                                              Título  \\\n",
       "0              De Rubio a Acevedo, pasando por Duque   \n",
       "1                                   Recentralización   \n",
       "2                   La primera alcaldesa de Medellín   \n",
       "3  Fracking, luz amarilla a temas de participació...   \n",
       "4                              La hora del biodiésel   \n",
       "5                         Biofilia, árboles y ciudad   \n",
       "6                                             “Roma”   \n",
       "7                              Arte que dura minutos   \n",
       "8                               El futuro de Netflix   \n",
       "9                             Los niños de la guerra   \n",
       "\n",
       "                                               Texto  \\\n",
       "0  Al presidente Donald Trump poco o nada le inte...   \n",
       "1  Una de las facetas que acompañan el autoritari...   \n",
       "2  Cuando uno revisa los libros sobre historia de...   \n",
       "3  Basándonos en la presentación realizada esta s...   \n",
       "4  Primero fue Medellín, ahora le tocó el turno a...   \n",
       "5  En 1984, el gran entomólogo, sociobiólogo y do...   \n",
       "6  Guillermo del Toro, Alejandro González Iñárrit...   \n",
       "7  La Bienal de Venecia concluyó hace poco, y el ...   \n",
       "8  El lanzamiento de la tercera temporada de La c...   \n",
       "9  Lo que más me gusta de esta película, Monos, d...   \n",
       "\n",
       "                                             Vínculo           Clase  \n",
       "0  https://web.archive.org/web/20190216230452/htt...        Política  \n",
       "1  https://web.archive.org/web/20190916062046/htt...        Política  \n",
       "2  https://web.archive.org/web/20191018032148/htt...        Política  \n",
       "3  https://web.archive.org/web/20190217013801/htt...  Medio Ambiente  \n",
       "4  https://web.archive.org/web/20190223102037/htt...  Medio Ambiente  \n",
       "5  https://web.archive.org/web/20190307141807/htt...  Medio Ambiente  \n",
       "6  https://web.archive.org/web/20190212015339/htt...         Cultura  \n",
       "7  https://web.archive.org/web/20190615034748/htt...         Cultura  \n",
       "8  https://web.archive.org/web/20190722113712/htt...         Cultura  \n",
       "9  https://web.archive.org/web/20190818130521/htt...             NaN  "
      ]
     },
     "execution_count": 22,
     "metadata": {},
     "output_type": "execute_result"
    }
   ],
   "source": [
    "path = r\"data_prueba/prueba_naive_bayes.xlsx\"\n",
    "data = pd.read_excel(path)\n",
    "data"
   ]
  },
  {
   "cell_type": "code",
   "execution_count": 23,
   "id": "095d7599",
   "metadata": {},
   "outputs": [],
   "source": [
    "# Lista de palabras relacionadas con política\n",
    "politica = [\n",
    "    \"democracia\", \"gobierno\", \"elecciones\",  \"corrupción\",\n",
    "    \"izquierda\", \"derecha\", \"populismo\", \"liberalismo\", \"conservadurismo\",\n",
    "    \"políticas\", \"partidos\", \"voto\", \"legislación\", \"oposición\",\n",
    "    \"presidente\", \"congreso\", \"liderazgo\", \"populista\", \"reforma\"\n",
    "]\n",
    "\n",
    "# Lista de palabras relacionadas con medio ambiente\n",
    "medio_ambiente = [\n",
    "    \"sostenibilidad\", \"climático\", \"contaminación\", \"biodiversidad\", \"renovables\",\n",
    "    \"deforestación\", \"reciclaje\", \"emisiones\", \"ecología\", \"conservación\",\n",
    "    \"calentamiento\", \"ambiental\", \"polución\", \"agotamiento\", \"residuos\",\n",
    "    \"ecológica\", \"carbono\", \"protección ambiental\", \"ecosistema\", \"sostenible\"\n",
    "]\n",
    "\n",
    "# Lista de palabras relacionadas con cultura\n",
    "cultura = [\n",
    "    \"arte\", \"literatura\", \"cine\", \"música\", \"teatro\",\n",
    "    \"patrimonio\", \"tradición\", \"identidad\", \"diversidad\", \"folclore\",\n",
    "    \"creatividad\", \"exposición\", \"festival\", \"crítica\", \"vanguardia\",\n",
    "    \"heritage\", \"artística\", \"movimiento\", \"cultural\", \"intercultural\", \"película\"\n",
    "]\n",
    "\n",
    "\n",
    "# Diccionario \n",
    "palabras_clave = {\n",
    "    \"politica\": politica,\n",
    "    \"medio_ambiente\": medio_ambiente,\n",
    "    \"cultura\": cultura\n",
    "}\n"
   ]
  },
  {
   "cell_type": "markdown",
   "id": "2eeb7456",
   "metadata": {},
   "source": [
    "# Pasar texto a las features de entrada"
   ]
  },
  {
   "cell_type": "code",
   "execution_count": 24,
   "id": "e0545ed1",
   "metadata": {},
   "outputs": [],
   "source": [
    "# Función para convertir texto a vector de características\n",
    "def texto_a_vector(texto):\n",
    "    # Contar palabras de cada categoría\n",
    "    palabras = texto.lower().split()\n",
    "    politica_count = sum(1 for palabra in palabras if palabra in politica)\n",
    "    medio_count = sum(1 for palabra in palabras if palabra in medio_ambiente)\n",
    "    cultura_count = sum(1 for palabra in palabras if palabra in cultura)\n",
    "    return np.array([politica_count, medio_count, cultura_count])"
   ]
  },
  {
   "cell_type": "markdown",
   "id": "f1df8325",
   "metadata": {},
   "source": [
    "# Funcion softmax"
   ]
  },
  {
   "cell_type": "code",
   "execution_count": 28,
   "id": "d47b180c",
   "metadata": {},
   "outputs": [],
   "source": [
    "# Función softmax\n",
    "def softmax(z):\n",
    "    exp_z = np.exp(z - np.max(z, axis=1, keepdims=True))\n",
    "    return exp_z / np.sum(exp_z, axis=1, keepdims=True)\n",
    "\n",
    "# Softmax normal \n",
    "def softmax_simple(z):\n",
    "    exp_z = np.exp(z)\n",
    "    return exp_z / np.sum(exp_z, axis=1, keepdims=True)"
   ]
  },
  {
   "cell_type": "markdown",
   "id": "af13ffe8",
   "metadata": {},
   "source": [
    "# Función de pérdida"
   ]
  },
  {
   "cell_type": "code",
   "execution_count": 29,
   "id": "43a4be84",
   "metadata": {},
   "outputs": [],
   "source": [
    "# Función de pérdida (entropía cruzada)\n",
    "def cross_entropy(y_true, y_pred):\n",
    "    m = y_true.shape[0]\n",
    "    log_likelihood = -np.log(y_pred[range(m), y_true])\n",
    "    return np.sum(log_likelihood) / m"
   ]
  },
  {
   "cell_type": "markdown",
   "id": "98888067",
   "metadata": {},
   "source": [
    "## Gradiente estocástico"
   ]
  },
  {
   "cell_type": "code",
   "execution_count": 37,
   "id": "4a668365",
   "metadata": {},
   "outputs": [],
   "source": [
    "def gradiente_estocastico_descendente(X_train, y_train, learning_rate=0.01, epochs=1000, softmax_func=softmax):\n",
    "\n",
    "    scaler = StandardScaler()\n",
    "    X_scaled = scaler.fit_transform(X_train)\n",
    "\n",
    "    n_samples, n_features = X_train.shape\n",
    "    n_classes = len(np.unique(y_train))\n",
    "    \n",
    "    # Inicializar pesos y bias pequeños\n",
    "    weights = np.random.randn(n_classes, n_features) * 0.01\n",
    "    bias = np.zeros(n_classes)\n",
    "    \n",
    "    # Entrenamiento con gradiente estocástico\n",
    "    for epoch in range(epochs):\n",
    "        # Mezclar los datos en cada época\n",
    "        indices = np.arange(n_samples)\n",
    "        np.random.shuffle(indices)\n",
    "        \n",
    "        for i in indices:\n",
    "            # Seleccionar un ejemplo aleatorio\n",
    "            x = X_train[i:i+1]  # Mantener como matriz 2D (1, n_features)\n",
    "            y = y_train[i]\n",
    "            \n",
    "            # Calcular logits\n",
    "            z = np.dot(x, weights.T) + bias\n",
    "            \n",
    "            # Calcular probabilidades con softmax\n",
    "            probs = softmax(z)\n",
    "            \n",
    "            # Crear vector one-hot de la clase verdadera\n",
    "            one_hot = np.zeros(n_classes)\n",
    "            one_hot[y] = 1\n",
    "            \n",
    "            # Calcular gradientes\n",
    "            error = probs - one_hot\n",
    "            grad_weights = np.dot(error.T, x)\n",
    "            grad_bias = error.sum(axis=0)\n",
    "            \n",
    "            # Actualizar pesos y bias\n",
    "            weights -= learning_rate * grad_weights\n",
    "            bias -= learning_rate * grad_bias\n",
    "            \n",
    "    return weights, bias, scaler"
   ]
  },
  {
   "cell_type": "code",
   "execution_count": 34,
   "id": "bef1c86d",
   "metadata": {},
   "outputs": [],
   "source": [
    "def predecir(X, weights, bias, scaler):\n",
    "    X_scaled = scaler.transform(X)\n",
    "    z = np.dot(X_scaled, weights.T) + bias\n",
    "    return np.argmax(softmax(z), axis=1)"
   ]
  },
  {
   "cell_type": "code",
   "execution_count": null,
   "id": "e59e1ea4",
   "metadata": {},
   "outputs": [],
   "source": [
    "# Documentos y clases para entrenamiento y prueba\n",
    "documents = data[\"Texto\"].tolist()[:9]  # 9 documentos para entrenamiento\n",
    "classes = data[\"Clase\"].tolist()[:9]    # clases correspondientes\n",
    "doc_test = data[\"Texto\"][9]             # documento para prueba"
   ]
  },
  {
   "cell_type": "code",
   "execution_count": 32,
   "id": "f4be7396",
   "metadata": {},
   "outputs": [],
   "source": [
    "clases_unicas = list(set(classes))  \n",
    "clase_a_numero = {clase: idx for idx, clase in enumerate(clases_unicas)}\n",
    "y_train = np.array([clase_a_numero[clase] for clase in classes])"
   ]
  },
  {
   "cell_type": "code",
   "execution_count": 41,
   "id": "9fa7901e",
   "metadata": {},
   "outputs": [
    {
     "data": {
      "text/plain": [
       "{'Medio Ambiente': 0, 'Política': 1, 'Cultura': 2}"
      ]
     },
     "execution_count": 41,
     "metadata": {},
     "output_type": "execute_result"
    }
   ],
   "source": [
    "clase_a_numero"
   ]
  },
  {
   "cell_type": "code",
   "execution_count": 33,
   "id": "03227aaf",
   "metadata": {},
   "outputs": [],
   "source": [
    "X_train = np.array([texto_a_vector(doc) for doc in documents])"
   ]
  },
  {
   "cell_type": "code",
   "execution_count": 35,
   "id": "cb1b7926",
   "metadata": {},
   "outputs": [],
   "source": [
    "X_test = np.array([texto_a_vector(doc_test)])"
   ]
  },
  {
   "cell_type": "code",
   "execution_count": 38,
   "id": "3c139143",
   "metadata": {},
   "outputs": [],
   "source": [
    "weights, bias, scaler = gradiente_estocastico_descendente(X_train, y_train, learning_rate=0.1, epochs=1000)"
   ]
  },
  {
   "cell_type": "code",
   "execution_count": 40,
   "id": "57d70960",
   "metadata": {},
   "outputs": [
    {
     "data": {
      "text/plain": [
       "array([2], dtype=int64)"
      ]
     },
     "execution_count": 40,
     "metadata": {},
     "output_type": "execute_result"
    }
   ],
   "source": [
    "predecir(X_test, weights, bias, scaler)"
   ]
  }
 ],
 "metadata": {
  "kernelspec": {
   "display_name": "base",
   "language": "python",
   "name": "python3"
  },
  "language_info": {
   "codemirror_mode": {
    "name": "ipython",
    "version": 3
   },
   "file_extension": ".py",
   "mimetype": "text/x-python",
   "name": "python",
   "nbconvert_exporter": "python",
   "pygments_lexer": "ipython3",
   "version": "3.12.7"
  }
 },
 "nbformat": 4,
 "nbformat_minor": 5
}
